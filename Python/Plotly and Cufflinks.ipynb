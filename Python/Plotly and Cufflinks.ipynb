{
 "cells": [
  {
   "cell_type": "code",
   "execution_count": 1,
   "id": "c7f7a2a6",
   "metadata": {},
   "outputs": [],
   "source": [
    "import pandas as pd \n",
    "import numpy as np"
   ]
  },
  {
   "cell_type": "code",
   "execution_count": 2,
   "id": "35aa1eee",
   "metadata": {},
   "outputs": [],
   "source": [
    "from plotly import __version__\n"
   ]
  },
  {
   "cell_type": "code",
   "execution_count": 3,
   "id": "29648451",
   "metadata": {},
   "outputs": [
    {
     "name": "stdout",
     "output_type": "stream",
     "text": [
      "5.6.0\n"
     ]
    }
   ],
   "source": [
    "print(__version__)"
   ]
  },
  {
   "cell_type": "code",
   "execution_count": 4,
   "id": "1a5061dc",
   "metadata": {},
   "outputs": [
    {
     "name": "stdout",
     "output_type": "stream",
     "text": [
      "Requirement already satisfied: cufflinks in c:\\users\\d81\\anaconda3\\lib\\site-packages (0.17.3)\n",
      "Requirement already satisfied: setuptools>=34.4.1 in c:\\users\\d81\\anaconda3\\lib\\site-packages (from cufflinks) (61.2.0)\n",
      "Requirement already satisfied: pandas>=0.19.2 in c:\\users\\d81\\anaconda3\\lib\\site-packages (from cufflinks) (1.4.2)\n",
      "Requirement already satisfied: ipywidgets>=7.0.0 in c:\\users\\d81\\anaconda3\\lib\\site-packages (from cufflinks) (7.6.5)\n",
      "Requirement already satisfied: colorlover>=0.2.1 in c:\\users\\d81\\anaconda3\\lib\\site-packages (from cufflinks) (0.3.0)\n",
      "Requirement already satisfied: plotly>=4.1.1 in c:\\users\\d81\\anaconda3\\lib\\site-packages (from cufflinks) (5.6.0)\n",
      "Requirement already satisfied: six>=1.9.0 in c:\\users\\d81\\anaconda3\\lib\\site-packages (from cufflinks) (1.16.0)\n",
      "Requirement already satisfied: numpy>=1.9.2 in c:\\users\\d81\\anaconda3\\lib\\site-packages (from cufflinks) (1.21.5)\n",
      "Requirement already satisfied: ipython>=5.3.0 in c:\\users\\d81\\anaconda3\\lib\\site-packages (from cufflinks) (8.2.0)\n",
      "Requirement already satisfied: colorama in c:\\users\\d81\\anaconda3\\lib\\site-packages (from ipython>=5.3.0->cufflinks) (0.4.4)\n",
      "Requirement already satisfied: decorator in c:\\users\\d81\\anaconda3\\lib\\site-packages (from ipython>=5.3.0->cufflinks) (5.1.1)\n",
      "Requirement already satisfied: backcall in c:\\users\\d81\\anaconda3\\lib\\site-packages (from ipython>=5.3.0->cufflinks) (0.2.0)\n",
      "Requirement already satisfied: stack-data in c:\\users\\d81\\anaconda3\\lib\\site-packages (from ipython>=5.3.0->cufflinks) (0.2.0)\n",
      "Requirement already satisfied: pygments>=2.4.0 in c:\\users\\d81\\anaconda3\\lib\\site-packages (from ipython>=5.3.0->cufflinks) (2.11.2)\n",
      "Requirement already satisfied: traitlets>=5 in c:\\users\\d81\\anaconda3\\lib\\site-packages (from ipython>=5.3.0->cufflinks) (5.1.1)\n",
      "Requirement already satisfied: jedi>=0.16 in c:\\users\\d81\\anaconda3\\lib\\site-packages (from ipython>=5.3.0->cufflinks) (0.18.1)\n",
      "Requirement already satisfied: matplotlib-inline in c:\\users\\d81\\anaconda3\\lib\\site-packages (from ipython>=5.3.0->cufflinks) (0.1.2)\n",
      "Requirement already satisfied: prompt-toolkit!=3.0.0,!=3.0.1,<3.1.0,>=2.0.0 in c:\\users\\d81\\anaconda3\\lib\\site-packages (from ipython>=5.3.0->cufflinks) (3.0.20)\n",
      "Requirement already satisfied: pickleshare in c:\\users\\d81\\anaconda3\\lib\\site-packages (from ipython>=5.3.0->cufflinks) (0.7.5)\n",
      "Requirement already satisfied: jupyterlab-widgets>=1.0.0 in c:\\users\\d81\\anaconda3\\lib\\site-packages (from ipywidgets>=7.0.0->cufflinks) (1.0.0)\n",
      "Requirement already satisfied: nbformat>=4.2.0 in c:\\users\\d81\\anaconda3\\lib\\site-packages (from ipywidgets>=7.0.0->cufflinks) (5.3.0)\n",
      "Requirement already satisfied: ipykernel>=4.5.1 in c:\\users\\d81\\anaconda3\\lib\\site-packages (from ipywidgets>=7.0.0->cufflinks) (6.9.1)\n",
      "Requirement already satisfied: widgetsnbextension~=3.5.0 in c:\\users\\d81\\anaconda3\\lib\\site-packages (from ipywidgets>=7.0.0->cufflinks) (3.5.2)\n",
      "Requirement already satisfied: ipython-genutils~=0.2.0 in c:\\users\\d81\\anaconda3\\lib\\site-packages (from ipywidgets>=7.0.0->cufflinks) (0.2.0)\n",
      "Requirement already satisfied: nest-asyncio in c:\\users\\d81\\anaconda3\\lib\\site-packages (from ipykernel>=4.5.1->ipywidgets>=7.0.0->cufflinks) (1.5.5)\n",
      "Requirement already satisfied: debugpy<2.0,>=1.0.0 in c:\\users\\d81\\anaconda3\\lib\\site-packages (from ipykernel>=4.5.1->ipywidgets>=7.0.0->cufflinks) (1.5.1)\n",
      "Requirement already satisfied: jupyter-client<8.0 in c:\\users\\d81\\anaconda3\\lib\\site-packages (from ipykernel>=4.5.1->ipywidgets>=7.0.0->cufflinks) (6.1.12)\n",
      "Requirement already satisfied: tornado<7.0,>=4.2 in c:\\users\\d81\\anaconda3\\lib\\site-packages (from ipykernel>=4.5.1->ipywidgets>=7.0.0->cufflinks) (6.1)\n",
      "Requirement already satisfied: parso<0.9.0,>=0.8.0 in c:\\users\\d81\\anaconda3\\lib\\site-packages (from jedi>=0.16->ipython>=5.3.0->cufflinks) (0.8.3)\n",
      "Requirement already satisfied: jupyter-core>=4.6.0 in c:\\users\\d81\\anaconda3\\lib\\site-packages (from jupyter-client<8.0->ipykernel>=4.5.1->ipywidgets>=7.0.0->cufflinks) (4.9.2)\n",
      "Requirement already satisfied: pyzmq>=13 in c:\\users\\d81\\anaconda3\\lib\\site-packages (from jupyter-client<8.0->ipykernel>=4.5.1->ipywidgets>=7.0.0->cufflinks) (22.3.0)\n",
      "Requirement already satisfied: python-dateutil>=2.1 in c:\\users\\d81\\anaconda3\\lib\\site-packages (from jupyter-client<8.0->ipykernel>=4.5.1->ipywidgets>=7.0.0->cufflinks) (2.8.2)\n",
      "Requirement already satisfied: pywin32>=1.0 in c:\\users\\d81\\anaconda3\\lib\\site-packages (from jupyter-core>=4.6.0->jupyter-client<8.0->ipykernel>=4.5.1->ipywidgets>=7.0.0->cufflinks) (302)\n",
      "Requirement already satisfied: fastjsonschema in c:\\users\\d81\\anaconda3\\lib\\site-packages (from nbformat>=4.2.0->ipywidgets>=7.0.0->cufflinks) (2.15.1)\n",
      "Requirement already satisfied: jsonschema>=2.6 in c:\\users\\d81\\anaconda3\\lib\\site-packages (from nbformat>=4.2.0->ipywidgets>=7.0.0->cufflinks) (4.4.0)\n",
      "Requirement already satisfied: attrs>=17.4.0 in c:\\users\\d81\\anaconda3\\lib\\site-packages (from jsonschema>=2.6->nbformat>=4.2.0->ipywidgets>=7.0.0->cufflinks) (21.4.0)\n",
      "Requirement already satisfied: pyrsistent!=0.17.0,!=0.17.1,!=0.17.2,>=0.14.0 in c:\\users\\d81\\anaconda3\\lib\\site-packages (from jsonschema>=2.6->nbformat>=4.2.0->ipywidgets>=7.0.0->cufflinks) (0.18.0)\n",
      "Requirement already satisfied: pytz>=2020.1 in c:\\users\\d81\\anaconda3\\lib\\site-packages (from pandas>=0.19.2->cufflinks) (2021.3)\n",
      "Requirement already satisfied: tenacity>=6.2.0 in c:\\users\\d81\\anaconda3\\lib\\site-packages (from plotly>=4.1.1->cufflinks) (8.0.1)\n",
      "Requirement already satisfied: wcwidth in c:\\users\\d81\\anaconda3\\lib\\site-packages (from prompt-toolkit!=3.0.0,!=3.0.1,<3.1.0,>=2.0.0->ipython>=5.3.0->cufflinks) (0.2.5)\n",
      "Requirement already satisfied: notebook>=4.4.1 in c:\\users\\d81\\anaconda3\\lib\\site-packages (from widgetsnbextension~=3.5.0->ipywidgets>=7.0.0->cufflinks) (6.4.8)\n",
      "Requirement already satisfied: argon2-cffi in c:\\users\\d81\\anaconda3\\lib\\site-packages (from notebook>=4.4.1->widgetsnbextension~=3.5.0->ipywidgets>=7.0.0->cufflinks) (21.3.0)\n",
      "Requirement already satisfied: jinja2 in c:\\users\\d81\\anaconda3\\lib\\site-packages (from notebook>=4.4.1->widgetsnbextension~=3.5.0->ipywidgets>=7.0.0->cufflinks) (2.11.3)\n",
      "Requirement already satisfied: terminado>=0.8.3 in c:\\users\\d81\\anaconda3\\lib\\site-packages (from notebook>=4.4.1->widgetsnbextension~=3.5.0->ipywidgets>=7.0.0->cufflinks) (0.13.1)\n",
      "Requirement already satisfied: Send2Trash>=1.8.0 in c:\\users\\d81\\anaconda3\\lib\\site-packages (from notebook>=4.4.1->widgetsnbextension~=3.5.0->ipywidgets>=7.0.0->cufflinks) (1.8.0)\n",
      "Requirement already satisfied: nbconvert in c:\\users\\d81\\anaconda3\\lib\\site-packages (from notebook>=4.4.1->widgetsnbextension~=3.5.0->ipywidgets>=7.0.0->cufflinks) (6.4.4)\n",
      "Requirement already satisfied: prometheus-client in c:\\users\\d81\\anaconda3\\lib\\site-packages (from notebook>=4.4.1->widgetsnbextension~=3.5.0->ipywidgets>=7.0.0->cufflinks) (0.13.1)\n",
      "Requirement already satisfied: pywinpty>=1.1.0 in c:\\users\\d81\\anaconda3\\lib\\site-packages (from terminado>=0.8.3->notebook>=4.4.1->widgetsnbextension~=3.5.0->ipywidgets>=7.0.0->cufflinks) (2.0.2)\n",
      "Requirement already satisfied: argon2-cffi-bindings in c:\\users\\d81\\anaconda3\\lib\\site-packages (from argon2-cffi->notebook>=4.4.1->widgetsnbextension~=3.5.0->ipywidgets>=7.0.0->cufflinks) (21.2.0)\n",
      "Requirement already satisfied: cffi>=1.0.1 in c:\\users\\d81\\anaconda3\\lib\\site-packages (from argon2-cffi-bindings->argon2-cffi->notebook>=4.4.1->widgetsnbextension~=3.5.0->ipywidgets>=7.0.0->cufflinks) (1.15.0)\n",
      "Requirement already satisfied: pycparser in c:\\users\\d81\\anaconda3\\lib\\site-packages (from cffi>=1.0.1->argon2-cffi-bindings->argon2-cffi->notebook>=4.4.1->widgetsnbextension~=3.5.0->ipywidgets>=7.0.0->cufflinks) (2.21)\n",
      "Requirement already satisfied: MarkupSafe>=0.23 in c:\\users\\d81\\anaconda3\\lib\\site-packages (from jinja2->notebook>=4.4.1->widgetsnbextension~=3.5.0->ipywidgets>=7.0.0->cufflinks) (2.0.1)\n",
      "Requirement already satisfied: pandocfilters>=1.4.1 in c:\\users\\d81\\anaconda3\\lib\\site-packages (from nbconvert->notebook>=4.4.1->widgetsnbextension~=3.5.0->ipywidgets>=7.0.0->cufflinks) (1.5.0)\n",
      "Requirement already satisfied: nbclient<0.6.0,>=0.5.0 in c:\\users\\d81\\anaconda3\\lib\\site-packages (from nbconvert->notebook>=4.4.1->widgetsnbextension~=3.5.0->ipywidgets>=7.0.0->cufflinks) (0.5.13)\n",
      "Requirement already satisfied: mistune<2,>=0.8.1 in c:\\users\\d81\\anaconda3\\lib\\site-packages (from nbconvert->notebook>=4.4.1->widgetsnbextension~=3.5.0->ipywidgets>=7.0.0->cufflinks) (0.8.4)\n",
      "Requirement already satisfied: testpath in c:\\users\\d81\\anaconda3\\lib\\site-packages (from nbconvert->notebook>=4.4.1->widgetsnbextension~=3.5.0->ipywidgets>=7.0.0->cufflinks) (0.5.0)\n",
      "Requirement already satisfied: jupyterlab-pygments in c:\\users\\d81\\anaconda3\\lib\\site-packages (from nbconvert->notebook>=4.4.1->widgetsnbextension~=3.5.0->ipywidgets>=7.0.0->cufflinks) (0.1.2)\n",
      "Requirement already satisfied: entrypoints>=0.2.2 in c:\\users\\d81\\anaconda3\\lib\\site-packages (from nbconvert->notebook>=4.4.1->widgetsnbextension~=3.5.0->ipywidgets>=7.0.0->cufflinks) (0.4)\n",
      "Requirement already satisfied: defusedxml in c:\\users\\d81\\anaconda3\\lib\\site-packages (from nbconvert->notebook>=4.4.1->widgetsnbextension~=3.5.0->ipywidgets>=7.0.0->cufflinks) (0.7.1)\n",
      "Requirement already satisfied: beautifulsoup4 in c:\\users\\d81\\anaconda3\\lib\\site-packages (from nbconvert->notebook>=4.4.1->widgetsnbextension~=3.5.0->ipywidgets>=7.0.0->cufflinks) (4.11.1)\n",
      "Requirement already satisfied: bleach in c:\\users\\d81\\anaconda3\\lib\\site-packages (from nbconvert->notebook>=4.4.1->widgetsnbextension~=3.5.0->ipywidgets>=7.0.0->cufflinks) (4.1.0)\n",
      "Requirement already satisfied: soupsieve>1.2 in c:\\users\\d81\\anaconda3\\lib\\site-packages (from beautifulsoup4->nbconvert->notebook>=4.4.1->widgetsnbextension~=3.5.0->ipywidgets>=7.0.0->cufflinks) (2.3.1)\n",
      "Requirement already satisfied: webencodings in c:\\users\\d81\\anaconda3\\lib\\site-packages (from bleach->nbconvert->notebook>=4.4.1->widgetsnbextension~=3.5.0->ipywidgets>=7.0.0->cufflinks) (0.5.1)\n",
      "Requirement already satisfied: packaging in c:\\users\\d81\\anaconda3\\lib\\site-packages (from bleach->nbconvert->notebook>=4.4.1->widgetsnbextension~=3.5.0->ipywidgets>=7.0.0->cufflinks) (21.3)\n",
      "Requirement already satisfied: pyparsing!=3.0.5,>=2.0.2 in c:\\users\\d81\\anaconda3\\lib\\site-packages (from packaging->bleach->nbconvert->notebook>=4.4.1->widgetsnbextension~=3.5.0->ipywidgets>=7.0.0->cufflinks) (3.0.4)\n",
      "Requirement already satisfied: executing in c:\\users\\d81\\anaconda3\\lib\\site-packages (from stack-data->ipython>=5.3.0->cufflinks) (0.8.3)\n",
      "Requirement already satisfied: asttokens in c:\\users\\d81\\anaconda3\\lib\\site-packages (from stack-data->ipython>=5.3.0->cufflinks) (2.0.5)\n",
      "Requirement already satisfied: pure-eval in c:\\users\\d81\\anaconda3\\lib\\site-packages (from stack-data->ipython>=5.3.0->cufflinks) (0.2.2)\n",
      "Note: you may need to restart the kernel to use updated packages.\n"
     ]
    }
   ],
   "source": [
    "pip install cufflinks"
   ]
  },
  {
   "cell_type": "code",
   "execution_count": 5,
   "id": "6a2c444c",
   "metadata": {},
   "outputs": [],
   "source": [
    "import cufflinks as cf"
   ]
  },
  {
   "cell_type": "code",
   "execution_count": 6,
   "id": "121631af",
   "metadata": {},
   "outputs": [],
   "source": [
    "from plotly.offline import download_plotlyjs,init_notebook_mode,plot,iplot"
   ]
  },
  {
   "cell_type": "code",
   "execution_count": 7,
   "id": "168a0322",
   "metadata": {},
   "outputs": [
    {
     "data": {
      "text/html": [
       "        <script type=\"text/javascript\">\n",
       "        window.PlotlyConfig = {MathJaxConfig: 'local'};\n",
       "        if (window.MathJax) {MathJax.Hub.Config({SVG: {font: \"STIX-Web\"}});}\n",
       "        if (typeof require !== 'undefined') {\n",
       "        require.undef(\"plotly\");\n",
       "        requirejs.config({\n",
       "            paths: {\n",
       "                'plotly': ['https://cdn.plot.ly/plotly-2.9.0.min']\n",
       "            }\n",
       "        });\n",
       "        require(['plotly'], function(Plotly) {\n",
       "            window._Plotly = Plotly;\n",
       "        });\n",
       "        }\n",
       "        </script>\n",
       "        "
      ]
     },
     "metadata": {},
     "output_type": "display_data"
    }
   ],
   "source": [
    "init_notebook_mode(connected=True)"
   ]
  },
  {
   "cell_type": "code",
   "execution_count": 8,
   "id": "140006c0",
   "metadata": {},
   "outputs": [
    {
     "data": {
      "text/html": [
       "        <script type=\"text/javascript\">\n",
       "        window.PlotlyConfig = {MathJaxConfig: 'local'};\n",
       "        if (window.MathJax) {MathJax.Hub.Config({SVG: {font: \"STIX-Web\"}});}\n",
       "        if (typeof require !== 'undefined') {\n",
       "        require.undef(\"plotly\");\n",
       "        requirejs.config({\n",
       "            paths: {\n",
       "                'plotly': ['https://cdn.plot.ly/plotly-2.9.0.min']\n",
       "            }\n",
       "        });\n",
       "        require(['plotly'], function(Plotly) {\n",
       "            window._Plotly = Plotly;\n",
       "        });\n",
       "        }\n",
       "        </script>\n",
       "        "
      ]
     },
     "metadata": {},
     "output_type": "display_data"
    }
   ],
   "source": [
    "cf.go_offline()"
   ]
  },
  {
   "cell_type": "code",
   "execution_count": 9,
   "id": "f3b00506",
   "metadata": {},
   "outputs": [],
   "source": [
    "df=pd.DataFrame(np.random.rand(100,4),columns=['A','B','C','D'])"
   ]
  },
  {
   "cell_type": "code",
   "execution_count": 10,
   "id": "547f0c44",
   "metadata": {},
   "outputs": [
    {
     "data": {
      "text/html": [
       "<div>\n",
       "<style scoped>\n",
       "    .dataframe tbody tr th:only-of-type {\n",
       "        vertical-align: middle;\n",
       "    }\n",
       "\n",
       "    .dataframe tbody tr th {\n",
       "        vertical-align: top;\n",
       "    }\n",
       "\n",
       "    .dataframe thead th {\n",
       "        text-align: right;\n",
       "    }\n",
       "</style>\n",
       "<table border=\"1\" class=\"dataframe\">\n",
       "  <thead>\n",
       "    <tr style=\"text-align: right;\">\n",
       "      <th></th>\n",
       "      <th>A</th>\n",
       "      <th>B</th>\n",
       "      <th>C</th>\n",
       "      <th>D</th>\n",
       "    </tr>\n",
       "  </thead>\n",
       "  <tbody>\n",
       "    <tr>\n",
       "      <th>0</th>\n",
       "      <td>0.225044</td>\n",
       "      <td>0.252236</td>\n",
       "      <td>0.315252</td>\n",
       "      <td>0.482267</td>\n",
       "    </tr>\n",
       "    <tr>\n",
       "      <th>1</th>\n",
       "      <td>0.088162</td>\n",
       "      <td>0.286531</td>\n",
       "      <td>0.544309</td>\n",
       "      <td>0.923561</td>\n",
       "    </tr>\n",
       "    <tr>\n",
       "      <th>2</th>\n",
       "      <td>0.662613</td>\n",
       "      <td>0.888274</td>\n",
       "      <td>0.929762</td>\n",
       "      <td>0.442609</td>\n",
       "    </tr>\n",
       "    <tr>\n",
       "      <th>3</th>\n",
       "      <td>0.274640</td>\n",
       "      <td>0.599250</td>\n",
       "      <td>0.458616</td>\n",
       "      <td>0.621016</td>\n",
       "    </tr>\n",
       "    <tr>\n",
       "      <th>4</th>\n",
       "      <td>0.452930</td>\n",
       "      <td>0.369763</td>\n",
       "      <td>0.219102</td>\n",
       "      <td>0.088682</td>\n",
       "    </tr>\n",
       "  </tbody>\n",
       "</table>\n",
       "</div>"
      ],
      "text/plain": [
       "          A         B         C         D\n",
       "0  0.225044  0.252236  0.315252  0.482267\n",
       "1  0.088162  0.286531  0.544309  0.923561\n",
       "2  0.662613  0.888274  0.929762  0.442609\n",
       "3  0.274640  0.599250  0.458616  0.621016\n",
       "4  0.452930  0.369763  0.219102  0.088682"
      ]
     },
     "execution_count": 10,
     "metadata": {},
     "output_type": "execute_result"
    }
   ],
   "source": [
    "df.head()"
   ]
  },
  {
   "cell_type": "code",
   "execution_count": 11,
   "id": "d6a4a3ab",
   "metadata": {},
   "outputs": [],
   "source": [
    "df2=pd.DataFrame({'Category':['A','B','C'],'Values':[32,43,50]})"
   ]
  },
  {
   "cell_type": "code",
   "execution_count": 12,
   "id": "15a92b1d",
   "metadata": {},
   "outputs": [
    {
     "data": {
      "text/html": [
       "<div>\n",
       "<style scoped>\n",
       "    .dataframe tbody tr th:only-of-type {\n",
       "        vertical-align: middle;\n",
       "    }\n",
       "\n",
       "    .dataframe tbody tr th {\n",
       "        vertical-align: top;\n",
       "    }\n",
       "\n",
       "    .dataframe thead th {\n",
       "        text-align: right;\n",
       "    }\n",
       "</style>\n",
       "<table border=\"1\" class=\"dataframe\">\n",
       "  <thead>\n",
       "    <tr style=\"text-align: right;\">\n",
       "      <th></th>\n",
       "      <th>Category</th>\n",
       "      <th>Values</th>\n",
       "    </tr>\n",
       "  </thead>\n",
       "  <tbody>\n",
       "    <tr>\n",
       "      <th>0</th>\n",
       "      <td>A</td>\n",
       "      <td>32</td>\n",
       "    </tr>\n",
       "    <tr>\n",
       "      <th>1</th>\n",
       "      <td>B</td>\n",
       "      <td>43</td>\n",
       "    </tr>\n",
       "    <tr>\n",
       "      <th>2</th>\n",
       "      <td>C</td>\n",
       "      <td>50</td>\n",
       "    </tr>\n",
       "  </tbody>\n",
       "</table>\n",
       "</div>"
      ],
      "text/plain": [
       "  Category  Values\n",
       "0        A      32\n",
       "1        B      43\n",
       "2        C      50"
      ]
     },
     "execution_count": 12,
     "metadata": {},
     "output_type": "execute_result"
    }
   ],
   "source": [
    "df2"
   ]
  },
  {
   "cell_type": "code",
   "execution_count": 13,
   "id": "3c8f0e68",
   "metadata": {},
   "outputs": [
    {
     "data": {
      "text/plain": [
       "<AxesSubplot:>"
      ]
     },
     "execution_count": 13,
     "metadata": {},
     "output_type": "execute_result"
    },
    {
     "data": {
      "image/png": "[encoded data removed]",
      "text/plain": [
       "<Figure size 432x288 with 1 Axes>"
      ]
     },
     "metadata": {
      "needs_background": "light"
     },
     "output_type": "display_data"
    }
   ],
   "source": [
    "df.plot()"
   ]
  },
  {
   "cell_type": "code",
   "execution_count": 14,
   "id": "574b6784",
   "metadata": {},
   "outputs": [
    {
     "data": {
      "application/vnd.plotly.v1+json": {
       "config": {
        "linkText": "Export to plot.ly",
        "plotlyServerURL": "https://plot.ly",
        "showLink": true
       },
       "data": [
        {
         "line": {
          "color": "rgba(255, 153, 51, 1.0)",
          "dash": "solid",
          "shape": "linear",
          "width": 1.3
         },
         "mode": "lines",
         "name": "A",
         "text": "",
         "type": "scatter",
         "x": [
          0,
          1,
          2,
          3,
          4,
          5,
          6,
          7,
          8,
          9,
          10,
          11,
          12,
          13,
          14,
          15,
          16,
          17,
          18,
          19,
          20,
          21,
          22,
          23,
          24,
          25,
          26,
          27,
          28,
          29,
          30,
          31,
          32,
          33,
          34,
          35,
          36,
          37,
          38,
          39,
          40,
          41,
          42,
          43,
          44,
          45,
          46,
          47,
          48,
          49,
          50,
          51,
          52,
          53,
          54,
          55,
          56,
          57,
          58,
          59,
          60,
          61,
          62,
          63,
          64,
          65,
          66,
          67,
          68,
          69,
          70,
          71,
          72,
          73,
          74,
          75,
          76,
          77,
          78,
          79,
          80,
          81,
          82,
          83,
          84,
          85,
          86,
          87,
          88,
          89,
          90,
          91,
          92,
          93,
          94,
          95,
          96,
          97,
          98,
          99
         ],
         "y": [
          0.2250443781149135,
          0.08816213727442435,
          0.6626125847228254,
          0.2746395608719585,
          0.45293012299241775,
          0.836615128915151,
          0.44692682643961645,
          0.3105938565894072,
          0.9428361473081437,
          0.34064919913698355,
          0.17452731620240503,
          0.32219071699615454,
          0.0030012105167208647,
          0.4913468468170983,
          0.26435328189743135,
          0.7682893468807056,
          0.6055000738260053,
          0.21722716461756442,
          0.4949797032217601,
          0.21381843446246462,
          0.8300457653348391,
          0.13827041243941285,
          0.1558288919463745,
          0.9330678677226378,
          0.2059547519701218,
          0.01860349533293082,
          0.6191509923340339,
          0.21684142313336863,
          0.16973810033847903,
          0.31445933277104854,
          0.3624645222419647,
          0.2976461680860377,
          0.08234333390789195,
          0.42037842566676675,
          0.06064013630875731,
          0.5567254254932318,
          0.6899068222823159,
          0.4769347743250726,
          0.9968393516149027,
          0.2744377879317744,
          0.6049560726725473,
          0.5084065572719714,
          0.576297646063401,
          0.9106015121792489,
          0.8248647095555114,
          0.7106653297873855,
          0.7668766735009186,
          0.8438311577740136,
          0.5733076689511379,
          0.7071739444978064,
          0.5092732172349697,
          0.6814364656164301,
          0.21451765822782898,
          0.5058485779970664,
          0.2931382994694357,
          0.32952773723891826,
          0.25268344443530466,
          0.25971785347190124,
          0.18854849785993677,
          0.4495740295058872,
          0.0917318982236458,
          0.34798774038912184,
          0.6633133278669227,
          0.4018852335963763,
          0.6839116040459678,
          0.5617302006650415,
          0.20051643380537365,
          0.9829508270853825,
          0.373877223116557,
          0.7389959502838783,
          0.3769483686048758,
          0.9105306944851294,
          0.0798955343626766,
          0.07923836114468097,
          0.49511493242288507,
          0.6840853457893549,
          0.27936552333414433,
          0.06228618607349434,
          0.3660919231466815,
          0.6062691176503104,
          0.9091551216816015,
          0.9837196292081463,
          0.6993629753003112,
          0.6895764442769861,
          0.9870406141706531,
          0.3540372349192824,
          0.5958368082220097,
          0.1581173027530185,
          0.2148732644475152,
          0.007278266918228193,
          0.25015623787224295,
          0.298453238621718,
          0.654582253185616,
          0.6687832876370767,
          0.9662394096900148,
          0.2331965010768713,
          0.18265307257972507,
          0.5500943606247986,
          0.9682691914091727,
          0.5257277279399781
         ]
        },
        {
         "line": {
          "color": "rgba(55, 128, 191, 1.0)",
          "dash": "solid",
          "shape": "linear",
          "width": 1.3
         },
         "mode": "lines",
         "name": "B",
         "text": "",
         "type": "scatter",
         "x": [
          0,
          1,
          2,
          3,
          4,
          5,
          6,
          7,
          8,
          9,
          10,
          11,
          12,
          13,
          14,
          15,
          16,
          17,
          18,
          19,
          20,
          21,
          22,
          23,
          24,
          25,
          26,
          27,
          28,
          29,
          30,
          31,
          32,
          33,
          34,
          35,
          36,
          37,
          38,
          39,
          40,
          41,
          42,
          43,
          44,
          45,
          46,
          47,
          48,
          49,
          50,
          51,
          52,
          53,
          54,
          55,
          56,
          57,
          58,
          59,
          60,
          61,
          62,
          63,
          64,
          65,
          66,
          67,
          68,
          69,
          70,
          71,
          72,
          73,
          74,
          75,
          76,
          77,
          78,
          79,
          80,
          81,
          82,
          83,
          84,
          85,
          86,
          87,
          88,
          89,
          90,
          91,
          92,
          93,
          94,
          95,
          96,
          97,
          98,
          99
         ],
         "y": [
          0.25223622727424755,
          0.2865314817875646,
          0.8882742781630784,
          0.5992498245013107,
          0.3697629405157712,
          0.75322777869692,
          0.6328388669249773,
          0.6984198526856391,
          0.8968732323285403,
          0.8044627721293282,
          0.11253812577847944,
          0.11658437638409769,
          0.8767697448420215,
          0.4418070001579828,
          0.39252872212225665,
          0.3907926146550741,
          0.5516474191472913,
          0.14395051825200822,
          0.3778418290893599,
          0.4065511920984649,
          0.03553609121776147,
          0.2025389658027369,
          0.6038333890893229,
          0.6905263045669126,
          0.817848694854345,
          0.6928061591249324,
          0.7690906710911299,
          0.19288433101635638,
          0.9218766065192043,
          0.933969889460268,
          0.2298982815669598,
          0.3644890944257344,
          0.3267843650108859,
          0.3709888263229266,
          0.7090677104223136,
          0.5354882951127095,
          0.8616407448465503,
          0.08757124257185056,
          0.897061878973695,
          0.5317354546559911,
          0.4363854236814835,
          0.06958657590817918,
          0.46171298458164955,
          0.2691183780264901,
          0.4311609600102444,
          0.06803117765092559,
          0.20357386437850378,
          0.7382033969202801,
          0.5923025535538066,
          0.31156603885436207,
          0.07264387852226606,
          0.8413488377379735,
          0.43803674585829255,
          0.7289397599029119,
          0.06213177266798009,
          0.10111404159475679,
          0.2263519044590966,
          0.036982581421772354,
          0.5713319039332098,
          0.7424063326571969,
          0.3994883348375018,
          0.3643345146105962,
          0.14890101024681068,
          0.03107901467748153,
          0.3810924358394241,
          0.007208699736973689,
          0.37896096256782863,
          0.8458603628210017,
          0.31512423990949046,
          0.09513621444975562,
          0.9414229862792534,
          0.19810187128830947,
          0.5867779594441598,
          0.5824191570696678,
          0.1639135922786732,
          0.4270131349662115,
          0.6392620908741422,
          0.003248377628135901,
          0.7959916531610831,
          0.8801412233809845,
          0.8844453391738599,
          0.8387364269449811,
          0.4905621766027979,
          0.029486775724918646,
          0.12138776332549595,
          0.03403962899153368,
          0.9337289527035166,
          0.9849781353955929,
          0.29020215069338984,
          0.745036334835919,
          0.9882506332791529,
          0.021843682893440075,
          0.5484102952846089,
          0.296428417679349,
          0.5152480117493462,
          0.021496650895187597,
          0.6177478491192887,
          0.4020324104375921,
          0.2985965848857438,
          0.36250431375718095
         ]
        },
        {
         "line": {
          "color": "rgba(50, 171, 96, 1.0)",
          "dash": "solid",
          "shape": "linear",
          "width": 1.3
         },
         "mode": "lines",
         "name": "C",
         "text": "",
         "type": "scatter",
         "x": [
          0,
          1,
          2,
          3,
          4,
          5,
          6,
          7,
          8,
          9,
          10,
          11,
          12,
          13,
          14,
          15,
          16,
          17,
          18,
          19,
          20,
          21,
          22,
          23,
          24,
          25,
          26,
          27,
          28,
          29,
          30,
          31,
          32,
          33,
          34,
          35,
          36,
          37,
          38,
          39,
          40,
          41,
          42,
          43,
          44,
          45,
          46,
          47,
          48,
          49,
          50,
          51,
          52,
          53,
          54,
          55,
          56,
          57,
          58,
          59,
          60,
          61,
          62,
          63,
          64,
          65,
          66,
          67,
          68,
          69,
          70,
          71,
          72,
          73,
          74,
          75,
          76,
          77,
          78,
          79,
          80,
          81,
          82,
          83,
          84,
          85,
          86,
          87,
          88,
          89,
          90,
          91,
          92,
          93,
          94,
          95,
          96,
          97,
          98,
          99
         ],
         "y": [
          0.3152516890194874,
          0.5443086177845735,
          0.9297621638698085,
          0.45861587020306394,
          0.21910245317589183,
          0.6211619506471429,
          0.6021648531252483,
          0.0077295055988921835,
          0.7284902003855681,
          0.8479619404684523,
          0.037792728727432556,
          0.8332590980585531,
          0.4925077898299203,
          0.07391627002268997,
          0.8446522461008278,
          0.9511405615471592,
          0.5705979743149465,
          0.4266892741960745,
          0.007564973206734771,
          0.21647449657963602,
          0.7641226562487663,
          0.009622826594543499,
          0.8775942487317722,
          0.10350323364088576,
          0.5935336496335069,
          0.5028336284213111,
          0.5835442167337298,
          0.2675761558544747,
          0.5590723052050217,
          0.7091739339129941,
          0.37454402971570944,
          0.24897632773639733,
          0.26913276239095163,
          0.231534795211071,
          0.07678615119959642,
          0.4588012489919525,
          0.7921539492194379,
          0.6504550414867118,
          0.18506346384593753,
          0.3463116881384939,
          0.28177718791644035,
          0.5494670153376061,
          0.7910183676184043,
          0.01982084683600638,
          0.8917443179116185,
          0.3212536526044839,
          0.8086192990185751,
          0.5058320630364189,
          0.3583667838630914,
          0.16742313704605583,
          0.21521336515152611,
          0.5216795683201767,
          0.42978255566353907,
          0.1611831031952181,
          0.425365149805761,
          0.4335144607164966,
          0.34831217885551535,
          0.09934172342159397,
          0.6512996468793305,
          0.31580327555063037,
          0.724397197069852,
          0.7826191296776274,
          0.15757742060879376,
          0.567787446952239,
          0.15483252681193194,
          0.7331118044650824,
          0.9161824544780653,
          0.2836522833682612,
          0.7519323857765258,
          0.8554104260724193,
          0.5178476036332023,
          0.19638339686283712,
          0.6374156245365838,
          0.6217261622883329,
          0.63540824857373,
          0.13246781632718985,
          0.3115783518192864,
          0.09233349865680296,
          0.9095224730645002,
          0.09017576175612485,
          0.8935882191512959,
          0.47414453843801496,
          0.9321594434660424,
          0.2744290659646673,
          0.7417229434950476,
          0.20175764774937233,
          0.6479329828351472,
          0.8212172225977402,
          0.19329971567045234,
          0.3000359405758365,
          0.8386152747771526,
          0.060702267127692555,
          0.481122748933029,
          0.5909353471694686,
          0.9749160357411846,
          0.34922772120659273,
          0.4342114797061457,
          0.8571943382492222,
          0.5327922461039806,
          0.3376696020702916
         ]
        },
        {
         "line": {
          "color": "rgba(128, 0, 128, 1.0)",
          "dash": "solid",
          "shape": "linear",
          "width": 1.3
         },
         "mode": "lines",
         "name": "D",
         "text": "",
         "type": "scatter",
         "x": [
          0,
          1,
          2,
          3,
          4,
          5,
          6,
          7,
          8,
          9,
          10,
          11,
          12,
          13,
          14,
          15,
          16,
          17,
          18,
          19,
          20,
          21,
          22,
          23,
          24,
          25,
          26,
          27,
          28,
          29,
          30,
          31,
          32,
          33,
          34,
          35,
          36,
          37,
          38,
          39,
          40,
          41,
          42,
          43,
          44,
          45,
          46,
          47,
          48,
          49,
          50,
          51,
          52,
          53,
          54,
          55,
          56,
          57,
          58,
          59,
          60,
          61,
          62,
          63,
          64,
          65,
          66,
          67,
          68,
          69,
          70,
          71,
          72,
          73,
          74,
          75,
          76,
          77,
          78,
          79,
          80,
          81,
          82,
          83,
          84,
          85,
          86,
          87,
          88,
          89,
          90,
          91,
          92,
          93,
          94,
          95,
          96,
          97,
          98,
          99
         ],
         "y": [
          0.48226681725812093,
          0.9235610403709147,
          0.4426094097801849,
          0.621016362815441,
          0.08868239126609256,
          0.016943840140298372,
          0.34385515239494413,
          0.859455363134581,
          0.8880957183259566,
          0.03553003081151651,
          0.5674880953833946,
          0.6308621081013328,
          0.5703394447927026,
          0.3924948424768949,
          0.34155963753144314,
          0.0035644121775486592,
          0.07787386773775584,
          0.8022412314572461,
          0.5220858169660821,
          0.17062106318219394,
          0.22298274974843413,
          0.23193778044731284,
          0.7787652231731305,
          0.7951182793489305,
          0.28995271018602575,
          0.99598747986115,
          0.37527222719593156,
          0.8422520226488781,
          0.19551325284347087,
          0.32071152593449825,
          0.06143347069511462,
          0.863751230374738,
          0.6999814460708496,
          0.7883981341839363,
          0.7157481718057458,
          0.7376623997178094,
          0.2976153730779675,
          0.6014194587412239,
          0.05405802347880384,
          0.6713879576277418,
          0.9910189277546503,
          0.44897884867237603,
          0.9709314524513294,
          0.6099766390158101,
          0.11880751018456215,
          0.11734858603190379,
          0.9993493221144791,
          0.08879438158255959,
          0.21328712700624297,
          0.5182158458173642,
          0.09588446908310388,
          0.6789467705662854,
          0.9131577420023878,
          0.2045960255051672,
          0.9710277710698846,
          0.6130562993334585,
          0.7280173697510924,
          0.8943793986412888,
          0.08437623037040842,
          0.7355362365606928,
          0.5329253722025512,
          0.491156368179979,
          0.5707491799608048,
          0.24136999571548867,
          0.5865961420454899,
          0.6906589915744329,
          0.31892347830267587,
          0.8418848037963962,
          0.8453899952139325,
          0.9414727157867787,
          0.35292870775538765,
          0.5788534648966603,
          0.537962226357741,
          0.4039713549314864,
          0.41721101042638953,
          0.4188980910410247,
          0.958904661888766,
          0.741918602845692,
          0.17658001912420596,
          0.1956878547259262,
          0.9446688231003695,
          0.6047900413227562,
          0.5993914029161285,
          0.11634157023699021,
          0.23166168657243869,
          0.5158664233621235,
          0.1942687631056884,
          0.7669818716791484,
          0.4239216876291071,
          0.5546922596898066,
          0.27420573826656913,
          0.5638379279357545,
          0.24691461506962276,
          0.07118002075602026,
          0.5180033903302498,
          0.782548233410483,
          0.7743418013772452,
          0.5266840330196146,
          0.3554193023523716,
          0.4561603425808469
         ]
        }
       ],
       "layout": {
        "legend": {
         "bgcolor": "#F5F6F9",
         "font": {
          "color": "#4D5663"
         }
        },
        "paper_bgcolor": "#F5F6F9",
        "plot_bgcolor": "#F5F6F9",
        "template": {
         "data": {
          "bar": [
           {
            "error_x": {
             "color": "#2a3f5f"
            },
            "error_y": {
             "color": "#2a3f5f"
            },
            "marker": {
             "line": {
              "color": "#E5ECF6",
              "width": 0.5
             },
             "pattern": {
              "fillmode": "overlay",
              "size": 10,
              "solidity": 0.2
             }
            },
            "type": "bar"
           }
          ],
          "barpolar": [
           {
            "marker": {
             "line": {
              "color": "#E5ECF6",
              "width": 0.5
             },
             "pattern": {
              "fillmode": "overlay",
              "size": 10,
              "solidity": 0.2
             }
            },
            "type": "barpolar"
           }
          ],
          "carpet": [
           {
            "aaxis": {
             "endlinecolor": "#2a3f5f",
             "gridcolor": "white",
             "linecolor": "white",
             "minorgridcolor": "white",
             "startlinecolor": "#2a3f5f"
            },
            "baxis": {
             "endlinecolor": "#2a3f5f",
             "gridcolor": "white",
             "linecolor": "white",
             "minorgridcolor": "white",
             "startlinecolor": "#2a3f5f"
            },
            "type": "carpet"
           }
          ],
          "choropleth": [
           {
            "colorbar": {
             "outlinewidth": 0,
             "ticks": ""
            },
            "type": "choropleth"
           }
          ],
          "contour": [
           {
            "colorbar": {
             "outlinewidth": 0,
             "ticks": ""
            },
            "colorscale": [
             [
              0,
              "#0d0887"
             ],
             [
              0.1111111111111111,
              "#46039f"
             ],
             [
              0.2222222222222222,
              "#7201a8"
             ],
             [
              0.3333333333333333,
              "#9c179e"
             ],
             [
              0.4444444444444444,
              "#bd3786"
             ],
             [
              0.5555555555555556,
              "#d8576b"
             ],
             [
              0.6666666666666666,
              "#ed7953"
             ],
             [
              0.7777777777777778,
              "#fb9f3a"
             ],
             [
              0.8888888888888888,
              "#fdca26"
             ],
             [
              1,
              "#f0f921"
             ]
            ],
            "type": "contour"
           }
          ],
          "contourcarpet": [
           {
            "colorbar": {
             "outlinewidth": 0,
             "ticks": ""
            },
            "type": "contourcarpet"
           }
          ],
          "heatmap": [
           {
            "colorbar": {
             "outlinewidth": 0,
             "ticks": ""
            },
            "colorscale": [
             [
              0,
              "#0d0887"
             ],
             [
              0.1111111111111111,
              "#46039f"
             ],
             [
              0.2222222222222222,
              "#7201a8"
             ],
             [
              0.3333333333333333,
              "#9c179e"
             ],
             [
              0.4444444444444444,
              "#bd3786"
             ],
             [
              0.5555555555555556,
              "#d8576b"
             ],
             [
              0.6666666666666666,
              "#ed7953"
             ],
             [
              0.7777777777777778,
              "#fb9f3a"
             ],
             [
              0.8888888888888888,
              "#fdca26"
             ],
             [
              1,
              "#f0f921"
             ]
            ],
            "type": "heatmap"
           }
          ],
          "heatmapgl": [
           {
            "colorbar": {
             "outlinewidth": 0,
             "ticks": ""
            },
            "colorscale": [
             [
              0,
              "#0d0887"
             ],
             [
              0.1111111111111111,
              "#46039f"
             ],
             [
              0.2222222222222222,
              "#7201a8"
             ],
             [
              0.3333333333333333,
              "#9c179e"
             ],
             [
              0.4444444444444444,
              "#bd3786"
             ],
             [
              0.5555555555555556,
              "#d8576b"
             ],
             [
              0.6666666666666666,
              "#ed7953"
             ],
             [
              0.7777777777777778,
              "#fb9f3a"
             ],
             [
              0.8888888888888888,
              "#fdca26"
             ],
             [
              1,
              "#f0f921"
             ]
            ],
            "type": "heatmapgl"
           }
          ],
          "histogram": [
           {
            "marker": {
             "pattern": {
              "fillmode": "overlay",
              "size": 10,
              "solidity": 0.2
             }
            },
            "type": "histogram"
           }
          ],
          "histogram2d": [
           {
            "colorbar": {
             "outlinewidth": 0,
             "ticks": ""
            },
            "colorscale": [
             [
              0,
              "#0d0887"
             ],
             [
              0.1111111111111111,
              "#46039f"
             ],
             [
              0.2222222222222222,
              "#7201a8"
             ],
             [
              0.3333333333333333,
              "#9c179e"
             ],
             [
              0.4444444444444444,
              "#bd3786"
             ],
             [
              0.5555555555555556,
              "#d8576b"
             ],
             [
              0.6666666666666666,
              "#ed7953"
             ],
             [
              0.7777777777777778,
              "#fb9f3a"
             ],
             [
              0.8888888888888888,
              "#fdca26"
             ],
             [
              1,
              "#f0f921"
             ]
            ],
            "type": "histogram2d"
           }
          ],
          "histogram2dcontour": [
           {
            "colorbar": {
             "outlinewidth": 0,
             "ticks": ""
            },
            "colorscale": [
             [
              0,
              "#0d0887"
             ],
             [
              0.1111111111111111,
              "#46039f"
             ],
             [
              0.2222222222222222,
              "#7201a8"
             ],
             [
              0.3333333333333333,
              "#9c179e"
             ],
             [
              0.4444444444444444,
              "#bd3786"
             ],
             [
              0.5555555555555556,
              "#d8576b"
             ],
             [
              0.6666666666666666,
              "#ed7953"
             ],
             [
              0.7777777777777778,
              "#fb9f3a"
             ],
             [
              0.8888888888888888,
              "#fdca26"
             ],
             [
              1,
              "#f0f921"
             ]
            ],
            "type": "histogram2dcontour"
           }
          ],
          "mesh3d": [
           {
            "colorbar": {
             "outlinewidth": 0,
             "ticks": ""
            },
            "type": "mesh3d"
           }
          ],
          "parcoords": [
           {
            "line": {
             "colorbar": {
              "outlinewidth": 0,
              "ticks": ""
             }
            },
            "type": "parcoords"
           }
          ],
          "pie": [
           {
            "automargin": true,
            "type": "pie"
           }
          ],
          "scatter": [
           {
            "marker": {
             "colorbar": {
              "outlinewidth": 0,
              "ticks": ""
             }
            },
            "type": "scatter"
           }
          ],
          "scatter3d": [
           {
            "line": {
             "colorbar": {
              "outlinewidth": 0,
              "ticks": ""
             }
            },
            "marker": {
             "colorbar": {
              "outlinewidth": 0,
              "ticks": ""
             }
            },
            "type": "scatter3d"
           }
          ],
          "scattercarpet": [
           {
            "marker": {
             "colorbar": {
              "outlinewidth": 0,
              "ticks": ""
             }
            },
            "type": "scattercarpet"
           }
          ],
          "scattergeo": [
           {
            "marker": {
             "colorbar": {
              "outlinewidth": 0,
              "ticks": ""
             }
            },
            "type": "scattergeo"
           }
          ],
          "scattergl": [
           {
            "marker": {
             "colorbar": {
              "outlinewidth": 0,
              "ticks": ""
             }
            },
            "type": "scattergl"
           }
          ],
          "scattermapbox": [
           {
            "marker": {
             "colorbar": {
              "outlinewidth": 0,
              "ticks": ""
             }
            },
            "type": "scattermapbox"
           }
          ],
          "scatterpolar": [
           {
            "marker": {
             "colorbar": {
              "outlinewidth": 0,
              "ticks": ""
             }
            },
            "type": "scatterpolar"
           }
          ],
          "scatterpolargl": [
           {
            "marker": {
             "colorbar": {
              "outlinewidth": 0,
              "ticks": ""
             }
            },
            "type": "scatterpolargl"
           }
          ],
          "scatterternary": [
           {
            "marker": {
             "colorbar": {
              "outlinewidth": 0,
              "ticks": ""
             }
            },
            "type": "scatterternary"
           }
          ],
          "surface": [
           {
            "colorbar": {
             "outlinewidth": 0,
             "ticks": ""
            },
            "colorscale": [
             [
              0,
              "#0d0887"
             ],
             [
              0.1111111111111111,
              "#46039f"
             ],
             [
              0.2222222222222222,
              "#7201a8"
             ],
             [
              0.3333333333333333,
              "#9c179e"
             ],
             [
              0.4444444444444444,
              "#bd3786"
             ],
             [
              0.5555555555555556,
              "#d8576b"
             ],
             [
              0.6666666666666666,
              "#ed7953"
             ],
             [
              0.7777777777777778,
              "#fb9f3a"
             ],
             [
              0.8888888888888888,
              "#fdca26"
             ],
             [
              1,
              "#f0f921"
             ]
            ],
            "type": "surface"
           }
          ],
          "table": [
           {
            "cells": {
             "fill": {
              "color": "#EBF0F8"
             },
             "line": {
              "color": "white"
             }
            },
            "header": {
             "fill": {
              "color": "#C8D4E3"
             },
             "line": {
              "color": "white"
             }
            },
            "type": "table"
           }
          ]
         },
         "layout": {
          "annotationdefaults": {
           "arrowcolor": "#2a3f5f",
           "arrowhead": 0,
           "arrowwidth": 1
          },
          "autotypenumbers": "strict",
          "coloraxis": {
           "colorbar": {
            "outlinewidth": 0,
            "ticks": ""
           }
          },
          "colorscale": {
           "diverging": [
            [
             0,
             "#8e0152"
            ],
            [
             0.1,
             "#c51b7d"
            ],
            [
             0.2,
             "#de77ae"
            ],
            [
             0.3,
             "#f1b6da"
            ],
            [
             0.4,
             "#fde0ef"
            ],
            [
             0.5,
             "#f7f7f7"
            ],
            [
             0.6,
             "#e6f5d0"
            ],
            [
             0.7,
             "#b8e186"
            ],
            [
             0.8,
             "#7fbc41"
            ],
            [
             0.9,
             "#4d9221"
            ],
            [
             1,
             "#276419"
            ]
           ],
           "sequential": [
            [
             0,
             "#0d0887"
            ],
            [
             0.1111111111111111,
             "#46039f"
            ],
            [
             0.2222222222222222,
             "#7201a8"
            ],
            [
             0.3333333333333333,
             "#9c179e"
            ],
            [
             0.4444444444444444,
             "#bd3786"
            ],
            [
             0.5555555555555556,
             "#d8576b"
            ],
            [
             0.6666666666666666,
             "#ed7953"
            ],
            [
             0.7777777777777778,
             "#fb9f3a"
            ],
            [
             0.8888888888888888,
             "#fdca26"
            ],
            [
             1,
             "#f0f921"
            ]
           ],
           "sequentialminus": [
            [
             0,
             "#0d0887"
            ],
            [
             0.1111111111111111,
             "#46039f"
            ],
            [
             0.2222222222222222,
             "#7201a8"
            ],
            [
             0.3333333333333333,
             "#9c179e"
            ],
            [
             0.4444444444444444,
             "#bd3786"
            ],
            [
             0.5555555555555556,
             "#d8576b"
            ],
            [
             0.6666666666666666,
             "#ed7953"
            ],
            [
             0.7777777777777778,
             "#fb9f3a"
            ],
            [
             0.8888888888888888,
             "#fdca26"
            ],
            [
             1,
             "#f0f921"
            ]
           ]
          },
          "colorway": [
           "#636efa",
           "#EF553B",
           "#00cc96",
           "#ab63fa",
           "#FFA15A",
           "#19d3f3",
           "#FF6692",
           "#B6E880",
           "#FF97FF",
           "#FECB52"
          ],
          "font": {
           "color": "#2a3f5f"
          },
          "geo": {
           "bgcolor": "white",
           "lakecolor": "white",
           "landcolor": "#E5ECF6",
           "showlakes": true,
           "showland": true,
           "subunitcolor": "white"
          },
          "hoverlabel": {
           "align": "left"
          },
          "hovermode": "closest",
          "mapbox": {
           "style": "light"
          },
          "paper_bgcolor": "white",
          "plot_bgcolor": "#E5ECF6",
          "polar": {
           "angularaxis": {
            "gridcolor": "white",
            "linecolor": "white",
            "ticks": ""
           },
           "bgcolor": "#E5ECF6",
           "radialaxis": {
            "gridcolor": "white",
            "linecolor": "white",
            "ticks": ""
           }
          },
          "scene": {
           "xaxis": {
            "backgroundcolor": "#E5ECF6",
            "gridcolor": "white",
            "gridwidth": 2,
            "linecolor": "white",
            "showbackground": true,
            "ticks": "",
            "zerolinecolor": "white"
           },
           "yaxis": {
            "backgroundcolor": "#E5ECF6",
            "gridcolor": "white",
            "gridwidth": 2,
            "linecolor": "white",
            "showbackground": true,
            "ticks": "",
            "zerolinecolor": "white"
           },
           "zaxis": {
            "backgroundcolor": "#E5ECF6",
            "gridcolor": "white",
            "gridwidth": 2,
            "linecolor": "white",
            "showbackground": true,
            "ticks": "",
            "zerolinecolor": "white"
           }
          },
          "shapedefaults": {
           "line": {
            "color": "#2a3f5f"
           }
          },
          "ternary": {
           "aaxis": {
            "gridcolor": "white",
            "linecolor": "white",
            "ticks": ""
           },
           "baxis": {
            "gridcolor": "white",
            "linecolor": "white",
            "ticks": ""
           },
           "bgcolor": "#E5ECF6",
           "caxis": {
            "gridcolor": "white",
            "linecolor": "white",
            "ticks": ""
           }
          },
          "title": {
           "x": 0.05
          },
          "xaxis": {
           "automargin": true,
           "gridcolor": "white",
           "linecolor": "white",
           "ticks": "",
           "title": {
            "standoff": 15
           },
           "zerolinecolor": "white",
           "zerolinewidth": 2
          },
          "yaxis": {
           "automargin": true,
           "gridcolor": "white",
           "linecolor": "white",
           "ticks": "",
           "title": {
            "standoff": 15
           },
           "zerolinecolor": "white",
           "zerolinewidth": 2
          }
         }
        },
        "title": {
         "font": {
          "color": "#4D5663"
         }
        },
        "xaxis": {
         "gridcolor": "#E1E5ED",
         "showgrid": true,
         "tickfont": {
          "color": "#4D5663"
         },
         "title": {
          "font": {
           "color": "#4D5663"
          },
          "text": ""
         },
         "zerolinecolor": "#E1E5ED"
        },
        "yaxis": {
         "gridcolor": "#E1E5ED",
         "showgrid": true,
         "tickfont": {
          "color": "#4D5663"
         },
         "title": {
          "font": {
           "color": "#4D5663"
          },
          "text": ""
         },
         "zerolinecolor": "#E1E5ED"
        }
       }
      },
      "text/html": [
       "<div>                            <div id=\"6bc800bc-896a-4bfe-ac71-a7861b2fa262\" class=\"plotly-graph-div\" style=\"height:525px; width:100%;\"></div>            <script type=\"text/javascript\">                require([\"plotly\"], function(Plotly) {                    window.PLOTLYENV=window.PLOTLYENV || {};\n",
       "                    window.PLOTLYENV.BASE_URL='https://plot.ly';                                    if (document.getElementById(\"6bc800bc-896a-4bfe-ac71-a7861b2fa262\")) {                    Plotly.newPlot(                        \"6bc800bc-896a-4bfe-ac71-a7861b2fa262\",                        [{\"line\":{\"color\":\"rgba(255, 153, 51, 1.0)\",\"dash\":\"solid\",\"shape\":\"linear\",\"width\":1.3},\"mode\":\"lines\",\"name\":\"A\",\"text\":\"\",\"x\":[0,1,2,3,4,5,6,7,8,9,10,11,12,13,14,15,16,17,18,19,20,21,22,23,24,25,26,27,28,29,30,31,32,33,34,35,36,37,38,39,40,41,42,43,44,45,46,47,48,49,50,51,52,53,54,55,56,57,58,59,60,61,62,63,64,65,66,67,68,69,70,71,72,73,74,75,76,77,78,79,80,81,82,83,84,85,86,87,88,89,90,91,92,93,94,95,96,97,98,99],\"y\":[0.2250443781149135,0.08816213727442435,0.6626125847228254,0.2746395608719585,0.45293012299241775,0.836615128915151,0.44692682643961645,0.3105938565894072,0.9428361473081437,0.34064919913698355,0.17452731620240503,0.32219071699615454,0.0030012105167208647,0.4913468468170983,0.26435328189743135,0.7682893468807056,0.6055000738260053,0.21722716461756442,0.4949797032217601,0.21381843446246462,0.8300457653348391,0.13827041243941285,0.1558288919463745,0.9330678677226378,0.2059547519701218,0.01860349533293082,0.6191509923340339,0.21684142313336863,0.16973810033847903,0.31445933277104854,0.3624645222419647,0.2976461680860377,0.08234333390789195,0.42037842566676675,0.06064013630875731,0.5567254254932318,0.6899068222823159,0.4769347743250726,0.9968393516149027,0.2744377879317744,0.6049560726725473,0.5084065572719714,0.576297646063401,0.9106015121792489,0.8248647095555114,0.7106653297873855,0.7668766735009186,0.8438311577740136,0.5733076689511379,0.7071739444978064,0.5092732172349697,0.6814364656164301,0.21451765822782898,0.5058485779970664,0.2931382994694357,0.32952773723891826,0.25268344443530466,0.25971785347190124,0.18854849785993677,0.4495740295058872,0.0917318982236458,0.34798774038912184,0.6633133278669227,0.4018852335963763,0.6839116040459678,0.5617302006650415,0.20051643380537365,0.9829508270853825,0.373877223116557,0.7389959502838783,0.3769483686048758,0.9105306944851294,0.0798955343626766,0.07923836114468097,0.49511493242288507,0.6840853457893549,0.27936552333414433,0.06228618607349434,0.3660919231466815,0.6062691176503104,0.9091551216816015,0.9837196292081463,0.6993629753003112,0.6895764442769861,0.9870406141706531,0.3540372349192824,0.5958368082220097,0.1581173027530185,0.2148732644475152,0.007278266918228193,0.25015623787224295,0.298453238621718,0.654582253185616,0.6687832876370767,0.9662394096900148,0.2331965010768713,0.18265307257972507,0.5500943606247986,0.9682691914091727,0.5257277279399781],\"type\":\"scatter\"},{\"line\":{\"color\":\"rgba(55, 128, 191, 1.0)\",\"dash\":\"solid\",\"shape\":\"linear\",\"width\":1.3},\"mode\":\"lines\",\"name\":\"B\",\"text\":\"\",\"x\":[0,1,2,3,4,5,6,7,8,9,10,11,12,13,14,15,16,17,18,19,20,21,22,23,24,25,26,27,28,29,30,31,32,33,34,35,36,37,38,39,40,41,42,43,44,45,46,47,48,49,50,51,52,53,54,55,56,57,58,59,60,61,62,63,64,65,66,67,68,69,70,71,72,73,74,75,76,77,78,79,80,81,82,83,84,85,86,87,88,89,90,91,92,93,94,95,96,97,98,99],\"y\":[0.25223622727424755,0.2865314817875646,0.8882742781630784,0.5992498245013107,0.3697629405157712,0.75322777869692,0.6328388669249773,0.6984198526856391,0.8968732323285403,0.8044627721293282,0.11253812577847944,0.11658437638409769,0.8767697448420215,0.4418070001579828,0.39252872212225665,0.3907926146550741,0.5516474191472913,0.14395051825200822,0.3778418290893599,0.4065511920984649,0.03553609121776147,0.2025389658027369,0.6038333890893229,0.6905263045669126,0.817848694854345,0.6928061591249324,0.7690906710911299,0.19288433101635638,0.9218766065192043,0.933969889460268,0.2298982815669598,0.3644890944257344,0.3267843650108859,0.3709888263229266,0.7090677104223136,0.5354882951127095,0.8616407448465503,0.08757124257185056,0.897061878973695,0.5317354546559911,0.4363854236814835,0.06958657590817918,0.46171298458164955,0.2691183780264901,0.4311609600102444,0.06803117765092559,0.20357386437850378,0.7382033969202801,0.5923025535538066,0.31156603885436207,0.07264387852226606,0.8413488377379735,0.43803674585829255,0.7289397599029119,0.06213177266798009,0.10111404159475679,0.2263519044590966,0.036982581421772354,0.5713319039332098,0.7424063326571969,0.3994883348375018,0.3643345146105962,0.14890101024681068,0.03107901467748153,0.3810924358394241,0.007208699736973689,0.37896096256782863,0.8458603628210017,0.31512423990949046,0.09513621444975562,0.9414229862792534,0.19810187128830947,0.5867779594441598,0.5824191570696678,0.1639135922786732,0.4270131349662115,0.6392620908741422,0.003248377628135901,0.7959916531610831,0.8801412233809845,0.8844453391738599,0.8387364269449811,0.4905621766027979,0.029486775724918646,0.12138776332549595,0.03403962899153368,0.9337289527035166,0.9849781353955929,0.29020215069338984,0.745036334835919,0.9882506332791529,0.021843682893440075,0.5484102952846089,0.296428417679349,0.5152480117493462,0.021496650895187597,0.6177478491192887,0.4020324104375921,0.2985965848857438,0.36250431375718095],\"type\":\"scatter\"},{\"line\":{\"color\":\"rgba(50, 171, 96, 1.0)\",\"dash\":\"solid\",\"shape\":\"linear\",\"width\":1.3},\"mode\":\"lines\",\"name\":\"C\",\"text\":\"\",\"x\":[0,1,2,3,4,5,6,7,8,9,10,11,12,13,14,15,16,17,18,19,20,21,22,23,24,25,26,27,28,29,30,31,32,33,34,35,36,37,38,39,40,41,42,43,44,45,46,47,48,49,50,51,52,53,54,55,56,57,58,59,60,61,62,63,64,65,66,67,68,69,70,71,72,73,74,75,76,77,78,79,80,81,82,83,84,85,86,87,88,89,90,91,92,93,94,95,96,97,98,99],\"y\":[0.3152516890194874,0.5443086177845735,0.9297621638698085,0.45861587020306394,0.21910245317589183,0.6211619506471429,0.6021648531252483,0.0077295055988921835,0.7284902003855681,0.8479619404684523,0.037792728727432556,0.8332590980585531,0.4925077898299203,0.07391627002268997,0.8446522461008278,0.9511405615471592,0.5705979743149465,0.4266892741960745,0.007564973206734771,0.21647449657963602,0.7641226562487663,0.009622826594543499,0.8775942487317722,0.10350323364088576,0.5935336496335069,0.5028336284213111,0.5835442167337298,0.2675761558544747,0.5590723052050217,0.7091739339129941,0.37454402971570944,0.24897632773639733,0.26913276239095163,0.231534795211071,0.07678615119959642,0.4588012489919525,0.7921539492194379,0.6504550414867118,0.18506346384593753,0.3463116881384939,0.28177718791644035,0.5494670153376061,0.7910183676184043,0.01982084683600638,0.8917443179116185,0.3212536526044839,0.8086192990185751,0.5058320630364189,0.3583667838630914,0.16742313704605583,0.21521336515152611,0.5216795683201767,0.42978255566353907,0.1611831031952181,0.425365149805761,0.4335144607164966,0.34831217885551535,0.09934172342159397,0.6512996468793305,0.31580327555063037,0.724397197069852,0.7826191296776274,0.15757742060879376,0.567787446952239,0.15483252681193194,0.7331118044650824,0.9161824544780653,0.2836522833682612,0.7519323857765258,0.8554104260724193,0.5178476036332023,0.19638339686283712,0.6374156245365838,0.6217261622883329,0.63540824857373,0.13246781632718985,0.3115783518192864,0.09233349865680296,0.9095224730645002,0.09017576175612485,0.8935882191512959,0.47414453843801496,0.9321594434660424,0.2744290659646673,0.7417229434950476,0.20175764774937233,0.6479329828351472,0.8212172225977402,0.19329971567045234,0.3000359405758365,0.8386152747771526,0.060702267127692555,0.481122748933029,0.5909353471694686,0.9749160357411846,0.34922772120659273,0.4342114797061457,0.8571943382492222,0.5327922461039806,0.3376696020702916],\"type\":\"scatter\"},{\"line\":{\"color\":\"rgba(128, 0, 128, 1.0)\",\"dash\":\"solid\",\"shape\":\"linear\",\"width\":1.3},\"mode\":\"lines\",\"name\":\"D\",\"text\":\"\",\"x\":[0,1,2,3,4,5,6,7,8,9,10,11,12,13,14,15,16,17,18,19,20,21,22,23,24,25,26,27,28,29,30,31,32,33,34,35,36,37,38,39,40,41,42,43,44,45,46,47,48,49,50,51,52,53,54,55,56,57,58,59,60,61,62,63,64,65,66,67,68,69,70,71,72,73,74,75,76,77,78,79,80,81,82,83,84,85,86,87,88,89,90,91,92,93,94,95,96,97,98,99],\"y\":[0.48226681725812093,0.9235610403709147,0.4426094097801849,0.621016362815441,0.08868239126609256,0.016943840140298372,0.34385515239494413,0.859455363134581,0.8880957183259566,0.03553003081151651,0.5674880953833946,0.6308621081013328,0.5703394447927026,0.3924948424768949,0.34155963753144314,0.0035644121775486592,0.07787386773775584,0.8022412314572461,0.5220858169660821,0.17062106318219394,0.22298274974843413,0.23193778044731284,0.7787652231731305,0.7951182793489305,0.28995271018602575,0.99598747986115,0.37527222719593156,0.8422520226488781,0.19551325284347087,0.32071152593449825,0.06143347069511462,0.863751230374738,0.6999814460708496,0.7883981341839363,0.7157481718057458,0.7376623997178094,0.2976153730779675,0.6014194587412239,0.05405802347880384,0.6713879576277418,0.9910189277546503,0.44897884867237603,0.9709314524513294,0.6099766390158101,0.11880751018456215,0.11734858603190379,0.9993493221144791,0.08879438158255959,0.21328712700624297,0.5182158458173642,0.09588446908310388,0.6789467705662854,0.9131577420023878,0.2045960255051672,0.9710277710698846,0.6130562993334585,0.7280173697510924,0.8943793986412888,0.08437623037040842,0.7355362365606928,0.5329253722025512,0.491156368179979,0.5707491799608048,0.24136999571548867,0.5865961420454899,0.6906589915744329,0.31892347830267587,0.8418848037963962,0.8453899952139325,0.9414727157867787,0.35292870775538765,0.5788534648966603,0.537962226357741,0.4039713549314864,0.41721101042638953,0.4188980910410247,0.958904661888766,0.741918602845692,0.17658001912420596,0.1956878547259262,0.9446688231003695,0.6047900413227562,0.5993914029161285,0.11634157023699021,0.23166168657243869,0.5158664233621235,0.1942687631056884,0.7669818716791484,0.4239216876291071,0.5546922596898066,0.27420573826656913,0.5638379279357545,0.24691461506962276,0.07118002075602026,0.5180033903302498,0.782548233410483,0.7743418013772452,0.5266840330196146,0.3554193023523716,0.4561603425808469],\"type\":\"scatter\"}],                        {\"legend\":{\"bgcolor\":\"#F5F6F9\",\"font\":{\"color\":\"#4D5663\"}},\"paper_bgcolor\":\"#F5F6F9\",\"plot_bgcolor\":\"#F5F6F9\",\"template\":{\"data\":{\"barpolar\":[{\"marker\":{\"line\":{\"color\":\"#E5ECF6\",\"width\":0.5},\"pattern\":{\"fillmode\":\"overlay\",\"size\":10,\"solidity\":0.2}},\"type\":\"barpolar\"}],\"bar\":[{\"error_x\":{\"color\":\"#2a3f5f\"},\"error_y\":{\"color\":\"#2a3f5f\"},\"marker\":{\"line\":{\"color\":\"#E5ECF6\",\"width\":0.5},\"pattern\":{\"fillmode\":\"overlay\",\"size\":10,\"solidity\":0.2}},\"type\":\"bar\"}],\"carpet\":[{\"aaxis\":{\"endlinecolor\":\"#2a3f5f\",\"gridcolor\":\"white\",\"linecolor\":\"white\",\"minorgridcolor\":\"white\",\"startlinecolor\":\"#2a3f5f\"},\"baxis\":{\"endlinecolor\":\"#2a3f5f\",\"gridcolor\":\"white\",\"linecolor\":\"white\",\"minorgridcolor\":\"white\",\"startlinecolor\":\"#2a3f5f\"},\"type\":\"carpet\"}],\"choropleth\":[{\"colorbar\":{\"outlinewidth\":0,\"ticks\":\"\"},\"type\":\"choropleth\"}],\"contourcarpet\":[{\"colorbar\":{\"outlinewidth\":0,\"ticks\":\"\"},\"type\":\"contourcarpet\"}],\"contour\":[{\"colorbar\":{\"outlinewidth\":0,\"ticks\":\"\"},\"colorscale\":[[0.0,\"#0d0887\"],[0.1111111111111111,\"#46039f\"],[0.2222222222222222,\"#7201a8\"],[0.3333333333333333,\"#9c179e\"],[0.4444444444444444,\"#bd3786\"],[0.5555555555555556,\"#d8576b\"],[0.6666666666666666,\"#ed7953\"],[0.7777777777777778,\"#fb9f3a\"],[0.8888888888888888,\"#fdca26\"],[1.0,\"#f0f921\"]],\"type\":\"contour\"}],\"heatmapgl\":[{\"colorbar\":{\"outlinewidth\":0,\"ticks\":\"\"},\"colorscale\":[[0.0,\"#0d0887\"],[0.1111111111111111,\"#46039f\"],[0.2222222222222222,\"#7201a8\"],[0.3333333333333333,\"#9c179e\"],[0.4444444444444444,\"#bd3786\"],[0.5555555555555556,\"#d8576b\"],[0.6666666666666666,\"#ed7953\"],[0.7777777777777778,\"#fb9f3a\"],[0.8888888888888888,\"#fdca26\"],[1.0,\"#f0f921\"]],\"type\":\"heatmapgl\"}],\"heatmap\":[{\"colorbar\":{\"outlinewidth\":0,\"ticks\":\"\"},\"colorscale\":[[0.0,\"#0d0887\"],[0.1111111111111111,\"#46039f\"],[0.2222222222222222,\"#7201a8\"],[0.3333333333333333,\"#9c179e\"],[0.4444444444444444,\"#bd3786\"],[0.5555555555555556,\"#d8576b\"],[0.6666666666666666,\"#ed7953\"],[0.7777777777777778,\"#fb9f3a\"],[0.8888888888888888,\"#fdca26\"],[1.0,\"#f0f921\"]],\"type\":\"heatmap\"}],\"histogram2dcontour\":[{\"colorbar\":{\"outlinewidth\":0,\"ticks\":\"\"},\"colorscale\":[[0.0,\"#0d0887\"],[0.1111111111111111,\"#46039f\"],[0.2222222222222222,\"#7201a8\"],[0.3333333333333333,\"#9c179e\"],[0.4444444444444444,\"#bd3786\"],[0.5555555555555556,\"#d8576b\"],[0.6666666666666666,\"#ed7953\"],[0.7777777777777778,\"#fb9f3a\"],[0.8888888888888888,\"#fdca26\"],[1.0,\"#f0f921\"]],\"type\":\"histogram2dcontour\"}],\"histogram2d\":[{\"colorbar\":{\"outlinewidth\":0,\"ticks\":\"\"},\"colorscale\":[[0.0,\"#0d0887\"],[0.1111111111111111,\"#46039f\"],[0.2222222222222222,\"#7201a8\"],[0.3333333333333333,\"#9c179e\"],[0.4444444444444444,\"#bd3786\"],[0.5555555555555556,\"#d8576b\"],[0.6666666666666666,\"#ed7953\"],[0.7777777777777778,\"#fb9f3a\"],[0.8888888888888888,\"#fdca26\"],[1.0,\"#f0f921\"]],\"type\":\"histogram2d\"}],\"histogram\":[{\"marker\":{\"pattern\":{\"fillmode\":\"overlay\",\"size\":10,\"solidity\":0.2}},\"type\":\"histogram\"}],\"mesh3d\":[{\"colorbar\":{\"outlinewidth\":0,\"ticks\":\"\"},\"type\":\"mesh3d\"}],\"parcoords\":[{\"line\":{\"colorbar\":{\"outlinewidth\":0,\"ticks\":\"\"}},\"type\":\"parcoords\"}],\"pie\":[{\"automargin\":true,\"type\":\"pie\"}],\"scatter3d\":[{\"line\":{\"colorbar\":{\"outlinewidth\":0,\"ticks\":\"\"}},\"marker\":{\"colorbar\":{\"outlinewidth\":0,\"ticks\":\"\"}},\"type\":\"scatter3d\"}],\"scattercarpet\":[{\"marker\":{\"colorbar\":{\"outlinewidth\":0,\"ticks\":\"\"}},\"type\":\"scattercarpet\"}],\"scattergeo\":[{\"marker\":{\"colorbar\":{\"outlinewidth\":0,\"ticks\":\"\"}},\"type\":\"scattergeo\"}],\"scattergl\":[{\"marker\":{\"colorbar\":{\"outlinewidth\":0,\"ticks\":\"\"}},\"type\":\"scattergl\"}],\"scattermapbox\":[{\"marker\":{\"colorbar\":{\"outlinewidth\":0,\"ticks\":\"\"}},\"type\":\"scattermapbox\"}],\"scatterpolargl\":[{\"marker\":{\"colorbar\":{\"outlinewidth\":0,\"ticks\":\"\"}},\"type\":\"scatterpolargl\"}],\"scatterpolar\":[{\"marker\":{\"colorbar\":{\"outlinewidth\":0,\"ticks\":\"\"}},\"type\":\"scatterpolar\"}],\"scatter\":[{\"marker\":{\"colorbar\":{\"outlinewidth\":0,\"ticks\":\"\"}},\"type\":\"scatter\"}],\"scatterternary\":[{\"marker\":{\"colorbar\":{\"outlinewidth\":0,\"ticks\":\"\"}},\"type\":\"scatterternary\"}],\"surface\":[{\"colorbar\":{\"outlinewidth\":0,\"ticks\":\"\"},\"colorscale\":[[0.0,\"#0d0887\"],[0.1111111111111111,\"#46039f\"],[0.2222222222222222,\"#7201a8\"],[0.3333333333333333,\"#9c179e\"],[0.4444444444444444,\"#bd3786\"],[0.5555555555555556,\"#d8576b\"],[0.6666666666666666,\"#ed7953\"],[0.7777777777777778,\"#fb9f3a\"],[0.8888888888888888,\"#fdca26\"],[1.0,\"#f0f921\"]],\"type\":\"surface\"}],\"table\":[{\"cells\":{\"fill\":{\"color\":\"#EBF0F8\"},\"line\":{\"color\":\"white\"}},\"header\":{\"fill\":{\"color\":\"#C8D4E3\"},\"line\":{\"color\":\"white\"}},\"type\":\"table\"}]},\"layout\":{\"annotationdefaults\":{\"arrowcolor\":\"#2a3f5f\",\"arrowhead\":0,\"arrowwidth\":1},\"autotypenumbers\":\"strict\",\"coloraxis\":{\"colorbar\":{\"outlinewidth\":0,\"ticks\":\"\"}},\"colorscale\":{\"diverging\":[[0,\"#8e0152\"],[0.1,\"#c51b7d\"],[0.2,\"#de77ae\"],[0.3,\"#f1b6da\"],[0.4,\"#fde0ef\"],[0.5,\"#f7f7f7\"],[0.6,\"#e6f5d0\"],[0.7,\"#b8e186\"],[0.8,\"#7fbc41\"],[0.9,\"#4d9221\"],[1,\"#276419\"]],\"sequential\":[[0.0,\"#0d0887\"],[0.1111111111111111,\"#46039f\"],[0.2222222222222222,\"#7201a8\"],[0.3333333333333333,\"#9c179e\"],[0.4444444444444444,\"#bd3786\"],[0.5555555555555556,\"#d8576b\"],[0.6666666666666666,\"#ed7953\"],[0.7777777777777778,\"#fb9f3a\"],[0.8888888888888888,\"#fdca26\"],[1.0,\"#f0f921\"]],\"sequentialminus\":[[0.0,\"#0d0887\"],[0.1111111111111111,\"#46039f\"],[0.2222222222222222,\"#7201a8\"],[0.3333333333333333,\"#9c179e\"],[0.4444444444444444,\"#bd3786\"],[0.5555555555555556,\"#d8576b\"],[0.6666666666666666,\"#ed7953\"],[0.7777777777777778,\"#fb9f3a\"],[0.8888888888888888,\"#fdca26\"],[1.0,\"#f0f921\"]]},\"colorway\":[\"#636efa\",\"#EF553B\",\"#00cc96\",\"#ab63fa\",\"#FFA15A\",\"#19d3f3\",\"#FF6692\",\"#B6E880\",\"#FF97FF\",\"#FECB52\"],\"font\":{\"color\":\"#2a3f5f\"},\"geo\":{\"bgcolor\":\"white\",\"lakecolor\":\"white\",\"landcolor\":\"#E5ECF6\",\"showlakes\":true,\"showland\":true,\"subunitcolor\":\"white\"},\"hoverlabel\":{\"align\":\"left\"},\"hovermode\":\"closest\",\"mapbox\":{\"style\":\"light\"},\"paper_bgcolor\":\"white\",\"plot_bgcolor\":\"#E5ECF6\",\"polar\":{\"angularaxis\":{\"gridcolor\":\"white\",\"linecolor\":\"white\",\"ticks\":\"\"},\"bgcolor\":\"#E5ECF6\",\"radialaxis\":{\"gridcolor\":\"white\",\"linecolor\":\"white\",\"ticks\":\"\"}},\"scene\":{\"xaxis\":{\"backgroundcolor\":\"#E5ECF6\",\"gridcolor\":\"white\",\"gridwidth\":2,\"linecolor\":\"white\",\"showbackground\":true,\"ticks\":\"\",\"zerolinecolor\":\"white\"},\"yaxis\":{\"backgroundcolor\":\"#E5ECF6\",\"gridcolor\":\"white\",\"gridwidth\":2,\"linecolor\":\"white\",\"showbackground\":true,\"ticks\":\"\",\"zerolinecolor\":\"white\"},\"zaxis\":{\"backgroundcolor\":\"#E5ECF6\",\"gridcolor\":\"white\",\"gridwidth\":2,\"linecolor\":\"white\",\"showbackground\":true,\"ticks\":\"\",\"zerolinecolor\":\"white\"}},\"shapedefaults\":{\"line\":{\"color\":\"#2a3f5f\"}},\"ternary\":{\"aaxis\":{\"gridcolor\":\"white\",\"linecolor\":\"white\",\"ticks\":\"\"},\"baxis\":{\"gridcolor\":\"white\",\"linecolor\":\"white\",\"ticks\":\"\"},\"bgcolor\":\"#E5ECF6\",\"caxis\":{\"gridcolor\":\"white\",\"linecolor\":\"white\",\"ticks\":\"\"}},\"title\":{\"x\":0.05},\"xaxis\":{\"automargin\":true,\"gridcolor\":\"white\",\"linecolor\":\"white\",\"ticks\":\"\",\"title\":{\"standoff\":15},\"zerolinecolor\":\"white\",\"zerolinewidth\":2},\"yaxis\":{\"automargin\":true,\"gridcolor\":\"white\",\"linecolor\":\"white\",\"ticks\":\"\",\"title\":{\"standoff\":15},\"zerolinecolor\":\"white\",\"zerolinewidth\":2}}},\"title\":{\"font\":{\"color\":\"#4D5663\"}},\"xaxis\":{\"gridcolor\":\"#E1E5ED\",\"showgrid\":true,\"tickfont\":{\"color\":\"#4D5663\"},\"title\":{\"font\":{\"color\":\"#4D5663\"},\"text\":\"\"},\"zerolinecolor\":\"#E1E5ED\"},\"yaxis\":{\"gridcolor\":\"#E1E5ED\",\"showgrid\":true,\"tickfont\":{\"color\":\"#4D5663\"},\"title\":{\"font\":{\"color\":\"#4D5663\"},\"text\":\"\"},\"zerolinecolor\":\"#E1E5ED\"}},                        {\"showLink\": true, \"linkText\": \"Export to plot.ly\", \"plotlyServerURL\": \"https://plot.ly\", \"responsive\": true}                    ).then(function(){\n",
       "                            \n",
       "var gd = document.getElementById('6bc800bc-896a-4bfe-ac71-a7861b2fa262');\n",
       "var x = new MutationObserver(function (mutations, observer) {{\n",
       "        var display = window.getComputedStyle(gd).display;\n",
       "        if (!display || display === 'none') {{\n",
       "            console.log([gd, 'removed!']);\n",
       "            Plotly.purge(gd);\n",
       "            observer.disconnect();\n",
       "        }}\n",
       "}});\n",
       "\n",
       "// Listen for the removal of the full notebook cells\n",
       "var notebookContainer = gd.closest('#notebook-container');\n",
       "if (notebookContainer) {{\n",
       "    x.observe(notebookContainer, {childList: true});\n",
       "}}\n",
       "\n",
       "// Listen for the clearing of the current output cell\n",
       "var outputEl = gd.closest('.output');\n",
       "if (outputEl) {{\n",
       "    x.observe(outputEl, {childList: true});\n",
       "}}\n",
       "\n",
       "                        })                };                });            </script>        </div>"
      ]
     },
     "metadata": {},
     "output_type": "display_data"
    }
   ],
   "source": [
    "df.iplot()"
   ]
  },
  {
   "cell_type": "code",
   "execution_count": 20,
   "id": "5f67d975",
   "metadata": {},
   "outputs": [
    {
     "data": {
      "application/vnd.plotly.v1+json": {
       "config": {
        "linkText": "Export to plot.ly",
        "plotlyServerURL": "https://plot.ly",
        "showLink": true
       },
       "data": [
        {
         "line": {
          "color": "rgba(255, 153, 51, 1.0)",
          "dash": "solid",
          "shape": "linear",
          "width": 1.3
         },
         "marker": {
          "size": 12,
          "symbol": "circle"
         },
         "mode": "markers",
         "name": "B",
         "text": "",
         "type": "scatter",
         "x": [
          0.7619660073950553,
          0.3831993421094785,
          0.5269321193818782,
          0.8275492317391815,
          0.8892593486573043,
          0.3193034931601627,
          0.28895444431277995,
          0.7404201733798286,
          0.12262001182879045,
          0.4493067356839209,
          0.03268762124032354,
          0.5934371670171862,
          0.00775924351526569,
          0.7455915765369152,
          0.4502326921792916,
          0.3916702955561916,
          0.9499649212210532,
          0.40318591556191474,
          0.40430371134501164,
          0.9295708927415494,
          0.26401447744374207,
          0.04511005253584999,
          0.19567228276849713,
          0.6461452322972179,
          0.4150268649397657,
          0.725922808467533,
          0.24440128975011677,
          0.23705121473054847,
          0.3908586565883515,
          0.06321951994661645,
          0.49750978787243083,
          0.21896559130674031,
          0.15366305526772783,
          0.006900916720903871,
          0.8125625292473938,
          0.4572756047229609,
          0.6709495356717864,
          0.04816046679203534,
          0.18762944263268255,
          0.7481366533880054,
          0.872440559716538,
          0.6990539539189577,
          0.4008588265264157,
          0.8876162116069556,
          0.7720236084810732,
          0.7162082122874913,
          0.3407175898186231,
          0.2895501156831318,
          0.5233988313773491,
          0.13188177705744175,
          0.495784431850116,
          0.03921293920164437,
          0.36309279113436466,
          0.19260620018151076,
          0.4825063131163069,
          0.18293023655992846,
          0.5081102519643054,
          0.40834269081324326,
          0.7858579803904728,
          0.11075045416252305,
          0.2285418382143266,
          0.9619504700480105,
          0.1365265519797081,
          0.8078347791029732,
          0.487743654722274,
          0.25177027627988124,
          0.3967257162703608,
          0.505524977282712,
          0.3661074008725529,
          0.418861514694419,
          0.17626473882139104,
          0.6919317185694058,
          0.5439240513207385,
          0.4481649951924652,
          0.9132768312770118,
          0.921791909753098,
          0.642844443031545,
          0.5041098343996006,
          0.8661579762231469,
          0.06146029125465091,
          0.15800663822843508,
          0.051203138710208984,
          0.8073206502672432,
          0.9910959951669714,
          0.876589487571141,
          0.852813647221526,
          0.16759692366974466,
          0.8265931069909461,
          0.5561296050596473,
          0.22508091373253858,
          0.6401703261599638,
          0.30919582237103205,
          0.5431169736376333,
          0.7910246102390857,
          0.9237791277470113,
          0.07302968408134924,
          0.15201917738506276,
          0.983133553271018,
          0.19306177479954023,
          0.9917275316090092
         ],
         "y": [
          0.7339598796376222,
          0.7501383104927066,
          0.13016208547293562,
          0.11200978376406934,
          0.22651980826246132,
          0.8264590269508255,
          0.22443867141770923,
          0.2352718033072454,
          0.0024846188504629163,
          0.5798802072866126,
          0.5738649740520214,
          0.4301924070105716,
          0.4876251960610537,
          0.2734464900525172,
          0.760568718474913,
          0.6260385346813047,
          0.029084943492812654,
          0.06253555693990653,
          0.6655768154121865,
          0.09049834922935474,
          0.1731333166262019,
          0.6743798741502727,
          0.6500480317357354,
          0.0783011719345924,
          0.5102317647824509,
          0.46150314370866274,
          0.9570694786916037,
          0.8980794966280198,
          0.985392952250985,
          0.8010104762612996,
          0.1359532149661019,
          0.6982104352811658,
          0.9496239355793838,
          0.6289856730494802,
          0.3343850596961273,
          0.4705462267632926,
          0.5358113248142444,
          0.54994988375767,
          0.10619750125105731,
          0.34053025900176015,
          0.512725288760018,
          0.4047347225539547,
          0.19781959875146227,
          0.8067271659399001,
          0.09196611713559333,
          0.3774904205271683,
          0.0674248309139931,
          0.2750998557215809,
          0.7272520586012536,
          0.6627921337777752,
          0.21547850679365865,
          0.46105159730223977,
          0.3948132978906208,
          0.42178085249769126,
          0.4081734031335238,
          0.09945735841702441,
          0.22771194746019074,
          0.8434444345959553,
          0.6946148523209147,
          0.9023596842312003,
          0.4638505188507209,
          0.6281799224310242,
          0.5805488757691596,
          0.0012414559796589675,
          0.8798845815250357,
          0.11438268742010627,
          0.809028744336986,
          0.13030019355695355,
          0.35080744290592747,
          0.8842954224667885,
          0.6691565542958794,
          0.3896463917450411,
          0.4366991083682191,
          0.552245182285504,
          0.3257393992187827,
          0.5905741655913366,
          0.016704330974247616,
          0.49588116502078383,
          0.26474578645560176,
          0.2751859402483783,
          0.7614822740631733,
          0.6645083201236293,
          0.6855306971352015,
          0.21544745676820143,
          0.07117996063176835,
          0.114639783637555,
          0.050123194144784944,
          0.2904254227759736,
          0.34776127684022573,
          0.7344999685663639,
          0.25288744823039233,
          0.5970658246487074,
          0.5006956562340436,
          0.6027237230222172,
          0.23026493515505964,
          0.4362682166721016,
          0.487018856912538,
          0.8615638279257543,
          0.32508203394432833,
          0.09546869675423375
         ]
        }
       ],
       "layout": {
        "legend": {
         "bgcolor": "#F5F6F9",
         "font": {
          "color": "#4D5663"
         }
        },
        "paper_bgcolor": "#F5F6F9",
        "plot_bgcolor": "#F5F6F9",
        "template": {
         "data": {
          "bar": [
           {
            "error_x": {
             "color": "#2a3f5f"
            },
            "error_y": {
             "color": "#2a3f5f"
            },
            "marker": {
             "line": {
              "color": "#E5ECF6",
              "width": 0.5
             },
             "pattern": {
              "fillmode": "overlay",
              "size": 10,
              "solidity": 0.2
             }
            },
            "type": "bar"
           }
          ],
          "barpolar": [
           {
            "marker": {
             "line": {
              "color": "#E5ECF6",
              "width": 0.5
             },
             "pattern": {
              "fillmode": "overlay",
              "size": 10,
              "solidity": 0.2
             }
            },
            "type": "barpolar"
           }
          ],
          "carpet": [
           {
            "aaxis": {
             "endlinecolor": "#2a3f5f",
             "gridcolor": "white",
             "linecolor": "white",
             "minorgridcolor": "white",
             "startlinecolor": "#2a3f5f"
            },
            "baxis": {
             "endlinecolor": "#2a3f5f",
             "gridcolor": "white",
             "linecolor": "white",
             "minorgridcolor": "white",
             "startlinecolor": "#2a3f5f"
            },
            "type": "carpet"
           }
          ],
          "choropleth": [
           {
            "colorbar": {
             "outlinewidth": 0,
             "ticks": ""
            },
            "type": "choropleth"
           }
          ],
          "contour": [
           {
            "colorbar": {
             "outlinewidth": 0,
             "ticks": ""
            },
            "colorscale": [
             [
              0,
              "#0d0887"
             ],
             [
              0.1111111111111111,
              "#46039f"
             ],
             [
              0.2222222222222222,
              "#7201a8"
             ],
             [
              0.3333333333333333,
              "#9c179e"
             ],
             [
              0.4444444444444444,
              "#bd3786"
             ],
             [
              0.5555555555555556,
              "#d8576b"
             ],
             [
              0.6666666666666666,
              "#ed7953"
             ],
             [
              0.7777777777777778,
              "#fb9f3a"
             ],
             [
              0.8888888888888888,
              "#fdca26"
             ],
             [
              1,
              "#f0f921"
             ]
            ],
            "type": "contour"
           }
          ],
          "contourcarpet": [
           {
            "colorbar": {
             "outlinewidth": 0,
             "ticks": ""
            },
            "type": "contourcarpet"
           }
          ],
          "heatmap": [
           {
            "colorbar": {
             "outlinewidth": 0,
             "ticks": ""
            },
            "colorscale": [
             [
              0,
              "#0d0887"
             ],
             [
              0.1111111111111111,
              "#46039f"
             ],
             [
              0.2222222222222222,
              "#7201a8"
             ],
             [
              0.3333333333333333,
              "#9c179e"
             ],
             [
              0.4444444444444444,
              "#bd3786"
             ],
             [
              0.5555555555555556,
              "#d8576b"
             ],
             [
              0.6666666666666666,
              "#ed7953"
             ],
             [
              0.7777777777777778,
              "#fb9f3a"
             ],
             [
              0.8888888888888888,
              "#fdca26"
             ],
             [
              1,
              "#f0f921"
             ]
            ],
            "type": "heatmap"
           }
          ],
          "heatmapgl": [
           {
            "colorbar": {
             "outlinewidth": 0,
             "ticks": ""
            },
            "colorscale": [
             [
              0,
              "#0d0887"
             ],
             [
              0.1111111111111111,
              "#46039f"
             ],
             [
              0.2222222222222222,
              "#7201a8"
             ],
             [
              0.3333333333333333,
              "#9c179e"
             ],
             [
              0.4444444444444444,
              "#bd3786"
             ],
             [
              0.5555555555555556,
              "#d8576b"
             ],
             [
              0.6666666666666666,
              "#ed7953"
             ],
             [
              0.7777777777777778,
              "#fb9f3a"
             ],
             [
              0.8888888888888888,
              "#fdca26"
             ],
             [
              1,
              "#f0f921"
             ]
            ],
            "type": "heatmapgl"
           }
          ],
          "histogram": [
           {
            "marker": {
             "pattern": {
              "fillmode": "overlay",
              "size": 10,
              "solidity": 0.2
             }
            },
            "type": "histogram"
           }
          ],
          "histogram2d": [
           {
            "colorbar": {
             "outlinewidth": 0,
             "ticks": ""
            },
            "colorscale": [
             [
              0,
              "#0d0887"
             ],
             [
              0.1111111111111111,
              "#46039f"
             ],
             [
              0.2222222222222222,
              "#7201a8"
             ],
             [
              0.3333333333333333,
              "#9c179e"
             ],
             [
              0.4444444444444444,
              "#bd3786"
             ],
             [
              0.5555555555555556,
              "#d8576b"
             ],
             [
              0.6666666666666666,
              "#ed7953"
             ],
             [
              0.7777777777777778,
              "#fb9f3a"
             ],
             [
              0.8888888888888888,
              "#fdca26"
             ],
             [
              1,
              "#f0f921"
             ]
            ],
            "type": "histogram2d"
           }
          ],
          "histogram2dcontour": [
           {
            "colorbar": {
             "outlinewidth": 0,
             "ticks": ""
            },
            "colorscale": [
             [
              0,
              "#0d0887"
             ],
             [
              0.1111111111111111,
              "#46039f"
             ],
             [
              0.2222222222222222,
              "#7201a8"
             ],
             [
              0.3333333333333333,
              "#9c179e"
             ],
             [
              0.4444444444444444,
              "#bd3786"
             ],
             [
              0.5555555555555556,
              "#d8576b"
             ],
             [
              0.6666666666666666,
              "#ed7953"
             ],
             [
              0.7777777777777778,
              "#fb9f3a"
             ],
             [
              0.8888888888888888,
              "#fdca26"
             ],
             [
              1,
              "#f0f921"
             ]
            ],
            "type": "histogram2dcontour"
           }
          ],
          "mesh3d": [
           {
            "colorbar": {
             "outlinewidth": 0,
             "ticks": ""
            },
            "type": "mesh3d"
           }
          ],
          "parcoords": [
           {
            "line": {
             "colorbar": {
              "outlinewidth": 0,
              "ticks": ""
             }
            },
            "type": "parcoords"
           }
          ],
          "pie": [
           {
            "automargin": true,
            "type": "pie"
           }
          ],
          "scatter": [
           {
            "marker": {
             "colorbar": {
              "outlinewidth": 0,
              "ticks": ""
             }
            },
            "type": "scatter"
           }
          ],
          "scatter3d": [
           {
            "line": {
             "colorbar": {
              "outlinewidth": 0,
              "ticks": ""
             }
            },
            "marker": {
             "colorbar": {
              "outlinewidth": 0,
              "ticks": ""
             }
            },
            "type": "scatter3d"
           }
          ],
          "scattercarpet": [
           {
            "marker": {
             "colorbar": {
              "outlinewidth": 0,
              "ticks": ""
             }
            },
            "type": "scattercarpet"
           }
          ],
          "scattergeo": [
           {
            "marker": {
             "colorbar": {
              "outlinewidth": 0,
              "ticks": ""
             }
            },
            "type": "scattergeo"
           }
          ],
          "scattergl": [
           {
            "marker": {
             "colorbar": {
              "outlinewidth": 0,
              "ticks": ""
             }
            },
            "type": "scattergl"
           }
          ],
          "scattermapbox": [
           {
            "marker": {
             "colorbar": {
              "outlinewidth": 0,
              "ticks": ""
             }
            },
            "type": "scattermapbox"
           }
          ],
          "scatterpolar": [
           {
            "marker": {
             "colorbar": {
              "outlinewidth": 0,
              "ticks": ""
             }
            },
            "type": "scatterpolar"
           }
          ],
          "scatterpolargl": [
           {
            "marker": {
             "colorbar": {
              "outlinewidth": 0,
              "ticks": ""
             }
            },
            "type": "scatterpolargl"
           }
          ],
          "scatterternary": [
           {
            "marker": {
             "colorbar": {
              "outlinewidth": 0,
              "ticks": ""
             }
            },
            "type": "scatterternary"
           }
          ],
          "surface": [
           {
            "colorbar": {
             "outlinewidth": 0,
             "ticks": ""
            },
            "colorscale": [
             [
              0,
              "#0d0887"
             ],
             [
              0.1111111111111111,
              "#46039f"
             ],
             [
              0.2222222222222222,
              "#7201a8"
             ],
             [
              0.3333333333333333,
              "#9c179e"
             ],
             [
              0.4444444444444444,
              "#bd3786"
             ],
             [
              0.5555555555555556,
              "#d8576b"
             ],
             [
              0.6666666666666666,
              "#ed7953"
             ],
             [
              0.7777777777777778,
              "#fb9f3a"
             ],
             [
              0.8888888888888888,
              "#fdca26"
             ],
             [
              1,
              "#f0f921"
             ]
            ],
            "type": "surface"
           }
          ],
          "table": [
           {
            "cells": {
             "fill": {
              "color": "#EBF0F8"
             },
             "line": {
              "color": "white"
             }
            },
            "header": {
             "fill": {
              "color": "#C8D4E3"
             },
             "line": {
              "color": "white"
             }
            },
            "type": "table"
           }
          ]
         },
         "layout": {
          "annotationdefaults": {
           "arrowcolor": "#2a3f5f",
           "arrowhead": 0,
           "arrowwidth": 1
          },
          "autotypenumbers": "strict",
          "coloraxis": {
           "colorbar": {
            "outlinewidth": 0,
            "ticks": ""
           }
          },
          "colorscale": {
           "diverging": [
            [
             0,
             "#8e0152"
            ],
            [
             0.1,
             "#c51b7d"
            ],
            [
             0.2,
             "#de77ae"
            ],
            [
             0.3,
             "#f1b6da"
            ],
            [
             0.4,
             "#fde0ef"
            ],
            [
             0.5,
             "#f7f7f7"
            ],
            [
             0.6,
             "#e6f5d0"
            ],
            [
             0.7,
             "#b8e186"
            ],
            [
             0.8,
             "#7fbc41"
            ],
            [
             0.9,
             "#4d9221"
            ],
            [
             1,
             "#276419"
            ]
           ],
           "sequential": [
            [
             0,
             "#0d0887"
            ],
            [
             0.1111111111111111,
             "#46039f"
            ],
            [
             0.2222222222222222,
             "#7201a8"
            ],
            [
             0.3333333333333333,
             "#9c179e"
            ],
            [
             0.4444444444444444,
             "#bd3786"
            ],
            [
             0.5555555555555556,
             "#d8576b"
            ],
            [
             0.6666666666666666,
             "#ed7953"
            ],
            [
             0.7777777777777778,
             "#fb9f3a"
            ],
            [
             0.8888888888888888,
             "#fdca26"
            ],
            [
             1,
             "#f0f921"
            ]
           ],
           "sequentialminus": [
            [
             0,
             "#0d0887"
            ],
            [
             0.1111111111111111,
             "#46039f"
            ],
            [
             0.2222222222222222,
             "#7201a8"
            ],
            [
             0.3333333333333333,
             "#9c179e"
            ],
            [
             0.4444444444444444,
             "#bd3786"
            ],
            [
             0.5555555555555556,
             "#d8576b"
            ],
            [
             0.6666666666666666,
             "#ed7953"
            ],
            [
             0.7777777777777778,
             "#fb9f3a"
            ],
            [
             0.8888888888888888,
             "#fdca26"
            ],
            [
             1,
             "#f0f921"
            ]
           ]
          },
          "colorway": [
           "#636efa",
           "#EF553B",
           "#00cc96",
           "#ab63fa",
           "#FFA15A",
           "#19d3f3",
           "#FF6692",
           "#B6E880",
           "#FF97FF",
           "#FECB52"
          ],
          "font": {
           "color": "#2a3f5f"
          },
          "geo": {
           "bgcolor": "white",
           "lakecolor": "white",
           "landcolor": "#E5ECF6",
           "showlakes": true,
           "showland": true,
           "subunitcolor": "white"
          },
          "hoverlabel": {
           "align": "left"
          },
          "hovermode": "closest",
          "mapbox": {
           "style": "light"
          },
          "paper_bgcolor": "white",
          "plot_bgcolor": "#E5ECF6",
          "polar": {
           "angularaxis": {
            "gridcolor": "white",
            "linecolor": "white",
            "ticks": ""
           },
           "bgcolor": "#E5ECF6",
           "radialaxis": {
            "gridcolor": "white",
            "linecolor": "white",
            "ticks": ""
           }
          },
          "scene": {
           "xaxis": {
            "backgroundcolor": "#E5ECF6",
            "gridcolor": "white",
            "gridwidth": 2,
            "linecolor": "white",
            "showbackground": true,
            "ticks": "",
            "zerolinecolor": "white"
           },
           "yaxis": {
            "backgroundcolor": "#E5ECF6",
            "gridcolor": "white",
            "gridwidth": 2,
            "linecolor": "white",
            "showbackground": true,
            "ticks": "",
            "zerolinecolor": "white"
           },
           "zaxis": {
            "backgroundcolor": "#E5ECF6",
            "gridcolor": "white",
            "gridwidth": 2,
            "linecolor": "white",
            "showbackground": true,
            "ticks": "",
            "zerolinecolor": "white"
           }
          },
          "shapedefaults": {
           "line": {
            "color": "#2a3f5f"
           }
          },
          "ternary": {
           "aaxis": {
            "gridcolor": "white",
            "linecolor": "white",
            "ticks": ""
           },
           "baxis": {
            "gridcolor": "white",
            "linecolor": "white",
            "ticks": ""
           },
           "bgcolor": "#E5ECF6",
           "caxis": {
            "gridcolor": "white",
            "linecolor": "white",
            "ticks": ""
           }
          },
          "title": {
           "x": 0.05
          },
          "xaxis": {
           "automargin": true,
           "gridcolor": "white",
           "linecolor": "white",
           "ticks": "",
           "title": {
            "standoff": 15
           },
           "zerolinecolor": "white",
           "zerolinewidth": 2
          },
          "yaxis": {
           "automargin": true,
           "gridcolor": "white",
           "linecolor": "white",
           "ticks": "",
           "title": {
            "standoff": 15
           },
           "zerolinecolor": "white",
           "zerolinewidth": 2
          }
         }
        },
        "title": {
         "font": {
          "color": "#4D5663"
         }
        },
        "xaxis": {
         "gridcolor": "#E1E5ED",
         "showgrid": true,
         "tickfont": {
          "color": "#4D5663"
         },
         "title": {
          "font": {
           "color": "#4D5663"
          },
          "text": ""
         },
         "zerolinecolor": "#E1E5ED"
        },
        "yaxis": {
         "gridcolor": "#E1E5ED",
         "showgrid": true,
         "tickfont": {
          "color": "#4D5663"
         },
         "title": {
          "font": {
           "color": "#4D5663"
          },
          "text": ""
         },
         "zerolinecolor": "#E1E5ED"
        }
       }
      },
      "text/html": [
       "<div>                            <div id=\"89f87e1a-35c7-4971-a812-04aa3c31235a\" class=\"plotly-graph-div\" style=\"height:525px; width:100%;\"></div>            <script type=\"text/javascript\">                require([\"plotly\"], function(Plotly) {                    window.PLOTLYENV=window.PLOTLYENV || {};\n",
       "                    window.PLOTLYENV.BASE_URL='https://plot.ly';                                    if (document.getElementById(\"89f87e1a-35c7-4971-a812-04aa3c31235a\")) {                    Plotly.newPlot(                        \"89f87e1a-35c7-4971-a812-04aa3c31235a\",                        [{\"line\":{\"color\":\"rgba(255, 153, 51, 1.0)\",\"dash\":\"solid\",\"shape\":\"linear\",\"width\":1.3},\"marker\":{\"size\":12,\"symbol\":\"circle\"},\"mode\":\"markers\",\"name\":\"B\",\"text\":\"\",\"x\":[0.7619660073950553,0.3831993421094785,0.5269321193818782,0.8275492317391815,0.8892593486573043,0.3193034931601627,0.28895444431277995,0.7404201733798286,0.12262001182879045,0.4493067356839209,0.03268762124032354,0.5934371670171862,0.00775924351526569,0.7455915765369152,0.4502326921792916,0.3916702955561916,0.9499649212210532,0.40318591556191474,0.40430371134501164,0.9295708927415494,0.26401447744374207,0.04511005253584999,0.19567228276849713,0.6461452322972179,0.4150268649397657,0.725922808467533,0.24440128975011677,0.23705121473054847,0.3908586565883515,0.06321951994661645,0.49750978787243083,0.21896559130674031,0.15366305526772783,0.006900916720903871,0.8125625292473938,0.4572756047229609,0.6709495356717864,0.04816046679203534,0.18762944263268255,0.7481366533880054,0.872440559716538,0.6990539539189577,0.4008588265264157,0.8876162116069556,0.7720236084810732,0.7162082122874913,0.3407175898186231,0.2895501156831318,0.5233988313773491,0.13188177705744175,0.495784431850116,0.03921293920164437,0.36309279113436466,0.19260620018151076,0.4825063131163069,0.18293023655992846,0.5081102519643054,0.40834269081324326,0.7858579803904728,0.11075045416252305,0.2285418382143266,0.9619504700480105,0.1365265519797081,0.8078347791029732,0.487743654722274,0.25177027627988124,0.3967257162703608,0.505524977282712,0.3661074008725529,0.418861514694419,0.17626473882139104,0.6919317185694058,0.5439240513207385,0.4481649951924652,0.9132768312770118,0.921791909753098,0.642844443031545,0.5041098343996006,0.8661579762231469,0.06146029125465091,0.15800663822843508,0.051203138710208984,0.8073206502672432,0.9910959951669714,0.876589487571141,0.852813647221526,0.16759692366974466,0.8265931069909461,0.5561296050596473,0.22508091373253858,0.6401703261599638,0.30919582237103205,0.5431169736376333,0.7910246102390857,0.9237791277470113,0.07302968408134924,0.15201917738506276,0.983133553271018,0.19306177479954023,0.9917275316090092],\"y\":[0.7339598796376222,0.7501383104927066,0.13016208547293562,0.11200978376406934,0.22651980826246132,0.8264590269508255,0.22443867141770923,0.2352718033072454,0.0024846188504629163,0.5798802072866126,0.5738649740520214,0.4301924070105716,0.4876251960610537,0.2734464900525172,0.760568718474913,0.6260385346813047,0.029084943492812654,0.06253555693990653,0.6655768154121865,0.09049834922935474,0.1731333166262019,0.6743798741502727,0.6500480317357354,0.0783011719345924,0.5102317647824509,0.46150314370866274,0.9570694786916037,0.8980794966280198,0.985392952250985,0.8010104762612996,0.1359532149661019,0.6982104352811658,0.9496239355793838,0.6289856730494802,0.3343850596961273,0.4705462267632926,0.5358113248142444,0.54994988375767,0.10619750125105731,0.34053025900176015,0.512725288760018,0.4047347225539547,0.19781959875146227,0.8067271659399001,0.09196611713559333,0.3774904205271683,0.0674248309139931,0.2750998557215809,0.7272520586012536,0.6627921337777752,0.21547850679365865,0.46105159730223977,0.3948132978906208,0.42178085249769126,0.4081734031335238,0.09945735841702441,0.22771194746019074,0.8434444345959553,0.6946148523209147,0.9023596842312003,0.4638505188507209,0.6281799224310242,0.5805488757691596,0.0012414559796589675,0.8798845815250357,0.11438268742010627,0.809028744336986,0.13030019355695355,0.35080744290592747,0.8842954224667885,0.6691565542958794,0.3896463917450411,0.4366991083682191,0.552245182285504,0.3257393992187827,0.5905741655913366,0.016704330974247616,0.49588116502078383,0.26474578645560176,0.2751859402483783,0.7614822740631733,0.6645083201236293,0.6855306971352015,0.21544745676820143,0.07117996063176835,0.114639783637555,0.050123194144784944,0.2904254227759736,0.34776127684022573,0.7344999685663639,0.25288744823039233,0.5970658246487074,0.5006956562340436,0.6027237230222172,0.23026493515505964,0.4362682166721016,0.487018856912538,0.8615638279257543,0.32508203394432833,0.09546869675423375],\"type\":\"scatter\"}],                        {\"legend\":{\"bgcolor\":\"#F5F6F9\",\"font\":{\"color\":\"#4D5663\"}},\"paper_bgcolor\":\"#F5F6F9\",\"plot_bgcolor\":\"#F5F6F9\",\"template\":{\"data\":{\"barpolar\":[{\"marker\":{\"line\":{\"color\":\"#E5ECF6\",\"width\":0.5},\"pattern\":{\"fillmode\":\"overlay\",\"size\":10,\"solidity\":0.2}},\"type\":\"barpolar\"}],\"bar\":[{\"error_x\":{\"color\":\"#2a3f5f\"},\"error_y\":{\"color\":\"#2a3f5f\"},\"marker\":{\"line\":{\"color\":\"#E5ECF6\",\"width\":0.5},\"pattern\":{\"fillmode\":\"overlay\",\"size\":10,\"solidity\":0.2}},\"type\":\"bar\"}],\"carpet\":[{\"aaxis\":{\"endlinecolor\":\"#2a3f5f\",\"gridcolor\":\"white\",\"linecolor\":\"white\",\"minorgridcolor\":\"white\",\"startlinecolor\":\"#2a3f5f\"},\"baxis\":{\"endlinecolor\":\"#2a3f5f\",\"gridcolor\":\"white\",\"linecolor\":\"white\",\"minorgridcolor\":\"white\",\"startlinecolor\":\"#2a3f5f\"},\"type\":\"carpet\"}],\"choropleth\":[{\"colorbar\":{\"outlinewidth\":0,\"ticks\":\"\"},\"type\":\"choropleth\"}],\"contourcarpet\":[{\"colorbar\":{\"outlinewidth\":0,\"ticks\":\"\"},\"type\":\"contourcarpet\"}],\"contour\":[{\"colorbar\":{\"outlinewidth\":0,\"ticks\":\"\"},\"colorscale\":[[0.0,\"#0d0887\"],[0.1111111111111111,\"#46039f\"],[0.2222222222222222,\"#7201a8\"],[0.3333333333333333,\"#9c179e\"],[0.4444444444444444,\"#bd3786\"],[0.5555555555555556,\"#d8576b\"],[0.6666666666666666,\"#ed7953\"],[0.7777777777777778,\"#fb9f3a\"],[0.8888888888888888,\"#fdca26\"],[1.0,\"#f0f921\"]],\"type\":\"contour\"}],\"heatmapgl\":[{\"colorbar\":{\"outlinewidth\":0,\"ticks\":\"\"},\"colorscale\":[[0.0,\"#0d0887\"],[0.1111111111111111,\"#46039f\"],[0.2222222222222222,\"#7201a8\"],[0.3333333333333333,\"#9c179e\"],[0.4444444444444444,\"#bd3786\"],[0.5555555555555556,\"#d8576b\"],[0.6666666666666666,\"#ed7953\"],[0.7777777777777778,\"#fb9f3a\"],[0.8888888888888888,\"#fdca26\"],[1.0,\"#f0f921\"]],\"type\":\"heatmapgl\"}],\"heatmap\":[{\"colorbar\":{\"outlinewidth\":0,\"ticks\":\"\"},\"colorscale\":[[0.0,\"#0d0887\"],[0.1111111111111111,\"#46039f\"],[0.2222222222222222,\"#7201a8\"],[0.3333333333333333,\"#9c179e\"],[0.4444444444444444,\"#bd3786\"],[0.5555555555555556,\"#d8576b\"],[0.6666666666666666,\"#ed7953\"],[0.7777777777777778,\"#fb9f3a\"],[0.8888888888888888,\"#fdca26\"],[1.0,\"#f0f921\"]],\"type\":\"heatmap\"}],\"histogram2dcontour\":[{\"colorbar\":{\"outlinewidth\":0,\"ticks\":\"\"},\"colorscale\":[[0.0,\"#0d0887\"],[0.1111111111111111,\"#46039f\"],[0.2222222222222222,\"#7201a8\"],[0.3333333333333333,\"#9c179e\"],[0.4444444444444444,\"#bd3786\"],[0.5555555555555556,\"#d8576b\"],[0.6666666666666666,\"#ed7953\"],[0.7777777777777778,\"#fb9f3a\"],[0.8888888888888888,\"#fdca26\"],[1.0,\"#f0f921\"]],\"type\":\"histogram2dcontour\"}],\"histogram2d\":[{\"colorbar\":{\"outlinewidth\":0,\"ticks\":\"\"},\"colorscale\":[[0.0,\"#0d0887\"],[0.1111111111111111,\"#46039f\"],[0.2222222222222222,\"#7201a8\"],[0.3333333333333333,\"#9c179e\"],[0.4444444444444444,\"#bd3786\"],[0.5555555555555556,\"#d8576b\"],[0.6666666666666666,\"#ed7953\"],[0.7777777777777778,\"#fb9f3a\"],[0.8888888888888888,\"#fdca26\"],[1.0,\"#f0f921\"]],\"type\":\"histogram2d\"}],\"histogram\":[{\"marker\":{\"pattern\":{\"fillmode\":\"overlay\",\"size\":10,\"solidity\":0.2}},\"type\":\"histogram\"}],\"mesh3d\":[{\"colorbar\":{\"outlinewidth\":0,\"ticks\":\"\"},\"type\":\"mesh3d\"}],\"parcoords\":[{\"line\":{\"colorbar\":{\"outlinewidth\":0,\"ticks\":\"\"}},\"type\":\"parcoords\"}],\"pie\":[{\"automargin\":true,\"type\":\"pie\"}],\"scatter3d\":[{\"line\":{\"colorbar\":{\"outlinewidth\":0,\"ticks\":\"\"}},\"marker\":{\"colorbar\":{\"outlinewidth\":0,\"ticks\":\"\"}},\"type\":\"scatter3d\"}],\"scattercarpet\":[{\"marker\":{\"colorbar\":{\"outlinewidth\":0,\"ticks\":\"\"}},\"type\":\"scattercarpet\"}],\"scattergeo\":[{\"marker\":{\"colorbar\":{\"outlinewidth\":0,\"ticks\":\"\"}},\"type\":\"scattergeo\"}],\"scattergl\":[{\"marker\":{\"colorbar\":{\"outlinewidth\":0,\"ticks\":\"\"}},\"type\":\"scattergl\"}],\"scattermapbox\":[{\"marker\":{\"colorbar\":{\"outlinewidth\":0,\"ticks\":\"\"}},\"type\":\"scattermapbox\"}],\"scatterpolargl\":[{\"marker\":{\"colorbar\":{\"outlinewidth\":0,\"ticks\":\"\"}},\"type\":\"scatterpolargl\"}],\"scatterpolar\":[{\"marker\":{\"colorbar\":{\"outlinewidth\":0,\"ticks\":\"\"}},\"type\":\"scatterpolar\"}],\"scatter\":[{\"marker\":{\"colorbar\":{\"outlinewidth\":0,\"ticks\":\"\"}},\"type\":\"scatter\"}],\"scatterternary\":[{\"marker\":{\"colorbar\":{\"outlinewidth\":0,\"ticks\":\"\"}},\"type\":\"scatterternary\"}],\"surface\":[{\"colorbar\":{\"outlinewidth\":0,\"ticks\":\"\"},\"colorscale\":[[0.0,\"#0d0887\"],[0.1111111111111111,\"#46039f\"],[0.2222222222222222,\"#7201a8\"],[0.3333333333333333,\"#9c179e\"],[0.4444444444444444,\"#bd3786\"],[0.5555555555555556,\"#d8576b\"],[0.6666666666666666,\"#ed7953\"],[0.7777777777777778,\"#fb9f3a\"],[0.8888888888888888,\"#fdca26\"],[1.0,\"#f0f921\"]],\"type\":\"surface\"}],\"table\":[{\"cells\":{\"fill\":{\"color\":\"#EBF0F8\"},\"line\":{\"color\":\"white\"}},\"header\":{\"fill\":{\"color\":\"#C8D4E3\"},\"line\":{\"color\":\"white\"}},\"type\":\"table\"}]},\"layout\":{\"annotationdefaults\":{\"arrowcolor\":\"#2a3f5f\",\"arrowhead\":0,\"arrowwidth\":1},\"autotypenumbers\":\"strict\",\"coloraxis\":{\"colorbar\":{\"outlinewidth\":0,\"ticks\":\"\"}},\"colorscale\":{\"diverging\":[[0,\"#8e0152\"],[0.1,\"#c51b7d\"],[0.2,\"#de77ae\"],[0.3,\"#f1b6da\"],[0.4,\"#fde0ef\"],[0.5,\"#f7f7f7\"],[0.6,\"#e6f5d0\"],[0.7,\"#b8e186\"],[0.8,\"#7fbc41\"],[0.9,\"#4d9221\"],[1,\"#276419\"]],\"sequential\":[[0.0,\"#0d0887\"],[0.1111111111111111,\"#46039f\"],[0.2222222222222222,\"#7201a8\"],[0.3333333333333333,\"#9c179e\"],[0.4444444444444444,\"#bd3786\"],[0.5555555555555556,\"#d8576b\"],[0.6666666666666666,\"#ed7953\"],[0.7777777777777778,\"#fb9f3a\"],[0.8888888888888888,\"#fdca26\"],[1.0,\"#f0f921\"]],\"sequentialminus\":[[0.0,\"#0d0887\"],[0.1111111111111111,\"#46039f\"],[0.2222222222222222,\"#7201a8\"],[0.3333333333333333,\"#9c179e\"],[0.4444444444444444,\"#bd3786\"],[0.5555555555555556,\"#d8576b\"],[0.6666666666666666,\"#ed7953\"],[0.7777777777777778,\"#fb9f3a\"],[0.8888888888888888,\"#fdca26\"],[1.0,\"#f0f921\"]]},\"colorway\":[\"#636efa\",\"#EF553B\",\"#00cc96\",\"#ab63fa\",\"#FFA15A\",\"#19d3f3\",\"#FF6692\",\"#B6E880\",\"#FF97FF\",\"#FECB52\"],\"font\":{\"color\":\"#2a3f5f\"},\"geo\":{\"bgcolor\":\"white\",\"lakecolor\":\"white\",\"landcolor\":\"#E5ECF6\",\"showlakes\":true,\"showland\":true,\"subunitcolor\":\"white\"},\"hoverlabel\":{\"align\":\"left\"},\"hovermode\":\"closest\",\"mapbox\":{\"style\":\"light\"},\"paper_bgcolor\":\"white\",\"plot_bgcolor\":\"#E5ECF6\",\"polar\":{\"angularaxis\":{\"gridcolor\":\"white\",\"linecolor\":\"white\",\"ticks\":\"\"},\"bgcolor\":\"#E5ECF6\",\"radialaxis\":{\"gridcolor\":\"white\",\"linecolor\":\"white\",\"ticks\":\"\"}},\"scene\":{\"xaxis\":{\"backgroundcolor\":\"#E5ECF6\",\"gridcolor\":\"white\",\"gridwidth\":2,\"linecolor\":\"white\",\"showbackground\":true,\"ticks\":\"\",\"zerolinecolor\":\"white\"},\"yaxis\":{\"backgroundcolor\":\"#E5ECF6\",\"gridcolor\":\"white\",\"gridwidth\":2,\"linecolor\":\"white\",\"showbackground\":true,\"ticks\":\"\",\"zerolinecolor\":\"white\"},\"zaxis\":{\"backgroundcolor\":\"#E5ECF6\",\"gridcolor\":\"white\",\"gridwidth\":2,\"linecolor\":\"white\",\"showbackground\":true,\"ticks\":\"\",\"zerolinecolor\":\"white\"}},\"shapedefaults\":{\"line\":{\"color\":\"#2a3f5f\"}},\"ternary\":{\"aaxis\":{\"gridcolor\":\"white\",\"linecolor\":\"white\",\"ticks\":\"\"},\"baxis\":{\"gridcolor\":\"white\",\"linecolor\":\"white\",\"ticks\":\"\"},\"bgcolor\":\"#E5ECF6\",\"caxis\":{\"gridcolor\":\"white\",\"linecolor\":\"white\",\"ticks\":\"\"}},\"title\":{\"x\":0.05},\"xaxis\":{\"automargin\":true,\"gridcolor\":\"white\",\"linecolor\":\"white\",\"ticks\":\"\",\"title\":{\"standoff\":15},\"zerolinecolor\":\"white\",\"zerolinewidth\":2},\"yaxis\":{\"automargin\":true,\"gridcolor\":\"white\",\"linecolor\":\"white\",\"ticks\":\"\",\"title\":{\"standoff\":15},\"zerolinecolor\":\"white\",\"zerolinewidth\":2}}},\"title\":{\"font\":{\"color\":\"#4D5663\"}},\"xaxis\":{\"gridcolor\":\"#E1E5ED\",\"showgrid\":true,\"tickfont\":{\"color\":\"#4D5663\"},\"title\":{\"font\":{\"color\":\"#4D5663\"},\"text\":\"\"},\"zerolinecolor\":\"#E1E5ED\"},\"yaxis\":{\"gridcolor\":\"#E1E5ED\",\"showgrid\":true,\"tickfont\":{\"color\":\"#4D5663\"},\"title\":{\"font\":{\"color\":\"#4D5663\"},\"text\":\"\"},\"zerolinecolor\":\"#E1E5ED\"}},                        {\"showLink\": true, \"linkText\": \"Export to plot.ly\", \"plotlyServerURL\": \"https://plot.ly\", \"responsive\": true}                    ).then(function(){\n",
       "                            \n",
       "var gd = document.getElementById('89f87e1a-35c7-4971-a812-04aa3c31235a');\n",
       "var x = new MutationObserver(function (mutations, observer) {{\n",
       "        var display = window.getComputedStyle(gd).display;\n",
       "        if (!display || display === 'none') {{\n",
       "            console.log([gd, 'removed!']);\n",
       "            Plotly.purge(gd);\n",
       "            observer.disconnect();\n",
       "        }}\n",
       "}});\n",
       "\n",
       "// Listen for the removal of the full notebook cells\n",
       "var notebookContainer = gd.closest('#notebook-container');\n",
       "if (notebookContainer) {{\n",
       "    x.observe(notebookContainer, {childList: true});\n",
       "}}\n",
       "\n",
       "// Listen for the clearing of the current output cell\n",
       "var outputEl = gd.closest('.output');\n",
       "if (outputEl) {{\n",
       "    x.observe(outputEl, {childList: true});\n",
       "}}\n",
       "\n",
       "                        })                };                });            </script>        </div>"
      ]
     },
     "metadata": {},
     "output_type": "display_data"
    }
   ],
   "source": [
    "df.iplot(kind='scatter',x='A',y='B',mode='markers')"
   ]
  },
  {
   "cell_type": "code",
   "execution_count": 27,
   "id": "949e332d",
   "metadata": {},
   "outputs": [
    {
     "data": {
      "application/vnd.plotly.v1+json": {
       "config": {
        "linkText": "Export to plot.ly",
        "plotlyServerURL": "https://plot.ly",
        "showLink": true
       },
       "data": [
        {
         "marker": {
          "color": "rgba(219, 64, 82, 0.6)",
          "line": {
           "color": "rgba(219, 64, 82, 1.0)",
           "width": 1
          }
         },
         "name": "Values",
         "orientation": "v",
         "text": "",
         "type": "bar",
         "x": [
          "A",
          "B",
          "C"
         ],
         "y": [
          32,
          43,
          50
         ]
        }
       ],
       "layout": {
        "legend": {
         "bgcolor": "#F5F6F9",
         "font": {
          "color": "#4D5663"
         }
        },
        "paper_bgcolor": "#F5F6F9",
        "plot_bgcolor": "#F5F6F9",
        "template": {
         "data": {
          "bar": [
           {
            "error_x": {
             "color": "#2a3f5f"
            },
            "error_y": {
             "color": "#2a3f5f"
            },
            "marker": {
             "line": {
              "color": "#E5ECF6",
              "width": 0.5
             },
             "pattern": {
              "fillmode": "overlay",
              "size": 10,
              "solidity": 0.2
             }
            },
            "type": "bar"
           }
          ],
          "barpolar": [
           {
            "marker": {
             "line": {
              "color": "#E5ECF6",
              "width": 0.5
             },
             "pattern": {
              "fillmode": "overlay",
              "size": 10,
              "solidity": 0.2
             }
            },
            "type": "barpolar"
           }
          ],
          "carpet": [
           {
            "aaxis": {
             "endlinecolor": "#2a3f5f",
             "gridcolor": "white",
             "linecolor": "white",
             "minorgridcolor": "white",
             "startlinecolor": "#2a3f5f"
            },
            "baxis": {
             "endlinecolor": "#2a3f5f",
             "gridcolor": "white",
             "linecolor": "white",
             "minorgridcolor": "white",
             "startlinecolor": "#2a3f5f"
            },
            "type": "carpet"
           }
          ],
          "choropleth": [
           {
            "colorbar": {
             "outlinewidth": 0,
             "ticks": ""
            },
            "type": "choropleth"
           }
          ],
          "contour": [
           {
            "colorbar": {
             "outlinewidth": 0,
             "ticks": ""
            },
            "colorscale": [
             [
              0,
              "#0d0887"
             ],
             [
              0.1111111111111111,
              "#46039f"
             ],
             [
              0.2222222222222222,
              "#7201a8"
             ],
             [
              0.3333333333333333,
              "#9c179e"
             ],
             [
              0.4444444444444444,
              "#bd3786"
             ],
             [
              0.5555555555555556,
              "#d8576b"
             ],
             [
              0.6666666666666666,
              "#ed7953"
             ],
             [
              0.7777777777777778,
              "#fb9f3a"
             ],
             [
              0.8888888888888888,
              "#fdca26"
             ],
             [
              1,
              "#f0f921"
             ]
            ],
            "type": "contour"
           }
          ],
          "contourcarpet": [
           {
            "colorbar": {
             "outlinewidth": 0,
             "ticks": ""
            },
            "type": "contourcarpet"
           }
          ],
          "heatmap": [
           {
            "colorbar": {
             "outlinewidth": 0,
             "ticks": ""
            },
            "colorscale": [
             [
              0,
              "#0d0887"
             ],
             [
              0.1111111111111111,
              "#46039f"
             ],
             [
              0.2222222222222222,
              "#7201a8"
             ],
             [
              0.3333333333333333,
              "#9c179e"
             ],
             [
              0.4444444444444444,
              "#bd3786"
             ],
             [
              0.5555555555555556,
              "#d8576b"
             ],
             [
              0.6666666666666666,
              "#ed7953"
             ],
             [
              0.7777777777777778,
              "#fb9f3a"
             ],
             [
              0.8888888888888888,
              "#fdca26"
             ],
             [
              1,
              "#f0f921"
             ]
            ],
            "type": "heatmap"
           }
          ],
          "heatmapgl": [
           {
            "colorbar": {
             "outlinewidth": 0,
             "ticks": ""
            },
            "colorscale": [
             [
              0,
              "#0d0887"
             ],
             [
              0.1111111111111111,
              "#46039f"
             ],
             [
              0.2222222222222222,
              "#7201a8"
             ],
             [
              0.3333333333333333,
              "#9c179e"
             ],
             [
              0.4444444444444444,
              "#bd3786"
             ],
             [
              0.5555555555555556,
              "#d8576b"
             ],
             [
              0.6666666666666666,
              "#ed7953"
             ],
             [
              0.7777777777777778,
              "#fb9f3a"
             ],
             [
              0.8888888888888888,
              "#fdca26"
             ],
             [
              1,
              "#f0f921"
             ]
            ],
            "type": "heatmapgl"
           }
          ],
          "histogram": [
           {
            "marker": {
             "pattern": {
              "fillmode": "overlay",
              "size": 10,
              "solidity": 0.2
             }
            },
            "type": "histogram"
           }
          ],
          "histogram2d": [
           {
            "colorbar": {
             "outlinewidth": 0,
             "ticks": ""
            },
            "colorscale": [
             [
              0,
              "#0d0887"
             ],
             [
              0.1111111111111111,
              "#46039f"
             ],
             [
              0.2222222222222222,
              "#7201a8"
             ],
             [
              0.3333333333333333,
              "#9c179e"
             ],
             [
              0.4444444444444444,
              "#bd3786"
             ],
             [
              0.5555555555555556,
              "#d8576b"
             ],
             [
              0.6666666666666666,
              "#ed7953"
             ],
             [
              0.7777777777777778,
              "#fb9f3a"
             ],
             [
              0.8888888888888888,
              "#fdca26"
             ],
             [
              1,
              "#f0f921"
             ]
            ],
            "type": "histogram2d"
           }
          ],
          "histogram2dcontour": [
           {
            "colorbar": {
             "outlinewidth": 0,
             "ticks": ""
            },
            "colorscale": [
             [
              0,
              "#0d0887"
             ],
             [
              0.1111111111111111,
              "#46039f"
             ],
             [
              0.2222222222222222,
              "#7201a8"
             ],
             [
              0.3333333333333333,
              "#9c179e"
             ],
             [
              0.4444444444444444,
              "#bd3786"
             ],
             [
              0.5555555555555556,
              "#d8576b"
             ],
             [
              0.6666666666666666,
              "#ed7953"
             ],
             [
              0.7777777777777778,
              "#fb9f3a"
             ],
             [
              0.8888888888888888,
              "#fdca26"
             ],
             [
              1,
              "#f0f921"
             ]
            ],
            "type": "histogram2dcontour"
           }
          ],
          "mesh3d": [
           {
            "colorbar": {
             "outlinewidth": 0,
             "ticks": ""
            },
            "type": "mesh3d"
           }
          ],
          "parcoords": [
           {
            "line": {
             "colorbar": {
              "outlinewidth": 0,
              "ticks": ""
             }
            },
            "type": "parcoords"
           }
          ],
          "pie": [
           {
            "automargin": true,
            "type": "pie"
           }
          ],
          "scatter": [
           {
            "marker": {
             "colorbar": {
              "outlinewidth": 0,
              "ticks": ""
             }
            },
            "type": "scatter"
           }
          ],
          "scatter3d": [
           {
            "line": {
             "colorbar": {
              "outlinewidth": 0,
              "ticks": ""
             }
            },
            "marker": {
             "colorbar": {
              "outlinewidth": 0,
              "ticks": ""
             }
            },
            "type": "scatter3d"
           }
          ],
          "scattercarpet": [
           {
            "marker": {
             "colorbar": {
              "outlinewidth": 0,
              "ticks": ""
             }
            },
            "type": "scattercarpet"
           }
          ],
          "scattergeo": [
           {
            "marker": {
             "colorbar": {
              "outlinewidth": 0,
              "ticks": ""
             }
            },
            "type": "scattergeo"
           }
          ],
          "scattergl": [
           {
            "marker": {
             "colorbar": {
              "outlinewidth": 0,
              "ticks": ""
             }
            },
            "type": "scattergl"
           }
          ],
          "scattermapbox": [
           {
            "marker": {
             "colorbar": {
              "outlinewidth": 0,
              "ticks": ""
             }
            },
            "type": "scattermapbox"
           }
          ],
          "scatterpolar": [
           {
            "marker": {
             "colorbar": {
              "outlinewidth": 0,
              "ticks": ""
             }
            },
            "type": "scatterpolar"
           }
          ],
          "scatterpolargl": [
           {
            "marker": {
             "colorbar": {
              "outlinewidth": 0,
              "ticks": ""
             }
            },
            "type": "scatterpolargl"
           }
          ],
          "scatterternary": [
           {
            "marker": {
             "colorbar": {
              "outlinewidth": 0,
              "ticks": ""
             }
            },
            "type": "scatterternary"
           }
          ],
          "surface": [
           {
            "colorbar": {
             "outlinewidth": 0,
             "ticks": ""
            },
            "colorscale": [
             [
              0,
              "#0d0887"
             ],
             [
              0.1111111111111111,
              "#46039f"
             ],
             [
              0.2222222222222222,
              "#7201a8"
             ],
             [
              0.3333333333333333,
              "#9c179e"
             ],
             [
              0.4444444444444444,
              "#bd3786"
             ],
             [
              0.5555555555555556,
              "#d8576b"
             ],
             [
              0.6666666666666666,
              "#ed7953"
             ],
             [
              0.7777777777777778,
              "#fb9f3a"
             ],
             [
              0.8888888888888888,
              "#fdca26"
             ],
             [
              1,
              "#f0f921"
             ]
            ],
            "type": "surface"
           }
          ],
          "table": [
           {
            "cells": {
             "fill": {
              "color": "#EBF0F8"
             },
             "line": {
              "color": "white"
             }
            },
            "header": {
             "fill": {
              "color": "#C8D4E3"
             },
             "line": {
              "color": "white"
             }
            },
            "type": "table"
           }
          ]
         },
         "layout": {
          "annotationdefaults": {
           "arrowcolor": "#2a3f5f",
           "arrowhead": 0,
           "arrowwidth": 1
          },
          "autotypenumbers": "strict",
          "coloraxis": {
           "colorbar": {
            "outlinewidth": 0,
            "ticks": ""
           }
          },
          "colorscale": {
           "diverging": [
            [
             0,
             "#8e0152"
            ],
            [
             0.1,
             "#c51b7d"
            ],
            [
             0.2,
             "#de77ae"
            ],
            [
             0.3,
             "#f1b6da"
            ],
            [
             0.4,
             "#fde0ef"
            ],
            [
             0.5,
             "#f7f7f7"
            ],
            [
             0.6,
             "#e6f5d0"
            ],
            [
             0.7,
             "#b8e186"
            ],
            [
             0.8,
             "#7fbc41"
            ],
            [
             0.9,
             "#4d9221"
            ],
            [
             1,
             "#276419"
            ]
           ],
           "sequential": [
            [
             0,
             "#0d0887"
            ],
            [
             0.1111111111111111,
             "#46039f"
            ],
            [
             0.2222222222222222,
             "#7201a8"
            ],
            [
             0.3333333333333333,
             "#9c179e"
            ],
            [
             0.4444444444444444,
             "#bd3786"
            ],
            [
             0.5555555555555556,
             "#d8576b"
            ],
            [
             0.6666666666666666,
             "#ed7953"
            ],
            [
             0.7777777777777778,
             "#fb9f3a"
            ],
            [
             0.8888888888888888,
             "#fdca26"
            ],
            [
             1,
             "#f0f921"
            ]
           ],
           "sequentialminus": [
            [
             0,
             "#0d0887"
            ],
            [
             0.1111111111111111,
             "#46039f"
            ],
            [
             0.2222222222222222,
             "#7201a8"
            ],
            [
             0.3333333333333333,
             "#9c179e"
            ],
            [
             0.4444444444444444,
             "#bd3786"
            ],
            [
             0.5555555555555556,
             "#d8576b"
            ],
            [
             0.6666666666666666,
             "#ed7953"
            ],
            [
             0.7777777777777778,
             "#fb9f3a"
            ],
            [
             0.8888888888888888,
             "#fdca26"
            ],
            [
             1,
             "#f0f921"
            ]
           ]
          },
          "colorway": [
           "#636efa",
           "#EF553B",
           "#00cc96",
           "#ab63fa",
           "#FFA15A",
           "#19d3f3",
           "#FF6692",
           "#B6E880",
           "#FF97FF",
           "#FECB52"
          ],
          "font": {
           "color": "#2a3f5f"
          },
          "geo": {
           "bgcolor": "white",
           "lakecolor": "white",
           "landcolor": "#E5ECF6",
           "showlakes": true,
           "showland": true,
           "subunitcolor": "white"
          },
          "hoverlabel": {
           "align": "left"
          },
          "hovermode": "closest",
          "mapbox": {
           "style": "light"
          },
          "paper_bgcolor": "white",
          "plot_bgcolor": "#E5ECF6",
          "polar": {
           "angularaxis": {
            "gridcolor": "white",
            "linecolor": "white",
            "ticks": ""
           },
           "bgcolor": "#E5ECF6",
           "radialaxis": {
            "gridcolor": "white",
            "linecolor": "white",
            "ticks": ""
           }
          },
          "scene": {
           "xaxis": {
            "backgroundcolor": "#E5ECF6",
            "gridcolor": "white",
            "gridwidth": 2,
            "linecolor": "white",
            "showbackground": true,
            "ticks": "",
            "zerolinecolor": "white"
           },
           "yaxis": {
            "backgroundcolor": "#E5ECF6",
            "gridcolor": "white",
            "gridwidth": 2,
            "linecolor": "white",
            "showbackground": true,
            "ticks": "",
            "zerolinecolor": "white"
           },
           "zaxis": {
            "backgroundcolor": "#E5ECF6",
            "gridcolor": "white",
            "gridwidth": 2,
            "linecolor": "white",
            "showbackground": true,
            "ticks": "",
            "zerolinecolor": "white"
           }
          },
          "shapedefaults": {
           "line": {
            "color": "#2a3f5f"
           }
          },
          "ternary": {
           "aaxis": {
            "gridcolor": "white",
            "linecolor": "white",
            "ticks": ""
           },
           "baxis": {
            "gridcolor": "white",
            "linecolor": "white",
            "ticks": ""
           },
           "bgcolor": "#E5ECF6",
           "caxis": {
            "gridcolor": "white",
            "linecolor": "white",
            "ticks": ""
           }
          },
          "title": {
           "x": 0.05
          },
          "xaxis": {
           "automargin": true,
           "gridcolor": "white",
           "linecolor": "white",
           "ticks": "",
           "title": {
            "standoff": 15
           },
           "zerolinecolor": "white",
           "zerolinewidth": 2
          },
          "yaxis": {
           "automargin": true,
           "gridcolor": "white",
           "linecolor": "white",
           "ticks": "",
           "title": {
            "standoff": 15
           },
           "zerolinecolor": "white",
           "zerolinewidth": 2
          }
         }
        },
        "title": {
         "font": {
          "color": "#4D5663"
         }
        },
        "xaxis": {
         "gridcolor": "#E1E5ED",
         "showgrid": true,
         "tickfont": {
          "color": "#4D5663"
         },
         "title": {
          "font": {
           "color": "#4D5663"
          },
          "text": ""
         },
         "zerolinecolor": "#E1E5ED"
        },
        "yaxis": {
         "gridcolor": "#E1E5ED",
         "showgrid": true,
         "tickfont": {
          "color": "#4D5663"
         },
         "title": {
          "font": {
           "color": "#4D5663"
          },
          "text": ""
         },
         "zerolinecolor": "#E1E5ED"
        }
       }
      },
      "text/html": [
       "<div>                            <div id=\"e901bde6-0040-4fa2-9606-80f260fca87c\" class=\"plotly-graph-div\" style=\"height:525px; width:100%;\"></div>            <script type=\"text/javascript\">                require([\"plotly\"], function(Plotly) {                    window.PLOTLYENV=window.PLOTLYENV || {};\n",
       "                    window.PLOTLYENV.BASE_URL='https://plot.ly';                                    if (document.getElementById(\"e901bde6-0040-4fa2-9606-80f260fca87c\")) {                    Plotly.newPlot(                        \"e901bde6-0040-4fa2-9606-80f260fca87c\",                        [{\"marker\":{\"color\":\"rgba(219, 64, 82, 0.6)\",\"line\":{\"color\":\"rgba(219, 64, 82, 1.0)\",\"width\":1}},\"name\":\"Values\",\"orientation\":\"v\",\"text\":\"\",\"x\":[\"A\",\"B\",\"C\"],\"y\":[32,43,50],\"type\":\"bar\"}],                        {\"legend\":{\"bgcolor\":\"#F5F6F9\",\"font\":{\"color\":\"#4D5663\"}},\"paper_bgcolor\":\"#F5F6F9\",\"plot_bgcolor\":\"#F5F6F9\",\"template\":{\"data\":{\"barpolar\":[{\"marker\":{\"line\":{\"color\":\"#E5ECF6\",\"width\":0.5},\"pattern\":{\"fillmode\":\"overlay\",\"size\":10,\"solidity\":0.2}},\"type\":\"barpolar\"}],\"bar\":[{\"error_x\":{\"color\":\"#2a3f5f\"},\"error_y\":{\"color\":\"#2a3f5f\"},\"marker\":{\"line\":{\"color\":\"#E5ECF6\",\"width\":0.5},\"pattern\":{\"fillmode\":\"overlay\",\"size\":10,\"solidity\":0.2}},\"type\":\"bar\"}],\"carpet\":[{\"aaxis\":{\"endlinecolor\":\"#2a3f5f\",\"gridcolor\":\"white\",\"linecolor\":\"white\",\"minorgridcolor\":\"white\",\"startlinecolor\":\"#2a3f5f\"},\"baxis\":{\"endlinecolor\":\"#2a3f5f\",\"gridcolor\":\"white\",\"linecolor\":\"white\",\"minorgridcolor\":\"white\",\"startlinecolor\":\"#2a3f5f\"},\"type\":\"carpet\"}],\"choropleth\":[{\"colorbar\":{\"outlinewidth\":0,\"ticks\":\"\"},\"type\":\"choropleth\"}],\"contourcarpet\":[{\"colorbar\":{\"outlinewidth\":0,\"ticks\":\"\"},\"type\":\"contourcarpet\"}],\"contour\":[{\"colorbar\":{\"outlinewidth\":0,\"ticks\":\"\"},\"colorscale\":[[0.0,\"#0d0887\"],[0.1111111111111111,\"#46039f\"],[0.2222222222222222,\"#7201a8\"],[0.3333333333333333,\"#9c179e\"],[0.4444444444444444,\"#bd3786\"],[0.5555555555555556,\"#d8576b\"],[0.6666666666666666,\"#ed7953\"],[0.7777777777777778,\"#fb9f3a\"],[0.8888888888888888,\"#fdca26\"],[1.0,\"#f0f921\"]],\"type\":\"contour\"}],\"heatmapgl\":[{\"colorbar\":{\"outlinewidth\":0,\"ticks\":\"\"},\"colorscale\":[[0.0,\"#0d0887\"],[0.1111111111111111,\"#46039f\"],[0.2222222222222222,\"#7201a8\"],[0.3333333333333333,\"#9c179e\"],[0.4444444444444444,\"#bd3786\"],[0.5555555555555556,\"#d8576b\"],[0.6666666666666666,\"#ed7953\"],[0.7777777777777778,\"#fb9f3a\"],[0.8888888888888888,\"#fdca26\"],[1.0,\"#f0f921\"]],\"type\":\"heatmapgl\"}],\"heatmap\":[{\"colorbar\":{\"outlinewidth\":0,\"ticks\":\"\"},\"colorscale\":[[0.0,\"#0d0887\"],[0.1111111111111111,\"#46039f\"],[0.2222222222222222,\"#7201a8\"],[0.3333333333333333,\"#9c179e\"],[0.4444444444444444,\"#bd3786\"],[0.5555555555555556,\"#d8576b\"],[0.6666666666666666,\"#ed7953\"],[0.7777777777777778,\"#fb9f3a\"],[0.8888888888888888,\"#fdca26\"],[1.0,\"#f0f921\"]],\"type\":\"heatmap\"}],\"histogram2dcontour\":[{\"colorbar\":{\"outlinewidth\":0,\"ticks\":\"\"},\"colorscale\":[[0.0,\"#0d0887\"],[0.1111111111111111,\"#46039f\"],[0.2222222222222222,\"#7201a8\"],[0.3333333333333333,\"#9c179e\"],[0.4444444444444444,\"#bd3786\"],[0.5555555555555556,\"#d8576b\"],[0.6666666666666666,\"#ed7953\"],[0.7777777777777778,\"#fb9f3a\"],[0.8888888888888888,\"#fdca26\"],[1.0,\"#f0f921\"]],\"type\":\"histogram2dcontour\"}],\"histogram2d\":[{\"colorbar\":{\"outlinewidth\":0,\"ticks\":\"\"},\"colorscale\":[[0.0,\"#0d0887\"],[0.1111111111111111,\"#46039f\"],[0.2222222222222222,\"#7201a8\"],[0.3333333333333333,\"#9c179e\"],[0.4444444444444444,\"#bd3786\"],[0.5555555555555556,\"#d8576b\"],[0.6666666666666666,\"#ed7953\"],[0.7777777777777778,\"#fb9f3a\"],[0.8888888888888888,\"#fdca26\"],[1.0,\"#f0f921\"]],\"type\":\"histogram2d\"}],\"histogram\":[{\"marker\":{\"pattern\":{\"fillmode\":\"overlay\",\"size\":10,\"solidity\":0.2}},\"type\":\"histogram\"}],\"mesh3d\":[{\"colorbar\":{\"outlinewidth\":0,\"ticks\":\"\"},\"type\":\"mesh3d\"}],\"parcoords\":[{\"line\":{\"colorbar\":{\"outlinewidth\":0,\"ticks\":\"\"}},\"type\":\"parcoords\"}],\"pie\":[{\"automargin\":true,\"type\":\"pie\"}],\"scatter3d\":[{\"line\":{\"colorbar\":{\"outlinewidth\":0,\"ticks\":\"\"}},\"marker\":{\"colorbar\":{\"outlinewidth\":0,\"ticks\":\"\"}},\"type\":\"scatter3d\"}],\"scattercarpet\":[{\"marker\":{\"colorbar\":{\"outlinewidth\":0,\"ticks\":\"\"}},\"type\":\"scattercarpet\"}],\"scattergeo\":[{\"marker\":{\"colorbar\":{\"outlinewidth\":0,\"ticks\":\"\"}},\"type\":\"scattergeo\"}],\"scattergl\":[{\"marker\":{\"colorbar\":{\"outlinewidth\":0,\"ticks\":\"\"}},\"type\":\"scattergl\"}],\"scattermapbox\":[{\"marker\":{\"colorbar\":{\"outlinewidth\":0,\"ticks\":\"\"}},\"type\":\"scattermapbox\"}],\"scatterpolargl\":[{\"marker\":{\"colorbar\":{\"outlinewidth\":0,\"ticks\":\"\"}},\"type\":\"scatterpolargl\"}],\"scatterpolar\":[{\"marker\":{\"colorbar\":{\"outlinewidth\":0,\"ticks\":\"\"}},\"type\":\"scatterpolar\"}],\"scatter\":[{\"marker\":{\"colorbar\":{\"outlinewidth\":0,\"ticks\":\"\"}},\"type\":\"scatter\"}],\"scatterternary\":[{\"marker\":{\"colorbar\":{\"outlinewidth\":0,\"ticks\":\"\"}},\"type\":\"scatterternary\"}],\"surface\":[{\"colorbar\":{\"outlinewidth\":0,\"ticks\":\"\"},\"colorscale\":[[0.0,\"#0d0887\"],[0.1111111111111111,\"#46039f\"],[0.2222222222222222,\"#7201a8\"],[0.3333333333333333,\"#9c179e\"],[0.4444444444444444,\"#bd3786\"],[0.5555555555555556,\"#d8576b\"],[0.6666666666666666,\"#ed7953\"],[0.7777777777777778,\"#fb9f3a\"],[0.8888888888888888,\"#fdca26\"],[1.0,\"#f0f921\"]],\"type\":\"surface\"}],\"table\":[{\"cells\":{\"fill\":{\"color\":\"#EBF0F8\"},\"line\":{\"color\":\"white\"}},\"header\":{\"fill\":{\"color\":\"#C8D4E3\"},\"line\":{\"color\":\"white\"}},\"type\":\"table\"}]},\"layout\":{\"annotationdefaults\":{\"arrowcolor\":\"#2a3f5f\",\"arrowhead\":0,\"arrowwidth\":1},\"autotypenumbers\":\"strict\",\"coloraxis\":{\"colorbar\":{\"outlinewidth\":0,\"ticks\":\"\"}},\"colorscale\":{\"diverging\":[[0,\"#8e0152\"],[0.1,\"#c51b7d\"],[0.2,\"#de77ae\"],[0.3,\"#f1b6da\"],[0.4,\"#fde0ef\"],[0.5,\"#f7f7f7\"],[0.6,\"#e6f5d0\"],[0.7,\"#b8e186\"],[0.8,\"#7fbc41\"],[0.9,\"#4d9221\"],[1,\"#276419\"]],\"sequential\":[[0.0,\"#0d0887\"],[0.1111111111111111,\"#46039f\"],[0.2222222222222222,\"#7201a8\"],[0.3333333333333333,\"#9c179e\"],[0.4444444444444444,\"#bd3786\"],[0.5555555555555556,\"#d8576b\"],[0.6666666666666666,\"#ed7953\"],[0.7777777777777778,\"#fb9f3a\"],[0.8888888888888888,\"#fdca26\"],[1.0,\"#f0f921\"]],\"sequentialminus\":[[0.0,\"#0d0887\"],[0.1111111111111111,\"#46039f\"],[0.2222222222222222,\"#7201a8\"],[0.3333333333333333,\"#9c179e\"],[0.4444444444444444,\"#bd3786\"],[0.5555555555555556,\"#d8576b\"],[0.6666666666666666,\"#ed7953\"],[0.7777777777777778,\"#fb9f3a\"],[0.8888888888888888,\"#fdca26\"],[1.0,\"#f0f921\"]]},\"colorway\":[\"#636efa\",\"#EF553B\",\"#00cc96\",\"#ab63fa\",\"#FFA15A\",\"#19d3f3\",\"#FF6692\",\"#B6E880\",\"#FF97FF\",\"#FECB52\"],\"font\":{\"color\":\"#2a3f5f\"},\"geo\":{\"bgcolor\":\"white\",\"lakecolor\":\"white\",\"landcolor\":\"#E5ECF6\",\"showlakes\":true,\"showland\":true,\"subunitcolor\":\"white\"},\"hoverlabel\":{\"align\":\"left\"},\"hovermode\":\"closest\",\"mapbox\":{\"style\":\"light\"},\"paper_bgcolor\":\"white\",\"plot_bgcolor\":\"#E5ECF6\",\"polar\":{\"angularaxis\":{\"gridcolor\":\"white\",\"linecolor\":\"white\",\"ticks\":\"\"},\"bgcolor\":\"#E5ECF6\",\"radialaxis\":{\"gridcolor\":\"white\",\"linecolor\":\"white\",\"ticks\":\"\"}},\"scene\":{\"xaxis\":{\"backgroundcolor\":\"#E5ECF6\",\"gridcolor\":\"white\",\"gridwidth\":2,\"linecolor\":\"white\",\"showbackground\":true,\"ticks\":\"\",\"zerolinecolor\":\"white\"},\"yaxis\":{\"backgroundcolor\":\"#E5ECF6\",\"gridcolor\":\"white\",\"gridwidth\":2,\"linecolor\":\"white\",\"showbackground\":true,\"ticks\":\"\",\"zerolinecolor\":\"white\"},\"zaxis\":{\"backgroundcolor\":\"#E5ECF6\",\"gridcolor\":\"white\",\"gridwidth\":2,\"linecolor\":\"white\",\"showbackground\":true,\"ticks\":\"\",\"zerolinecolor\":\"white\"}},\"shapedefaults\":{\"line\":{\"color\":\"#2a3f5f\"}},\"ternary\":{\"aaxis\":{\"gridcolor\":\"white\",\"linecolor\":\"white\",\"ticks\":\"\"},\"baxis\":{\"gridcolor\":\"white\",\"linecolor\":\"white\",\"ticks\":\"\"},\"bgcolor\":\"#E5ECF6\",\"caxis\":{\"gridcolor\":\"white\",\"linecolor\":\"white\",\"ticks\":\"\"}},\"title\":{\"x\":0.05},\"xaxis\":{\"automargin\":true,\"gridcolor\":\"white\",\"linecolor\":\"white\",\"ticks\":\"\",\"title\":{\"standoff\":15},\"zerolinecolor\":\"white\",\"zerolinewidth\":2},\"yaxis\":{\"automargin\":true,\"gridcolor\":\"white\",\"linecolor\":\"white\",\"ticks\":\"\",\"title\":{\"standoff\":15},\"zerolinecolor\":\"white\",\"zerolinewidth\":2}}},\"title\":{\"font\":{\"color\":\"#4D5663\"}},\"xaxis\":{\"gridcolor\":\"#E1E5ED\",\"showgrid\":true,\"tickfont\":{\"color\":\"#4D5663\"},\"title\":{\"font\":{\"color\":\"#4D5663\"},\"text\":\"\"},\"zerolinecolor\":\"#E1E5ED\"},\"yaxis\":{\"gridcolor\":\"#E1E5ED\",\"showgrid\":true,\"tickfont\":{\"color\":\"#4D5663\"},\"title\":{\"font\":{\"color\":\"#4D5663\"},\"text\":\"\"},\"zerolinecolor\":\"#E1E5ED\"}},                        {\"showLink\": true, \"linkText\": \"Export to plot.ly\", \"plotlyServerURL\": \"https://plot.ly\", \"responsive\": true}                    ).then(function(){\n",
       "                            \n",
       "var gd = document.getElementById('e901bde6-0040-4fa2-9606-80f260fca87c');\n",
       "var x = new MutationObserver(function (mutations, observer) {{\n",
       "        var display = window.getComputedStyle(gd).display;\n",
       "        if (!display || display === 'none') {{\n",
       "            console.log([gd, 'removed!']);\n",
       "            Plotly.purge(gd);\n",
       "            observer.disconnect();\n",
       "        }}\n",
       "}});\n",
       "\n",
       "// Listen for the removal of the full notebook cells\n",
       "var notebookContainer = gd.closest('#notebook-container');\n",
       "if (notebookContainer) {{\n",
       "    x.observe(notebookContainer, {childList: true});\n",
       "}}\n",
       "\n",
       "// Listen for the clearing of the current output cell\n",
       "var outputEl = gd.closest('.output');\n",
       "if (outputEl) {{\n",
       "    x.observe(outputEl, {childList: true});\n",
       "}}\n",
       "\n",
       "                        })                };                });            </script>        </div>"
      ]
     },
     "metadata": {},
     "output_type": "display_data"
    }
   ],
   "source": [
    "df2.iplot(kind='bar',x='Category',y='Values',colors='red')"
   ]
  },
  {
   "cell_type": "code",
   "execution_count": 35,
   "id": "92736105",
   "metadata": {},
   "outputs": [
    {
     "data": {
      "application/vnd.plotly.v1+json": {
       "config": {
        "linkText": "Export to plot.ly",
        "plotlyServerURL": "https://plot.ly",
        "showLink": true
       },
       "data": [
        {
         "marker": {
          "color": "rgba(255, 153, 51, 0.6)",
          "line": {
           "color": "rgba(255, 153, 51, 1.0)",
           "width": 1
          }
         },
         "name": "None",
         "orientation": "v",
         "text": "",
         "type": "bar",
         "x": [
          "A",
          "B",
          "C",
          "D"
         ],
         "y": [
          100,
          100,
          100,
          100
         ]
        }
       ],
       "layout": {
        "legend": {
         "bgcolor": "#F5F6F9",
         "font": {
          "color": "#4D5663"
         }
        },
        "paper_bgcolor": "#F5F6F9",
        "plot_bgcolor": "#F5F6F9",
        "template": {
         "data": {
          "bar": [
           {
            "error_x": {
             "color": "#2a3f5f"
            },
            "error_y": {
             "color": "#2a3f5f"
            },
            "marker": {
             "line": {
              "color": "#E5ECF6",
              "width": 0.5
             },
             "pattern": {
              "fillmode": "overlay",
              "size": 10,
              "solidity": 0.2
             }
            },
            "type": "bar"
           }
          ],
          "barpolar": [
           {
            "marker": {
             "line": {
              "color": "#E5ECF6",
              "width": 0.5
             },
             "pattern": {
              "fillmode": "overlay",
              "size": 10,
              "solidity": 0.2
             }
            },
            "type": "barpolar"
           }
          ],
          "carpet": [
           {
            "aaxis": {
             "endlinecolor": "#2a3f5f",
             "gridcolor": "white",
             "linecolor": "white",
             "minorgridcolor": "white",
             "startlinecolor": "#2a3f5f"
            },
            "baxis": {
             "endlinecolor": "#2a3f5f",
             "gridcolor": "white",
             "linecolor": "white",
             "minorgridcolor": "white",
             "startlinecolor": "#2a3f5f"
            },
            "type": "carpet"
           }
          ],
          "choropleth": [
           {
            "colorbar": {
             "outlinewidth": 0,
             "ticks": ""
            },
            "type": "choropleth"
           }
          ],
          "contour": [
           {
            "colorbar": {
             "outlinewidth": 0,
             "ticks": ""
            },
            "colorscale": [
             [
              0,
              "#0d0887"
             ],
             [
              0.1111111111111111,
              "#46039f"
             ],
             [
              0.2222222222222222,
              "#7201a8"
             ],
             [
              0.3333333333333333,
              "#9c179e"
             ],
             [
              0.4444444444444444,
              "#bd3786"
             ],
             [
              0.5555555555555556,
              "#d8576b"
             ],
             [
              0.6666666666666666,
              "#ed7953"
             ],
             [
              0.7777777777777778,
              "#fb9f3a"
             ],
             [
              0.8888888888888888,
              "#fdca26"
             ],
             [
              1,
              "#f0f921"
             ]
            ],
            "type": "contour"
           }
          ],
          "contourcarpet": [
           {
            "colorbar": {
             "outlinewidth": 0,
             "ticks": ""
            },
            "type": "contourcarpet"
           }
          ],
          "heatmap": [
           {
            "colorbar": {
             "outlinewidth": 0,
             "ticks": ""
            },
            "colorscale": [
             [
              0,
              "#0d0887"
             ],
             [
              0.1111111111111111,
              "#46039f"
             ],
             [
              0.2222222222222222,
              "#7201a8"
             ],
             [
              0.3333333333333333,
              "#9c179e"
             ],
             [
              0.4444444444444444,
              "#bd3786"
             ],
             [
              0.5555555555555556,
              "#d8576b"
             ],
             [
              0.6666666666666666,
              "#ed7953"
             ],
             [
              0.7777777777777778,
              "#fb9f3a"
             ],
             [
              0.8888888888888888,
              "#fdca26"
             ],
             [
              1,
              "#f0f921"
             ]
            ],
            "type": "heatmap"
           }
          ],
          "heatmapgl": [
           {
            "colorbar": {
             "outlinewidth": 0,
             "ticks": ""
            },
            "colorscale": [
             [
              0,
              "#0d0887"
             ],
             [
              0.1111111111111111,
              "#46039f"
             ],
             [
              0.2222222222222222,
              "#7201a8"
             ],
             [
              0.3333333333333333,
              "#9c179e"
             ],
             [
              0.4444444444444444,
              "#bd3786"
             ],
             [
              0.5555555555555556,
              "#d8576b"
             ],
             [
              0.6666666666666666,
              "#ed7953"
             ],
             [
              0.7777777777777778,
              "#fb9f3a"
             ],
             [
              0.8888888888888888,
              "#fdca26"
             ],
             [
              1,
              "#f0f921"
             ]
            ],
            "type": "heatmapgl"
           }
          ],
          "histogram": [
           {
            "marker": {
             "pattern": {
              "fillmode": "overlay",
              "size": 10,
              "solidity": 0.2
             }
            },
            "type": "histogram"
           }
          ],
          "histogram2d": [
           {
            "colorbar": {
             "outlinewidth": 0,
             "ticks": ""
            },
            "colorscale": [
             [
              0,
              "#0d0887"
             ],
             [
              0.1111111111111111,
              "#46039f"
             ],
             [
              0.2222222222222222,
              "#7201a8"
             ],
             [
              0.3333333333333333,
              "#9c179e"
             ],
             [
              0.4444444444444444,
              "#bd3786"
             ],
             [
              0.5555555555555556,
              "#d8576b"
             ],
             [
              0.6666666666666666,
              "#ed7953"
             ],
             [
              0.7777777777777778,
              "#fb9f3a"
             ],
             [
              0.8888888888888888,
              "#fdca26"
             ],
             [
              1,
              "#f0f921"
             ]
            ],
            "type": "histogram2d"
           }
          ],
          "histogram2dcontour": [
           {
            "colorbar": {
             "outlinewidth": 0,
             "ticks": ""
            },
            "colorscale": [
             [
              0,
              "#0d0887"
             ],
             [
              0.1111111111111111,
              "#46039f"
             ],
             [
              0.2222222222222222,
              "#7201a8"
             ],
             [
              0.3333333333333333,
              "#9c179e"
             ],
             [
              0.4444444444444444,
              "#bd3786"
             ],
             [
              0.5555555555555556,
              "#d8576b"
             ],
             [
              0.6666666666666666,
              "#ed7953"
             ],
             [
              0.7777777777777778,
              "#fb9f3a"
             ],
             [
              0.8888888888888888,
              "#fdca26"
             ],
             [
              1,
              "#f0f921"
             ]
            ],
            "type": "histogram2dcontour"
           }
          ],
          "mesh3d": [
           {
            "colorbar": {
             "outlinewidth": 0,
             "ticks": ""
            },
            "type": "mesh3d"
           }
          ],
          "parcoords": [
           {
            "line": {
             "colorbar": {
              "outlinewidth": 0,
              "ticks": ""
             }
            },
            "type": "parcoords"
           }
          ],
          "pie": [
           {
            "automargin": true,
            "type": "pie"
           }
          ],
          "scatter": [
           {
            "marker": {
             "colorbar": {
              "outlinewidth": 0,
              "ticks": ""
             }
            },
            "type": "scatter"
           }
          ],
          "scatter3d": [
           {
            "line": {
             "colorbar": {
              "outlinewidth": 0,
              "ticks": ""
             }
            },
            "marker": {
             "colorbar": {
              "outlinewidth": 0,
              "ticks": ""
             }
            },
            "type": "scatter3d"
           }
          ],
          "scattercarpet": [
           {
            "marker": {
             "colorbar": {
              "outlinewidth": 0,
              "ticks": ""
             }
            },
            "type": "scattercarpet"
           }
          ],
          "scattergeo": [
           {
            "marker": {
             "colorbar": {
              "outlinewidth": 0,
              "ticks": ""
             }
            },
            "type": "scattergeo"
           }
          ],
          "scattergl": [
           {
            "marker": {
             "colorbar": {
              "outlinewidth": 0,
              "ticks": ""
             }
            },
            "type": "scattergl"
           }
          ],
          "scattermapbox": [
           {
            "marker": {
             "colorbar": {
              "outlinewidth": 0,
              "ticks": ""
             }
            },
            "type": "scattermapbox"
           }
          ],
          "scatterpolar": [
           {
            "marker": {
             "colorbar": {
              "outlinewidth": 0,
              "ticks": ""
             }
            },
            "type": "scatterpolar"
           }
          ],
          "scatterpolargl": [
           {
            "marker": {
             "colorbar": {
              "outlinewidth": 0,
              "ticks": ""
             }
            },
            "type": "scatterpolargl"
           }
          ],
          "scatterternary": [
           {
            "marker": {
             "colorbar": {
              "outlinewidth": 0,
              "ticks": ""
             }
            },
            "type": "scatterternary"
           }
          ],
          "surface": [
           {
            "colorbar": {
             "outlinewidth": 0,
             "ticks": ""
            },
            "colorscale": [
             [
              0,
              "#0d0887"
             ],
             [
              0.1111111111111111,
              "#46039f"
             ],
             [
              0.2222222222222222,
              "#7201a8"
             ],
             [
              0.3333333333333333,
              "#9c179e"
             ],
             [
              0.4444444444444444,
              "#bd3786"
             ],
             [
              0.5555555555555556,
              "#d8576b"
             ],
             [
              0.6666666666666666,
              "#ed7953"
             ],
             [
              0.7777777777777778,
              "#fb9f3a"
             ],
             [
              0.8888888888888888,
              "#fdca26"
             ],
             [
              1,
              "#f0f921"
             ]
            ],
            "type": "surface"
           }
          ],
          "table": [
           {
            "cells": {
             "fill": {
              "color": "#EBF0F8"
             },
             "line": {
              "color": "white"
             }
            },
            "header": {
             "fill": {
              "color": "#C8D4E3"
             },
             "line": {
              "color": "white"
             }
            },
            "type": "table"
           }
          ]
         },
         "layout": {
          "annotationdefaults": {
           "arrowcolor": "#2a3f5f",
           "arrowhead": 0,
           "arrowwidth": 1
          },
          "autotypenumbers": "strict",
          "coloraxis": {
           "colorbar": {
            "outlinewidth": 0,
            "ticks": ""
           }
          },
          "colorscale": {
           "diverging": [
            [
             0,
             "#8e0152"
            ],
            [
             0.1,
             "#c51b7d"
            ],
            [
             0.2,
             "#de77ae"
            ],
            [
             0.3,
             "#f1b6da"
            ],
            [
             0.4,
             "#fde0ef"
            ],
            [
             0.5,
             "#f7f7f7"
            ],
            [
             0.6,
             "#e6f5d0"
            ],
            [
             0.7,
             "#b8e186"
            ],
            [
             0.8,
             "#7fbc41"
            ],
            [
             0.9,
             "#4d9221"
            ],
            [
             1,
             "#276419"
            ]
           ],
           "sequential": [
            [
             0,
             "#0d0887"
            ],
            [
             0.1111111111111111,
             "#46039f"
            ],
            [
             0.2222222222222222,
             "#7201a8"
            ],
            [
             0.3333333333333333,
             "#9c179e"
            ],
            [
             0.4444444444444444,
             "#bd3786"
            ],
            [
             0.5555555555555556,
             "#d8576b"
            ],
            [
             0.6666666666666666,
             "#ed7953"
            ],
            [
             0.7777777777777778,
             "#fb9f3a"
            ],
            [
             0.8888888888888888,
             "#fdca26"
            ],
            [
             1,
             "#f0f921"
            ]
           ],
           "sequentialminus": [
            [
             0,
             "#0d0887"
            ],
            [
             0.1111111111111111,
             "#46039f"
            ],
            [
             0.2222222222222222,
             "#7201a8"
            ],
            [
             0.3333333333333333,
             "#9c179e"
            ],
            [
             0.4444444444444444,
             "#bd3786"
            ],
            [
             0.5555555555555556,
             "#d8576b"
            ],
            [
             0.6666666666666666,
             "#ed7953"
            ],
            [
             0.7777777777777778,
             "#fb9f3a"
            ],
            [
             0.8888888888888888,
             "#fdca26"
            ],
            [
             1,
             "#f0f921"
            ]
           ]
          },
          "colorway": [
           "#636efa",
           "#EF553B",
           "#00cc96",
           "#ab63fa",
           "#FFA15A",
           "#19d3f3",
           "#FF6692",
           "#B6E880",
           "#FF97FF",
           "#FECB52"
          ],
          "font": {
           "color": "#2a3f5f"
          },
          "geo": {
           "bgcolor": "white",
           "lakecolor": "white",
           "landcolor": "#E5ECF6",
           "showlakes": true,
           "showland": true,
           "subunitcolor": "white"
          },
          "hoverlabel": {
           "align": "left"
          },
          "hovermode": "closest",
          "mapbox": {
           "style": "light"
          },
          "paper_bgcolor": "white",
          "plot_bgcolor": "#E5ECF6",
          "polar": {
           "angularaxis": {
            "gridcolor": "white",
            "linecolor": "white",
            "ticks": ""
           },
           "bgcolor": "#E5ECF6",
           "radialaxis": {
            "gridcolor": "white",
            "linecolor": "white",
            "ticks": ""
           }
          },
          "scene": {
           "xaxis": {
            "backgroundcolor": "#E5ECF6",
            "gridcolor": "white",
            "gridwidth": 2,
            "linecolor": "white",
            "showbackground": true,
            "ticks": "",
            "zerolinecolor": "white"
           },
           "yaxis": {
            "backgroundcolor": "#E5ECF6",
            "gridcolor": "white",
            "gridwidth": 2,
            "linecolor": "white",
            "showbackground": true,
            "ticks": "",
            "zerolinecolor": "white"
           },
           "zaxis": {
            "backgroundcolor": "#E5ECF6",
            "gridcolor": "white",
            "gridwidth": 2,
            "linecolor": "white",
            "showbackground": true,
            "ticks": "",
            "zerolinecolor": "white"
           }
          },
          "shapedefaults": {
           "line": {
            "color": "#2a3f5f"
           }
          },
          "ternary": {
           "aaxis": {
            "gridcolor": "white",
            "linecolor": "white",
            "ticks": ""
           },
           "baxis": {
            "gridcolor": "white",
            "linecolor": "white",
            "ticks": ""
           },
           "bgcolor": "#E5ECF6",
           "caxis": {
            "gridcolor": "white",
            "linecolor": "white",
            "ticks": ""
           }
          },
          "title": {
           "x": 0.05
          },
          "xaxis": {
           "automargin": true,
           "gridcolor": "white",
           "linecolor": "white",
           "ticks": "",
           "title": {
            "standoff": 15
           },
           "zerolinecolor": "white",
           "zerolinewidth": 2
          },
          "yaxis": {
           "automargin": true,
           "gridcolor": "white",
           "linecolor": "white",
           "ticks": "",
           "title": {
            "standoff": 15
           },
           "zerolinecolor": "white",
           "zerolinewidth": 2
          }
         }
        },
        "title": {
         "font": {
          "color": "#4D5663"
         }
        },
        "xaxis": {
         "gridcolor": "#E1E5ED",
         "showgrid": true,
         "tickfont": {
          "color": "#4D5663"
         },
         "title": {
          "font": {
           "color": "#4D5663"
          },
          "text": ""
         },
         "zerolinecolor": "#E1E5ED"
        },
        "yaxis": {
         "gridcolor": "#E1E5ED",
         "showgrid": true,
         "tickfont": {
          "color": "#4D5663"
         },
         "title": {
          "font": {
           "color": "#4D5663"
          },
          "text": ""
         },
         "zerolinecolor": "#E1E5ED"
        }
       }
      },
      "text/html": [
       "<div>                            <div id=\"48302675-e4c7-4bfd-ac27-adb3b019b656\" class=\"plotly-graph-div\" style=\"height:525px; width:100%;\"></div>            <script type=\"text/javascript\">                require([\"plotly\"], function(Plotly) {                    window.PLOTLYENV=window.PLOTLYENV || {};\n",
       "                    window.PLOTLYENV.BASE_URL='https://plot.ly';                                    if (document.getElementById(\"48302675-e4c7-4bfd-ac27-adb3b019b656\")) {                    Plotly.newPlot(                        \"48302675-e4c7-4bfd-ac27-adb3b019b656\",                        [{\"marker\":{\"color\":\"rgba(255, 153, 51, 0.6)\",\"line\":{\"color\":\"rgba(255, 153, 51, 1.0)\",\"width\":1}},\"name\":\"None\",\"orientation\":\"v\",\"text\":\"\",\"x\":[\"A\",\"B\",\"C\",\"D\"],\"y\":[100,100,100,100],\"type\":\"bar\"}],                        {\"legend\":{\"bgcolor\":\"#F5F6F9\",\"font\":{\"color\":\"#4D5663\"}},\"paper_bgcolor\":\"#F5F6F9\",\"plot_bgcolor\":\"#F5F6F9\",\"template\":{\"data\":{\"barpolar\":[{\"marker\":{\"line\":{\"color\":\"#E5ECF6\",\"width\":0.5},\"pattern\":{\"fillmode\":\"overlay\",\"size\":10,\"solidity\":0.2}},\"type\":\"barpolar\"}],\"bar\":[{\"error_x\":{\"color\":\"#2a3f5f\"},\"error_y\":{\"color\":\"#2a3f5f\"},\"marker\":{\"line\":{\"color\":\"#E5ECF6\",\"width\":0.5},\"pattern\":{\"fillmode\":\"overlay\",\"size\":10,\"solidity\":0.2}},\"type\":\"bar\"}],\"carpet\":[{\"aaxis\":{\"endlinecolor\":\"#2a3f5f\",\"gridcolor\":\"white\",\"linecolor\":\"white\",\"minorgridcolor\":\"white\",\"startlinecolor\":\"#2a3f5f\"},\"baxis\":{\"endlinecolor\":\"#2a3f5f\",\"gridcolor\":\"white\",\"linecolor\":\"white\",\"minorgridcolor\":\"white\",\"startlinecolor\":\"#2a3f5f\"},\"type\":\"carpet\"}],\"choropleth\":[{\"colorbar\":{\"outlinewidth\":0,\"ticks\":\"\"},\"type\":\"choropleth\"}],\"contourcarpet\":[{\"colorbar\":{\"outlinewidth\":0,\"ticks\":\"\"},\"type\":\"contourcarpet\"}],\"contour\":[{\"colorbar\":{\"outlinewidth\":0,\"ticks\":\"\"},\"colorscale\":[[0.0,\"#0d0887\"],[0.1111111111111111,\"#46039f\"],[0.2222222222222222,\"#7201a8\"],[0.3333333333333333,\"#9c179e\"],[0.4444444444444444,\"#bd3786\"],[0.5555555555555556,\"#d8576b\"],[0.6666666666666666,\"#ed7953\"],[0.7777777777777778,\"#fb9f3a\"],[0.8888888888888888,\"#fdca26\"],[1.0,\"#f0f921\"]],\"type\":\"contour\"}],\"heatmapgl\":[{\"colorbar\":{\"outlinewidth\":0,\"ticks\":\"\"},\"colorscale\":[[0.0,\"#0d0887\"],[0.1111111111111111,\"#46039f\"],[0.2222222222222222,\"#7201a8\"],[0.3333333333333333,\"#9c179e\"],[0.4444444444444444,\"#bd3786\"],[0.5555555555555556,\"#d8576b\"],[0.6666666666666666,\"#ed7953\"],[0.7777777777777778,\"#fb9f3a\"],[0.8888888888888888,\"#fdca26\"],[1.0,\"#f0f921\"]],\"type\":\"heatmapgl\"}],\"heatmap\":[{\"colorbar\":{\"outlinewidth\":0,\"ticks\":\"\"},\"colorscale\":[[0.0,\"#0d0887\"],[0.1111111111111111,\"#46039f\"],[0.2222222222222222,\"#7201a8\"],[0.3333333333333333,\"#9c179e\"],[0.4444444444444444,\"#bd3786\"],[0.5555555555555556,\"#d8576b\"],[0.6666666666666666,\"#ed7953\"],[0.7777777777777778,\"#fb9f3a\"],[0.8888888888888888,\"#fdca26\"],[1.0,\"#f0f921\"]],\"type\":\"heatmap\"}],\"histogram2dcontour\":[{\"colorbar\":{\"outlinewidth\":0,\"ticks\":\"\"},\"colorscale\":[[0.0,\"#0d0887\"],[0.1111111111111111,\"#46039f\"],[0.2222222222222222,\"#7201a8\"],[0.3333333333333333,\"#9c179e\"],[0.4444444444444444,\"#bd3786\"],[0.5555555555555556,\"#d8576b\"],[0.6666666666666666,\"#ed7953\"],[0.7777777777777778,\"#fb9f3a\"],[0.8888888888888888,\"#fdca26\"],[1.0,\"#f0f921\"]],\"type\":\"histogram2dcontour\"}],\"histogram2d\":[{\"colorbar\":{\"outlinewidth\":0,\"ticks\":\"\"},\"colorscale\":[[0.0,\"#0d0887\"],[0.1111111111111111,\"#46039f\"],[0.2222222222222222,\"#7201a8\"],[0.3333333333333333,\"#9c179e\"],[0.4444444444444444,\"#bd3786\"],[0.5555555555555556,\"#d8576b\"],[0.6666666666666666,\"#ed7953\"],[0.7777777777777778,\"#fb9f3a\"],[0.8888888888888888,\"#fdca26\"],[1.0,\"#f0f921\"]],\"type\":\"histogram2d\"}],\"histogram\":[{\"marker\":{\"pattern\":{\"fillmode\":\"overlay\",\"size\":10,\"solidity\":0.2}},\"type\":\"histogram\"}],\"mesh3d\":[{\"colorbar\":{\"outlinewidth\":0,\"ticks\":\"\"},\"type\":\"mesh3d\"}],\"parcoords\":[{\"line\":{\"colorbar\":{\"outlinewidth\":0,\"ticks\":\"\"}},\"type\":\"parcoords\"}],\"pie\":[{\"automargin\":true,\"type\":\"pie\"}],\"scatter3d\":[{\"line\":{\"colorbar\":{\"outlinewidth\":0,\"ticks\":\"\"}},\"marker\":{\"colorbar\":{\"outlinewidth\":0,\"ticks\":\"\"}},\"type\":\"scatter3d\"}],\"scattercarpet\":[{\"marker\":{\"colorbar\":{\"outlinewidth\":0,\"ticks\":\"\"}},\"type\":\"scattercarpet\"}],\"scattergeo\":[{\"marker\":{\"colorbar\":{\"outlinewidth\":0,\"ticks\":\"\"}},\"type\":\"scattergeo\"}],\"scattergl\":[{\"marker\":{\"colorbar\":{\"outlinewidth\":0,\"ticks\":\"\"}},\"type\":\"scattergl\"}],\"scattermapbox\":[{\"marker\":{\"colorbar\":{\"outlinewidth\":0,\"ticks\":\"\"}},\"type\":\"scattermapbox\"}],\"scatterpolargl\":[{\"marker\":{\"colorbar\":{\"outlinewidth\":0,\"ticks\":\"\"}},\"type\":\"scatterpolargl\"}],\"scatterpolar\":[{\"marker\":{\"colorbar\":{\"outlinewidth\":0,\"ticks\":\"\"}},\"type\":\"scatterpolar\"}],\"scatter\":[{\"marker\":{\"colorbar\":{\"outlinewidth\":0,\"ticks\":\"\"}},\"type\":\"scatter\"}],\"scatterternary\":[{\"marker\":{\"colorbar\":{\"outlinewidth\":0,\"ticks\":\"\"}},\"type\":\"scatterternary\"}],\"surface\":[{\"colorbar\":{\"outlinewidth\":0,\"ticks\":\"\"},\"colorscale\":[[0.0,\"#0d0887\"],[0.1111111111111111,\"#46039f\"],[0.2222222222222222,\"#7201a8\"],[0.3333333333333333,\"#9c179e\"],[0.4444444444444444,\"#bd3786\"],[0.5555555555555556,\"#d8576b\"],[0.6666666666666666,\"#ed7953\"],[0.7777777777777778,\"#fb9f3a\"],[0.8888888888888888,\"#fdca26\"],[1.0,\"#f0f921\"]],\"type\":\"surface\"}],\"table\":[{\"cells\":{\"fill\":{\"color\":\"#EBF0F8\"},\"line\":{\"color\":\"white\"}},\"header\":{\"fill\":{\"color\":\"#C8D4E3\"},\"line\":{\"color\":\"white\"}},\"type\":\"table\"}]},\"layout\":{\"annotationdefaults\":{\"arrowcolor\":\"#2a3f5f\",\"arrowhead\":0,\"arrowwidth\":1},\"autotypenumbers\":\"strict\",\"coloraxis\":{\"colorbar\":{\"outlinewidth\":0,\"ticks\":\"\"}},\"colorscale\":{\"diverging\":[[0,\"#8e0152\"],[0.1,\"#c51b7d\"],[0.2,\"#de77ae\"],[0.3,\"#f1b6da\"],[0.4,\"#fde0ef\"],[0.5,\"#f7f7f7\"],[0.6,\"#e6f5d0\"],[0.7,\"#b8e186\"],[0.8,\"#7fbc41\"],[0.9,\"#4d9221\"],[1,\"#276419\"]],\"sequential\":[[0.0,\"#0d0887\"],[0.1111111111111111,\"#46039f\"],[0.2222222222222222,\"#7201a8\"],[0.3333333333333333,\"#9c179e\"],[0.4444444444444444,\"#bd3786\"],[0.5555555555555556,\"#d8576b\"],[0.6666666666666666,\"#ed7953\"],[0.7777777777777778,\"#fb9f3a\"],[0.8888888888888888,\"#fdca26\"],[1.0,\"#f0f921\"]],\"sequentialminus\":[[0.0,\"#0d0887\"],[0.1111111111111111,\"#46039f\"],[0.2222222222222222,\"#7201a8\"],[0.3333333333333333,\"#9c179e\"],[0.4444444444444444,\"#bd3786\"],[0.5555555555555556,\"#d8576b\"],[0.6666666666666666,\"#ed7953\"],[0.7777777777777778,\"#fb9f3a\"],[0.8888888888888888,\"#fdca26\"],[1.0,\"#f0f921\"]]},\"colorway\":[\"#636efa\",\"#EF553B\",\"#00cc96\",\"#ab63fa\",\"#FFA15A\",\"#19d3f3\",\"#FF6692\",\"#B6E880\",\"#FF97FF\",\"#FECB52\"],\"font\":{\"color\":\"#2a3f5f\"},\"geo\":{\"bgcolor\":\"white\",\"lakecolor\":\"white\",\"landcolor\":\"#E5ECF6\",\"showlakes\":true,\"showland\":true,\"subunitcolor\":\"white\"},\"hoverlabel\":{\"align\":\"left\"},\"hovermode\":\"closest\",\"mapbox\":{\"style\":\"light\"},\"paper_bgcolor\":\"white\",\"plot_bgcolor\":\"#E5ECF6\",\"polar\":{\"angularaxis\":{\"gridcolor\":\"white\",\"linecolor\":\"white\",\"ticks\":\"\"},\"bgcolor\":\"#E5ECF6\",\"radialaxis\":{\"gridcolor\":\"white\",\"linecolor\":\"white\",\"ticks\":\"\"}},\"scene\":{\"xaxis\":{\"backgroundcolor\":\"#E5ECF6\",\"gridcolor\":\"white\",\"gridwidth\":2,\"linecolor\":\"white\",\"showbackground\":true,\"ticks\":\"\",\"zerolinecolor\":\"white\"},\"yaxis\":{\"backgroundcolor\":\"#E5ECF6\",\"gridcolor\":\"white\",\"gridwidth\":2,\"linecolor\":\"white\",\"showbackground\":true,\"ticks\":\"\",\"zerolinecolor\":\"white\"},\"zaxis\":{\"backgroundcolor\":\"#E5ECF6\",\"gridcolor\":\"white\",\"gridwidth\":2,\"linecolor\":\"white\",\"showbackground\":true,\"ticks\":\"\",\"zerolinecolor\":\"white\"}},\"shapedefaults\":{\"line\":{\"color\":\"#2a3f5f\"}},\"ternary\":{\"aaxis\":{\"gridcolor\":\"white\",\"linecolor\":\"white\",\"ticks\":\"\"},\"baxis\":{\"gridcolor\":\"white\",\"linecolor\":\"white\",\"ticks\":\"\"},\"bgcolor\":\"#E5ECF6\",\"caxis\":{\"gridcolor\":\"white\",\"linecolor\":\"white\",\"ticks\":\"\"}},\"title\":{\"x\":0.05},\"xaxis\":{\"automargin\":true,\"gridcolor\":\"white\",\"linecolor\":\"white\",\"ticks\":\"\",\"title\":{\"standoff\":15},\"zerolinecolor\":\"white\",\"zerolinewidth\":2},\"yaxis\":{\"automargin\":true,\"gridcolor\":\"white\",\"linecolor\":\"white\",\"ticks\":\"\",\"title\":{\"standoff\":15},\"zerolinecolor\":\"white\",\"zerolinewidth\":2}}},\"title\":{\"font\":{\"color\":\"#4D5663\"}},\"xaxis\":{\"gridcolor\":\"#E1E5ED\",\"showgrid\":true,\"tickfont\":{\"color\":\"#4D5663\"},\"title\":{\"font\":{\"color\":\"#4D5663\"},\"text\":\"\"},\"zerolinecolor\":\"#E1E5ED\"},\"yaxis\":{\"gridcolor\":\"#E1E5ED\",\"showgrid\":true,\"tickfont\":{\"color\":\"#4D5663\"},\"title\":{\"font\":{\"color\":\"#4D5663\"},\"text\":\"\"},\"zerolinecolor\":\"#E1E5ED\"}},                        {\"showLink\": true, \"linkText\": \"Export to plot.ly\", \"plotlyServerURL\": \"https://plot.ly\", \"responsive\": true}                    ).then(function(){\n",
       "                            \n",
       "var gd = document.getElementById('48302675-e4c7-4bfd-ac27-adb3b019b656');\n",
       "var x = new MutationObserver(function (mutations, observer) {{\n",
       "        var display = window.getComputedStyle(gd).display;\n",
       "        if (!display || display === 'none') {{\n",
       "            console.log([gd, 'removed!']);\n",
       "            Plotly.purge(gd);\n",
       "            observer.disconnect();\n",
       "        }}\n",
       "}});\n",
       "\n",
       "// Listen for the removal of the full notebook cells\n",
       "var notebookContainer = gd.closest('#notebook-container');\n",
       "if (notebookContainer) {{\n",
       "    x.observe(notebookContainer, {childList: true});\n",
       "}}\n",
       "\n",
       "// Listen for the clearing of the current output cell\n",
       "var outputEl = gd.closest('.output');\n",
       "if (outputEl) {{\n",
       "    x.observe(outputEl, {childList: true});\n",
       "}}\n",
       "\n",
       "                        })                };                });            </script>        </div>"
      ]
     },
     "metadata": {},
     "output_type": "display_data"
    }
   ],
   "source": [
    "df.count().iplot(kind='bar')"
   ]
  },
  {
   "cell_type": "code",
   "execution_count": 36,
   "id": "da806912",
   "metadata": {},
   "outputs": [
    {
     "data": {
      "application/vnd.plotly.v1+json": {
       "config": {
        "linkText": "Export to plot.ly",
        "plotlyServerURL": "https://plot.ly",
        "showLink": true
       },
       "data": [
        {
         "marker": {
          "color": "rgba(255, 153, 51, 0.6)",
          "line": {
           "color": "rgba(255, 153, 51, 1.0)",
           "width": 1
          }
         },
         "name": "None",
         "orientation": "v",
         "text": "",
         "type": "bar",
         "x": [
          "A",
          "B",
          "C",
          "D"
         ],
         "y": [
          0.4789423756073174,
          0.44736752972737504,
          0.5438662820973051,
          0.4975219004771808
         ]
        }
       ],
       "layout": {
        "legend": {
         "bgcolor": "#F5F6F9",
         "font": {
          "color": "#4D5663"
         }
        },
        "paper_bgcolor": "#F5F6F9",
        "plot_bgcolor": "#F5F6F9",
        "template": {
         "data": {
          "bar": [
           {
            "error_x": {
             "color": "#2a3f5f"
            },
            "error_y": {
             "color": "#2a3f5f"
            },
            "marker": {
             "line": {
              "color": "#E5ECF6",
              "width": 0.5
             },
             "pattern": {
              "fillmode": "overlay",
              "size": 10,
              "solidity": 0.2
             }
            },
            "type": "bar"
           }
          ],
          "barpolar": [
           {
            "marker": {
             "line": {
              "color": "#E5ECF6",
              "width": 0.5
             },
             "pattern": {
              "fillmode": "overlay",
              "size": 10,
              "solidity": 0.2
             }
            },
            "type": "barpolar"
           }
          ],
          "carpet": [
           {
            "aaxis": {
             "endlinecolor": "#2a3f5f",
             "gridcolor": "white",
             "linecolor": "white",
             "minorgridcolor": "white",
             "startlinecolor": "#2a3f5f"
            },
            "baxis": {
             "endlinecolor": "#2a3f5f",
             "gridcolor": "white",
             "linecolor": "white",
             "minorgridcolor": "white",
             "startlinecolor": "#2a3f5f"
            },
            "type": "carpet"
           }
          ],
          "choropleth": [
           {
            "colorbar": {
             "outlinewidth": 0,
             "ticks": ""
            },
            "type": "choropleth"
           }
          ],
          "contour": [
           {
            "colorbar": {
             "outlinewidth": 0,
             "ticks": ""
            },
            "colorscale": [
             [
              0,
              "#0d0887"
             ],
             [
              0.1111111111111111,
              "#46039f"
             ],
             [
              0.2222222222222222,
              "#7201a8"
             ],
             [
              0.3333333333333333,
              "#9c179e"
             ],
             [
              0.4444444444444444,
              "#bd3786"
             ],
             [
              0.5555555555555556,
              "#d8576b"
             ],
             [
              0.6666666666666666,
              "#ed7953"
             ],
             [
              0.7777777777777778,
              "#fb9f3a"
             ],
             [
              0.8888888888888888,
              "#fdca26"
             ],
             [
              1,
              "#f0f921"
             ]
            ],
            "type": "contour"
           }
          ],
          "contourcarpet": [
           {
            "colorbar": {
             "outlinewidth": 0,
             "ticks": ""
            },
            "type": "contourcarpet"
           }
          ],
          "heatmap": [
           {
            "colorbar": {
             "outlinewidth": 0,
             "ticks": ""
            },
            "colorscale": [
             [
              0,
              "#0d0887"
             ],
             [
              0.1111111111111111,
              "#46039f"
             ],
             [
              0.2222222222222222,
              "#7201a8"
             ],
             [
              0.3333333333333333,
              "#9c179e"
             ],
             [
              0.4444444444444444,
              "#bd3786"
             ],
             [
              0.5555555555555556,
              "#d8576b"
             ],
             [
              0.6666666666666666,
              "#ed7953"
             ],
             [
              0.7777777777777778,
              "#fb9f3a"
             ],
             [
              0.8888888888888888,
              "#fdca26"
             ],
             [
              1,
              "#f0f921"
             ]
            ],
            "type": "heatmap"
           }
          ],
          "heatmapgl": [
           {
            "colorbar": {
             "outlinewidth": 0,
             "ticks": ""
            },
            "colorscale": [
             [
              0,
              "#0d0887"
             ],
             [
              0.1111111111111111,
              "#46039f"
             ],
             [
              0.2222222222222222,
              "#7201a8"
             ],
             [
              0.3333333333333333,
              "#9c179e"
             ],
             [
              0.4444444444444444,
              "#bd3786"
             ],
             [
              0.5555555555555556,
              "#d8576b"
             ],
             [
              0.6666666666666666,
              "#ed7953"
             ],
             [
              0.7777777777777778,
              "#fb9f3a"
             ],
             [
              0.8888888888888888,
              "#fdca26"
             ],
             [
              1,
              "#f0f921"
             ]
            ],
            "type": "heatmapgl"
           }
          ],
          "histogram": [
           {
            "marker": {
             "pattern": {
              "fillmode": "overlay",
              "size": 10,
              "solidity": 0.2
             }
            },
            "type": "histogram"
           }
          ],
          "histogram2d": [
           {
            "colorbar": {
             "outlinewidth": 0,
             "ticks": ""
            },
            "colorscale": [
             [
              0,
              "#0d0887"
             ],
             [
              0.1111111111111111,
              "#46039f"
             ],
             [
              0.2222222222222222,
              "#7201a8"
             ],
             [
              0.3333333333333333,
              "#9c179e"
             ],
             [
              0.4444444444444444,
              "#bd3786"
             ],
             [
              0.5555555555555556,
              "#d8576b"
             ],
             [
              0.6666666666666666,
              "#ed7953"
             ],
             [
              0.7777777777777778,
              "#fb9f3a"
             ],
             [
              0.8888888888888888,
              "#fdca26"
             ],
             [
              1,
              "#f0f921"
             ]
            ],
            "type": "histogram2d"
           }
          ],
          "histogram2dcontour": [
           {
            "colorbar": {
             "outlinewidth": 0,
             "ticks": ""
            },
            "colorscale": [
             [
              0,
              "#0d0887"
             ],
             [
              0.1111111111111111,
              "#46039f"
             ],
             [
              0.2222222222222222,
              "#7201a8"
             ],
             [
              0.3333333333333333,
              "#9c179e"
             ],
             [
              0.4444444444444444,
              "#bd3786"
             ],
             [
              0.5555555555555556,
              "#d8576b"
             ],
             [
              0.6666666666666666,
              "#ed7953"
             ],
             [
              0.7777777777777778,
              "#fb9f3a"
             ],
             [
              0.8888888888888888,
              "#fdca26"
             ],
             [
              1,
              "#f0f921"
             ]
            ],
            "type": "histogram2dcontour"
           }
          ],
          "mesh3d": [
           {
            "colorbar": {
             "outlinewidth": 0,
             "ticks": ""
            },
            "type": "mesh3d"
           }
          ],
          "parcoords": [
           {
            "line": {
             "colorbar": {
              "outlinewidth": 0,
              "ticks": ""
             }
            },
            "type": "parcoords"
           }
          ],
          "pie": [
           {
            "automargin": true,
            "type": "pie"
           }
          ],
          "scatter": [
           {
            "marker": {
             "colorbar": {
              "outlinewidth": 0,
              "ticks": ""
             }
            },
            "type": "scatter"
           }
          ],
          "scatter3d": [
           {
            "line": {
             "colorbar": {
              "outlinewidth": 0,
              "ticks": ""
             }
            },
            "marker": {
             "colorbar": {
              "outlinewidth": 0,
              "ticks": ""
             }
            },
            "type": "scatter3d"
           }
          ],
          "scattercarpet": [
           {
            "marker": {
             "colorbar": {
              "outlinewidth": 0,
              "ticks": ""
             }
            },
            "type": "scattercarpet"
           }
          ],
          "scattergeo": [
           {
            "marker": {
             "colorbar": {
              "outlinewidth": 0,
              "ticks": ""
             }
            },
            "type": "scattergeo"
           }
          ],
          "scattergl": [
           {
            "marker": {
             "colorbar": {
              "outlinewidth": 0,
              "ticks": ""
             }
            },
            "type": "scattergl"
           }
          ],
          "scattermapbox": [
           {
            "marker": {
             "colorbar": {
              "outlinewidth": 0,
              "ticks": ""
             }
            },
            "type": "scattermapbox"
           }
          ],
          "scatterpolar": [
           {
            "marker": {
             "colorbar": {
              "outlinewidth": 0,
              "ticks": ""
             }
            },
            "type": "scatterpolar"
           }
          ],
          "scatterpolargl": [
           {
            "marker": {
             "colorbar": {
              "outlinewidth": 0,
              "ticks": ""
             }
            },
            "type": "scatterpolargl"
           }
          ],
          "scatterternary": [
           {
            "marker": {
             "colorbar": {
              "outlinewidth": 0,
              "ticks": ""
             }
            },
            "type": "scatterternary"
           }
          ],
          "surface": [
           {
            "colorbar": {
             "outlinewidth": 0,
             "ticks": ""
            },
            "colorscale": [
             [
              0,
              "#0d0887"
             ],
             [
              0.1111111111111111,
              "#46039f"
             ],
             [
              0.2222222222222222,
              "#7201a8"
             ],
             [
              0.3333333333333333,
              "#9c179e"
             ],
             [
              0.4444444444444444,
              "#bd3786"
             ],
             [
              0.5555555555555556,
              "#d8576b"
             ],
             [
              0.6666666666666666,
              "#ed7953"
             ],
             [
              0.7777777777777778,
              "#fb9f3a"
             ],
             [
              0.8888888888888888,
              "#fdca26"
             ],
             [
              1,
              "#f0f921"
             ]
            ],
            "type": "surface"
           }
          ],
          "table": [
           {
            "cells": {
             "fill": {
              "color": "#EBF0F8"
             },
             "line": {
              "color": "white"
             }
            },
            "header": {
             "fill": {
              "color": "#C8D4E3"
             },
             "line": {
              "color": "white"
             }
            },
            "type": "table"
           }
          ]
         },
         "layout": {
          "annotationdefaults": {
           "arrowcolor": "#2a3f5f",
           "arrowhead": 0,
           "arrowwidth": 1
          },
          "autotypenumbers": "strict",
          "coloraxis": {
           "colorbar": {
            "outlinewidth": 0,
            "ticks": ""
           }
          },
          "colorscale": {
           "diverging": [
            [
             0,
             "#8e0152"
            ],
            [
             0.1,
             "#c51b7d"
            ],
            [
             0.2,
             "#de77ae"
            ],
            [
             0.3,
             "#f1b6da"
            ],
            [
             0.4,
             "#fde0ef"
            ],
            [
             0.5,
             "#f7f7f7"
            ],
            [
             0.6,
             "#e6f5d0"
            ],
            [
             0.7,
             "#b8e186"
            ],
            [
             0.8,
             "#7fbc41"
            ],
            [
             0.9,
             "#4d9221"
            ],
            [
             1,
             "#276419"
            ]
           ],
           "sequential": [
            [
             0,
             "#0d0887"
            ],
            [
             0.1111111111111111,
             "#46039f"
            ],
            [
             0.2222222222222222,
             "#7201a8"
            ],
            [
             0.3333333333333333,
             "#9c179e"
            ],
            [
             0.4444444444444444,
             "#bd3786"
            ],
            [
             0.5555555555555556,
             "#d8576b"
            ],
            [
             0.6666666666666666,
             "#ed7953"
            ],
            [
             0.7777777777777778,
             "#fb9f3a"
            ],
            [
             0.8888888888888888,
             "#fdca26"
            ],
            [
             1,
             "#f0f921"
            ]
           ],
           "sequentialminus": [
            [
             0,
             "#0d0887"
            ],
            [
             0.1111111111111111,
             "#46039f"
            ],
            [
             0.2222222222222222,
             "#7201a8"
            ],
            [
             0.3333333333333333,
             "#9c179e"
            ],
            [
             0.4444444444444444,
             "#bd3786"
            ],
            [
             0.5555555555555556,
             "#d8576b"
            ],
            [
             0.6666666666666666,
             "#ed7953"
            ],
            [
             0.7777777777777778,
             "#fb9f3a"
            ],
            [
             0.8888888888888888,
             "#fdca26"
            ],
            [
             1,
             "#f0f921"
            ]
           ]
          },
          "colorway": [
           "#636efa",
           "#EF553B",
           "#00cc96",
           "#ab63fa",
           "#FFA15A",
           "#19d3f3",
           "#FF6692",
           "#B6E880",
           "#FF97FF",
           "#FECB52"
          ],
          "font": {
           "color": "#2a3f5f"
          },
          "geo": {
           "bgcolor": "white",
           "lakecolor": "white",
           "landcolor": "#E5ECF6",
           "showlakes": true,
           "showland": true,
           "subunitcolor": "white"
          },
          "hoverlabel": {
           "align": "left"
          },
          "hovermode": "closest",
          "mapbox": {
           "style": "light"
          },
          "paper_bgcolor": "white",
          "plot_bgcolor": "#E5ECF6",
          "polar": {
           "angularaxis": {
            "gridcolor": "white",
            "linecolor": "white",
            "ticks": ""
           },
           "bgcolor": "#E5ECF6",
           "radialaxis": {
            "gridcolor": "white",
            "linecolor": "white",
            "ticks": ""
           }
          },
          "scene": {
           "xaxis": {
            "backgroundcolor": "#E5ECF6",
            "gridcolor": "white",
            "gridwidth": 2,
            "linecolor": "white",
            "showbackground": true,
            "ticks": "",
            "zerolinecolor": "white"
           },
           "yaxis": {
            "backgroundcolor": "#E5ECF6",
            "gridcolor": "white",
            "gridwidth": 2,
            "linecolor": "white",
            "showbackground": true,
            "ticks": "",
            "zerolinecolor": "white"
           },
           "zaxis": {
            "backgroundcolor": "#E5ECF6",
            "gridcolor": "white",
            "gridwidth": 2,
            "linecolor": "white",
            "showbackground": true,
            "ticks": "",
            "zerolinecolor": "white"
           }
          },
          "shapedefaults": {
           "line": {
            "color": "#2a3f5f"
           }
          },
          "ternary": {
           "aaxis": {
            "gridcolor": "white",
            "linecolor": "white",
            "ticks": ""
           },
           "baxis": {
            "gridcolor": "white",
            "linecolor": "white",
            "ticks": ""
           },
           "bgcolor": "#E5ECF6",
           "caxis": {
            "gridcolor": "white",
            "linecolor": "white",
            "ticks": ""
           }
          },
          "title": {
           "x": 0.05
          },
          "xaxis": {
           "automargin": true,
           "gridcolor": "white",
           "linecolor": "white",
           "ticks": "",
           "title": {
            "standoff": 15
           },
           "zerolinecolor": "white",
           "zerolinewidth": 2
          },
          "yaxis": {
           "automargin": true,
           "gridcolor": "white",
           "linecolor": "white",
           "ticks": "",
           "title": {
            "standoff": 15
           },
           "zerolinecolor": "white",
           "zerolinewidth": 2
          }
         }
        },
        "title": {
         "font": {
          "color": "#4D5663"
         }
        },
        "xaxis": {
         "gridcolor": "#E1E5ED",
         "showgrid": true,
         "tickfont": {
          "color": "#4D5663"
         },
         "title": {
          "font": {
           "color": "#4D5663"
          },
          "text": ""
         },
         "zerolinecolor": "#E1E5ED"
        },
        "yaxis": {
         "gridcolor": "#E1E5ED",
         "showgrid": true,
         "tickfont": {
          "color": "#4D5663"
         },
         "title": {
          "font": {
           "color": "#4D5663"
          },
          "text": ""
         },
         "zerolinecolor": "#E1E5ED"
        }
       }
      },
      "text/html": [
       "<div>                            <div id=\"f13345f8-0390-4be4-8a57-0a40e274bec0\" class=\"plotly-graph-div\" style=\"height:525px; width:100%;\"></div>            <script type=\"text/javascript\">                require([\"plotly\"], function(Plotly) {                    window.PLOTLYENV=window.PLOTLYENV || {};\n",
       "                    window.PLOTLYENV.BASE_URL='https://plot.ly';                                    if (document.getElementById(\"f13345f8-0390-4be4-8a57-0a40e274bec0\")) {                    Plotly.newPlot(                        \"f13345f8-0390-4be4-8a57-0a40e274bec0\",                        [{\"marker\":{\"color\":\"rgba(255, 153, 51, 0.6)\",\"line\":{\"color\":\"rgba(255, 153, 51, 1.0)\",\"width\":1}},\"name\":\"None\",\"orientation\":\"v\",\"text\":\"\",\"x\":[\"A\",\"B\",\"C\",\"D\"],\"y\":[0.4789423756073174,0.44736752972737504,0.5438662820973051,0.4975219004771808],\"type\":\"bar\"}],                        {\"legend\":{\"bgcolor\":\"#F5F6F9\",\"font\":{\"color\":\"#4D5663\"}},\"paper_bgcolor\":\"#F5F6F9\",\"plot_bgcolor\":\"#F5F6F9\",\"template\":{\"data\":{\"barpolar\":[{\"marker\":{\"line\":{\"color\":\"#E5ECF6\",\"width\":0.5},\"pattern\":{\"fillmode\":\"overlay\",\"size\":10,\"solidity\":0.2}},\"type\":\"barpolar\"}],\"bar\":[{\"error_x\":{\"color\":\"#2a3f5f\"},\"error_y\":{\"color\":\"#2a3f5f\"},\"marker\":{\"line\":{\"color\":\"#E5ECF6\",\"width\":0.5},\"pattern\":{\"fillmode\":\"overlay\",\"size\":10,\"solidity\":0.2}},\"type\":\"bar\"}],\"carpet\":[{\"aaxis\":{\"endlinecolor\":\"#2a3f5f\",\"gridcolor\":\"white\",\"linecolor\":\"white\",\"minorgridcolor\":\"white\",\"startlinecolor\":\"#2a3f5f\"},\"baxis\":{\"endlinecolor\":\"#2a3f5f\",\"gridcolor\":\"white\",\"linecolor\":\"white\",\"minorgridcolor\":\"white\",\"startlinecolor\":\"#2a3f5f\"},\"type\":\"carpet\"}],\"choropleth\":[{\"colorbar\":{\"outlinewidth\":0,\"ticks\":\"\"},\"type\":\"choropleth\"}],\"contourcarpet\":[{\"colorbar\":{\"outlinewidth\":0,\"ticks\":\"\"},\"type\":\"contourcarpet\"}],\"contour\":[{\"colorbar\":{\"outlinewidth\":0,\"ticks\":\"\"},\"colorscale\":[[0.0,\"#0d0887\"],[0.1111111111111111,\"#46039f\"],[0.2222222222222222,\"#7201a8\"],[0.3333333333333333,\"#9c179e\"],[0.4444444444444444,\"#bd3786\"],[0.5555555555555556,\"#d8576b\"],[0.6666666666666666,\"#ed7953\"],[0.7777777777777778,\"#fb9f3a\"],[0.8888888888888888,\"#fdca26\"],[1.0,\"#f0f921\"]],\"type\":\"contour\"}],\"heatmapgl\":[{\"colorbar\":{\"outlinewidth\":0,\"ticks\":\"\"},\"colorscale\":[[0.0,\"#0d0887\"],[0.1111111111111111,\"#46039f\"],[0.2222222222222222,\"#7201a8\"],[0.3333333333333333,\"#9c179e\"],[0.4444444444444444,\"#bd3786\"],[0.5555555555555556,\"#d8576b\"],[0.6666666666666666,\"#ed7953\"],[0.7777777777777778,\"#fb9f3a\"],[0.8888888888888888,\"#fdca26\"],[1.0,\"#f0f921\"]],\"type\":\"heatmapgl\"}],\"heatmap\":[{\"colorbar\":{\"outlinewidth\":0,\"ticks\":\"\"},\"colorscale\":[[0.0,\"#0d0887\"],[0.1111111111111111,\"#46039f\"],[0.2222222222222222,\"#7201a8\"],[0.3333333333333333,\"#9c179e\"],[0.4444444444444444,\"#bd3786\"],[0.5555555555555556,\"#d8576b\"],[0.6666666666666666,\"#ed7953\"],[0.7777777777777778,\"#fb9f3a\"],[0.8888888888888888,\"#fdca26\"],[1.0,\"#f0f921\"]],\"type\":\"heatmap\"}],\"histogram2dcontour\":[{\"colorbar\":{\"outlinewidth\":0,\"ticks\":\"\"},\"colorscale\":[[0.0,\"#0d0887\"],[0.1111111111111111,\"#46039f\"],[0.2222222222222222,\"#7201a8\"],[0.3333333333333333,\"#9c179e\"],[0.4444444444444444,\"#bd3786\"],[0.5555555555555556,\"#d8576b\"],[0.6666666666666666,\"#ed7953\"],[0.7777777777777778,\"#fb9f3a\"],[0.8888888888888888,\"#fdca26\"],[1.0,\"#f0f921\"]],\"type\":\"histogram2dcontour\"}],\"histogram2d\":[{\"colorbar\":{\"outlinewidth\":0,\"ticks\":\"\"},\"colorscale\":[[0.0,\"#0d0887\"],[0.1111111111111111,\"#46039f\"],[0.2222222222222222,\"#7201a8\"],[0.3333333333333333,\"#9c179e\"],[0.4444444444444444,\"#bd3786\"],[0.5555555555555556,\"#d8576b\"],[0.6666666666666666,\"#ed7953\"],[0.7777777777777778,\"#fb9f3a\"],[0.8888888888888888,\"#fdca26\"],[1.0,\"#f0f921\"]],\"type\":\"histogram2d\"}],\"histogram\":[{\"marker\":{\"pattern\":{\"fillmode\":\"overlay\",\"size\":10,\"solidity\":0.2}},\"type\":\"histogram\"}],\"mesh3d\":[{\"colorbar\":{\"outlinewidth\":0,\"ticks\":\"\"},\"type\":\"mesh3d\"}],\"parcoords\":[{\"line\":{\"colorbar\":{\"outlinewidth\":0,\"ticks\":\"\"}},\"type\":\"parcoords\"}],\"pie\":[{\"automargin\":true,\"type\":\"pie\"}],\"scatter3d\":[{\"line\":{\"colorbar\":{\"outlinewidth\":0,\"ticks\":\"\"}},\"marker\":{\"colorbar\":{\"outlinewidth\":0,\"ticks\":\"\"}},\"type\":\"scatter3d\"}],\"scattercarpet\":[{\"marker\":{\"colorbar\":{\"outlinewidth\":0,\"ticks\":\"\"}},\"type\":\"scattercarpet\"}],\"scattergeo\":[{\"marker\":{\"colorbar\":{\"outlinewidth\":0,\"ticks\":\"\"}},\"type\":\"scattergeo\"}],\"scattergl\":[{\"marker\":{\"colorbar\":{\"outlinewidth\":0,\"ticks\":\"\"}},\"type\":\"scattergl\"}],\"scattermapbox\":[{\"marker\":{\"colorbar\":{\"outlinewidth\":0,\"ticks\":\"\"}},\"type\":\"scattermapbox\"}],\"scatterpolargl\":[{\"marker\":{\"colorbar\":{\"outlinewidth\":0,\"ticks\":\"\"}},\"type\":\"scatterpolargl\"}],\"scatterpolar\":[{\"marker\":{\"colorbar\":{\"outlinewidth\":0,\"ticks\":\"\"}},\"type\":\"scatterpolar\"}],\"scatter\":[{\"marker\":{\"colorbar\":{\"outlinewidth\":0,\"ticks\":\"\"}},\"type\":\"scatter\"}],\"scatterternary\":[{\"marker\":{\"colorbar\":{\"outlinewidth\":0,\"ticks\":\"\"}},\"type\":\"scatterternary\"}],\"surface\":[{\"colorbar\":{\"outlinewidth\":0,\"ticks\":\"\"},\"colorscale\":[[0.0,\"#0d0887\"],[0.1111111111111111,\"#46039f\"],[0.2222222222222222,\"#7201a8\"],[0.3333333333333333,\"#9c179e\"],[0.4444444444444444,\"#bd3786\"],[0.5555555555555556,\"#d8576b\"],[0.6666666666666666,\"#ed7953\"],[0.7777777777777778,\"#fb9f3a\"],[0.8888888888888888,\"#fdca26\"],[1.0,\"#f0f921\"]],\"type\":\"surface\"}],\"table\":[{\"cells\":{\"fill\":{\"color\":\"#EBF0F8\"},\"line\":{\"color\":\"white\"}},\"header\":{\"fill\":{\"color\":\"#C8D4E3\"},\"line\":{\"color\":\"white\"}},\"type\":\"table\"}]},\"layout\":{\"annotationdefaults\":{\"arrowcolor\":\"#2a3f5f\",\"arrowhead\":0,\"arrowwidth\":1},\"autotypenumbers\":\"strict\",\"coloraxis\":{\"colorbar\":{\"outlinewidth\":0,\"ticks\":\"\"}},\"colorscale\":{\"diverging\":[[0,\"#8e0152\"],[0.1,\"#c51b7d\"],[0.2,\"#de77ae\"],[0.3,\"#f1b6da\"],[0.4,\"#fde0ef\"],[0.5,\"#f7f7f7\"],[0.6,\"#e6f5d0\"],[0.7,\"#b8e186\"],[0.8,\"#7fbc41\"],[0.9,\"#4d9221\"],[1,\"#276419\"]],\"sequential\":[[0.0,\"#0d0887\"],[0.1111111111111111,\"#46039f\"],[0.2222222222222222,\"#7201a8\"],[0.3333333333333333,\"#9c179e\"],[0.4444444444444444,\"#bd3786\"],[0.5555555555555556,\"#d8576b\"],[0.6666666666666666,\"#ed7953\"],[0.7777777777777778,\"#fb9f3a\"],[0.8888888888888888,\"#fdca26\"],[1.0,\"#f0f921\"]],\"sequentialminus\":[[0.0,\"#0d0887\"],[0.1111111111111111,\"#46039f\"],[0.2222222222222222,\"#7201a8\"],[0.3333333333333333,\"#9c179e\"],[0.4444444444444444,\"#bd3786\"],[0.5555555555555556,\"#d8576b\"],[0.6666666666666666,\"#ed7953\"],[0.7777777777777778,\"#fb9f3a\"],[0.8888888888888888,\"#fdca26\"],[1.0,\"#f0f921\"]]},\"colorway\":[\"#636efa\",\"#EF553B\",\"#00cc96\",\"#ab63fa\",\"#FFA15A\",\"#19d3f3\",\"#FF6692\",\"#B6E880\",\"#FF97FF\",\"#FECB52\"],\"font\":{\"color\":\"#2a3f5f\"},\"geo\":{\"bgcolor\":\"white\",\"lakecolor\":\"white\",\"landcolor\":\"#E5ECF6\",\"showlakes\":true,\"showland\":true,\"subunitcolor\":\"white\"},\"hoverlabel\":{\"align\":\"left\"},\"hovermode\":\"closest\",\"mapbox\":{\"style\":\"light\"},\"paper_bgcolor\":\"white\",\"plot_bgcolor\":\"#E5ECF6\",\"polar\":{\"angularaxis\":{\"gridcolor\":\"white\",\"linecolor\":\"white\",\"ticks\":\"\"},\"bgcolor\":\"#E5ECF6\",\"radialaxis\":{\"gridcolor\":\"white\",\"linecolor\":\"white\",\"ticks\":\"\"}},\"scene\":{\"xaxis\":{\"backgroundcolor\":\"#E5ECF6\",\"gridcolor\":\"white\",\"gridwidth\":2,\"linecolor\":\"white\",\"showbackground\":true,\"ticks\":\"\",\"zerolinecolor\":\"white\"},\"yaxis\":{\"backgroundcolor\":\"#E5ECF6\",\"gridcolor\":\"white\",\"gridwidth\":2,\"linecolor\":\"white\",\"showbackground\":true,\"ticks\":\"\",\"zerolinecolor\":\"white\"},\"zaxis\":{\"backgroundcolor\":\"#E5ECF6\",\"gridcolor\":\"white\",\"gridwidth\":2,\"linecolor\":\"white\",\"showbackground\":true,\"ticks\":\"\",\"zerolinecolor\":\"white\"}},\"shapedefaults\":{\"line\":{\"color\":\"#2a3f5f\"}},\"ternary\":{\"aaxis\":{\"gridcolor\":\"white\",\"linecolor\":\"white\",\"ticks\":\"\"},\"baxis\":{\"gridcolor\":\"white\",\"linecolor\":\"white\",\"ticks\":\"\"},\"bgcolor\":\"#E5ECF6\",\"caxis\":{\"gridcolor\":\"white\",\"linecolor\":\"white\",\"ticks\":\"\"}},\"title\":{\"x\":0.05},\"xaxis\":{\"automargin\":true,\"gridcolor\":\"white\",\"linecolor\":\"white\",\"ticks\":\"\",\"title\":{\"standoff\":15},\"zerolinecolor\":\"white\",\"zerolinewidth\":2},\"yaxis\":{\"automargin\":true,\"gridcolor\":\"white\",\"linecolor\":\"white\",\"ticks\":\"\",\"title\":{\"standoff\":15},\"zerolinecolor\":\"white\",\"zerolinewidth\":2}}},\"title\":{\"font\":{\"color\":\"#4D5663\"}},\"xaxis\":{\"gridcolor\":\"#E1E5ED\",\"showgrid\":true,\"tickfont\":{\"color\":\"#4D5663\"},\"title\":{\"font\":{\"color\":\"#4D5663\"},\"text\":\"\"},\"zerolinecolor\":\"#E1E5ED\"},\"yaxis\":{\"gridcolor\":\"#E1E5ED\",\"showgrid\":true,\"tickfont\":{\"color\":\"#4D5663\"},\"title\":{\"font\":{\"color\":\"#4D5663\"},\"text\":\"\"},\"zerolinecolor\":\"#E1E5ED\"}},                        {\"showLink\": true, \"linkText\": \"Export to plot.ly\", \"plotlyServerURL\": \"https://plot.ly\", \"responsive\": true}                    ).then(function(){\n",
       "                            \n",
       "var gd = document.getElementById('f13345f8-0390-4be4-8a57-0a40e274bec0');\n",
       "var x = new MutationObserver(function (mutations, observer) {{\n",
       "        var display = window.getComputedStyle(gd).display;\n",
       "        if (!display || display === 'none') {{\n",
       "            console.log([gd, 'removed!']);\n",
       "            Plotly.purge(gd);\n",
       "            observer.disconnect();\n",
       "        }}\n",
       "}});\n",
       "\n",
       "// Listen for the removal of the full notebook cells\n",
       "var notebookContainer = gd.closest('#notebook-container');\n",
       "if (notebookContainer) {{\n",
       "    x.observe(notebookContainer, {childList: true});\n",
       "}}\n",
       "\n",
       "// Listen for the clearing of the current output cell\n",
       "var outputEl = gd.closest('.output');\n",
       "if (outputEl) {{\n",
       "    x.observe(outputEl, {childList: true});\n",
       "}}\n",
       "\n",
       "                        })                };                });            </script>        </div>"
      ]
     },
     "metadata": {},
     "output_type": "display_data"
    }
   ],
   "source": [
    "df.mean().iplot(kind='bar')"
   ]
  },
  {
   "cell_type": "code",
   "execution_count": 37,
   "id": "613879b1",
   "metadata": {},
   "outputs": [
    {
     "data": {
      "application/vnd.plotly.v1+json": {
       "config": {
        "linkText": "Export to plot.ly",
        "plotlyServerURL": "https://plot.ly",
        "showLink": true
       },
       "data": [
        {
         "boxpoints": false,
         "line": {
          "width": 1.3
         },
         "marker": {
          "color": "rgba(255, 153, 51, 1.0)"
         },
         "name": "A",
         "orientation": "v",
         "type": "box",
         "y": [
          0.7619660073950553,
          0.3831993421094785,
          0.5269321193818782,
          0.8275492317391815,
          0.8892593486573043,
          0.3193034931601627,
          0.28895444431277995,
          0.7404201733798286,
          0.12262001182879045,
          0.4493067356839209,
          0.03268762124032354,
          0.5934371670171862,
          0.00775924351526569,
          0.7455915765369152,
          0.4502326921792916,
          0.3916702955561916,
          0.9499649212210532,
          0.40318591556191474,
          0.40430371134501164,
          0.9295708927415494,
          0.26401447744374207,
          0.04511005253584999,
          0.19567228276849713,
          0.6461452322972179,
          0.4150268649397657,
          0.725922808467533,
          0.24440128975011677,
          0.23705121473054847,
          0.3908586565883515,
          0.06321951994661645,
          0.49750978787243083,
          0.21896559130674031,
          0.15366305526772783,
          0.006900916720903871,
          0.8125625292473938,
          0.4572756047229609,
          0.6709495356717864,
          0.04816046679203534,
          0.18762944263268255,
          0.7481366533880054,
          0.872440559716538,
          0.6990539539189577,
          0.4008588265264157,
          0.8876162116069556,
          0.7720236084810732,
          0.7162082122874913,
          0.3407175898186231,
          0.2895501156831318,
          0.5233988313773491,
          0.13188177705744175,
          0.495784431850116,
          0.03921293920164437,
          0.36309279113436466,
          0.19260620018151076,
          0.4825063131163069,
          0.18293023655992846,
          0.5081102519643054,
          0.40834269081324326,
          0.7858579803904728,
          0.11075045416252305,
          0.2285418382143266,
          0.9619504700480105,
          0.1365265519797081,
          0.8078347791029732,
          0.487743654722274,
          0.25177027627988124,
          0.3967257162703608,
          0.505524977282712,
          0.3661074008725529,
          0.418861514694419,
          0.17626473882139104,
          0.6919317185694058,
          0.5439240513207385,
          0.4481649951924652,
          0.9132768312770118,
          0.921791909753098,
          0.642844443031545,
          0.5041098343996006,
          0.8661579762231469,
          0.06146029125465091,
          0.15800663822843508,
          0.051203138710208984,
          0.8073206502672432,
          0.9910959951669714,
          0.876589487571141,
          0.852813647221526,
          0.16759692366974466,
          0.8265931069909461,
          0.5561296050596473,
          0.22508091373253858,
          0.6401703261599638,
          0.30919582237103205,
          0.5431169736376333,
          0.7910246102390857,
          0.9237791277470113,
          0.07302968408134924,
          0.15201917738506276,
          0.983133553271018,
          0.19306177479954023,
          0.9917275316090092
         ]
        },
        {
         "boxpoints": false,
         "line": {
          "width": 1.3
         },
         "marker": {
          "color": "rgba(55, 128, 191, 1.0)"
         },
         "name": "B",
         "orientation": "v",
         "type": "box",
         "y": [
          0.7339598796376222,
          0.7501383104927066,
          0.13016208547293562,
          0.11200978376406934,
          0.22651980826246132,
          0.8264590269508255,
          0.22443867141770923,
          0.2352718033072454,
          0.0024846188504629163,
          0.5798802072866126,
          0.5738649740520214,
          0.4301924070105716,
          0.4876251960610537,
          0.2734464900525172,
          0.760568718474913,
          0.6260385346813047,
          0.029084943492812654,
          0.06253555693990653,
          0.6655768154121865,
          0.09049834922935474,
          0.1731333166262019,
          0.6743798741502727,
          0.6500480317357354,
          0.0783011719345924,
          0.5102317647824509,
          0.46150314370866274,
          0.9570694786916037,
          0.8980794966280198,
          0.985392952250985,
          0.8010104762612996,
          0.1359532149661019,
          0.6982104352811658,
          0.9496239355793838,
          0.6289856730494802,
          0.3343850596961273,
          0.4705462267632926,
          0.5358113248142444,
          0.54994988375767,
          0.10619750125105731,
          0.34053025900176015,
          0.512725288760018,
          0.4047347225539547,
          0.19781959875146227,
          0.8067271659399001,
          0.09196611713559333,
          0.3774904205271683,
          0.0674248309139931,
          0.2750998557215809,
          0.7272520586012536,
          0.6627921337777752,
          0.21547850679365865,
          0.46105159730223977,
          0.3948132978906208,
          0.42178085249769126,
          0.4081734031335238,
          0.09945735841702441,
          0.22771194746019074,
          0.8434444345959553,
          0.6946148523209147,
          0.9023596842312003,
          0.4638505188507209,
          0.6281799224310242,
          0.5805488757691596,
          0.0012414559796589675,
          0.8798845815250357,
          0.11438268742010627,
          0.809028744336986,
          0.13030019355695355,
          0.35080744290592747,
          0.8842954224667885,
          0.6691565542958794,
          0.3896463917450411,
          0.4366991083682191,
          0.552245182285504,
          0.3257393992187827,
          0.5905741655913366,
          0.016704330974247616,
          0.49588116502078383,
          0.26474578645560176,
          0.2751859402483783,
          0.7614822740631733,
          0.6645083201236293,
          0.6855306971352015,
          0.21544745676820143,
          0.07117996063176835,
          0.114639783637555,
          0.050123194144784944,
          0.2904254227759736,
          0.34776127684022573,
          0.7344999685663639,
          0.25288744823039233,
          0.5970658246487074,
          0.5006956562340436,
          0.6027237230222172,
          0.23026493515505964,
          0.4362682166721016,
          0.487018856912538,
          0.8615638279257543,
          0.32508203394432833,
          0.09546869675423375
         ]
        },
        {
         "boxpoints": false,
         "line": {
          "width": 1.3
         },
         "marker": {
          "color": "rgba(50, 171, 96, 1.0)"
         },
         "name": "C",
         "orientation": "v",
         "type": "box",
         "y": [
          0.48994178486763973,
          0.4392627309753028,
          0.9686290112192875,
          0.5048735866512276,
          0.1017291045298857,
          0.6318974257647305,
          0.08496157650071412,
          0.22747296407613338,
          0.6050595067412333,
          0.6788167886261672,
          0.7637196511883925,
          0.029536245436085906,
          0.5347771455820954,
          0.3761139604663193,
          0.35382619394351067,
          0.5522377987990843,
          0.7420617544122445,
          0.971097323898076,
          0.10992201194963669,
          0.92651698010797,
          0.12210694612390482,
          0.6948757457918311,
          0.5933637061680342,
          0.9723433760599861,
          0.6814523441849866,
          0.7537582885564225,
          0.35123020954937445,
          0.6885201158974867,
          0.028102920710133428,
          0.5255256451848452,
          0.611513915485729,
          0.04602526700654985,
          0.9460218483554266,
          0.6711550466617024,
          0.7235169153895089,
          0.012270753310094862,
          0.14490125323506786,
          0.7952467004090731,
          0.97900056160059,
          0.7314219319755022,
          0.8688858396326965,
          0.5584103745187854,
          0.8700940763841912,
          0.3804146053601756,
          0.7586474418626046,
          0.4336084956926466,
          0.9224550999239891,
          0.5151931763732133,
          0.7234713176195481,
          0.894495458699626,
          0.19908743183141808,
          0.5004700866647201,
          0.6710095911595803,
          0.7343374816685606,
          0.8318664516913109,
          0.053972947362364576,
          0.8826636961003679,
          0.6887250471610893,
          0.7253385521274806,
          0.1936409680930874,
          0.5411851199071863,
          0.9328699421039989,
          0.7675849478996553,
          0.5844852219933127,
          0.20937597662357466,
          0.600206594677098,
          0.6482292216178916,
          0.04459166963388661,
          0.15261877613839925,
          0.09290614080224391,
          0.8022302038519756,
          0.7342114346211318,
          0.9191233709602152,
          0.7675767614267679,
          0.47660015716340287,
          0.494936205550916,
          0.9121380671584027,
          0.8705220078440615,
          0.8785082253048494,
          0.6868630373868092,
          0.3790372735459786,
          0.09873907615087552,
          0.5951013781132024,
          0.7962133030802363,
          0.3561890303738343,
          0.5178452584857594,
          0.539500433477665,
          0.012082464832550821,
          0.3687719924765247,
          0.07122201760596714,
          0.5300975248213184,
          0.7046093414506819,
          0.5423280449311959,
          0.30889406555916843,
          0.6868465170394179,
          0.37798764713121924,
          0.542875266638495,
          0.7330716083799603,
          0.48827268008044755,
          0.04858502557079991
         ]
        },
        {
         "boxpoints": false,
         "line": {
          "width": 1.3
         },
         "marker": {
          "color": "rgba(128, 0, 128, 1.0)"
         },
         "name": "D",
         "orientation": "v",
         "type": "box",
         "y": [
          0.8987576252586102,
          0.797330843062111,
          0.8485281028996704,
          0.1914572130001988,
          0.4700639826911347,
          0.4128448382530481,
          0.04723112194010781,
          0.5208689706044635,
          0.6943142463118016,
          0.3415631885250485,
          0.9400510982689896,
          0.820931171044754,
          0.4357377238848412,
          0.6121151708213703,
          0.46951103442410125,
          0.9806144922153679,
          0.5267754958529278,
          0.7891144536725998,
          0.24101122496678706,
          0.7924699295349183,
          0.5804521775615598,
          0.9070895427876049,
          0.68916203570464,
          0.5987235244597106,
          0.35312084931643617,
          0.028321011269562546,
          0.7525711258052912,
          0.5095635317563492,
          0.04397419626567067,
          0.32546219463798554,
          0.3331879938230772,
          0.9841521192289913,
          0.5583464342959563,
          0.19279780398966107,
          0.8819424677298963,
          0.019332976704915406,
          0.4950597119939998,
          0.22486504236773108,
          0.7529129438891541,
          0.23201323816632236,
          0.9053744902103413,
          0.542795511023813,
          0.5075355287403258,
          0.3866287400518348,
          0.8741053558523413,
          0.9953746203999989,
          0.6709886831365968,
          0.8478361423637356,
          0.21727760692326115,
          0.7834503160054718,
          0.5225741911144963,
          0.30785808002060844,
          0.8626121387907464,
          0.021878587472828226,
          0.3132571615277814,
          0.269819703915101,
          0.047388947590950026,
          0.3783792139521778,
          0.6686715562815971,
          0.9340195896813317,
          0.24505316377281527,
          0.609341035884486,
          0.028512158125664766,
          0.5219175887400826,
          0.2789385116867189,
          0.5640668254847896,
          0.03848604584262927,
          0.4471931557922294,
          0.7157733382789738,
          0.3488660370994199,
          0.5178238120474549,
          0.5660049109441244,
          0.6759687616692475,
          0.3440802895222872,
          0.19633304738425505,
          0.068427853103733,
          0.961558562423373,
          0.19847993488194093,
          0.2069189471745908,
          0.8132554715264844,
          0.8888914058334912,
          0.676830901973747,
          0.9067289015561729,
          0.4623345767488364,
          0.3746023117702302,
          0.46009272979736426,
          0.007237548420919282,
          0.517787117725699,
          0.03732628959923279,
          0.5761660217671997,
          0.7579811277873082,
          0.3872441509651735,
          0.5010283266044836,
          0.15185669982217342,
          0.043185938195618445,
          0.869124913839304,
          0.34644360847665445,
          0.007513324253049514,
          0.08127399613059183,
          0.9993716910228512
         ]
        }
       ],
       "layout": {
        "legend": {
         "bgcolor": "#F5F6F9",
         "font": {
          "color": "#4D5663"
         }
        },
        "paper_bgcolor": "#F5F6F9",
        "plot_bgcolor": "#F5F6F9",
        "template": {
         "data": {
          "bar": [
           {
            "error_x": {
             "color": "#2a3f5f"
            },
            "error_y": {
             "color": "#2a3f5f"
            },
            "marker": {
             "line": {
              "color": "#E5ECF6",
              "width": 0.5
             },
             "pattern": {
              "fillmode": "overlay",
              "size": 10,
              "solidity": 0.2
             }
            },
            "type": "bar"
           }
          ],
          "barpolar": [
           {
            "marker": {
             "line": {
              "color": "#E5ECF6",
              "width": 0.5
             },
             "pattern": {
              "fillmode": "overlay",
              "size": 10,
              "solidity": 0.2
             }
            },
            "type": "barpolar"
           }
          ],
          "carpet": [
           {
            "aaxis": {
             "endlinecolor": "#2a3f5f",
             "gridcolor": "white",
             "linecolor": "white",
             "minorgridcolor": "white",
             "startlinecolor": "#2a3f5f"
            },
            "baxis": {
             "endlinecolor": "#2a3f5f",
             "gridcolor": "white",
             "linecolor": "white",
             "minorgridcolor": "white",
             "startlinecolor": "#2a3f5f"
            },
            "type": "carpet"
           }
          ],
          "choropleth": [
           {
            "colorbar": {
             "outlinewidth": 0,
             "ticks": ""
            },
            "type": "choropleth"
           }
          ],
          "contour": [
           {
            "colorbar": {
             "outlinewidth": 0,
             "ticks": ""
            },
            "colorscale": [
             [
              0,
              "#0d0887"
             ],
             [
              0.1111111111111111,
              "#46039f"
             ],
             [
              0.2222222222222222,
              "#7201a8"
             ],
             [
              0.3333333333333333,
              "#9c179e"
             ],
             [
              0.4444444444444444,
              "#bd3786"
             ],
             [
              0.5555555555555556,
              "#d8576b"
             ],
             [
              0.6666666666666666,
              "#ed7953"
             ],
             [
              0.7777777777777778,
              "#fb9f3a"
             ],
             [
              0.8888888888888888,
              "#fdca26"
             ],
             [
              1,
              "#f0f921"
             ]
            ],
            "type": "contour"
           }
          ],
          "contourcarpet": [
           {
            "colorbar": {
             "outlinewidth": 0,
             "ticks": ""
            },
            "type": "contourcarpet"
           }
          ],
          "heatmap": [
           {
            "colorbar": {
             "outlinewidth": 0,
             "ticks": ""
            },
            "colorscale": [
             [
              0,
              "#0d0887"
             ],
             [
              0.1111111111111111,
              "#46039f"
             ],
             [
              0.2222222222222222,
              "#7201a8"
             ],
             [
              0.3333333333333333,
              "#9c179e"
             ],
             [
              0.4444444444444444,
              "#bd3786"
             ],
             [
              0.5555555555555556,
              "#d8576b"
             ],
             [
              0.6666666666666666,
              "#ed7953"
             ],
             [
              0.7777777777777778,
              "#fb9f3a"
             ],
             [
              0.8888888888888888,
              "#fdca26"
             ],
             [
              1,
              "#f0f921"
             ]
            ],
            "type": "heatmap"
           }
          ],
          "heatmapgl": [
           {
            "colorbar": {
             "outlinewidth": 0,
             "ticks": ""
            },
            "colorscale": [
             [
              0,
              "#0d0887"
             ],
             [
              0.1111111111111111,
              "#46039f"
             ],
             [
              0.2222222222222222,
              "#7201a8"
             ],
             [
              0.3333333333333333,
              "#9c179e"
             ],
             [
              0.4444444444444444,
              "#bd3786"
             ],
             [
              0.5555555555555556,
              "#d8576b"
             ],
             [
              0.6666666666666666,
              "#ed7953"
             ],
             [
              0.7777777777777778,
              "#fb9f3a"
             ],
             [
              0.8888888888888888,
              "#fdca26"
             ],
             [
              1,
              "#f0f921"
             ]
            ],
            "type": "heatmapgl"
           }
          ],
          "histogram": [
           {
            "marker": {
             "pattern": {
              "fillmode": "overlay",
              "size": 10,
              "solidity": 0.2
             }
            },
            "type": "histogram"
           }
          ],
          "histogram2d": [
           {
            "colorbar": {
             "outlinewidth": 0,
             "ticks": ""
            },
            "colorscale": [
             [
              0,
              "#0d0887"
             ],
             [
              0.1111111111111111,
              "#46039f"
             ],
             [
              0.2222222222222222,
              "#7201a8"
             ],
             [
              0.3333333333333333,
              "#9c179e"
             ],
             [
              0.4444444444444444,
              "#bd3786"
             ],
             [
              0.5555555555555556,
              "#d8576b"
             ],
             [
              0.6666666666666666,
              "#ed7953"
             ],
             [
              0.7777777777777778,
              "#fb9f3a"
             ],
             [
              0.8888888888888888,
              "#fdca26"
             ],
             [
              1,
              "#f0f921"
             ]
            ],
            "type": "histogram2d"
           }
          ],
          "histogram2dcontour": [
           {
            "colorbar": {
             "outlinewidth": 0,
             "ticks": ""
            },
            "colorscale": [
             [
              0,
              "#0d0887"
             ],
             [
              0.1111111111111111,
              "#46039f"
             ],
             [
              0.2222222222222222,
              "#7201a8"
             ],
             [
              0.3333333333333333,
              "#9c179e"
             ],
             [
              0.4444444444444444,
              "#bd3786"
             ],
             [
              0.5555555555555556,
              "#d8576b"
             ],
             [
              0.6666666666666666,
              "#ed7953"
             ],
             [
              0.7777777777777778,
              "#fb9f3a"
             ],
             [
              0.8888888888888888,
              "#fdca26"
             ],
             [
              1,
              "#f0f921"
             ]
            ],
            "type": "histogram2dcontour"
           }
          ],
          "mesh3d": [
           {
            "colorbar": {
             "outlinewidth": 0,
             "ticks": ""
            },
            "type": "mesh3d"
           }
          ],
          "parcoords": [
           {
            "line": {
             "colorbar": {
              "outlinewidth": 0,
              "ticks": ""
             }
            },
            "type": "parcoords"
           }
          ],
          "pie": [
           {
            "automargin": true,
            "type": "pie"
           }
          ],
          "scatter": [
           {
            "marker": {
             "colorbar": {
              "outlinewidth": 0,
              "ticks": ""
             }
            },
            "type": "scatter"
           }
          ],
          "scatter3d": [
           {
            "line": {
             "colorbar": {
              "outlinewidth": 0,
              "ticks": ""
             }
            },
            "marker": {
             "colorbar": {
              "outlinewidth": 0,
              "ticks": ""
             }
            },
            "type": "scatter3d"
           }
          ],
          "scattercarpet": [
           {
            "marker": {
             "colorbar": {
              "outlinewidth": 0,
              "ticks": ""
             }
            },
            "type": "scattercarpet"
           }
          ],
          "scattergeo": [
           {
            "marker": {
             "colorbar": {
              "outlinewidth": 0,
              "ticks": ""
             }
            },
            "type": "scattergeo"
           }
          ],
          "scattergl": [
           {
            "marker": {
             "colorbar": {
              "outlinewidth": 0,
              "ticks": ""
             }
            },
            "type": "scattergl"
           }
          ],
          "scattermapbox": [
           {
            "marker": {
             "colorbar": {
              "outlinewidth": 0,
              "ticks": ""
             }
            },
            "type": "scattermapbox"
           }
          ],
          "scatterpolar": [
           {
            "marker": {
             "colorbar": {
              "outlinewidth": 0,
              "ticks": ""
             }
            },
            "type": "scatterpolar"
           }
          ],
          "scatterpolargl": [
           {
            "marker": {
             "colorbar": {
              "outlinewidth": 0,
              "ticks": ""
             }
            },
            "type": "scatterpolargl"
           }
          ],
          "scatterternary": [
           {
            "marker": {
             "colorbar": {
              "outlinewidth": 0,
              "ticks": ""
             }
            },
            "type": "scatterternary"
           }
          ],
          "surface": [
           {
            "colorbar": {
             "outlinewidth": 0,
             "ticks": ""
            },
            "colorscale": [
             [
              0,
              "#0d0887"
             ],
             [
              0.1111111111111111,
              "#46039f"
             ],
             [
              0.2222222222222222,
              "#7201a8"
             ],
             [
              0.3333333333333333,
              "#9c179e"
             ],
             [
              0.4444444444444444,
              "#bd3786"
             ],
             [
              0.5555555555555556,
              "#d8576b"
             ],
             [
              0.6666666666666666,
              "#ed7953"
             ],
             [
              0.7777777777777778,
              "#fb9f3a"
             ],
             [
              0.8888888888888888,
              "#fdca26"
             ],
             [
              1,
              "#f0f921"
             ]
            ],
            "type": "surface"
           }
          ],
          "table": [
           {
            "cells": {
             "fill": {
              "color": "#EBF0F8"
             },
             "line": {
              "color": "white"
             }
            },
            "header": {
             "fill": {
              "color": "#C8D4E3"
             },
             "line": {
              "color": "white"
             }
            },
            "type": "table"
           }
          ]
         },
         "layout": {
          "annotationdefaults": {
           "arrowcolor": "#2a3f5f",
           "arrowhead": 0,
           "arrowwidth": 1
          },
          "autotypenumbers": "strict",
          "coloraxis": {
           "colorbar": {
            "outlinewidth": 0,
            "ticks": ""
           }
          },
          "colorscale": {
           "diverging": [
            [
             0,
             "#8e0152"
            ],
            [
             0.1,
             "#c51b7d"
            ],
            [
             0.2,
             "#de77ae"
            ],
            [
             0.3,
             "#f1b6da"
            ],
            [
             0.4,
             "#fde0ef"
            ],
            [
             0.5,
             "#f7f7f7"
            ],
            [
             0.6,
             "#e6f5d0"
            ],
            [
             0.7,
             "#b8e186"
            ],
            [
             0.8,
             "#7fbc41"
            ],
            [
             0.9,
             "#4d9221"
            ],
            [
             1,
             "#276419"
            ]
           ],
           "sequential": [
            [
             0,
             "#0d0887"
            ],
            [
             0.1111111111111111,
             "#46039f"
            ],
            [
             0.2222222222222222,
             "#7201a8"
            ],
            [
             0.3333333333333333,
             "#9c179e"
            ],
            [
             0.4444444444444444,
             "#bd3786"
            ],
            [
             0.5555555555555556,
             "#d8576b"
            ],
            [
             0.6666666666666666,
             "#ed7953"
            ],
            [
             0.7777777777777778,
             "#fb9f3a"
            ],
            [
             0.8888888888888888,
             "#fdca26"
            ],
            [
             1,
             "#f0f921"
            ]
           ],
           "sequentialminus": [
            [
             0,
             "#0d0887"
            ],
            [
             0.1111111111111111,
             "#46039f"
            ],
            [
             0.2222222222222222,
             "#7201a8"
            ],
            [
             0.3333333333333333,
             "#9c179e"
            ],
            [
             0.4444444444444444,
             "#bd3786"
            ],
            [
             0.5555555555555556,
             "#d8576b"
            ],
            [
             0.6666666666666666,
             "#ed7953"
            ],
            [
             0.7777777777777778,
             "#fb9f3a"
            ],
            [
             0.8888888888888888,
             "#fdca26"
            ],
            [
             1,
             "#f0f921"
            ]
           ]
          },
          "colorway": [
           "#636efa",
           "#EF553B",
           "#00cc96",
           "#ab63fa",
           "#FFA15A",
           "#19d3f3",
           "#FF6692",
           "#B6E880",
           "#FF97FF",
           "#FECB52"
          ],
          "font": {
           "color": "#2a3f5f"
          },
          "geo": {
           "bgcolor": "white",
           "lakecolor": "white",
           "landcolor": "#E5ECF6",
           "showlakes": true,
           "showland": true,
           "subunitcolor": "white"
          },
          "hoverlabel": {
           "align": "left"
          },
          "hovermode": "closest",
          "mapbox": {
           "style": "light"
          },
          "paper_bgcolor": "white",
          "plot_bgcolor": "#E5ECF6",
          "polar": {
           "angularaxis": {
            "gridcolor": "white",
            "linecolor": "white",
            "ticks": ""
           },
           "bgcolor": "#E5ECF6",
           "radialaxis": {
            "gridcolor": "white",
            "linecolor": "white",
            "ticks": ""
           }
          },
          "scene": {
           "xaxis": {
            "backgroundcolor": "#E5ECF6",
            "gridcolor": "white",
            "gridwidth": 2,
            "linecolor": "white",
            "showbackground": true,
            "ticks": "",
            "zerolinecolor": "white"
           },
           "yaxis": {
            "backgroundcolor": "#E5ECF6",
            "gridcolor": "white",
            "gridwidth": 2,
            "linecolor": "white",
            "showbackground": true,
            "ticks": "",
            "zerolinecolor": "white"
           },
           "zaxis": {
            "backgroundcolor": "#E5ECF6",
            "gridcolor": "white",
            "gridwidth": 2,
            "linecolor": "white",
            "showbackground": true,
            "ticks": "",
            "zerolinecolor": "white"
           }
          },
          "shapedefaults": {
           "line": {
            "color": "#2a3f5f"
           }
          },
          "ternary": {
           "aaxis": {
            "gridcolor": "white",
            "linecolor": "white",
            "ticks": ""
           },
           "baxis": {
            "gridcolor": "white",
            "linecolor": "white",
            "ticks": ""
           },
           "bgcolor": "#E5ECF6",
           "caxis": {
            "gridcolor": "white",
            "linecolor": "white",
            "ticks": ""
           }
          },
          "title": {
           "x": 0.05
          },
          "xaxis": {
           "automargin": true,
           "gridcolor": "white",
           "linecolor": "white",
           "ticks": "",
           "title": {
            "standoff": 15
           },
           "zerolinecolor": "white",
           "zerolinewidth": 2
          },
          "yaxis": {
           "automargin": true,
           "gridcolor": "white",
           "linecolor": "white",
           "ticks": "",
           "title": {
            "standoff": 15
           },
           "zerolinecolor": "white",
           "zerolinewidth": 2
          }
         }
        },
        "title": {
         "font": {
          "color": "#4D5663"
         }
        },
        "xaxis": {
         "gridcolor": "#E1E5ED",
         "showgrid": true,
         "tickfont": {
          "color": "#4D5663"
         },
         "title": {
          "font": {
           "color": "#4D5663"
          },
          "text": ""
         },
         "zerolinecolor": "#E1E5ED"
        },
        "yaxis": {
         "gridcolor": "#E1E5ED",
         "showgrid": true,
         "tickfont": {
          "color": "#4D5663"
         },
         "title": {
          "font": {
           "color": "#4D5663"
          },
          "text": ""
         },
         "zerolinecolor": "#E1E5ED"
        }
       }
      },
      "text/html": [
       "<div>                            <div id=\"86b2c2d4-8f44-469e-b3d1-43fded03adf9\" class=\"plotly-graph-div\" style=\"height:525px; width:100%;\"></div>            <script type=\"text/javascript\">                require([\"plotly\"], function(Plotly) {                    window.PLOTLYENV=window.PLOTLYENV || {};\n",
       "                    window.PLOTLYENV.BASE_URL='https://plot.ly';                                    if (document.getElementById(\"86b2c2d4-8f44-469e-b3d1-43fded03adf9\")) {                    Plotly.newPlot(                        \"86b2c2d4-8f44-469e-b3d1-43fded03adf9\",                        [{\"boxpoints\":false,\"line\":{\"width\":1.3},\"marker\":{\"color\":\"rgba(255, 153, 51, 1.0)\"},\"name\":\"A\",\"orientation\":\"v\",\"y\":[0.7619660073950553,0.3831993421094785,0.5269321193818782,0.8275492317391815,0.8892593486573043,0.3193034931601627,0.28895444431277995,0.7404201733798286,0.12262001182879045,0.4493067356839209,0.03268762124032354,0.5934371670171862,0.00775924351526569,0.7455915765369152,0.4502326921792916,0.3916702955561916,0.9499649212210532,0.40318591556191474,0.40430371134501164,0.9295708927415494,0.26401447744374207,0.04511005253584999,0.19567228276849713,0.6461452322972179,0.4150268649397657,0.725922808467533,0.24440128975011677,0.23705121473054847,0.3908586565883515,0.06321951994661645,0.49750978787243083,0.21896559130674031,0.15366305526772783,0.006900916720903871,0.8125625292473938,0.4572756047229609,0.6709495356717864,0.04816046679203534,0.18762944263268255,0.7481366533880054,0.872440559716538,0.6990539539189577,0.4008588265264157,0.8876162116069556,0.7720236084810732,0.7162082122874913,0.3407175898186231,0.2895501156831318,0.5233988313773491,0.13188177705744175,0.495784431850116,0.03921293920164437,0.36309279113436466,0.19260620018151076,0.4825063131163069,0.18293023655992846,0.5081102519643054,0.40834269081324326,0.7858579803904728,0.11075045416252305,0.2285418382143266,0.9619504700480105,0.1365265519797081,0.8078347791029732,0.487743654722274,0.25177027627988124,0.3967257162703608,0.505524977282712,0.3661074008725529,0.418861514694419,0.17626473882139104,0.6919317185694058,0.5439240513207385,0.4481649951924652,0.9132768312770118,0.921791909753098,0.642844443031545,0.5041098343996006,0.8661579762231469,0.06146029125465091,0.15800663822843508,0.051203138710208984,0.8073206502672432,0.9910959951669714,0.876589487571141,0.852813647221526,0.16759692366974466,0.8265931069909461,0.5561296050596473,0.22508091373253858,0.6401703261599638,0.30919582237103205,0.5431169736376333,0.7910246102390857,0.9237791277470113,0.07302968408134924,0.15201917738506276,0.983133553271018,0.19306177479954023,0.9917275316090092],\"type\":\"box\"},{\"boxpoints\":false,\"line\":{\"width\":1.3},\"marker\":{\"color\":\"rgba(55, 128, 191, 1.0)\"},\"name\":\"B\",\"orientation\":\"v\",\"y\":[0.7339598796376222,0.7501383104927066,0.13016208547293562,0.11200978376406934,0.22651980826246132,0.8264590269508255,0.22443867141770923,0.2352718033072454,0.0024846188504629163,0.5798802072866126,0.5738649740520214,0.4301924070105716,0.4876251960610537,0.2734464900525172,0.760568718474913,0.6260385346813047,0.029084943492812654,0.06253555693990653,0.6655768154121865,0.09049834922935474,0.1731333166262019,0.6743798741502727,0.6500480317357354,0.0783011719345924,0.5102317647824509,0.46150314370866274,0.9570694786916037,0.8980794966280198,0.985392952250985,0.8010104762612996,0.1359532149661019,0.6982104352811658,0.9496239355793838,0.6289856730494802,0.3343850596961273,0.4705462267632926,0.5358113248142444,0.54994988375767,0.10619750125105731,0.34053025900176015,0.512725288760018,0.4047347225539547,0.19781959875146227,0.8067271659399001,0.09196611713559333,0.3774904205271683,0.0674248309139931,0.2750998557215809,0.7272520586012536,0.6627921337777752,0.21547850679365865,0.46105159730223977,0.3948132978906208,0.42178085249769126,0.4081734031335238,0.09945735841702441,0.22771194746019074,0.8434444345959553,0.6946148523209147,0.9023596842312003,0.4638505188507209,0.6281799224310242,0.5805488757691596,0.0012414559796589675,0.8798845815250357,0.11438268742010627,0.809028744336986,0.13030019355695355,0.35080744290592747,0.8842954224667885,0.6691565542958794,0.3896463917450411,0.4366991083682191,0.552245182285504,0.3257393992187827,0.5905741655913366,0.016704330974247616,0.49588116502078383,0.26474578645560176,0.2751859402483783,0.7614822740631733,0.6645083201236293,0.6855306971352015,0.21544745676820143,0.07117996063176835,0.114639783637555,0.050123194144784944,0.2904254227759736,0.34776127684022573,0.7344999685663639,0.25288744823039233,0.5970658246487074,0.5006956562340436,0.6027237230222172,0.23026493515505964,0.4362682166721016,0.487018856912538,0.8615638279257543,0.32508203394432833,0.09546869675423375],\"type\":\"box\"},{\"boxpoints\":false,\"line\":{\"width\":1.3},\"marker\":{\"color\":\"rgba(50, 171, 96, 1.0)\"},\"name\":\"C\",\"orientation\":\"v\",\"y\":[0.48994178486763973,0.4392627309753028,0.9686290112192875,0.5048735866512276,0.1017291045298857,0.6318974257647305,0.08496157650071412,0.22747296407613338,0.6050595067412333,0.6788167886261672,0.7637196511883925,0.029536245436085906,0.5347771455820954,0.3761139604663193,0.35382619394351067,0.5522377987990843,0.7420617544122445,0.971097323898076,0.10992201194963669,0.92651698010797,0.12210694612390482,0.6948757457918311,0.5933637061680342,0.9723433760599861,0.6814523441849866,0.7537582885564225,0.35123020954937445,0.6885201158974867,0.028102920710133428,0.5255256451848452,0.611513915485729,0.04602526700654985,0.9460218483554266,0.6711550466617024,0.7235169153895089,0.012270753310094862,0.14490125323506786,0.7952467004090731,0.97900056160059,0.7314219319755022,0.8688858396326965,0.5584103745187854,0.8700940763841912,0.3804146053601756,0.7586474418626046,0.4336084956926466,0.9224550999239891,0.5151931763732133,0.7234713176195481,0.894495458699626,0.19908743183141808,0.5004700866647201,0.6710095911595803,0.7343374816685606,0.8318664516913109,0.053972947362364576,0.8826636961003679,0.6887250471610893,0.7253385521274806,0.1936409680930874,0.5411851199071863,0.9328699421039989,0.7675849478996553,0.5844852219933127,0.20937597662357466,0.600206594677098,0.6482292216178916,0.04459166963388661,0.15261877613839925,0.09290614080224391,0.8022302038519756,0.7342114346211318,0.9191233709602152,0.7675767614267679,0.47660015716340287,0.494936205550916,0.9121380671584027,0.8705220078440615,0.8785082253048494,0.6868630373868092,0.3790372735459786,0.09873907615087552,0.5951013781132024,0.7962133030802363,0.3561890303738343,0.5178452584857594,0.539500433477665,0.012082464832550821,0.3687719924765247,0.07122201760596714,0.5300975248213184,0.7046093414506819,0.5423280449311959,0.30889406555916843,0.6868465170394179,0.37798764713121924,0.542875266638495,0.7330716083799603,0.48827268008044755,0.04858502557079991],\"type\":\"box\"},{\"boxpoints\":false,\"line\":{\"width\":1.3},\"marker\":{\"color\":\"rgba(128, 0, 128, 1.0)\"},\"name\":\"D\",\"orientation\":\"v\",\"y\":[0.8987576252586102,0.797330843062111,0.8485281028996704,0.1914572130001988,0.4700639826911347,0.4128448382530481,0.04723112194010781,0.5208689706044635,0.6943142463118016,0.3415631885250485,0.9400510982689896,0.820931171044754,0.4357377238848412,0.6121151708213703,0.46951103442410125,0.9806144922153679,0.5267754958529278,0.7891144536725998,0.24101122496678706,0.7924699295349183,0.5804521775615598,0.9070895427876049,0.68916203570464,0.5987235244597106,0.35312084931643617,0.028321011269562546,0.7525711258052912,0.5095635317563492,0.04397419626567067,0.32546219463798554,0.3331879938230772,0.9841521192289913,0.5583464342959563,0.19279780398966107,0.8819424677298963,0.019332976704915406,0.4950597119939998,0.22486504236773108,0.7529129438891541,0.23201323816632236,0.9053744902103413,0.542795511023813,0.5075355287403258,0.3866287400518348,0.8741053558523413,0.9953746203999989,0.6709886831365968,0.8478361423637356,0.21727760692326115,0.7834503160054718,0.5225741911144963,0.30785808002060844,0.8626121387907464,0.021878587472828226,0.3132571615277814,0.269819703915101,0.047388947590950026,0.3783792139521778,0.6686715562815971,0.9340195896813317,0.24505316377281527,0.609341035884486,0.028512158125664766,0.5219175887400826,0.2789385116867189,0.5640668254847896,0.03848604584262927,0.4471931557922294,0.7157733382789738,0.3488660370994199,0.5178238120474549,0.5660049109441244,0.6759687616692475,0.3440802895222872,0.19633304738425505,0.068427853103733,0.961558562423373,0.19847993488194093,0.2069189471745908,0.8132554715264844,0.8888914058334912,0.676830901973747,0.9067289015561729,0.4623345767488364,0.3746023117702302,0.46009272979736426,0.007237548420919282,0.517787117725699,0.03732628959923279,0.5761660217671997,0.7579811277873082,0.3872441509651735,0.5010283266044836,0.15185669982217342,0.043185938195618445,0.869124913839304,0.34644360847665445,0.007513324253049514,0.08127399613059183,0.9993716910228512],\"type\":\"box\"}],                        {\"legend\":{\"bgcolor\":\"#F5F6F9\",\"font\":{\"color\":\"#4D5663\"}},\"paper_bgcolor\":\"#F5F6F9\",\"plot_bgcolor\":\"#F5F6F9\",\"template\":{\"data\":{\"barpolar\":[{\"marker\":{\"line\":{\"color\":\"#E5ECF6\",\"width\":0.5},\"pattern\":{\"fillmode\":\"overlay\",\"size\":10,\"solidity\":0.2}},\"type\":\"barpolar\"}],\"bar\":[{\"error_x\":{\"color\":\"#2a3f5f\"},\"error_y\":{\"color\":\"#2a3f5f\"},\"marker\":{\"line\":{\"color\":\"#E5ECF6\",\"width\":0.5},\"pattern\":{\"fillmode\":\"overlay\",\"size\":10,\"solidity\":0.2}},\"type\":\"bar\"}],\"carpet\":[{\"aaxis\":{\"endlinecolor\":\"#2a3f5f\",\"gridcolor\":\"white\",\"linecolor\":\"white\",\"minorgridcolor\":\"white\",\"startlinecolor\":\"#2a3f5f\"},\"baxis\":{\"endlinecolor\":\"#2a3f5f\",\"gridcolor\":\"white\",\"linecolor\":\"white\",\"minorgridcolor\":\"white\",\"startlinecolor\":\"#2a3f5f\"},\"type\":\"carpet\"}],\"choropleth\":[{\"colorbar\":{\"outlinewidth\":0,\"ticks\":\"\"},\"type\":\"choropleth\"}],\"contourcarpet\":[{\"colorbar\":{\"outlinewidth\":0,\"ticks\":\"\"},\"type\":\"contourcarpet\"}],\"contour\":[{\"colorbar\":{\"outlinewidth\":0,\"ticks\":\"\"},\"colorscale\":[[0.0,\"#0d0887\"],[0.1111111111111111,\"#46039f\"],[0.2222222222222222,\"#7201a8\"],[0.3333333333333333,\"#9c179e\"],[0.4444444444444444,\"#bd3786\"],[0.5555555555555556,\"#d8576b\"],[0.6666666666666666,\"#ed7953\"],[0.7777777777777778,\"#fb9f3a\"],[0.8888888888888888,\"#fdca26\"],[1.0,\"#f0f921\"]],\"type\":\"contour\"}],\"heatmapgl\":[{\"colorbar\":{\"outlinewidth\":0,\"ticks\":\"\"},\"colorscale\":[[0.0,\"#0d0887\"],[0.1111111111111111,\"#46039f\"],[0.2222222222222222,\"#7201a8\"],[0.3333333333333333,\"#9c179e\"],[0.4444444444444444,\"#bd3786\"],[0.5555555555555556,\"#d8576b\"],[0.6666666666666666,\"#ed7953\"],[0.7777777777777778,\"#fb9f3a\"],[0.8888888888888888,\"#fdca26\"],[1.0,\"#f0f921\"]],\"type\":\"heatmapgl\"}],\"heatmap\":[{\"colorbar\":{\"outlinewidth\":0,\"ticks\":\"\"},\"colorscale\":[[0.0,\"#0d0887\"],[0.1111111111111111,\"#46039f\"],[0.2222222222222222,\"#7201a8\"],[0.3333333333333333,\"#9c179e\"],[0.4444444444444444,\"#bd3786\"],[0.5555555555555556,\"#d8576b\"],[0.6666666666666666,\"#ed7953\"],[0.7777777777777778,\"#fb9f3a\"],[0.8888888888888888,\"#fdca26\"],[1.0,\"#f0f921\"]],\"type\":\"heatmap\"}],\"histogram2dcontour\":[{\"colorbar\":{\"outlinewidth\":0,\"ticks\":\"\"},\"colorscale\":[[0.0,\"#0d0887\"],[0.1111111111111111,\"#46039f\"],[0.2222222222222222,\"#7201a8\"],[0.3333333333333333,\"#9c179e\"],[0.4444444444444444,\"#bd3786\"],[0.5555555555555556,\"#d8576b\"],[0.6666666666666666,\"#ed7953\"],[0.7777777777777778,\"#fb9f3a\"],[0.8888888888888888,\"#fdca26\"],[1.0,\"#f0f921\"]],\"type\":\"histogram2dcontour\"}],\"histogram2d\":[{\"colorbar\":{\"outlinewidth\":0,\"ticks\":\"\"},\"colorscale\":[[0.0,\"#0d0887\"],[0.1111111111111111,\"#46039f\"],[0.2222222222222222,\"#7201a8\"],[0.3333333333333333,\"#9c179e\"],[0.4444444444444444,\"#bd3786\"],[0.5555555555555556,\"#d8576b\"],[0.6666666666666666,\"#ed7953\"],[0.7777777777777778,\"#fb9f3a\"],[0.8888888888888888,\"#fdca26\"],[1.0,\"#f0f921\"]],\"type\":\"histogram2d\"}],\"histogram\":[{\"marker\":{\"pattern\":{\"fillmode\":\"overlay\",\"size\":10,\"solidity\":0.2}},\"type\":\"histogram\"}],\"mesh3d\":[{\"colorbar\":{\"outlinewidth\":0,\"ticks\":\"\"},\"type\":\"mesh3d\"}],\"parcoords\":[{\"line\":{\"colorbar\":{\"outlinewidth\":0,\"ticks\":\"\"}},\"type\":\"parcoords\"}],\"pie\":[{\"automargin\":true,\"type\":\"pie\"}],\"scatter3d\":[{\"line\":{\"colorbar\":{\"outlinewidth\":0,\"ticks\":\"\"}},\"marker\":{\"colorbar\":{\"outlinewidth\":0,\"ticks\":\"\"}},\"type\":\"scatter3d\"}],\"scattercarpet\":[{\"marker\":{\"colorbar\":{\"outlinewidth\":0,\"ticks\":\"\"}},\"type\":\"scattercarpet\"}],\"scattergeo\":[{\"marker\":{\"colorbar\":{\"outlinewidth\":0,\"ticks\":\"\"}},\"type\":\"scattergeo\"}],\"scattergl\":[{\"marker\":{\"colorbar\":{\"outlinewidth\":0,\"ticks\":\"\"}},\"type\":\"scattergl\"}],\"scattermapbox\":[{\"marker\":{\"colorbar\":{\"outlinewidth\":0,\"ticks\":\"\"}},\"type\":\"scattermapbox\"}],\"scatterpolargl\":[{\"marker\":{\"colorbar\":{\"outlinewidth\":0,\"ticks\":\"\"}},\"type\":\"scatterpolargl\"}],\"scatterpolar\":[{\"marker\":{\"colorbar\":{\"outlinewidth\":0,\"ticks\":\"\"}},\"type\":\"scatterpolar\"}],\"scatter\":[{\"marker\":{\"colorbar\":{\"outlinewidth\":0,\"ticks\":\"\"}},\"type\":\"scatter\"}],\"scatterternary\":[{\"marker\":{\"colorbar\":{\"outlinewidth\":0,\"ticks\":\"\"}},\"type\":\"scatterternary\"}],\"surface\":[{\"colorbar\":{\"outlinewidth\":0,\"ticks\":\"\"},\"colorscale\":[[0.0,\"#0d0887\"],[0.1111111111111111,\"#46039f\"],[0.2222222222222222,\"#7201a8\"],[0.3333333333333333,\"#9c179e\"],[0.4444444444444444,\"#bd3786\"],[0.5555555555555556,\"#d8576b\"],[0.6666666666666666,\"#ed7953\"],[0.7777777777777778,\"#fb9f3a\"],[0.8888888888888888,\"#fdca26\"],[1.0,\"#f0f921\"]],\"type\":\"surface\"}],\"table\":[{\"cells\":{\"fill\":{\"color\":\"#EBF0F8\"},\"line\":{\"color\":\"white\"}},\"header\":{\"fill\":{\"color\":\"#C8D4E3\"},\"line\":{\"color\":\"white\"}},\"type\":\"table\"}]},\"layout\":{\"annotationdefaults\":{\"arrowcolor\":\"#2a3f5f\",\"arrowhead\":0,\"arrowwidth\":1},\"autotypenumbers\":\"strict\",\"coloraxis\":{\"colorbar\":{\"outlinewidth\":0,\"ticks\":\"\"}},\"colorscale\":{\"diverging\":[[0,\"#8e0152\"],[0.1,\"#c51b7d\"],[0.2,\"#de77ae\"],[0.3,\"#f1b6da\"],[0.4,\"#fde0ef\"],[0.5,\"#f7f7f7\"],[0.6,\"#e6f5d0\"],[0.7,\"#b8e186\"],[0.8,\"#7fbc41\"],[0.9,\"#4d9221\"],[1,\"#276419\"]],\"sequential\":[[0.0,\"#0d0887\"],[0.1111111111111111,\"#46039f\"],[0.2222222222222222,\"#7201a8\"],[0.3333333333333333,\"#9c179e\"],[0.4444444444444444,\"#bd3786\"],[0.5555555555555556,\"#d8576b\"],[0.6666666666666666,\"#ed7953\"],[0.7777777777777778,\"#fb9f3a\"],[0.8888888888888888,\"#fdca26\"],[1.0,\"#f0f921\"]],\"sequentialminus\":[[0.0,\"#0d0887\"],[0.1111111111111111,\"#46039f\"],[0.2222222222222222,\"#7201a8\"],[0.3333333333333333,\"#9c179e\"],[0.4444444444444444,\"#bd3786\"],[0.5555555555555556,\"#d8576b\"],[0.6666666666666666,\"#ed7953\"],[0.7777777777777778,\"#fb9f3a\"],[0.8888888888888888,\"#fdca26\"],[1.0,\"#f0f921\"]]},\"colorway\":[\"#636efa\",\"#EF553B\",\"#00cc96\",\"#ab63fa\",\"#FFA15A\",\"#19d3f3\",\"#FF6692\",\"#B6E880\",\"#FF97FF\",\"#FECB52\"],\"font\":{\"color\":\"#2a3f5f\"},\"geo\":{\"bgcolor\":\"white\",\"lakecolor\":\"white\",\"landcolor\":\"#E5ECF6\",\"showlakes\":true,\"showland\":true,\"subunitcolor\":\"white\"},\"hoverlabel\":{\"align\":\"left\"},\"hovermode\":\"closest\",\"mapbox\":{\"style\":\"light\"},\"paper_bgcolor\":\"white\",\"plot_bgcolor\":\"#E5ECF6\",\"polar\":{\"angularaxis\":{\"gridcolor\":\"white\",\"linecolor\":\"white\",\"ticks\":\"\"},\"bgcolor\":\"#E5ECF6\",\"radialaxis\":{\"gridcolor\":\"white\",\"linecolor\":\"white\",\"ticks\":\"\"}},\"scene\":{\"xaxis\":{\"backgroundcolor\":\"#E5ECF6\",\"gridcolor\":\"white\",\"gridwidth\":2,\"linecolor\":\"white\",\"showbackground\":true,\"ticks\":\"\",\"zerolinecolor\":\"white\"},\"yaxis\":{\"backgroundcolor\":\"#E5ECF6\",\"gridcolor\":\"white\",\"gridwidth\":2,\"linecolor\":\"white\",\"showbackground\":true,\"ticks\":\"\",\"zerolinecolor\":\"white\"},\"zaxis\":{\"backgroundcolor\":\"#E5ECF6\",\"gridcolor\":\"white\",\"gridwidth\":2,\"linecolor\":\"white\",\"showbackground\":true,\"ticks\":\"\",\"zerolinecolor\":\"white\"}},\"shapedefaults\":{\"line\":{\"color\":\"#2a3f5f\"}},\"ternary\":{\"aaxis\":{\"gridcolor\":\"white\",\"linecolor\":\"white\",\"ticks\":\"\"},\"baxis\":{\"gridcolor\":\"white\",\"linecolor\":\"white\",\"ticks\":\"\"},\"bgcolor\":\"#E5ECF6\",\"caxis\":{\"gridcolor\":\"white\",\"linecolor\":\"white\",\"ticks\":\"\"}},\"title\":{\"x\":0.05},\"xaxis\":{\"automargin\":true,\"gridcolor\":\"white\",\"linecolor\":\"white\",\"ticks\":\"\",\"title\":{\"standoff\":15},\"zerolinecolor\":\"white\",\"zerolinewidth\":2},\"yaxis\":{\"automargin\":true,\"gridcolor\":\"white\",\"linecolor\":\"white\",\"ticks\":\"\",\"title\":{\"standoff\":15},\"zerolinecolor\":\"white\",\"zerolinewidth\":2}}},\"title\":{\"font\":{\"color\":\"#4D5663\"}},\"xaxis\":{\"gridcolor\":\"#E1E5ED\",\"showgrid\":true,\"tickfont\":{\"color\":\"#4D5663\"},\"title\":{\"font\":{\"color\":\"#4D5663\"},\"text\":\"\"},\"zerolinecolor\":\"#E1E5ED\"},\"yaxis\":{\"gridcolor\":\"#E1E5ED\",\"showgrid\":true,\"tickfont\":{\"color\":\"#4D5663\"},\"title\":{\"font\":{\"color\":\"#4D5663\"},\"text\":\"\"},\"zerolinecolor\":\"#E1E5ED\"}},                        {\"showLink\": true, \"linkText\": \"Export to plot.ly\", \"plotlyServerURL\": \"https://plot.ly\", \"responsive\": true}                    ).then(function(){\n",
       "                            \n",
       "var gd = document.getElementById('86b2c2d4-8f44-469e-b3d1-43fded03adf9');\n",
       "var x = new MutationObserver(function (mutations, observer) {{\n",
       "        var display = window.getComputedStyle(gd).display;\n",
       "        if (!display || display === 'none') {{\n",
       "            console.log([gd, 'removed!']);\n",
       "            Plotly.purge(gd);\n",
       "            observer.disconnect();\n",
       "        }}\n",
       "}});\n",
       "\n",
       "// Listen for the removal of the full notebook cells\n",
       "var notebookContainer = gd.closest('#notebook-container');\n",
       "if (notebookContainer) {{\n",
       "    x.observe(notebookContainer, {childList: true});\n",
       "}}\n",
       "\n",
       "// Listen for the clearing of the current output cell\n",
       "var outputEl = gd.closest('.output');\n",
       "if (outputEl) {{\n",
       "    x.observe(outputEl, {childList: true});\n",
       "}}\n",
       "\n",
       "                        })                };                });            </script>        </div>"
      ]
     },
     "metadata": {},
     "output_type": "display_data"
    }
   ],
   "source": [
    "df.iplot(kind='box')"
   ]
  },
  {
   "cell_type": "code",
   "execution_count": 42,
   "id": "6a4a2a2b",
   "metadata": {},
   "outputs": [],
   "source": [
    "df3=pd.DataFrame({'x':[1,2,3,4,5],'y':[10,20,30,20,10],'z':[5,4,3,2,1]})"
   ]
  },
  {
   "cell_type": "code",
   "execution_count": 43,
   "id": "29950b26",
   "metadata": {},
   "outputs": [
    {
     "data": {
      "text/html": [
       "<div>\n",
       "<style scoped>\n",
       "    .dataframe tbody tr th:only-of-type {\n",
       "        vertical-align: middle;\n",
       "    }\n",
       "\n",
       "    .dataframe tbody tr th {\n",
       "        vertical-align: top;\n",
       "    }\n",
       "\n",
       "    .dataframe thead th {\n",
       "        text-align: right;\n",
       "    }\n",
       "</style>\n",
       "<table border=\"1\" class=\"dataframe\">\n",
       "  <thead>\n",
       "    <tr style=\"text-align: right;\">\n",
       "      <th></th>\n",
       "      <th>x</th>\n",
       "      <th>y</th>\n",
       "      <th>z</th>\n",
       "    </tr>\n",
       "  </thead>\n",
       "  <tbody>\n",
       "    <tr>\n",
       "      <th>0</th>\n",
       "      <td>1</td>\n",
       "      <td>10</td>\n",
       "      <td>5</td>\n",
       "    </tr>\n",
       "    <tr>\n",
       "      <th>1</th>\n",
       "      <td>2</td>\n",
       "      <td>20</td>\n",
       "      <td>4</td>\n",
       "    </tr>\n",
       "    <tr>\n",
       "      <th>2</th>\n",
       "      <td>3</td>\n",
       "      <td>30</td>\n",
       "      <td>3</td>\n",
       "    </tr>\n",
       "    <tr>\n",
       "      <th>3</th>\n",
       "      <td>4</td>\n",
       "      <td>20</td>\n",
       "      <td>2</td>\n",
       "    </tr>\n",
       "    <tr>\n",
       "      <th>4</th>\n",
       "      <td>5</td>\n",
       "      <td>10</td>\n",
       "      <td>1</td>\n",
       "    </tr>\n",
       "  </tbody>\n",
       "</table>\n",
       "</div>"
      ],
      "text/plain": [
       "   x   y  z\n",
       "0  1  10  5\n",
       "1  2  20  4\n",
       "2  3  30  3\n",
       "3  4  20  2\n",
       "4  5  10  1"
      ]
     },
     "execution_count": 43,
     "metadata": {},
     "output_type": "execute_result"
    }
   ],
   "source": [
    "df3"
   ]
  },
  {
   "cell_type": "code",
   "execution_count": 45,
   "id": "020f7663",
   "metadata": {},
   "outputs": [
    {
     "data": {
      "application/vnd.plotly.v1+json": {
       "config": {
        "linkText": "Export to plot.ly",
        "plotlyServerURL": "https://plot.ly",
        "showLink": true
       },
       "data": [
        {
         "colorscale": [
          [
           0,
           "rgb(165,0,38)"
          ],
          [
           0.1,
           "rgb(215,48,39)"
          ],
          [
           0.2,
           "rgb(244,109,67)"
          ],
          [
           0.3,
           "rgb(253,174,97)"
          ],
          [
           0.4,
           "rgb(254,224,144)"
          ],
          [
           0.5,
           "rgb(255,255,191)"
          ],
          [
           0.6,
           "rgb(224,243,248)"
          ],
          [
           0.7,
           "rgb(171,217,233)"
          ],
          [
           0.8,
           "rgb(116,173,209)"
          ],
          [
           0.9,
           "rgb(69,117,180)"
          ],
          [
           1,
           "rgb(49,54,149)"
          ]
         ],
         "type": "surface",
         "x": [
          0,
          1,
          2,
          3,
          4
         ],
         "y": [
          "x",
          "y",
          "z"
         ],
         "z": [
          [
           1,
           2,
           3,
           4,
           5
          ],
          [
           10,
           20,
           30,
           20,
           10
          ],
          [
           5,
           4,
           3,
           2,
           1
          ]
         ]
        }
       ],
       "layout": {
        "legend": {
         "bgcolor": "#F5F6F9",
         "font": {
          "color": "#4D5663"
         }
        },
        "paper_bgcolor": "#F5F6F9",
        "plot_bgcolor": "#F5F6F9",
        "template": {
         "data": {
          "bar": [
           {
            "error_x": {
             "color": "#2a3f5f"
            },
            "error_y": {
             "color": "#2a3f5f"
            },
            "marker": {
             "line": {
              "color": "#E5ECF6",
              "width": 0.5
             },
             "pattern": {
              "fillmode": "overlay",
              "size": 10,
              "solidity": 0.2
             }
            },
            "type": "bar"
           }
          ],
          "barpolar": [
           {
            "marker": {
             "line": {
              "color": "#E5ECF6",
              "width": 0.5
             },
             "pattern": {
              "fillmode": "overlay",
              "size": 10,
              "solidity": 0.2
             }
            },
            "type": "barpolar"
           }
          ],
          "carpet": [
           {
            "aaxis": {
             "endlinecolor": "#2a3f5f",
             "gridcolor": "white",
             "linecolor": "white",
             "minorgridcolor": "white",
             "startlinecolor": "#2a3f5f"
            },
            "baxis": {
             "endlinecolor": "#2a3f5f",
             "gridcolor": "white",
             "linecolor": "white",
             "minorgridcolor": "white",
             "startlinecolor": "#2a3f5f"
            },
            "type": "carpet"
           }
          ],
          "choropleth": [
           {
            "colorbar": {
             "outlinewidth": 0,
             "ticks": ""
            },
            "type": "choropleth"
           }
          ],
          "contour": [
           {
            "colorbar": {
             "outlinewidth": 0,
             "ticks": ""
            },
            "colorscale": [
             [
              0,
              "#0d0887"
             ],
             [
              0.1111111111111111,
              "#46039f"
             ],
             [
              0.2222222222222222,
              "#7201a8"
             ],
             [
              0.3333333333333333,
              "#9c179e"
             ],
             [
              0.4444444444444444,
              "#bd3786"
             ],
             [
              0.5555555555555556,
              "#d8576b"
             ],
             [
              0.6666666666666666,
              "#ed7953"
             ],
             [
              0.7777777777777778,
              "#fb9f3a"
             ],
             [
              0.8888888888888888,
              "#fdca26"
             ],
             [
              1,
              "#f0f921"
             ]
            ],
            "type": "contour"
           }
          ],
          "contourcarpet": [
           {
            "colorbar": {
             "outlinewidth": 0,
             "ticks": ""
            },
            "type": "contourcarpet"
           }
          ],
          "heatmap": [
           {
            "colorbar": {
             "outlinewidth": 0,
             "ticks": ""
            },
            "colorscale": [
             [
              0,
              "#0d0887"
             ],
             [
              0.1111111111111111,
              "#46039f"
             ],
             [
              0.2222222222222222,
              "#7201a8"
             ],
             [
              0.3333333333333333,
              "#9c179e"
             ],
             [
              0.4444444444444444,
              "#bd3786"
             ],
             [
              0.5555555555555556,
              "#d8576b"
             ],
             [
              0.6666666666666666,
              "#ed7953"
             ],
             [
              0.7777777777777778,
              "#fb9f3a"
             ],
             [
              0.8888888888888888,
              "#fdca26"
             ],
             [
              1,
              "#f0f921"
             ]
            ],
            "type": "heatmap"
           }
          ],
          "heatmapgl": [
           {
            "colorbar": {
             "outlinewidth": 0,
             "ticks": ""
            },
            "colorscale": [
             [
              0,
              "#0d0887"
             ],
             [
              0.1111111111111111,
              "#46039f"
             ],
             [
              0.2222222222222222,
              "#7201a8"
             ],
             [
              0.3333333333333333,
              "#9c179e"
             ],
             [
              0.4444444444444444,
              "#bd3786"
             ],
             [
              0.5555555555555556,
              "#d8576b"
             ],
             [
              0.6666666666666666,
              "#ed7953"
             ],
             [
              0.7777777777777778,
              "#fb9f3a"
             ],
             [
              0.8888888888888888,
              "#fdca26"
             ],
             [
              1,
              "#f0f921"
             ]
            ],
            "type": "heatmapgl"
           }
          ],
          "histogram": [
           {
            "marker": {
             "pattern": {
              "fillmode": "overlay",
              "size": 10,
              "solidity": 0.2
             }
            },
            "type": "histogram"
           }
          ],
          "histogram2d": [
           {
            "colorbar": {
             "outlinewidth": 0,
             "ticks": ""
            },
            "colorscale": [
             [
              0,
              "#0d0887"
             ],
             [
              0.1111111111111111,
              "#46039f"
             ],
             [
              0.2222222222222222,
              "#7201a8"
             ],
             [
              0.3333333333333333,
              "#9c179e"
             ],
             [
              0.4444444444444444,
              "#bd3786"
             ],
             [
              0.5555555555555556,
              "#d8576b"
             ],
             [
              0.6666666666666666,
              "#ed7953"
             ],
             [
              0.7777777777777778,
              "#fb9f3a"
             ],
             [
              0.8888888888888888,
              "#fdca26"
             ],
             [
              1,
              "#f0f921"
             ]
            ],
            "type": "histogram2d"
           }
          ],
          "histogram2dcontour": [
           {
            "colorbar": {
             "outlinewidth": 0,
             "ticks": ""
            },
            "colorscale": [
             [
              0,
              "#0d0887"
             ],
             [
              0.1111111111111111,
              "#46039f"
             ],
             [
              0.2222222222222222,
              "#7201a8"
             ],
             [
              0.3333333333333333,
              "#9c179e"
             ],
             [
              0.4444444444444444,
              "#bd3786"
             ],
             [
              0.5555555555555556,
              "#d8576b"
             ],
             [
              0.6666666666666666,
              "#ed7953"
             ],
             [
              0.7777777777777778,
              "#fb9f3a"
             ],
             [
              0.8888888888888888,
              "#fdca26"
             ],
             [
              1,
              "#f0f921"
             ]
            ],
            "type": "histogram2dcontour"
           }
          ],
          "mesh3d": [
           {
            "colorbar": {
             "outlinewidth": 0,
             "ticks": ""
            },
            "type": "mesh3d"
           }
          ],
          "parcoords": [
           {
            "line": {
             "colorbar": {
              "outlinewidth": 0,
              "ticks": ""
             }
            },
            "type": "parcoords"
           }
          ],
          "pie": [
           {
            "automargin": true,
            "type": "pie"
           }
          ],
          "scatter": [
           {
            "marker": {
             "colorbar": {
              "outlinewidth": 0,
              "ticks": ""
             }
            },
            "type": "scatter"
           }
          ],
          "scatter3d": [
           {
            "line": {
             "colorbar": {
              "outlinewidth": 0,
              "ticks": ""
             }
            },
            "marker": {
             "colorbar": {
              "outlinewidth": 0,
              "ticks": ""
             }
            },
            "type": "scatter3d"
           }
          ],
          "scattercarpet": [
           {
            "marker": {
             "colorbar": {
              "outlinewidth": 0,
              "ticks": ""
             }
            },
            "type": "scattercarpet"
           }
          ],
          "scattergeo": [
           {
            "marker": {
             "colorbar": {
              "outlinewidth": 0,
              "ticks": ""
             }
            },
            "type": "scattergeo"
           }
          ],
          "scattergl": [
           {
            "marker": {
             "colorbar": {
              "outlinewidth": 0,
              "ticks": ""
             }
            },
            "type": "scattergl"
           }
          ],
          "scattermapbox": [
           {
            "marker": {
             "colorbar": {
              "outlinewidth": 0,
              "ticks": ""
             }
            },
            "type": "scattermapbox"
           }
          ],
          "scatterpolar": [
           {
            "marker": {
             "colorbar": {
              "outlinewidth": 0,
              "ticks": ""
             }
            },
            "type": "scatterpolar"
           }
          ],
          "scatterpolargl": [
           {
            "marker": {
             "colorbar": {
              "outlinewidth": 0,
              "ticks": ""
             }
            },
            "type": "scatterpolargl"
           }
          ],
          "scatterternary": [
           {
            "marker": {
             "colorbar": {
              "outlinewidth": 0,
              "ticks": ""
             }
            },
            "type": "scatterternary"
           }
          ],
          "surface": [
           {
            "colorbar": {
             "outlinewidth": 0,
             "ticks": ""
            },
            "colorscale": [
             [
              0,
              "#0d0887"
             ],
             [
              0.1111111111111111,
              "#46039f"
             ],
             [
              0.2222222222222222,
              "#7201a8"
             ],
             [
              0.3333333333333333,
              "#9c179e"
             ],
             [
              0.4444444444444444,
              "#bd3786"
             ],
             [
              0.5555555555555556,
              "#d8576b"
             ],
             [
              0.6666666666666666,
              "#ed7953"
             ],
             [
              0.7777777777777778,
              "#fb9f3a"
             ],
             [
              0.8888888888888888,
              "#fdca26"
             ],
             [
              1,
              "#f0f921"
             ]
            ],
            "type": "surface"
           }
          ],
          "table": [
           {
            "cells": {
             "fill": {
              "color": "#EBF0F8"
             },
             "line": {
              "color": "white"
             }
            },
            "header": {
             "fill": {
              "color": "#C8D4E3"
             },
             "line": {
              "color": "white"
             }
            },
            "type": "table"
           }
          ]
         },
         "layout": {
          "annotationdefaults": {
           "arrowcolor": "#2a3f5f",
           "arrowhead": 0,
           "arrowwidth": 1
          },
          "autotypenumbers": "strict",
          "coloraxis": {
           "colorbar": {
            "outlinewidth": 0,
            "ticks": ""
           }
          },
          "colorscale": {
           "diverging": [
            [
             0,
             "#8e0152"
            ],
            [
             0.1,
             "#c51b7d"
            ],
            [
             0.2,
             "#de77ae"
            ],
            [
             0.3,
             "#f1b6da"
            ],
            [
             0.4,
             "#fde0ef"
            ],
            [
             0.5,
             "#f7f7f7"
            ],
            [
             0.6,
             "#e6f5d0"
            ],
            [
             0.7,
             "#b8e186"
            ],
            [
             0.8,
             "#7fbc41"
            ],
            [
             0.9,
             "#4d9221"
            ],
            [
             1,
             "#276419"
            ]
           ],
           "sequential": [
            [
             0,
             "#0d0887"
            ],
            [
             0.1111111111111111,
             "#46039f"
            ],
            [
             0.2222222222222222,
             "#7201a8"
            ],
            [
             0.3333333333333333,
             "#9c179e"
            ],
            [
             0.4444444444444444,
             "#bd3786"
            ],
            [
             0.5555555555555556,
             "#d8576b"
            ],
            [
             0.6666666666666666,
             "#ed7953"
            ],
            [
             0.7777777777777778,
             "#fb9f3a"
            ],
            [
             0.8888888888888888,
             "#fdca26"
            ],
            [
             1,
             "#f0f921"
            ]
           ],
           "sequentialminus": [
            [
             0,
             "#0d0887"
            ],
            [
             0.1111111111111111,
             "#46039f"
            ],
            [
             0.2222222222222222,
             "#7201a8"
            ],
            [
             0.3333333333333333,
             "#9c179e"
            ],
            [
             0.4444444444444444,
             "#bd3786"
            ],
            [
             0.5555555555555556,
             "#d8576b"
            ],
            [
             0.6666666666666666,
             "#ed7953"
            ],
            [
             0.7777777777777778,
             "#fb9f3a"
            ],
            [
             0.8888888888888888,
             "#fdca26"
            ],
            [
             1,
             "#f0f921"
            ]
           ]
          },
          "colorway": [
           "#636efa",
           "#EF553B",
           "#00cc96",
           "#ab63fa",
           "#FFA15A",
           "#19d3f3",
           "#FF6692",
           "#B6E880",
           "#FF97FF",
           "#FECB52"
          ],
          "font": {
           "color": "#2a3f5f"
          },
          "geo": {
           "bgcolor": "white",
           "lakecolor": "white",
           "landcolor": "#E5ECF6",
           "showlakes": true,
           "showland": true,
           "subunitcolor": "white"
          },
          "hoverlabel": {
           "align": "left"
          },
          "hovermode": "closest",
          "mapbox": {
           "style": "light"
          },
          "paper_bgcolor": "white",
          "plot_bgcolor": "#E5ECF6",
          "polar": {
           "angularaxis": {
            "gridcolor": "white",
            "linecolor": "white",
            "ticks": ""
           },
           "bgcolor": "#E5ECF6",
           "radialaxis": {
            "gridcolor": "white",
            "linecolor": "white",
            "ticks": ""
           }
          },
          "scene": {
           "xaxis": {
            "backgroundcolor": "#E5ECF6",
            "gridcolor": "white",
            "gridwidth": 2,
            "linecolor": "white",
            "showbackground": true,
            "ticks": "",
            "zerolinecolor": "white"
           },
           "yaxis": {
            "backgroundcolor": "#E5ECF6",
            "gridcolor": "white",
            "gridwidth": 2,
            "linecolor": "white",
            "showbackground": true,
            "ticks": "",
            "zerolinecolor": "white"
           },
           "zaxis": {
            "backgroundcolor": "#E5ECF6",
            "gridcolor": "white",
            "gridwidth": 2,
            "linecolor": "white",
            "showbackground": true,
            "ticks": "",
            "zerolinecolor": "white"
           }
          },
          "shapedefaults": {
           "line": {
            "color": "#2a3f5f"
           }
          },
          "ternary": {
           "aaxis": {
            "gridcolor": "white",
            "linecolor": "white",
            "ticks": ""
           },
           "baxis": {
            "gridcolor": "white",
            "linecolor": "white",
            "ticks": ""
           },
           "bgcolor": "#E5ECF6",
           "caxis": {
            "gridcolor": "white",
            "linecolor": "white",
            "ticks": ""
           }
          },
          "title": {
           "x": 0.05
          },
          "xaxis": {
           "automargin": true,
           "gridcolor": "white",
           "linecolor": "white",
           "ticks": "",
           "title": {
            "standoff": 15
           },
           "zerolinecolor": "white",
           "zerolinewidth": 2
          },
          "yaxis": {
           "automargin": true,
           "gridcolor": "white",
           "linecolor": "white",
           "ticks": "",
           "title": {
            "standoff": 15
           },
           "zerolinecolor": "white",
           "zerolinewidth": 2
          }
         }
        },
        "title": {
         "font": {
          "color": "#4D5663"
         }
        },
        "xaxis": {
         "gridcolor": "#E1E5ED",
         "showgrid": true,
         "tickfont": {
          "color": "#4D5663"
         },
         "title": {
          "font": {
           "color": "#4D5663"
          },
          "text": ""
         },
         "zerolinecolor": "#E1E5ED"
        },
        "yaxis": {
         "gridcolor": "#E1E5ED",
         "showgrid": true,
         "tickfont": {
          "color": "#4D5663"
         },
         "title": {
          "font": {
           "color": "#4D5663"
          },
          "text": ""
         },
         "zerolinecolor": "#E1E5ED"
        }
       }
      },
      "text/html": [
       "<div>                            <div id=\"64e60961-6374-4539-921f-db6f385ce476\" class=\"plotly-graph-div\" style=\"height:525px; width:100%;\"></div>            <script type=\"text/javascript\">                require([\"plotly\"], function(Plotly) {                    window.PLOTLYENV=window.PLOTLYENV || {};\n",
       "                    window.PLOTLYENV.BASE_URL='https://plot.ly';                                    if (document.getElementById(\"64e60961-6374-4539-921f-db6f385ce476\")) {                    Plotly.newPlot(                        \"64e60961-6374-4539-921f-db6f385ce476\",                        [{\"colorscale\":[[0.0,\"rgb(165,0,38)\"],[0.1,\"rgb(215,48,39)\"],[0.2,\"rgb(244,109,67)\"],[0.3,\"rgb(253,174,97)\"],[0.4,\"rgb(254,224,144)\"],[0.5,\"rgb(255,255,191)\"],[0.6,\"rgb(224,243,248)\"],[0.7,\"rgb(171,217,233)\"],[0.8,\"rgb(116,173,209)\"],[0.9,\"rgb(69,117,180)\"],[1.0,\"rgb(49,54,149)\"]],\"x\":[0,1,2,3,4],\"y\":[\"x\",\"y\",\"z\"],\"z\":[[1,2,3,4,5],[10,20,30,20,10],[5,4,3,2,1]],\"type\":\"surface\"}],                        {\"legend\":{\"bgcolor\":\"#F5F6F9\",\"font\":{\"color\":\"#4D5663\"}},\"paper_bgcolor\":\"#F5F6F9\",\"plot_bgcolor\":\"#F5F6F9\",\"template\":{\"data\":{\"barpolar\":[{\"marker\":{\"line\":{\"color\":\"#E5ECF6\",\"width\":0.5},\"pattern\":{\"fillmode\":\"overlay\",\"size\":10,\"solidity\":0.2}},\"type\":\"barpolar\"}],\"bar\":[{\"error_x\":{\"color\":\"#2a3f5f\"},\"error_y\":{\"color\":\"#2a3f5f\"},\"marker\":{\"line\":{\"color\":\"#E5ECF6\",\"width\":0.5},\"pattern\":{\"fillmode\":\"overlay\",\"size\":10,\"solidity\":0.2}},\"type\":\"bar\"}],\"carpet\":[{\"aaxis\":{\"endlinecolor\":\"#2a3f5f\",\"gridcolor\":\"white\",\"linecolor\":\"white\",\"minorgridcolor\":\"white\",\"startlinecolor\":\"#2a3f5f\"},\"baxis\":{\"endlinecolor\":\"#2a3f5f\",\"gridcolor\":\"white\",\"linecolor\":\"white\",\"minorgridcolor\":\"white\",\"startlinecolor\":\"#2a3f5f\"},\"type\":\"carpet\"}],\"choropleth\":[{\"colorbar\":{\"outlinewidth\":0,\"ticks\":\"\"},\"type\":\"choropleth\"}],\"contourcarpet\":[{\"colorbar\":{\"outlinewidth\":0,\"ticks\":\"\"},\"type\":\"contourcarpet\"}],\"contour\":[{\"colorbar\":{\"outlinewidth\":0,\"ticks\":\"\"},\"colorscale\":[[0.0,\"#0d0887\"],[0.1111111111111111,\"#46039f\"],[0.2222222222222222,\"#7201a8\"],[0.3333333333333333,\"#9c179e\"],[0.4444444444444444,\"#bd3786\"],[0.5555555555555556,\"#d8576b\"],[0.6666666666666666,\"#ed7953\"],[0.7777777777777778,\"#fb9f3a\"],[0.8888888888888888,\"#fdca26\"],[1.0,\"#f0f921\"]],\"type\":\"contour\"}],\"heatmapgl\":[{\"colorbar\":{\"outlinewidth\":0,\"ticks\":\"\"},\"colorscale\":[[0.0,\"#0d0887\"],[0.1111111111111111,\"#46039f\"],[0.2222222222222222,\"#7201a8\"],[0.3333333333333333,\"#9c179e\"],[0.4444444444444444,\"#bd3786\"],[0.5555555555555556,\"#d8576b\"],[0.6666666666666666,\"#ed7953\"],[0.7777777777777778,\"#fb9f3a\"],[0.8888888888888888,\"#fdca26\"],[1.0,\"#f0f921\"]],\"type\":\"heatmapgl\"}],\"heatmap\":[{\"colorbar\":{\"outlinewidth\":0,\"ticks\":\"\"},\"colorscale\":[[0.0,\"#0d0887\"],[0.1111111111111111,\"#46039f\"],[0.2222222222222222,\"#7201a8\"],[0.3333333333333333,\"#9c179e\"],[0.4444444444444444,\"#bd3786\"],[0.5555555555555556,\"#d8576b\"],[0.6666666666666666,\"#ed7953\"],[0.7777777777777778,\"#fb9f3a\"],[0.8888888888888888,\"#fdca26\"],[1.0,\"#f0f921\"]],\"type\":\"heatmap\"}],\"histogram2dcontour\":[{\"colorbar\":{\"outlinewidth\":0,\"ticks\":\"\"},\"colorscale\":[[0.0,\"#0d0887\"],[0.1111111111111111,\"#46039f\"],[0.2222222222222222,\"#7201a8\"],[0.3333333333333333,\"#9c179e\"],[0.4444444444444444,\"#bd3786\"],[0.5555555555555556,\"#d8576b\"],[0.6666666666666666,\"#ed7953\"],[0.7777777777777778,\"#fb9f3a\"],[0.8888888888888888,\"#fdca26\"],[1.0,\"#f0f921\"]],\"type\":\"histogram2dcontour\"}],\"histogram2d\":[{\"colorbar\":{\"outlinewidth\":0,\"ticks\":\"\"},\"colorscale\":[[0.0,\"#0d0887\"],[0.1111111111111111,\"#46039f\"],[0.2222222222222222,\"#7201a8\"],[0.3333333333333333,\"#9c179e\"],[0.4444444444444444,\"#bd3786\"],[0.5555555555555556,\"#d8576b\"],[0.6666666666666666,\"#ed7953\"],[0.7777777777777778,\"#fb9f3a\"],[0.8888888888888888,\"#fdca26\"],[1.0,\"#f0f921\"]],\"type\":\"histogram2d\"}],\"histogram\":[{\"marker\":{\"pattern\":{\"fillmode\":\"overlay\",\"size\":10,\"solidity\":0.2}},\"type\":\"histogram\"}],\"mesh3d\":[{\"colorbar\":{\"outlinewidth\":0,\"ticks\":\"\"},\"type\":\"mesh3d\"}],\"parcoords\":[{\"line\":{\"colorbar\":{\"outlinewidth\":0,\"ticks\":\"\"}},\"type\":\"parcoords\"}],\"pie\":[{\"automargin\":true,\"type\":\"pie\"}],\"scatter3d\":[{\"line\":{\"colorbar\":{\"outlinewidth\":0,\"ticks\":\"\"}},\"marker\":{\"colorbar\":{\"outlinewidth\":0,\"ticks\":\"\"}},\"type\":\"scatter3d\"}],\"scattercarpet\":[{\"marker\":{\"colorbar\":{\"outlinewidth\":0,\"ticks\":\"\"}},\"type\":\"scattercarpet\"}],\"scattergeo\":[{\"marker\":{\"colorbar\":{\"outlinewidth\":0,\"ticks\":\"\"}},\"type\":\"scattergeo\"}],\"scattergl\":[{\"marker\":{\"colorbar\":{\"outlinewidth\":0,\"ticks\":\"\"}},\"type\":\"scattergl\"}],\"scattermapbox\":[{\"marker\":{\"colorbar\":{\"outlinewidth\":0,\"ticks\":\"\"}},\"type\":\"scattermapbox\"}],\"scatterpolargl\":[{\"marker\":{\"colorbar\":{\"outlinewidth\":0,\"ticks\":\"\"}},\"type\":\"scatterpolargl\"}],\"scatterpolar\":[{\"marker\":{\"colorbar\":{\"outlinewidth\":0,\"ticks\":\"\"}},\"type\":\"scatterpolar\"}],\"scatter\":[{\"marker\":{\"colorbar\":{\"outlinewidth\":0,\"ticks\":\"\"}},\"type\":\"scatter\"}],\"scatterternary\":[{\"marker\":{\"colorbar\":{\"outlinewidth\":0,\"ticks\":\"\"}},\"type\":\"scatterternary\"}],\"surface\":[{\"colorbar\":{\"outlinewidth\":0,\"ticks\":\"\"},\"colorscale\":[[0.0,\"#0d0887\"],[0.1111111111111111,\"#46039f\"],[0.2222222222222222,\"#7201a8\"],[0.3333333333333333,\"#9c179e\"],[0.4444444444444444,\"#bd3786\"],[0.5555555555555556,\"#d8576b\"],[0.6666666666666666,\"#ed7953\"],[0.7777777777777778,\"#fb9f3a\"],[0.8888888888888888,\"#fdca26\"],[1.0,\"#f0f921\"]],\"type\":\"surface\"}],\"table\":[{\"cells\":{\"fill\":{\"color\":\"#EBF0F8\"},\"line\":{\"color\":\"white\"}},\"header\":{\"fill\":{\"color\":\"#C8D4E3\"},\"line\":{\"color\":\"white\"}},\"type\":\"table\"}]},\"layout\":{\"annotationdefaults\":{\"arrowcolor\":\"#2a3f5f\",\"arrowhead\":0,\"arrowwidth\":1},\"autotypenumbers\":\"strict\",\"coloraxis\":{\"colorbar\":{\"outlinewidth\":0,\"ticks\":\"\"}},\"colorscale\":{\"diverging\":[[0,\"#8e0152\"],[0.1,\"#c51b7d\"],[0.2,\"#de77ae\"],[0.3,\"#f1b6da\"],[0.4,\"#fde0ef\"],[0.5,\"#f7f7f7\"],[0.6,\"#e6f5d0\"],[0.7,\"#b8e186\"],[0.8,\"#7fbc41\"],[0.9,\"#4d9221\"],[1,\"#276419\"]],\"sequential\":[[0.0,\"#0d0887\"],[0.1111111111111111,\"#46039f\"],[0.2222222222222222,\"#7201a8\"],[0.3333333333333333,\"#9c179e\"],[0.4444444444444444,\"#bd3786\"],[0.5555555555555556,\"#d8576b\"],[0.6666666666666666,\"#ed7953\"],[0.7777777777777778,\"#fb9f3a\"],[0.8888888888888888,\"#fdca26\"],[1.0,\"#f0f921\"]],\"sequentialminus\":[[0.0,\"#0d0887\"],[0.1111111111111111,\"#46039f\"],[0.2222222222222222,\"#7201a8\"],[0.3333333333333333,\"#9c179e\"],[0.4444444444444444,\"#bd3786\"],[0.5555555555555556,\"#d8576b\"],[0.6666666666666666,\"#ed7953\"],[0.7777777777777778,\"#fb9f3a\"],[0.8888888888888888,\"#fdca26\"],[1.0,\"#f0f921\"]]},\"colorway\":[\"#636efa\",\"#EF553B\",\"#00cc96\",\"#ab63fa\",\"#FFA15A\",\"#19d3f3\",\"#FF6692\",\"#B6E880\",\"#FF97FF\",\"#FECB52\"],\"font\":{\"color\":\"#2a3f5f\"},\"geo\":{\"bgcolor\":\"white\",\"lakecolor\":\"white\",\"landcolor\":\"#E5ECF6\",\"showlakes\":true,\"showland\":true,\"subunitcolor\":\"white\"},\"hoverlabel\":{\"align\":\"left\"},\"hovermode\":\"closest\",\"mapbox\":{\"style\":\"light\"},\"paper_bgcolor\":\"white\",\"plot_bgcolor\":\"#E5ECF6\",\"polar\":{\"angularaxis\":{\"gridcolor\":\"white\",\"linecolor\":\"white\",\"ticks\":\"\"},\"bgcolor\":\"#E5ECF6\",\"radialaxis\":{\"gridcolor\":\"white\",\"linecolor\":\"white\",\"ticks\":\"\"}},\"scene\":{\"xaxis\":{\"backgroundcolor\":\"#E5ECF6\",\"gridcolor\":\"white\",\"gridwidth\":2,\"linecolor\":\"white\",\"showbackground\":true,\"ticks\":\"\",\"zerolinecolor\":\"white\"},\"yaxis\":{\"backgroundcolor\":\"#E5ECF6\",\"gridcolor\":\"white\",\"gridwidth\":2,\"linecolor\":\"white\",\"showbackground\":true,\"ticks\":\"\",\"zerolinecolor\":\"white\"},\"zaxis\":{\"backgroundcolor\":\"#E5ECF6\",\"gridcolor\":\"white\",\"gridwidth\":2,\"linecolor\":\"white\",\"showbackground\":true,\"ticks\":\"\",\"zerolinecolor\":\"white\"}},\"shapedefaults\":{\"line\":{\"color\":\"#2a3f5f\"}},\"ternary\":{\"aaxis\":{\"gridcolor\":\"white\",\"linecolor\":\"white\",\"ticks\":\"\"},\"baxis\":{\"gridcolor\":\"white\",\"linecolor\":\"white\",\"ticks\":\"\"},\"bgcolor\":\"#E5ECF6\",\"caxis\":{\"gridcolor\":\"white\",\"linecolor\":\"white\",\"ticks\":\"\"}},\"title\":{\"x\":0.05},\"xaxis\":{\"automargin\":true,\"gridcolor\":\"white\",\"linecolor\":\"white\",\"ticks\":\"\",\"title\":{\"standoff\":15},\"zerolinecolor\":\"white\",\"zerolinewidth\":2},\"yaxis\":{\"automargin\":true,\"gridcolor\":\"white\",\"linecolor\":\"white\",\"ticks\":\"\",\"title\":{\"standoff\":15},\"zerolinecolor\":\"white\",\"zerolinewidth\":2}}},\"title\":{\"font\":{\"color\":\"#4D5663\"}},\"xaxis\":{\"gridcolor\":\"#E1E5ED\",\"showgrid\":true,\"tickfont\":{\"color\":\"#4D5663\"},\"title\":{\"font\":{\"color\":\"#4D5663\"},\"text\":\"\"},\"zerolinecolor\":\"#E1E5ED\"},\"yaxis\":{\"gridcolor\":\"#E1E5ED\",\"showgrid\":true,\"tickfont\":{\"color\":\"#4D5663\"},\"title\":{\"font\":{\"color\":\"#4D5663\"},\"text\":\"\"},\"zerolinecolor\":\"#E1E5ED\"}},                        {\"showLink\": true, \"linkText\": \"Export to plot.ly\", \"plotlyServerURL\": \"https://plot.ly\", \"responsive\": true}                    ).then(function(){\n",
       "                            \n",
       "var gd = document.getElementById('64e60961-6374-4539-921f-db6f385ce476');\n",
       "var x = new MutationObserver(function (mutations, observer) {{\n",
       "        var display = window.getComputedStyle(gd).display;\n",
       "        if (!display || display === 'none') {{\n",
       "            console.log([gd, 'removed!']);\n",
       "            Plotly.purge(gd);\n",
       "            observer.disconnect();\n",
       "        }}\n",
       "}});\n",
       "\n",
       "// Listen for the removal of the full notebook cells\n",
       "var notebookContainer = gd.closest('#notebook-container');\n",
       "if (notebookContainer) {{\n",
       "    x.observe(notebookContainer, {childList: true});\n",
       "}}\n",
       "\n",
       "// Listen for the clearing of the current output cell\n",
       "var outputEl = gd.closest('.output');\n",
       "if (outputEl) {{\n",
       "    x.observe(outputEl, {childList: true});\n",
       "}}\n",
       "\n",
       "                        })                };                });            </script>        </div>"
      ]
     },
     "metadata": {},
     "output_type": "display_data"
    }
   ],
   "source": [
    "df3.iplot(kind='surface',colorscale='rdylbu')"
   ]
  },
  {
   "cell_type": "code",
   "execution_count": 47,
   "id": "b31c6fe8",
   "metadata": {},
   "outputs": [
    {
     "data": {
      "application/vnd.plotly.v1+json": {
       "config": {
        "linkText": "Export to plot.ly",
        "plotlyServerURL": "https://plot.ly",
        "showLink": true
       },
       "data": [
        {
         "histfunc": "count",
         "histnorm": "",
         "marker": {
          "color": "rgba(255, 153, 51, 1.0)",
          "line": {
           "color": "#4D5663",
           "width": 1.3
          }
         },
         "name": "A",
         "nbinsx": 30,
         "opacity": 0.8,
         "orientation": "v",
         "type": "histogram",
         "x": [
          0.7619660073950553,
          0.3831993421094785,
          0.5269321193818782,
          0.8275492317391815,
          0.8892593486573043,
          0.3193034931601627,
          0.28895444431277995,
          0.7404201733798286,
          0.12262001182879045,
          0.4493067356839209,
          0.03268762124032354,
          0.5934371670171862,
          0.00775924351526569,
          0.7455915765369152,
          0.4502326921792916,
          0.3916702955561916,
          0.9499649212210532,
          0.40318591556191474,
          0.40430371134501164,
          0.9295708927415494,
          0.26401447744374207,
          0.04511005253584999,
          0.19567228276849713,
          0.6461452322972179,
          0.4150268649397657,
          0.725922808467533,
          0.24440128975011677,
          0.23705121473054847,
          0.3908586565883515,
          0.06321951994661645,
          0.49750978787243083,
          0.21896559130674031,
          0.15366305526772783,
          0.006900916720903871,
          0.8125625292473938,
          0.4572756047229609,
          0.6709495356717864,
          0.04816046679203534,
          0.18762944263268255,
          0.7481366533880054,
          0.872440559716538,
          0.6990539539189577,
          0.4008588265264157,
          0.8876162116069556,
          0.7720236084810732,
          0.7162082122874913,
          0.3407175898186231,
          0.2895501156831318,
          0.5233988313773491,
          0.13188177705744175,
          0.495784431850116,
          0.03921293920164437,
          0.36309279113436466,
          0.19260620018151076,
          0.4825063131163069,
          0.18293023655992846,
          0.5081102519643054,
          0.40834269081324326,
          0.7858579803904728,
          0.11075045416252305,
          0.2285418382143266,
          0.9619504700480105,
          0.1365265519797081,
          0.8078347791029732,
          0.487743654722274,
          0.25177027627988124,
          0.3967257162703608,
          0.505524977282712,
          0.3661074008725529,
          0.418861514694419,
          0.17626473882139104,
          0.6919317185694058,
          0.5439240513207385,
          0.4481649951924652,
          0.9132768312770118,
          0.921791909753098,
          0.642844443031545,
          0.5041098343996006,
          0.8661579762231469,
          0.06146029125465091,
          0.15800663822843508,
          0.051203138710208984,
          0.8073206502672432,
          0.9910959951669714,
          0.876589487571141,
          0.852813647221526,
          0.16759692366974466,
          0.8265931069909461,
          0.5561296050596473,
          0.22508091373253858,
          0.6401703261599638,
          0.30919582237103205,
          0.5431169736376333,
          0.7910246102390857,
          0.9237791277470113,
          0.07302968408134924,
          0.15201917738506276,
          0.983133553271018,
          0.19306177479954023,
          0.9917275316090092
         ]
        }
       ],
       "layout": {
        "barmode": "overlay",
        "legend": {
         "bgcolor": "#F5F6F9",
         "font": {
          "color": "#4D5663"
         }
        },
        "paper_bgcolor": "#F5F6F9",
        "plot_bgcolor": "#F5F6F9",
        "template": {
         "data": {
          "bar": [
           {
            "error_x": {
             "color": "#2a3f5f"
            },
            "error_y": {
             "color": "#2a3f5f"
            },
            "marker": {
             "line": {
              "color": "#E5ECF6",
              "width": 0.5
             },
             "pattern": {
              "fillmode": "overlay",
              "size": 10,
              "solidity": 0.2
             }
            },
            "type": "bar"
           }
          ],
          "barpolar": [
           {
            "marker": {
             "line": {
              "color": "#E5ECF6",
              "width": 0.5
             },
             "pattern": {
              "fillmode": "overlay",
              "size": 10,
              "solidity": 0.2
             }
            },
            "type": "barpolar"
           }
          ],
          "carpet": [
           {
            "aaxis": {
             "endlinecolor": "#2a3f5f",
             "gridcolor": "white",
             "linecolor": "white",
             "minorgridcolor": "white",
             "startlinecolor": "#2a3f5f"
            },
            "baxis": {
             "endlinecolor": "#2a3f5f",
             "gridcolor": "white",
             "linecolor": "white",
             "minorgridcolor": "white",
             "startlinecolor": "#2a3f5f"
            },
            "type": "carpet"
           }
          ],
          "choropleth": [
           {
            "colorbar": {
             "outlinewidth": 0,
             "ticks": ""
            },
            "type": "choropleth"
           }
          ],
          "contour": [
           {
            "colorbar": {
             "outlinewidth": 0,
             "ticks": ""
            },
            "colorscale": [
             [
              0,
              "#0d0887"
             ],
             [
              0.1111111111111111,
              "#46039f"
             ],
             [
              0.2222222222222222,
              "#7201a8"
             ],
             [
              0.3333333333333333,
              "#9c179e"
             ],
             [
              0.4444444444444444,
              "#bd3786"
             ],
             [
              0.5555555555555556,
              "#d8576b"
             ],
             [
              0.6666666666666666,
              "#ed7953"
             ],
             [
              0.7777777777777778,
              "#fb9f3a"
             ],
             [
              0.8888888888888888,
              "#fdca26"
             ],
             [
              1,
              "#f0f921"
             ]
            ],
            "type": "contour"
           }
          ],
          "contourcarpet": [
           {
            "colorbar": {
             "outlinewidth": 0,
             "ticks": ""
            },
            "type": "contourcarpet"
           }
          ],
          "heatmap": [
           {
            "colorbar": {
             "outlinewidth": 0,
             "ticks": ""
            },
            "colorscale": [
             [
              0,
              "#0d0887"
             ],
             [
              0.1111111111111111,
              "#46039f"
             ],
             [
              0.2222222222222222,
              "#7201a8"
             ],
             [
              0.3333333333333333,
              "#9c179e"
             ],
             [
              0.4444444444444444,
              "#bd3786"
             ],
             [
              0.5555555555555556,
              "#d8576b"
             ],
             [
              0.6666666666666666,
              "#ed7953"
             ],
             [
              0.7777777777777778,
              "#fb9f3a"
             ],
             [
              0.8888888888888888,
              "#fdca26"
             ],
             [
              1,
              "#f0f921"
             ]
            ],
            "type": "heatmap"
           }
          ],
          "heatmapgl": [
           {
            "colorbar": {
             "outlinewidth": 0,
             "ticks": ""
            },
            "colorscale": [
             [
              0,
              "#0d0887"
             ],
             [
              0.1111111111111111,
              "#46039f"
             ],
             [
              0.2222222222222222,
              "#7201a8"
             ],
             [
              0.3333333333333333,
              "#9c179e"
             ],
             [
              0.4444444444444444,
              "#bd3786"
             ],
             [
              0.5555555555555556,
              "#d8576b"
             ],
             [
              0.6666666666666666,
              "#ed7953"
             ],
             [
              0.7777777777777778,
              "#fb9f3a"
             ],
             [
              0.8888888888888888,
              "#fdca26"
             ],
             [
              1,
              "#f0f921"
             ]
            ],
            "type": "heatmapgl"
           }
          ],
          "histogram": [
           {
            "marker": {
             "pattern": {
              "fillmode": "overlay",
              "size": 10,
              "solidity": 0.2
             }
            },
            "type": "histogram"
           }
          ],
          "histogram2d": [
           {
            "colorbar": {
             "outlinewidth": 0,
             "ticks": ""
            },
            "colorscale": [
             [
              0,
              "#0d0887"
             ],
             [
              0.1111111111111111,
              "#46039f"
             ],
             [
              0.2222222222222222,
              "#7201a8"
             ],
             [
              0.3333333333333333,
              "#9c179e"
             ],
             [
              0.4444444444444444,
              "#bd3786"
             ],
             [
              0.5555555555555556,
              "#d8576b"
             ],
             [
              0.6666666666666666,
              "#ed7953"
             ],
             [
              0.7777777777777778,
              "#fb9f3a"
             ],
             [
              0.8888888888888888,
              "#fdca26"
             ],
             [
              1,
              "#f0f921"
             ]
            ],
            "type": "histogram2d"
           }
          ],
          "histogram2dcontour": [
           {
            "colorbar": {
             "outlinewidth": 0,
             "ticks": ""
            },
            "colorscale": [
             [
              0,
              "#0d0887"
             ],
             [
              0.1111111111111111,
              "#46039f"
             ],
             [
              0.2222222222222222,
              "#7201a8"
             ],
             [
              0.3333333333333333,
              "#9c179e"
             ],
             [
              0.4444444444444444,
              "#bd3786"
             ],
             [
              0.5555555555555556,
              "#d8576b"
             ],
             [
              0.6666666666666666,
              "#ed7953"
             ],
             [
              0.7777777777777778,
              "#fb9f3a"
             ],
             [
              0.8888888888888888,
              "#fdca26"
             ],
             [
              1,
              "#f0f921"
             ]
            ],
            "type": "histogram2dcontour"
           }
          ],
          "mesh3d": [
           {
            "colorbar": {
             "outlinewidth": 0,
             "ticks": ""
            },
            "type": "mesh3d"
           }
          ],
          "parcoords": [
           {
            "line": {
             "colorbar": {
              "outlinewidth": 0,
              "ticks": ""
             }
            },
            "type": "parcoords"
           }
          ],
          "pie": [
           {
            "automargin": true,
            "type": "pie"
           }
          ],
          "scatter": [
           {
            "marker": {
             "colorbar": {
              "outlinewidth": 0,
              "ticks": ""
             }
            },
            "type": "scatter"
           }
          ],
          "scatter3d": [
           {
            "line": {
             "colorbar": {
              "outlinewidth": 0,
              "ticks": ""
             }
            },
            "marker": {
             "colorbar": {
              "outlinewidth": 0,
              "ticks": ""
             }
            },
            "type": "scatter3d"
           }
          ],
          "scattercarpet": [
           {
            "marker": {
             "colorbar": {
              "outlinewidth": 0,
              "ticks": ""
             }
            },
            "type": "scattercarpet"
           }
          ],
          "scattergeo": [
           {
            "marker": {
             "colorbar": {
              "outlinewidth": 0,
              "ticks": ""
             }
            },
            "type": "scattergeo"
           }
          ],
          "scattergl": [
           {
            "marker": {
             "colorbar": {
              "outlinewidth": 0,
              "ticks": ""
             }
            },
            "type": "scattergl"
           }
          ],
          "scattermapbox": [
           {
            "marker": {
             "colorbar": {
              "outlinewidth": 0,
              "ticks": ""
             }
            },
            "type": "scattermapbox"
           }
          ],
          "scatterpolar": [
           {
            "marker": {
             "colorbar": {
              "outlinewidth": 0,
              "ticks": ""
             }
            },
            "type": "scatterpolar"
           }
          ],
          "scatterpolargl": [
           {
            "marker": {
             "colorbar": {
              "outlinewidth": 0,
              "ticks": ""
             }
            },
            "type": "scatterpolargl"
           }
          ],
          "scatterternary": [
           {
            "marker": {
             "colorbar": {
              "outlinewidth": 0,
              "ticks": ""
             }
            },
            "type": "scatterternary"
           }
          ],
          "surface": [
           {
            "colorbar": {
             "outlinewidth": 0,
             "ticks": ""
            },
            "colorscale": [
             [
              0,
              "#0d0887"
             ],
             [
              0.1111111111111111,
              "#46039f"
             ],
             [
              0.2222222222222222,
              "#7201a8"
             ],
             [
              0.3333333333333333,
              "#9c179e"
             ],
             [
              0.4444444444444444,
              "#bd3786"
             ],
             [
              0.5555555555555556,
              "#d8576b"
             ],
             [
              0.6666666666666666,
              "#ed7953"
             ],
             [
              0.7777777777777778,
              "#fb9f3a"
             ],
             [
              0.8888888888888888,
              "#fdca26"
             ],
             [
              1,
              "#f0f921"
             ]
            ],
            "type": "surface"
           }
          ],
          "table": [
           {
            "cells": {
             "fill": {
              "color": "#EBF0F8"
             },
             "line": {
              "color": "white"
             }
            },
            "header": {
             "fill": {
              "color": "#C8D4E3"
             },
             "line": {
              "color": "white"
             }
            },
            "type": "table"
           }
          ]
         },
         "layout": {
          "annotationdefaults": {
           "arrowcolor": "#2a3f5f",
           "arrowhead": 0,
           "arrowwidth": 1
          },
          "autotypenumbers": "strict",
          "coloraxis": {
           "colorbar": {
            "outlinewidth": 0,
            "ticks": ""
           }
          },
          "colorscale": {
           "diverging": [
            [
             0,
             "#8e0152"
            ],
            [
             0.1,
             "#c51b7d"
            ],
            [
             0.2,
             "#de77ae"
            ],
            [
             0.3,
             "#f1b6da"
            ],
            [
             0.4,
             "#fde0ef"
            ],
            [
             0.5,
             "#f7f7f7"
            ],
            [
             0.6,
             "#e6f5d0"
            ],
            [
             0.7,
             "#b8e186"
            ],
            [
             0.8,
             "#7fbc41"
            ],
            [
             0.9,
             "#4d9221"
            ],
            [
             1,
             "#276419"
            ]
           ],
           "sequential": [
            [
             0,
             "#0d0887"
            ],
            [
             0.1111111111111111,
             "#46039f"
            ],
            [
             0.2222222222222222,
             "#7201a8"
            ],
            [
             0.3333333333333333,
             "#9c179e"
            ],
            [
             0.4444444444444444,
             "#bd3786"
            ],
            [
             0.5555555555555556,
             "#d8576b"
            ],
            [
             0.6666666666666666,
             "#ed7953"
            ],
            [
             0.7777777777777778,
             "#fb9f3a"
            ],
            [
             0.8888888888888888,
             "#fdca26"
            ],
            [
             1,
             "#f0f921"
            ]
           ],
           "sequentialminus": [
            [
             0,
             "#0d0887"
            ],
            [
             0.1111111111111111,
             "#46039f"
            ],
            [
             0.2222222222222222,
             "#7201a8"
            ],
            [
             0.3333333333333333,
             "#9c179e"
            ],
            [
             0.4444444444444444,
             "#bd3786"
            ],
            [
             0.5555555555555556,
             "#d8576b"
            ],
            [
             0.6666666666666666,
             "#ed7953"
            ],
            [
             0.7777777777777778,
             "#fb9f3a"
            ],
            [
             0.8888888888888888,
             "#fdca26"
            ],
            [
             1,
             "#f0f921"
            ]
           ]
          },
          "colorway": [
           "#636efa",
           "#EF553B",
           "#00cc96",
           "#ab63fa",
           "#FFA15A",
           "#19d3f3",
           "#FF6692",
           "#B6E880",
           "#FF97FF",
           "#FECB52"
          ],
          "font": {
           "color": "#2a3f5f"
          },
          "geo": {
           "bgcolor": "white",
           "lakecolor": "white",
           "landcolor": "#E5ECF6",
           "showlakes": true,
           "showland": true,
           "subunitcolor": "white"
          },
          "hoverlabel": {
           "align": "left"
          },
          "hovermode": "closest",
          "mapbox": {
           "style": "light"
          },
          "paper_bgcolor": "white",
          "plot_bgcolor": "#E5ECF6",
          "polar": {
           "angularaxis": {
            "gridcolor": "white",
            "linecolor": "white",
            "ticks": ""
           },
           "bgcolor": "#E5ECF6",
           "radialaxis": {
            "gridcolor": "white",
            "linecolor": "white",
            "ticks": ""
           }
          },
          "scene": {
           "xaxis": {
            "backgroundcolor": "#E5ECF6",
            "gridcolor": "white",
            "gridwidth": 2,
            "linecolor": "white",
            "showbackground": true,
            "ticks": "",
            "zerolinecolor": "white"
           },
           "yaxis": {
            "backgroundcolor": "#E5ECF6",
            "gridcolor": "white",
            "gridwidth": 2,
            "linecolor": "white",
            "showbackground": true,
            "ticks": "",
            "zerolinecolor": "white"
           },
           "zaxis": {
            "backgroundcolor": "#E5ECF6",
            "gridcolor": "white",
            "gridwidth": 2,
            "linecolor": "white",
            "showbackground": true,
            "ticks": "",
            "zerolinecolor": "white"
           }
          },
          "shapedefaults": {
           "line": {
            "color": "#2a3f5f"
           }
          },
          "ternary": {
           "aaxis": {
            "gridcolor": "white",
            "linecolor": "white",
            "ticks": ""
           },
           "baxis": {
            "gridcolor": "white",
            "linecolor": "white",
            "ticks": ""
           },
           "bgcolor": "#E5ECF6",
           "caxis": {
            "gridcolor": "white",
            "linecolor": "white",
            "ticks": ""
           }
          },
          "title": {
           "x": 0.05
          },
          "xaxis": {
           "automargin": true,
           "gridcolor": "white",
           "linecolor": "white",
           "ticks": "",
           "title": {
            "standoff": 15
           },
           "zerolinecolor": "white",
           "zerolinewidth": 2
          },
          "yaxis": {
           "automargin": true,
           "gridcolor": "white",
           "linecolor": "white",
           "ticks": "",
           "title": {
            "standoff": 15
           },
           "zerolinecolor": "white",
           "zerolinewidth": 2
          }
         }
        },
        "title": {
         "font": {
          "color": "#4D5663"
         }
        },
        "xaxis": {
         "gridcolor": "#E1E5ED",
         "showgrid": true,
         "tickfont": {
          "color": "#4D5663"
         },
         "title": {
          "font": {
           "color": "#4D5663"
          },
          "text": ""
         },
         "zerolinecolor": "#E1E5ED"
        },
        "yaxis": {
         "gridcolor": "#E1E5ED",
         "showgrid": true,
         "tickfont": {
          "color": "#4D5663"
         },
         "title": {
          "font": {
           "color": "#4D5663"
          },
          "text": ""
         },
         "zerolinecolor": "#E1E5ED"
        }
       }
      },
      "text/html": [
       "<div>                            <div id=\"8a01baf6-4feb-4400-8d13-fc1ef1f05b88\" class=\"plotly-graph-div\" style=\"height:525px; width:100%;\"></div>            <script type=\"text/javascript\">                require([\"plotly\"], function(Plotly) {                    window.PLOTLYENV=window.PLOTLYENV || {};\n",
       "                    window.PLOTLYENV.BASE_URL='https://plot.ly';                                    if (document.getElementById(\"8a01baf6-4feb-4400-8d13-fc1ef1f05b88\")) {                    Plotly.newPlot(                        \"8a01baf6-4feb-4400-8d13-fc1ef1f05b88\",                        [{\"histfunc\":\"count\",\"histnorm\":\"\",\"marker\":{\"color\":\"rgba(255, 153, 51, 1.0)\",\"line\":{\"color\":\"#4D5663\",\"width\":1.3}},\"name\":\"A\",\"nbinsx\":30,\"opacity\":0.8,\"orientation\":\"v\",\"x\":[0.7619660073950553,0.3831993421094785,0.5269321193818782,0.8275492317391815,0.8892593486573043,0.3193034931601627,0.28895444431277995,0.7404201733798286,0.12262001182879045,0.4493067356839209,0.03268762124032354,0.5934371670171862,0.00775924351526569,0.7455915765369152,0.4502326921792916,0.3916702955561916,0.9499649212210532,0.40318591556191474,0.40430371134501164,0.9295708927415494,0.26401447744374207,0.04511005253584999,0.19567228276849713,0.6461452322972179,0.4150268649397657,0.725922808467533,0.24440128975011677,0.23705121473054847,0.3908586565883515,0.06321951994661645,0.49750978787243083,0.21896559130674031,0.15366305526772783,0.006900916720903871,0.8125625292473938,0.4572756047229609,0.6709495356717864,0.04816046679203534,0.18762944263268255,0.7481366533880054,0.872440559716538,0.6990539539189577,0.4008588265264157,0.8876162116069556,0.7720236084810732,0.7162082122874913,0.3407175898186231,0.2895501156831318,0.5233988313773491,0.13188177705744175,0.495784431850116,0.03921293920164437,0.36309279113436466,0.19260620018151076,0.4825063131163069,0.18293023655992846,0.5081102519643054,0.40834269081324326,0.7858579803904728,0.11075045416252305,0.2285418382143266,0.9619504700480105,0.1365265519797081,0.8078347791029732,0.487743654722274,0.25177027627988124,0.3967257162703608,0.505524977282712,0.3661074008725529,0.418861514694419,0.17626473882139104,0.6919317185694058,0.5439240513207385,0.4481649951924652,0.9132768312770118,0.921791909753098,0.642844443031545,0.5041098343996006,0.8661579762231469,0.06146029125465091,0.15800663822843508,0.051203138710208984,0.8073206502672432,0.9910959951669714,0.876589487571141,0.852813647221526,0.16759692366974466,0.8265931069909461,0.5561296050596473,0.22508091373253858,0.6401703261599638,0.30919582237103205,0.5431169736376333,0.7910246102390857,0.9237791277470113,0.07302968408134924,0.15201917738506276,0.983133553271018,0.19306177479954023,0.9917275316090092],\"type\":\"histogram\"}],                        {\"barmode\":\"overlay\",\"legend\":{\"bgcolor\":\"#F5F6F9\",\"font\":{\"color\":\"#4D5663\"}},\"paper_bgcolor\":\"#F5F6F9\",\"plot_bgcolor\":\"#F5F6F9\",\"template\":{\"data\":{\"barpolar\":[{\"marker\":{\"line\":{\"color\":\"#E5ECF6\",\"width\":0.5},\"pattern\":{\"fillmode\":\"overlay\",\"size\":10,\"solidity\":0.2}},\"type\":\"barpolar\"}],\"bar\":[{\"error_x\":{\"color\":\"#2a3f5f\"},\"error_y\":{\"color\":\"#2a3f5f\"},\"marker\":{\"line\":{\"color\":\"#E5ECF6\",\"width\":0.5},\"pattern\":{\"fillmode\":\"overlay\",\"size\":10,\"solidity\":0.2}},\"type\":\"bar\"}],\"carpet\":[{\"aaxis\":{\"endlinecolor\":\"#2a3f5f\",\"gridcolor\":\"white\",\"linecolor\":\"white\",\"minorgridcolor\":\"white\",\"startlinecolor\":\"#2a3f5f\"},\"baxis\":{\"endlinecolor\":\"#2a3f5f\",\"gridcolor\":\"white\",\"linecolor\":\"white\",\"minorgridcolor\":\"white\",\"startlinecolor\":\"#2a3f5f\"},\"type\":\"carpet\"}],\"choropleth\":[{\"colorbar\":{\"outlinewidth\":0,\"ticks\":\"\"},\"type\":\"choropleth\"}],\"contourcarpet\":[{\"colorbar\":{\"outlinewidth\":0,\"ticks\":\"\"},\"type\":\"contourcarpet\"}],\"contour\":[{\"colorbar\":{\"outlinewidth\":0,\"ticks\":\"\"},\"colorscale\":[[0.0,\"#0d0887\"],[0.1111111111111111,\"#46039f\"],[0.2222222222222222,\"#7201a8\"],[0.3333333333333333,\"#9c179e\"],[0.4444444444444444,\"#bd3786\"],[0.5555555555555556,\"#d8576b\"],[0.6666666666666666,\"#ed7953\"],[0.7777777777777778,\"#fb9f3a\"],[0.8888888888888888,\"#fdca26\"],[1.0,\"#f0f921\"]],\"type\":\"contour\"}],\"heatmapgl\":[{\"colorbar\":{\"outlinewidth\":0,\"ticks\":\"\"},\"colorscale\":[[0.0,\"#0d0887\"],[0.1111111111111111,\"#46039f\"],[0.2222222222222222,\"#7201a8\"],[0.3333333333333333,\"#9c179e\"],[0.4444444444444444,\"#bd3786\"],[0.5555555555555556,\"#d8576b\"],[0.6666666666666666,\"#ed7953\"],[0.7777777777777778,\"#fb9f3a\"],[0.8888888888888888,\"#fdca26\"],[1.0,\"#f0f921\"]],\"type\":\"heatmapgl\"}],\"heatmap\":[{\"colorbar\":{\"outlinewidth\":0,\"ticks\":\"\"},\"colorscale\":[[0.0,\"#0d0887\"],[0.1111111111111111,\"#46039f\"],[0.2222222222222222,\"#7201a8\"],[0.3333333333333333,\"#9c179e\"],[0.4444444444444444,\"#bd3786\"],[0.5555555555555556,\"#d8576b\"],[0.6666666666666666,\"#ed7953\"],[0.7777777777777778,\"#fb9f3a\"],[0.8888888888888888,\"#fdca26\"],[1.0,\"#f0f921\"]],\"type\":\"heatmap\"}],\"histogram2dcontour\":[{\"colorbar\":{\"outlinewidth\":0,\"ticks\":\"\"},\"colorscale\":[[0.0,\"#0d0887\"],[0.1111111111111111,\"#46039f\"],[0.2222222222222222,\"#7201a8\"],[0.3333333333333333,\"#9c179e\"],[0.4444444444444444,\"#bd3786\"],[0.5555555555555556,\"#d8576b\"],[0.6666666666666666,\"#ed7953\"],[0.7777777777777778,\"#fb9f3a\"],[0.8888888888888888,\"#fdca26\"],[1.0,\"#f0f921\"]],\"type\":\"histogram2dcontour\"}],\"histogram2d\":[{\"colorbar\":{\"outlinewidth\":0,\"ticks\":\"\"},\"colorscale\":[[0.0,\"#0d0887\"],[0.1111111111111111,\"#46039f\"],[0.2222222222222222,\"#7201a8\"],[0.3333333333333333,\"#9c179e\"],[0.4444444444444444,\"#bd3786\"],[0.5555555555555556,\"#d8576b\"],[0.6666666666666666,\"#ed7953\"],[0.7777777777777778,\"#fb9f3a\"],[0.8888888888888888,\"#fdca26\"],[1.0,\"#f0f921\"]],\"type\":\"histogram2d\"}],\"histogram\":[{\"marker\":{\"pattern\":{\"fillmode\":\"overlay\",\"size\":10,\"solidity\":0.2}},\"type\":\"histogram\"}],\"mesh3d\":[{\"colorbar\":{\"outlinewidth\":0,\"ticks\":\"\"},\"type\":\"mesh3d\"}],\"parcoords\":[{\"line\":{\"colorbar\":{\"outlinewidth\":0,\"ticks\":\"\"}},\"type\":\"parcoords\"}],\"pie\":[{\"automargin\":true,\"type\":\"pie\"}],\"scatter3d\":[{\"line\":{\"colorbar\":{\"outlinewidth\":0,\"ticks\":\"\"}},\"marker\":{\"colorbar\":{\"outlinewidth\":0,\"ticks\":\"\"}},\"type\":\"scatter3d\"}],\"scattercarpet\":[{\"marker\":{\"colorbar\":{\"outlinewidth\":0,\"ticks\":\"\"}},\"type\":\"scattercarpet\"}],\"scattergeo\":[{\"marker\":{\"colorbar\":{\"outlinewidth\":0,\"ticks\":\"\"}},\"type\":\"scattergeo\"}],\"scattergl\":[{\"marker\":{\"colorbar\":{\"outlinewidth\":0,\"ticks\":\"\"}},\"type\":\"scattergl\"}],\"scattermapbox\":[{\"marker\":{\"colorbar\":{\"outlinewidth\":0,\"ticks\":\"\"}},\"type\":\"scattermapbox\"}],\"scatterpolargl\":[{\"marker\":{\"colorbar\":{\"outlinewidth\":0,\"ticks\":\"\"}},\"type\":\"scatterpolargl\"}],\"scatterpolar\":[{\"marker\":{\"colorbar\":{\"outlinewidth\":0,\"ticks\":\"\"}},\"type\":\"scatterpolar\"}],\"scatter\":[{\"marker\":{\"colorbar\":{\"outlinewidth\":0,\"ticks\":\"\"}},\"type\":\"scatter\"}],\"scatterternary\":[{\"marker\":{\"colorbar\":{\"outlinewidth\":0,\"ticks\":\"\"}},\"type\":\"scatterternary\"}],\"surface\":[{\"colorbar\":{\"outlinewidth\":0,\"ticks\":\"\"},\"colorscale\":[[0.0,\"#0d0887\"],[0.1111111111111111,\"#46039f\"],[0.2222222222222222,\"#7201a8\"],[0.3333333333333333,\"#9c179e\"],[0.4444444444444444,\"#bd3786\"],[0.5555555555555556,\"#d8576b\"],[0.6666666666666666,\"#ed7953\"],[0.7777777777777778,\"#fb9f3a\"],[0.8888888888888888,\"#fdca26\"],[1.0,\"#f0f921\"]],\"type\":\"surface\"}],\"table\":[{\"cells\":{\"fill\":{\"color\":\"#EBF0F8\"},\"line\":{\"color\":\"white\"}},\"header\":{\"fill\":{\"color\":\"#C8D4E3\"},\"line\":{\"color\":\"white\"}},\"type\":\"table\"}]},\"layout\":{\"annotationdefaults\":{\"arrowcolor\":\"#2a3f5f\",\"arrowhead\":0,\"arrowwidth\":1},\"autotypenumbers\":\"strict\",\"coloraxis\":{\"colorbar\":{\"outlinewidth\":0,\"ticks\":\"\"}},\"colorscale\":{\"diverging\":[[0,\"#8e0152\"],[0.1,\"#c51b7d\"],[0.2,\"#de77ae\"],[0.3,\"#f1b6da\"],[0.4,\"#fde0ef\"],[0.5,\"#f7f7f7\"],[0.6,\"#e6f5d0\"],[0.7,\"#b8e186\"],[0.8,\"#7fbc41\"],[0.9,\"#4d9221\"],[1,\"#276419\"]],\"sequential\":[[0.0,\"#0d0887\"],[0.1111111111111111,\"#46039f\"],[0.2222222222222222,\"#7201a8\"],[0.3333333333333333,\"#9c179e\"],[0.4444444444444444,\"#bd3786\"],[0.5555555555555556,\"#d8576b\"],[0.6666666666666666,\"#ed7953\"],[0.7777777777777778,\"#fb9f3a\"],[0.8888888888888888,\"#fdca26\"],[1.0,\"#f0f921\"]],\"sequentialminus\":[[0.0,\"#0d0887\"],[0.1111111111111111,\"#46039f\"],[0.2222222222222222,\"#7201a8\"],[0.3333333333333333,\"#9c179e\"],[0.4444444444444444,\"#bd3786\"],[0.5555555555555556,\"#d8576b\"],[0.6666666666666666,\"#ed7953\"],[0.7777777777777778,\"#fb9f3a\"],[0.8888888888888888,\"#fdca26\"],[1.0,\"#f0f921\"]]},\"colorway\":[\"#636efa\",\"#EF553B\",\"#00cc96\",\"#ab63fa\",\"#FFA15A\",\"#19d3f3\",\"#FF6692\",\"#B6E880\",\"#FF97FF\",\"#FECB52\"],\"font\":{\"color\":\"#2a3f5f\"},\"geo\":{\"bgcolor\":\"white\",\"lakecolor\":\"white\",\"landcolor\":\"#E5ECF6\",\"showlakes\":true,\"showland\":true,\"subunitcolor\":\"white\"},\"hoverlabel\":{\"align\":\"left\"},\"hovermode\":\"closest\",\"mapbox\":{\"style\":\"light\"},\"paper_bgcolor\":\"white\",\"plot_bgcolor\":\"#E5ECF6\",\"polar\":{\"angularaxis\":{\"gridcolor\":\"white\",\"linecolor\":\"white\",\"ticks\":\"\"},\"bgcolor\":\"#E5ECF6\",\"radialaxis\":{\"gridcolor\":\"white\",\"linecolor\":\"white\",\"ticks\":\"\"}},\"scene\":{\"xaxis\":{\"backgroundcolor\":\"#E5ECF6\",\"gridcolor\":\"white\",\"gridwidth\":2,\"linecolor\":\"white\",\"showbackground\":true,\"ticks\":\"\",\"zerolinecolor\":\"white\"},\"yaxis\":{\"backgroundcolor\":\"#E5ECF6\",\"gridcolor\":\"white\",\"gridwidth\":2,\"linecolor\":\"white\",\"showbackground\":true,\"ticks\":\"\",\"zerolinecolor\":\"white\"},\"zaxis\":{\"backgroundcolor\":\"#E5ECF6\",\"gridcolor\":\"white\",\"gridwidth\":2,\"linecolor\":\"white\",\"showbackground\":true,\"ticks\":\"\",\"zerolinecolor\":\"white\"}},\"shapedefaults\":{\"line\":{\"color\":\"#2a3f5f\"}},\"ternary\":{\"aaxis\":{\"gridcolor\":\"white\",\"linecolor\":\"white\",\"ticks\":\"\"},\"baxis\":{\"gridcolor\":\"white\",\"linecolor\":\"white\",\"ticks\":\"\"},\"bgcolor\":\"#E5ECF6\",\"caxis\":{\"gridcolor\":\"white\",\"linecolor\":\"white\",\"ticks\":\"\"}},\"title\":{\"x\":0.05},\"xaxis\":{\"automargin\":true,\"gridcolor\":\"white\",\"linecolor\":\"white\",\"ticks\":\"\",\"title\":{\"standoff\":15},\"zerolinecolor\":\"white\",\"zerolinewidth\":2},\"yaxis\":{\"automargin\":true,\"gridcolor\":\"white\",\"linecolor\":\"white\",\"ticks\":\"\",\"title\":{\"standoff\":15},\"zerolinecolor\":\"white\",\"zerolinewidth\":2}}},\"title\":{\"font\":{\"color\":\"#4D5663\"}},\"xaxis\":{\"gridcolor\":\"#E1E5ED\",\"showgrid\":true,\"tickfont\":{\"color\":\"#4D5663\"},\"title\":{\"font\":{\"color\":\"#4D5663\"},\"text\":\"\"},\"zerolinecolor\":\"#E1E5ED\"},\"yaxis\":{\"gridcolor\":\"#E1E5ED\",\"showgrid\":true,\"tickfont\":{\"color\":\"#4D5663\"},\"title\":{\"font\":{\"color\":\"#4D5663\"},\"text\":\"\"},\"zerolinecolor\":\"#E1E5ED\"}},                        {\"showLink\": true, \"linkText\": \"Export to plot.ly\", \"plotlyServerURL\": \"https://plot.ly\", \"responsive\": true}                    ).then(function(){\n",
       "                            \n",
       "var gd = document.getElementById('8a01baf6-4feb-4400-8d13-fc1ef1f05b88');\n",
       "var x = new MutationObserver(function (mutations, observer) {{\n",
       "        var display = window.getComputedStyle(gd).display;\n",
       "        if (!display || display === 'none') {{\n",
       "            console.log([gd, 'removed!']);\n",
       "            Plotly.purge(gd);\n",
       "            observer.disconnect();\n",
       "        }}\n",
       "}});\n",
       "\n",
       "// Listen for the removal of the full notebook cells\n",
       "var notebookContainer = gd.closest('#notebook-container');\n",
       "if (notebookContainer) {{\n",
       "    x.observe(notebookContainer, {childList: true});\n",
       "}}\n",
       "\n",
       "// Listen for the clearing of the current output cell\n",
       "var outputEl = gd.closest('.output');\n",
       "if (outputEl) {{\n",
       "    x.observe(outputEl, {childList: true});\n",
       "}}\n",
       "\n",
       "                        })                };                });            </script>        </div>"
      ]
     },
     "metadata": {},
     "output_type": "display_data"
    }
   ],
   "source": [
    "df['A'].iplot(kind='hist',bins=30)"
   ]
  },
  {
   "cell_type": "code",
   "execution_count": 49,
   "id": "47de7cc1",
   "metadata": {},
   "outputs": [
    {
     "data": {
      "application/vnd.plotly.v1+json": {
       "config": {
        "linkText": "Export to plot.ly",
        "plotlyServerURL": "https://plot.ly",
        "showLink": true
       },
       "data": [
        {
         "histfunc": "count",
         "histnorm": "",
         "marker": {
          "color": "rgba(255, 153, 51, 1.0)",
          "line": {
           "color": "#4D5663",
           "width": 1.3
          }
         },
         "name": "A",
         "opacity": 0.8,
         "orientation": "v",
         "type": "histogram",
         "x": [
          0.7619660073950553,
          0.3831993421094785,
          0.5269321193818782,
          0.8275492317391815,
          0.8892593486573043,
          0.3193034931601627,
          0.28895444431277995,
          0.7404201733798286,
          0.12262001182879045,
          0.4493067356839209,
          0.03268762124032354,
          0.5934371670171862,
          0.00775924351526569,
          0.7455915765369152,
          0.4502326921792916,
          0.3916702955561916,
          0.9499649212210532,
          0.40318591556191474,
          0.40430371134501164,
          0.9295708927415494,
          0.26401447744374207,
          0.04511005253584999,
          0.19567228276849713,
          0.6461452322972179,
          0.4150268649397657,
          0.725922808467533,
          0.24440128975011677,
          0.23705121473054847,
          0.3908586565883515,
          0.06321951994661645,
          0.49750978787243083,
          0.21896559130674031,
          0.15366305526772783,
          0.006900916720903871,
          0.8125625292473938,
          0.4572756047229609,
          0.6709495356717864,
          0.04816046679203534,
          0.18762944263268255,
          0.7481366533880054,
          0.872440559716538,
          0.6990539539189577,
          0.4008588265264157,
          0.8876162116069556,
          0.7720236084810732,
          0.7162082122874913,
          0.3407175898186231,
          0.2895501156831318,
          0.5233988313773491,
          0.13188177705744175,
          0.495784431850116,
          0.03921293920164437,
          0.36309279113436466,
          0.19260620018151076,
          0.4825063131163069,
          0.18293023655992846,
          0.5081102519643054,
          0.40834269081324326,
          0.7858579803904728,
          0.11075045416252305,
          0.2285418382143266,
          0.9619504700480105,
          0.1365265519797081,
          0.8078347791029732,
          0.487743654722274,
          0.25177027627988124,
          0.3967257162703608,
          0.505524977282712,
          0.3661074008725529,
          0.418861514694419,
          0.17626473882139104,
          0.6919317185694058,
          0.5439240513207385,
          0.4481649951924652,
          0.9132768312770118,
          0.921791909753098,
          0.642844443031545,
          0.5041098343996006,
          0.8661579762231469,
          0.06146029125465091,
          0.15800663822843508,
          0.051203138710208984,
          0.8073206502672432,
          0.9910959951669714,
          0.876589487571141,
          0.852813647221526,
          0.16759692366974466,
          0.8265931069909461,
          0.5561296050596473,
          0.22508091373253858,
          0.6401703261599638,
          0.30919582237103205,
          0.5431169736376333,
          0.7910246102390857,
          0.9237791277470113,
          0.07302968408134924,
          0.15201917738506276,
          0.983133553271018,
          0.19306177479954023,
          0.9917275316090092
         ]
        },
        {
         "histfunc": "count",
         "histnorm": "",
         "marker": {
          "color": "rgba(55, 128, 191, 1.0)",
          "line": {
           "color": "#4D5663",
           "width": 1.3
          }
         },
         "name": "B",
         "opacity": 0.8,
         "orientation": "v",
         "type": "histogram",
         "x": [
          0.7339598796376222,
          0.7501383104927066,
          0.13016208547293562,
          0.11200978376406934,
          0.22651980826246132,
          0.8264590269508255,
          0.22443867141770923,
          0.2352718033072454,
          0.0024846188504629163,
          0.5798802072866126,
          0.5738649740520214,
          0.4301924070105716,
          0.4876251960610537,
          0.2734464900525172,
          0.760568718474913,
          0.6260385346813047,
          0.029084943492812654,
          0.06253555693990653,
          0.6655768154121865,
          0.09049834922935474,
          0.1731333166262019,
          0.6743798741502727,
          0.6500480317357354,
          0.0783011719345924,
          0.5102317647824509,
          0.46150314370866274,
          0.9570694786916037,
          0.8980794966280198,
          0.985392952250985,
          0.8010104762612996,
          0.1359532149661019,
          0.6982104352811658,
          0.9496239355793838,
          0.6289856730494802,
          0.3343850596961273,
          0.4705462267632926,
          0.5358113248142444,
          0.54994988375767,
          0.10619750125105731,
          0.34053025900176015,
          0.512725288760018,
          0.4047347225539547,
          0.19781959875146227,
          0.8067271659399001,
          0.09196611713559333,
          0.3774904205271683,
          0.0674248309139931,
          0.2750998557215809,
          0.7272520586012536,
          0.6627921337777752,
          0.21547850679365865,
          0.46105159730223977,
          0.3948132978906208,
          0.42178085249769126,
          0.4081734031335238,
          0.09945735841702441,
          0.22771194746019074,
          0.8434444345959553,
          0.6946148523209147,
          0.9023596842312003,
          0.4638505188507209,
          0.6281799224310242,
          0.5805488757691596,
          0.0012414559796589675,
          0.8798845815250357,
          0.11438268742010627,
          0.809028744336986,
          0.13030019355695355,
          0.35080744290592747,
          0.8842954224667885,
          0.6691565542958794,
          0.3896463917450411,
          0.4366991083682191,
          0.552245182285504,
          0.3257393992187827,
          0.5905741655913366,
          0.016704330974247616,
          0.49588116502078383,
          0.26474578645560176,
          0.2751859402483783,
          0.7614822740631733,
          0.6645083201236293,
          0.6855306971352015,
          0.21544745676820143,
          0.07117996063176835,
          0.114639783637555,
          0.050123194144784944,
          0.2904254227759736,
          0.34776127684022573,
          0.7344999685663639,
          0.25288744823039233,
          0.5970658246487074,
          0.5006956562340436,
          0.6027237230222172,
          0.23026493515505964,
          0.4362682166721016,
          0.487018856912538,
          0.8615638279257543,
          0.32508203394432833,
          0.09546869675423375
         ]
        },
        {
         "histfunc": "count",
         "histnorm": "",
         "marker": {
          "color": "rgba(50, 171, 96, 1.0)",
          "line": {
           "color": "#4D5663",
           "width": 1.3
          }
         },
         "name": "C",
         "opacity": 0.8,
         "orientation": "v",
         "type": "histogram",
         "x": [
          0.48994178486763973,
          0.4392627309753028,
          0.9686290112192875,
          0.5048735866512276,
          0.1017291045298857,
          0.6318974257647305,
          0.08496157650071412,
          0.22747296407613338,
          0.6050595067412333,
          0.6788167886261672,
          0.7637196511883925,
          0.029536245436085906,
          0.5347771455820954,
          0.3761139604663193,
          0.35382619394351067,
          0.5522377987990843,
          0.7420617544122445,
          0.971097323898076,
          0.10992201194963669,
          0.92651698010797,
          0.12210694612390482,
          0.6948757457918311,
          0.5933637061680342,
          0.9723433760599861,
          0.6814523441849866,
          0.7537582885564225,
          0.35123020954937445,
          0.6885201158974867,
          0.028102920710133428,
          0.5255256451848452,
          0.611513915485729,
          0.04602526700654985,
          0.9460218483554266,
          0.6711550466617024,
          0.7235169153895089,
          0.012270753310094862,
          0.14490125323506786,
          0.7952467004090731,
          0.97900056160059,
          0.7314219319755022,
          0.8688858396326965,
          0.5584103745187854,
          0.8700940763841912,
          0.3804146053601756,
          0.7586474418626046,
          0.4336084956926466,
          0.9224550999239891,
          0.5151931763732133,
          0.7234713176195481,
          0.894495458699626,
          0.19908743183141808,
          0.5004700866647201,
          0.6710095911595803,
          0.7343374816685606,
          0.8318664516913109,
          0.053972947362364576,
          0.8826636961003679,
          0.6887250471610893,
          0.7253385521274806,
          0.1936409680930874,
          0.5411851199071863,
          0.9328699421039989,
          0.7675849478996553,
          0.5844852219933127,
          0.20937597662357466,
          0.600206594677098,
          0.6482292216178916,
          0.04459166963388661,
          0.15261877613839925,
          0.09290614080224391,
          0.8022302038519756,
          0.7342114346211318,
          0.9191233709602152,
          0.7675767614267679,
          0.47660015716340287,
          0.494936205550916,
          0.9121380671584027,
          0.8705220078440615,
          0.8785082253048494,
          0.6868630373868092,
          0.3790372735459786,
          0.09873907615087552,
          0.5951013781132024,
          0.7962133030802363,
          0.3561890303738343,
          0.5178452584857594,
          0.539500433477665,
          0.012082464832550821,
          0.3687719924765247,
          0.07122201760596714,
          0.5300975248213184,
          0.7046093414506819,
          0.5423280449311959,
          0.30889406555916843,
          0.6868465170394179,
          0.37798764713121924,
          0.542875266638495,
          0.7330716083799603,
          0.48827268008044755,
          0.04858502557079991
         ]
        },
        {
         "histfunc": "count",
         "histnorm": "",
         "marker": {
          "color": "rgba(128, 0, 128, 1.0)",
          "line": {
           "color": "#4D5663",
           "width": 1.3
          }
         },
         "name": "D",
         "opacity": 0.8,
         "orientation": "v",
         "type": "histogram",
         "x": [
          0.8987576252586102,
          0.797330843062111,
          0.8485281028996704,
          0.1914572130001988,
          0.4700639826911347,
          0.4128448382530481,
          0.04723112194010781,
          0.5208689706044635,
          0.6943142463118016,
          0.3415631885250485,
          0.9400510982689896,
          0.820931171044754,
          0.4357377238848412,
          0.6121151708213703,
          0.46951103442410125,
          0.9806144922153679,
          0.5267754958529278,
          0.7891144536725998,
          0.24101122496678706,
          0.7924699295349183,
          0.5804521775615598,
          0.9070895427876049,
          0.68916203570464,
          0.5987235244597106,
          0.35312084931643617,
          0.028321011269562546,
          0.7525711258052912,
          0.5095635317563492,
          0.04397419626567067,
          0.32546219463798554,
          0.3331879938230772,
          0.9841521192289913,
          0.5583464342959563,
          0.19279780398966107,
          0.8819424677298963,
          0.019332976704915406,
          0.4950597119939998,
          0.22486504236773108,
          0.7529129438891541,
          0.23201323816632236,
          0.9053744902103413,
          0.542795511023813,
          0.5075355287403258,
          0.3866287400518348,
          0.8741053558523413,
          0.9953746203999989,
          0.6709886831365968,
          0.8478361423637356,
          0.21727760692326115,
          0.7834503160054718,
          0.5225741911144963,
          0.30785808002060844,
          0.8626121387907464,
          0.021878587472828226,
          0.3132571615277814,
          0.269819703915101,
          0.047388947590950026,
          0.3783792139521778,
          0.6686715562815971,
          0.9340195896813317,
          0.24505316377281527,
          0.609341035884486,
          0.028512158125664766,
          0.5219175887400826,
          0.2789385116867189,
          0.5640668254847896,
          0.03848604584262927,
          0.4471931557922294,
          0.7157733382789738,
          0.3488660370994199,
          0.5178238120474549,
          0.5660049109441244,
          0.6759687616692475,
          0.3440802895222872,
          0.19633304738425505,
          0.068427853103733,
          0.961558562423373,
          0.19847993488194093,
          0.2069189471745908,
          0.8132554715264844,
          0.8888914058334912,
          0.676830901973747,
          0.9067289015561729,
          0.4623345767488364,
          0.3746023117702302,
          0.46009272979736426,
          0.007237548420919282,
          0.517787117725699,
          0.03732628959923279,
          0.5761660217671997,
          0.7579811277873082,
          0.3872441509651735,
          0.5010283266044836,
          0.15185669982217342,
          0.043185938195618445,
          0.869124913839304,
          0.34644360847665445,
          0.007513324253049514,
          0.08127399613059183,
          0.9993716910228512
         ]
        }
       ],
       "layout": {
        "barmode": "overlay",
        "legend": {
         "bgcolor": "#F5F6F9",
         "font": {
          "color": "#4D5663"
         }
        },
        "paper_bgcolor": "#F5F6F9",
        "plot_bgcolor": "#F5F6F9",
        "template": {
         "data": {
          "bar": [
           {
            "error_x": {
             "color": "#2a3f5f"
            },
            "error_y": {
             "color": "#2a3f5f"
            },
            "marker": {
             "line": {
              "color": "#E5ECF6",
              "width": 0.5
             },
             "pattern": {
              "fillmode": "overlay",
              "size": 10,
              "solidity": 0.2
             }
            },
            "type": "bar"
           }
          ],
          "barpolar": [
           {
            "marker": {
             "line": {
              "color": "#E5ECF6",
              "width": 0.5
             },
             "pattern": {
              "fillmode": "overlay",
              "size": 10,
              "solidity": 0.2
             }
            },
            "type": "barpolar"
           }
          ],
          "carpet": [
           {
            "aaxis": {
             "endlinecolor": "#2a3f5f",
             "gridcolor": "white",
             "linecolor": "white",
             "minorgridcolor": "white",
             "startlinecolor": "#2a3f5f"
            },
            "baxis": {
             "endlinecolor": "#2a3f5f",
             "gridcolor": "white",
             "linecolor": "white",
             "minorgridcolor": "white",
             "startlinecolor": "#2a3f5f"
            },
            "type": "carpet"
           }
          ],
          "choropleth": [
           {
            "colorbar": {
             "outlinewidth": 0,
             "ticks": ""
            },
            "type": "choropleth"
           }
          ],
          "contour": [
           {
            "colorbar": {
             "outlinewidth": 0,
             "ticks": ""
            },
            "colorscale": [
             [
              0,
              "#0d0887"
             ],
             [
              0.1111111111111111,
              "#46039f"
             ],
             [
              0.2222222222222222,
              "#7201a8"
             ],
             [
              0.3333333333333333,
              "#9c179e"
             ],
             [
              0.4444444444444444,
              "#bd3786"
             ],
             [
              0.5555555555555556,
              "#d8576b"
             ],
             [
              0.6666666666666666,
              "#ed7953"
             ],
             [
              0.7777777777777778,
              "#fb9f3a"
             ],
             [
              0.8888888888888888,
              "#fdca26"
             ],
             [
              1,
              "#f0f921"
             ]
            ],
            "type": "contour"
           }
          ],
          "contourcarpet": [
           {
            "colorbar": {
             "outlinewidth": 0,
             "ticks": ""
            },
            "type": "contourcarpet"
           }
          ],
          "heatmap": [
           {
            "colorbar": {
             "outlinewidth": 0,
             "ticks": ""
            },
            "colorscale": [
             [
              0,
              "#0d0887"
             ],
             [
              0.1111111111111111,
              "#46039f"
             ],
             [
              0.2222222222222222,
              "#7201a8"
             ],
             [
              0.3333333333333333,
              "#9c179e"
             ],
             [
              0.4444444444444444,
              "#bd3786"
             ],
             [
              0.5555555555555556,
              "#d8576b"
             ],
             [
              0.6666666666666666,
              "#ed7953"
             ],
             [
              0.7777777777777778,
              "#fb9f3a"
             ],
             [
              0.8888888888888888,
              "#fdca26"
             ],
             [
              1,
              "#f0f921"
             ]
            ],
            "type": "heatmap"
           }
          ],
          "heatmapgl": [
           {
            "colorbar": {
             "outlinewidth": 0,
             "ticks": ""
            },
            "colorscale": [
             [
              0,
              "#0d0887"
             ],
             [
              0.1111111111111111,
              "#46039f"
             ],
             [
              0.2222222222222222,
              "#7201a8"
             ],
             [
              0.3333333333333333,
              "#9c179e"
             ],
             [
              0.4444444444444444,
              "#bd3786"
             ],
             [
              0.5555555555555556,
              "#d8576b"
             ],
             [
              0.6666666666666666,
              "#ed7953"
             ],
             [
              0.7777777777777778,
              "#fb9f3a"
             ],
             [
              0.8888888888888888,
              "#fdca26"
             ],
             [
              1,
              "#f0f921"
             ]
            ],
            "type": "heatmapgl"
           }
          ],
          "histogram": [
           {
            "marker": {
             "pattern": {
              "fillmode": "overlay",
              "size": 10,
              "solidity": 0.2
             }
            },
            "type": "histogram"
           }
          ],
          "histogram2d": [
           {
            "colorbar": {
             "outlinewidth": 0,
             "ticks": ""
            },
            "colorscale": [
             [
              0,
              "#0d0887"
             ],
             [
              0.1111111111111111,
              "#46039f"
             ],
             [
              0.2222222222222222,
              "#7201a8"
             ],
             [
              0.3333333333333333,
              "#9c179e"
             ],
             [
              0.4444444444444444,
              "#bd3786"
             ],
             [
              0.5555555555555556,
              "#d8576b"
             ],
             [
              0.6666666666666666,
              "#ed7953"
             ],
             [
              0.7777777777777778,
              "#fb9f3a"
             ],
             [
              0.8888888888888888,
              "#fdca26"
             ],
             [
              1,
              "#f0f921"
             ]
            ],
            "type": "histogram2d"
           }
          ],
          "histogram2dcontour": [
           {
            "colorbar": {
             "outlinewidth": 0,
             "ticks": ""
            },
            "colorscale": [
             [
              0,
              "#0d0887"
             ],
             [
              0.1111111111111111,
              "#46039f"
             ],
             [
              0.2222222222222222,
              "#7201a8"
             ],
             [
              0.3333333333333333,
              "#9c179e"
             ],
             [
              0.4444444444444444,
              "#bd3786"
             ],
             [
              0.5555555555555556,
              "#d8576b"
             ],
             [
              0.6666666666666666,
              "#ed7953"
             ],
             [
              0.7777777777777778,
              "#fb9f3a"
             ],
             [
              0.8888888888888888,
              "#fdca26"
             ],
             [
              1,
              "#f0f921"
             ]
            ],
            "type": "histogram2dcontour"
           }
          ],
          "mesh3d": [
           {
            "colorbar": {
             "outlinewidth": 0,
             "ticks": ""
            },
            "type": "mesh3d"
           }
          ],
          "parcoords": [
           {
            "line": {
             "colorbar": {
              "outlinewidth": 0,
              "ticks": ""
             }
            },
            "type": "parcoords"
           }
          ],
          "pie": [
           {
            "automargin": true,
            "type": "pie"
           }
          ],
          "scatter": [
           {
            "marker": {
             "colorbar": {
              "outlinewidth": 0,
              "ticks": ""
             }
            },
            "type": "scatter"
           }
          ],
          "scatter3d": [
           {
            "line": {
             "colorbar": {
              "outlinewidth": 0,
              "ticks": ""
             }
            },
            "marker": {
             "colorbar": {
              "outlinewidth": 0,
              "ticks": ""
             }
            },
            "type": "scatter3d"
           }
          ],
          "scattercarpet": [
           {
            "marker": {
             "colorbar": {
              "outlinewidth": 0,
              "ticks": ""
             }
            },
            "type": "scattercarpet"
           }
          ],
          "scattergeo": [
           {
            "marker": {
             "colorbar": {
              "outlinewidth": 0,
              "ticks": ""
             }
            },
            "type": "scattergeo"
           }
          ],
          "scattergl": [
           {
            "marker": {
             "colorbar": {
              "outlinewidth": 0,
              "ticks": ""
             }
            },
            "type": "scattergl"
           }
          ],
          "scattermapbox": [
           {
            "marker": {
             "colorbar": {
              "outlinewidth": 0,
              "ticks": ""
             }
            },
            "type": "scattermapbox"
           }
          ],
          "scatterpolar": [
           {
            "marker": {
             "colorbar": {
              "outlinewidth": 0,
              "ticks": ""
             }
            },
            "type": "scatterpolar"
           }
          ],
          "scatterpolargl": [
           {
            "marker": {
             "colorbar": {
              "outlinewidth": 0,
              "ticks": ""
             }
            },
            "type": "scatterpolargl"
           }
          ],
          "scatterternary": [
           {
            "marker": {
             "colorbar": {
              "outlinewidth": 0,
              "ticks": ""
             }
            },
            "type": "scatterternary"
           }
          ],
          "surface": [
           {
            "colorbar": {
             "outlinewidth": 0,
             "ticks": ""
            },
            "colorscale": [
             [
              0,
              "#0d0887"
             ],
             [
              0.1111111111111111,
              "#46039f"
             ],
             [
              0.2222222222222222,
              "#7201a8"
             ],
             [
              0.3333333333333333,
              "#9c179e"
             ],
             [
              0.4444444444444444,
              "#bd3786"
             ],
             [
              0.5555555555555556,
              "#d8576b"
             ],
             [
              0.6666666666666666,
              "#ed7953"
             ],
             [
              0.7777777777777778,
              "#fb9f3a"
             ],
             [
              0.8888888888888888,
              "#fdca26"
             ],
             [
              1,
              "#f0f921"
             ]
            ],
            "type": "surface"
           }
          ],
          "table": [
           {
            "cells": {
             "fill": {
              "color": "#EBF0F8"
             },
             "line": {
              "color": "white"
             }
            },
            "header": {
             "fill": {
              "color": "#C8D4E3"
             },
             "line": {
              "color": "white"
             }
            },
            "type": "table"
           }
          ]
         },
         "layout": {
          "annotationdefaults": {
           "arrowcolor": "#2a3f5f",
           "arrowhead": 0,
           "arrowwidth": 1
          },
          "autotypenumbers": "strict",
          "coloraxis": {
           "colorbar": {
            "outlinewidth": 0,
            "ticks": ""
           }
          },
          "colorscale": {
           "diverging": [
            [
             0,
             "#8e0152"
            ],
            [
             0.1,
             "#c51b7d"
            ],
            [
             0.2,
             "#de77ae"
            ],
            [
             0.3,
             "#f1b6da"
            ],
            [
             0.4,
             "#fde0ef"
            ],
            [
             0.5,
             "#f7f7f7"
            ],
            [
             0.6,
             "#e6f5d0"
            ],
            [
             0.7,
             "#b8e186"
            ],
            [
             0.8,
             "#7fbc41"
            ],
            [
             0.9,
             "#4d9221"
            ],
            [
             1,
             "#276419"
            ]
           ],
           "sequential": [
            [
             0,
             "#0d0887"
            ],
            [
             0.1111111111111111,
             "#46039f"
            ],
            [
             0.2222222222222222,
             "#7201a8"
            ],
            [
             0.3333333333333333,
             "#9c179e"
            ],
            [
             0.4444444444444444,
             "#bd3786"
            ],
            [
             0.5555555555555556,
             "#d8576b"
            ],
            [
             0.6666666666666666,
             "#ed7953"
            ],
            [
             0.7777777777777778,
             "#fb9f3a"
            ],
            [
             0.8888888888888888,
             "#fdca26"
            ],
            [
             1,
             "#f0f921"
            ]
           ],
           "sequentialminus": [
            [
             0,
             "#0d0887"
            ],
            [
             0.1111111111111111,
             "#46039f"
            ],
            [
             0.2222222222222222,
             "#7201a8"
            ],
            [
             0.3333333333333333,
             "#9c179e"
            ],
            [
             0.4444444444444444,
             "#bd3786"
            ],
            [
             0.5555555555555556,
             "#d8576b"
            ],
            [
             0.6666666666666666,
             "#ed7953"
            ],
            [
             0.7777777777777778,
             "#fb9f3a"
            ],
            [
             0.8888888888888888,
             "#fdca26"
            ],
            [
             1,
             "#f0f921"
            ]
           ]
          },
          "colorway": [
           "#636efa",
           "#EF553B",
           "#00cc96",
           "#ab63fa",
           "#FFA15A",
           "#19d3f3",
           "#FF6692",
           "#B6E880",
           "#FF97FF",
           "#FECB52"
          ],
          "font": {
           "color": "#2a3f5f"
          },
          "geo": {
           "bgcolor": "white",
           "lakecolor": "white",
           "landcolor": "#E5ECF6",
           "showlakes": true,
           "showland": true,
           "subunitcolor": "white"
          },
          "hoverlabel": {
           "align": "left"
          },
          "hovermode": "closest",
          "mapbox": {
           "style": "light"
          },
          "paper_bgcolor": "white",
          "plot_bgcolor": "#E5ECF6",
          "polar": {
           "angularaxis": {
            "gridcolor": "white",
            "linecolor": "white",
            "ticks": ""
           },
           "bgcolor": "#E5ECF6",
           "radialaxis": {
            "gridcolor": "white",
            "linecolor": "white",
            "ticks": ""
           }
          },
          "scene": {
           "xaxis": {
            "backgroundcolor": "#E5ECF6",
            "gridcolor": "white",
            "gridwidth": 2,
            "linecolor": "white",
            "showbackground": true,
            "ticks": "",
            "zerolinecolor": "white"
           },
           "yaxis": {
            "backgroundcolor": "#E5ECF6",
            "gridcolor": "white",
            "gridwidth": 2,
            "linecolor": "white",
            "showbackground": true,
            "ticks": "",
            "zerolinecolor": "white"
           },
           "zaxis": {
            "backgroundcolor": "#E5ECF6",
            "gridcolor": "white",
            "gridwidth": 2,
            "linecolor": "white",
            "showbackground": true,
            "ticks": "",
            "zerolinecolor": "white"
           }
          },
          "shapedefaults": {
           "line": {
            "color": "#2a3f5f"
           }
          },
          "ternary": {
           "aaxis": {
            "gridcolor": "white",
            "linecolor": "white",
            "ticks": ""
           },
           "baxis": {
            "gridcolor": "white",
            "linecolor": "white",
            "ticks": ""
           },
           "bgcolor": "#E5ECF6",
           "caxis": {
            "gridcolor": "white",
            "linecolor": "white",
            "ticks": ""
           }
          },
          "title": {
           "x": 0.05
          },
          "xaxis": {
           "automargin": true,
           "gridcolor": "white",
           "linecolor": "white",
           "ticks": "",
           "title": {
            "standoff": 15
           },
           "zerolinecolor": "white",
           "zerolinewidth": 2
          },
          "yaxis": {
           "automargin": true,
           "gridcolor": "white",
           "linecolor": "white",
           "ticks": "",
           "title": {
            "standoff": 15
           },
           "zerolinecolor": "white",
           "zerolinewidth": 2
          }
         }
        },
        "title": {
         "font": {
          "color": "#4D5663"
         }
        },
        "xaxis": {
         "gridcolor": "#E1E5ED",
         "showgrid": true,
         "tickfont": {
          "color": "#4D5663"
         },
         "title": {
          "font": {
           "color": "#4D5663"
          },
          "text": ""
         },
         "zerolinecolor": "#E1E5ED"
        },
        "yaxis": {
         "gridcolor": "#E1E5ED",
         "showgrid": true,
         "tickfont": {
          "color": "#4D5663"
         },
         "title": {
          "font": {
           "color": "#4D5663"
          },
          "text": ""
         },
         "zerolinecolor": "#E1E5ED"
        }
       }
      },
      "text/html": [
       "<div>                            <div id=\"5dd6ebfd-1f82-4a8e-a90b-83d8f9d4a694\" class=\"plotly-graph-div\" style=\"height:525px; width:100%;\"></div>            <script type=\"text/javascript\">                require([\"plotly\"], function(Plotly) {                    window.PLOTLYENV=window.PLOTLYENV || {};\n",
       "                    window.PLOTLYENV.BASE_URL='https://plot.ly';                                    if (document.getElementById(\"5dd6ebfd-1f82-4a8e-a90b-83d8f9d4a694\")) {                    Plotly.newPlot(                        \"5dd6ebfd-1f82-4a8e-a90b-83d8f9d4a694\",                        [{\"histfunc\":\"count\",\"histnorm\":\"\",\"marker\":{\"color\":\"rgba(255, 153, 51, 1.0)\",\"line\":{\"color\":\"#4D5663\",\"width\":1.3}},\"name\":\"A\",\"opacity\":0.8,\"orientation\":\"v\",\"x\":[0.7619660073950553,0.3831993421094785,0.5269321193818782,0.8275492317391815,0.8892593486573043,0.3193034931601627,0.28895444431277995,0.7404201733798286,0.12262001182879045,0.4493067356839209,0.03268762124032354,0.5934371670171862,0.00775924351526569,0.7455915765369152,0.4502326921792916,0.3916702955561916,0.9499649212210532,0.40318591556191474,0.40430371134501164,0.9295708927415494,0.26401447744374207,0.04511005253584999,0.19567228276849713,0.6461452322972179,0.4150268649397657,0.725922808467533,0.24440128975011677,0.23705121473054847,0.3908586565883515,0.06321951994661645,0.49750978787243083,0.21896559130674031,0.15366305526772783,0.006900916720903871,0.8125625292473938,0.4572756047229609,0.6709495356717864,0.04816046679203534,0.18762944263268255,0.7481366533880054,0.872440559716538,0.6990539539189577,0.4008588265264157,0.8876162116069556,0.7720236084810732,0.7162082122874913,0.3407175898186231,0.2895501156831318,0.5233988313773491,0.13188177705744175,0.495784431850116,0.03921293920164437,0.36309279113436466,0.19260620018151076,0.4825063131163069,0.18293023655992846,0.5081102519643054,0.40834269081324326,0.7858579803904728,0.11075045416252305,0.2285418382143266,0.9619504700480105,0.1365265519797081,0.8078347791029732,0.487743654722274,0.25177027627988124,0.3967257162703608,0.505524977282712,0.3661074008725529,0.418861514694419,0.17626473882139104,0.6919317185694058,0.5439240513207385,0.4481649951924652,0.9132768312770118,0.921791909753098,0.642844443031545,0.5041098343996006,0.8661579762231469,0.06146029125465091,0.15800663822843508,0.051203138710208984,0.8073206502672432,0.9910959951669714,0.876589487571141,0.852813647221526,0.16759692366974466,0.8265931069909461,0.5561296050596473,0.22508091373253858,0.6401703261599638,0.30919582237103205,0.5431169736376333,0.7910246102390857,0.9237791277470113,0.07302968408134924,0.15201917738506276,0.983133553271018,0.19306177479954023,0.9917275316090092],\"type\":\"histogram\"},{\"histfunc\":\"count\",\"histnorm\":\"\",\"marker\":{\"color\":\"rgba(55, 128, 191, 1.0)\",\"line\":{\"color\":\"#4D5663\",\"width\":1.3}},\"name\":\"B\",\"opacity\":0.8,\"orientation\":\"v\",\"x\":[0.7339598796376222,0.7501383104927066,0.13016208547293562,0.11200978376406934,0.22651980826246132,0.8264590269508255,0.22443867141770923,0.2352718033072454,0.0024846188504629163,0.5798802072866126,0.5738649740520214,0.4301924070105716,0.4876251960610537,0.2734464900525172,0.760568718474913,0.6260385346813047,0.029084943492812654,0.06253555693990653,0.6655768154121865,0.09049834922935474,0.1731333166262019,0.6743798741502727,0.6500480317357354,0.0783011719345924,0.5102317647824509,0.46150314370866274,0.9570694786916037,0.8980794966280198,0.985392952250985,0.8010104762612996,0.1359532149661019,0.6982104352811658,0.9496239355793838,0.6289856730494802,0.3343850596961273,0.4705462267632926,0.5358113248142444,0.54994988375767,0.10619750125105731,0.34053025900176015,0.512725288760018,0.4047347225539547,0.19781959875146227,0.8067271659399001,0.09196611713559333,0.3774904205271683,0.0674248309139931,0.2750998557215809,0.7272520586012536,0.6627921337777752,0.21547850679365865,0.46105159730223977,0.3948132978906208,0.42178085249769126,0.4081734031335238,0.09945735841702441,0.22771194746019074,0.8434444345959553,0.6946148523209147,0.9023596842312003,0.4638505188507209,0.6281799224310242,0.5805488757691596,0.0012414559796589675,0.8798845815250357,0.11438268742010627,0.809028744336986,0.13030019355695355,0.35080744290592747,0.8842954224667885,0.6691565542958794,0.3896463917450411,0.4366991083682191,0.552245182285504,0.3257393992187827,0.5905741655913366,0.016704330974247616,0.49588116502078383,0.26474578645560176,0.2751859402483783,0.7614822740631733,0.6645083201236293,0.6855306971352015,0.21544745676820143,0.07117996063176835,0.114639783637555,0.050123194144784944,0.2904254227759736,0.34776127684022573,0.7344999685663639,0.25288744823039233,0.5970658246487074,0.5006956562340436,0.6027237230222172,0.23026493515505964,0.4362682166721016,0.487018856912538,0.8615638279257543,0.32508203394432833,0.09546869675423375],\"type\":\"histogram\"},{\"histfunc\":\"count\",\"histnorm\":\"\",\"marker\":{\"color\":\"rgba(50, 171, 96, 1.0)\",\"line\":{\"color\":\"#4D5663\",\"width\":1.3}},\"name\":\"C\",\"opacity\":0.8,\"orientation\":\"v\",\"x\":[0.48994178486763973,0.4392627309753028,0.9686290112192875,0.5048735866512276,0.1017291045298857,0.6318974257647305,0.08496157650071412,0.22747296407613338,0.6050595067412333,0.6788167886261672,0.7637196511883925,0.029536245436085906,0.5347771455820954,0.3761139604663193,0.35382619394351067,0.5522377987990843,0.7420617544122445,0.971097323898076,0.10992201194963669,0.92651698010797,0.12210694612390482,0.6948757457918311,0.5933637061680342,0.9723433760599861,0.6814523441849866,0.7537582885564225,0.35123020954937445,0.6885201158974867,0.028102920710133428,0.5255256451848452,0.611513915485729,0.04602526700654985,0.9460218483554266,0.6711550466617024,0.7235169153895089,0.012270753310094862,0.14490125323506786,0.7952467004090731,0.97900056160059,0.7314219319755022,0.8688858396326965,0.5584103745187854,0.8700940763841912,0.3804146053601756,0.7586474418626046,0.4336084956926466,0.9224550999239891,0.5151931763732133,0.7234713176195481,0.894495458699626,0.19908743183141808,0.5004700866647201,0.6710095911595803,0.7343374816685606,0.8318664516913109,0.053972947362364576,0.8826636961003679,0.6887250471610893,0.7253385521274806,0.1936409680930874,0.5411851199071863,0.9328699421039989,0.7675849478996553,0.5844852219933127,0.20937597662357466,0.600206594677098,0.6482292216178916,0.04459166963388661,0.15261877613839925,0.09290614080224391,0.8022302038519756,0.7342114346211318,0.9191233709602152,0.7675767614267679,0.47660015716340287,0.494936205550916,0.9121380671584027,0.8705220078440615,0.8785082253048494,0.6868630373868092,0.3790372735459786,0.09873907615087552,0.5951013781132024,0.7962133030802363,0.3561890303738343,0.5178452584857594,0.539500433477665,0.012082464832550821,0.3687719924765247,0.07122201760596714,0.5300975248213184,0.7046093414506819,0.5423280449311959,0.30889406555916843,0.6868465170394179,0.37798764713121924,0.542875266638495,0.7330716083799603,0.48827268008044755,0.04858502557079991],\"type\":\"histogram\"},{\"histfunc\":\"count\",\"histnorm\":\"\",\"marker\":{\"color\":\"rgba(128, 0, 128, 1.0)\",\"line\":{\"color\":\"#4D5663\",\"width\":1.3}},\"name\":\"D\",\"opacity\":0.8,\"orientation\":\"v\",\"x\":[0.8987576252586102,0.797330843062111,0.8485281028996704,0.1914572130001988,0.4700639826911347,0.4128448382530481,0.04723112194010781,0.5208689706044635,0.6943142463118016,0.3415631885250485,0.9400510982689896,0.820931171044754,0.4357377238848412,0.6121151708213703,0.46951103442410125,0.9806144922153679,0.5267754958529278,0.7891144536725998,0.24101122496678706,0.7924699295349183,0.5804521775615598,0.9070895427876049,0.68916203570464,0.5987235244597106,0.35312084931643617,0.028321011269562546,0.7525711258052912,0.5095635317563492,0.04397419626567067,0.32546219463798554,0.3331879938230772,0.9841521192289913,0.5583464342959563,0.19279780398966107,0.8819424677298963,0.019332976704915406,0.4950597119939998,0.22486504236773108,0.7529129438891541,0.23201323816632236,0.9053744902103413,0.542795511023813,0.5075355287403258,0.3866287400518348,0.8741053558523413,0.9953746203999989,0.6709886831365968,0.8478361423637356,0.21727760692326115,0.7834503160054718,0.5225741911144963,0.30785808002060844,0.8626121387907464,0.021878587472828226,0.3132571615277814,0.269819703915101,0.047388947590950026,0.3783792139521778,0.6686715562815971,0.9340195896813317,0.24505316377281527,0.609341035884486,0.028512158125664766,0.5219175887400826,0.2789385116867189,0.5640668254847896,0.03848604584262927,0.4471931557922294,0.7157733382789738,0.3488660370994199,0.5178238120474549,0.5660049109441244,0.6759687616692475,0.3440802895222872,0.19633304738425505,0.068427853103733,0.961558562423373,0.19847993488194093,0.2069189471745908,0.8132554715264844,0.8888914058334912,0.676830901973747,0.9067289015561729,0.4623345767488364,0.3746023117702302,0.46009272979736426,0.007237548420919282,0.517787117725699,0.03732628959923279,0.5761660217671997,0.7579811277873082,0.3872441509651735,0.5010283266044836,0.15185669982217342,0.043185938195618445,0.869124913839304,0.34644360847665445,0.007513324253049514,0.08127399613059183,0.9993716910228512],\"type\":\"histogram\"}],                        {\"barmode\":\"overlay\",\"legend\":{\"bgcolor\":\"#F5F6F9\",\"font\":{\"color\":\"#4D5663\"}},\"paper_bgcolor\":\"#F5F6F9\",\"plot_bgcolor\":\"#F5F6F9\",\"template\":{\"data\":{\"barpolar\":[{\"marker\":{\"line\":{\"color\":\"#E5ECF6\",\"width\":0.5},\"pattern\":{\"fillmode\":\"overlay\",\"size\":10,\"solidity\":0.2}},\"type\":\"barpolar\"}],\"bar\":[{\"error_x\":{\"color\":\"#2a3f5f\"},\"error_y\":{\"color\":\"#2a3f5f\"},\"marker\":{\"line\":{\"color\":\"#E5ECF6\",\"width\":0.5},\"pattern\":{\"fillmode\":\"overlay\",\"size\":10,\"solidity\":0.2}},\"type\":\"bar\"}],\"carpet\":[{\"aaxis\":{\"endlinecolor\":\"#2a3f5f\",\"gridcolor\":\"white\",\"linecolor\":\"white\",\"minorgridcolor\":\"white\",\"startlinecolor\":\"#2a3f5f\"},\"baxis\":{\"endlinecolor\":\"#2a3f5f\",\"gridcolor\":\"white\",\"linecolor\":\"white\",\"minorgridcolor\":\"white\",\"startlinecolor\":\"#2a3f5f\"},\"type\":\"carpet\"}],\"choropleth\":[{\"colorbar\":{\"outlinewidth\":0,\"ticks\":\"\"},\"type\":\"choropleth\"}],\"contourcarpet\":[{\"colorbar\":{\"outlinewidth\":0,\"ticks\":\"\"},\"type\":\"contourcarpet\"}],\"contour\":[{\"colorbar\":{\"outlinewidth\":0,\"ticks\":\"\"},\"colorscale\":[[0.0,\"#0d0887\"],[0.1111111111111111,\"#46039f\"],[0.2222222222222222,\"#7201a8\"],[0.3333333333333333,\"#9c179e\"],[0.4444444444444444,\"#bd3786\"],[0.5555555555555556,\"#d8576b\"],[0.6666666666666666,\"#ed7953\"],[0.7777777777777778,\"#fb9f3a\"],[0.8888888888888888,\"#fdca26\"],[1.0,\"#f0f921\"]],\"type\":\"contour\"}],\"heatmapgl\":[{\"colorbar\":{\"outlinewidth\":0,\"ticks\":\"\"},\"colorscale\":[[0.0,\"#0d0887\"],[0.1111111111111111,\"#46039f\"],[0.2222222222222222,\"#7201a8\"],[0.3333333333333333,\"#9c179e\"],[0.4444444444444444,\"#bd3786\"],[0.5555555555555556,\"#d8576b\"],[0.6666666666666666,\"#ed7953\"],[0.7777777777777778,\"#fb9f3a\"],[0.8888888888888888,\"#fdca26\"],[1.0,\"#f0f921\"]],\"type\":\"heatmapgl\"}],\"heatmap\":[{\"colorbar\":{\"outlinewidth\":0,\"ticks\":\"\"},\"colorscale\":[[0.0,\"#0d0887\"],[0.1111111111111111,\"#46039f\"],[0.2222222222222222,\"#7201a8\"],[0.3333333333333333,\"#9c179e\"],[0.4444444444444444,\"#bd3786\"],[0.5555555555555556,\"#d8576b\"],[0.6666666666666666,\"#ed7953\"],[0.7777777777777778,\"#fb9f3a\"],[0.8888888888888888,\"#fdca26\"],[1.0,\"#f0f921\"]],\"type\":\"heatmap\"}],\"histogram2dcontour\":[{\"colorbar\":{\"outlinewidth\":0,\"ticks\":\"\"},\"colorscale\":[[0.0,\"#0d0887\"],[0.1111111111111111,\"#46039f\"],[0.2222222222222222,\"#7201a8\"],[0.3333333333333333,\"#9c179e\"],[0.4444444444444444,\"#bd3786\"],[0.5555555555555556,\"#d8576b\"],[0.6666666666666666,\"#ed7953\"],[0.7777777777777778,\"#fb9f3a\"],[0.8888888888888888,\"#fdca26\"],[1.0,\"#f0f921\"]],\"type\":\"histogram2dcontour\"}],\"histogram2d\":[{\"colorbar\":{\"outlinewidth\":0,\"ticks\":\"\"},\"colorscale\":[[0.0,\"#0d0887\"],[0.1111111111111111,\"#46039f\"],[0.2222222222222222,\"#7201a8\"],[0.3333333333333333,\"#9c179e\"],[0.4444444444444444,\"#bd3786\"],[0.5555555555555556,\"#d8576b\"],[0.6666666666666666,\"#ed7953\"],[0.7777777777777778,\"#fb9f3a\"],[0.8888888888888888,\"#fdca26\"],[1.0,\"#f0f921\"]],\"type\":\"histogram2d\"}],\"histogram\":[{\"marker\":{\"pattern\":{\"fillmode\":\"overlay\",\"size\":10,\"solidity\":0.2}},\"type\":\"histogram\"}],\"mesh3d\":[{\"colorbar\":{\"outlinewidth\":0,\"ticks\":\"\"},\"type\":\"mesh3d\"}],\"parcoords\":[{\"line\":{\"colorbar\":{\"outlinewidth\":0,\"ticks\":\"\"}},\"type\":\"parcoords\"}],\"pie\":[{\"automargin\":true,\"type\":\"pie\"}],\"scatter3d\":[{\"line\":{\"colorbar\":{\"outlinewidth\":0,\"ticks\":\"\"}},\"marker\":{\"colorbar\":{\"outlinewidth\":0,\"ticks\":\"\"}},\"type\":\"scatter3d\"}],\"scattercarpet\":[{\"marker\":{\"colorbar\":{\"outlinewidth\":0,\"ticks\":\"\"}},\"type\":\"scattercarpet\"}],\"scattergeo\":[{\"marker\":{\"colorbar\":{\"outlinewidth\":0,\"ticks\":\"\"}},\"type\":\"scattergeo\"}],\"scattergl\":[{\"marker\":{\"colorbar\":{\"outlinewidth\":0,\"ticks\":\"\"}},\"type\":\"scattergl\"}],\"scattermapbox\":[{\"marker\":{\"colorbar\":{\"outlinewidth\":0,\"ticks\":\"\"}},\"type\":\"scattermapbox\"}],\"scatterpolargl\":[{\"marker\":{\"colorbar\":{\"outlinewidth\":0,\"ticks\":\"\"}},\"type\":\"scatterpolargl\"}],\"scatterpolar\":[{\"marker\":{\"colorbar\":{\"outlinewidth\":0,\"ticks\":\"\"}},\"type\":\"scatterpolar\"}],\"scatter\":[{\"marker\":{\"colorbar\":{\"outlinewidth\":0,\"ticks\":\"\"}},\"type\":\"scatter\"}],\"scatterternary\":[{\"marker\":{\"colorbar\":{\"outlinewidth\":0,\"ticks\":\"\"}},\"type\":\"scatterternary\"}],\"surface\":[{\"colorbar\":{\"outlinewidth\":0,\"ticks\":\"\"},\"colorscale\":[[0.0,\"#0d0887\"],[0.1111111111111111,\"#46039f\"],[0.2222222222222222,\"#7201a8\"],[0.3333333333333333,\"#9c179e\"],[0.4444444444444444,\"#bd3786\"],[0.5555555555555556,\"#d8576b\"],[0.6666666666666666,\"#ed7953\"],[0.7777777777777778,\"#fb9f3a\"],[0.8888888888888888,\"#fdca26\"],[1.0,\"#f0f921\"]],\"type\":\"surface\"}],\"table\":[{\"cells\":{\"fill\":{\"color\":\"#EBF0F8\"},\"line\":{\"color\":\"white\"}},\"header\":{\"fill\":{\"color\":\"#C8D4E3\"},\"line\":{\"color\":\"white\"}},\"type\":\"table\"}]},\"layout\":{\"annotationdefaults\":{\"arrowcolor\":\"#2a3f5f\",\"arrowhead\":0,\"arrowwidth\":1},\"autotypenumbers\":\"strict\",\"coloraxis\":{\"colorbar\":{\"outlinewidth\":0,\"ticks\":\"\"}},\"colorscale\":{\"diverging\":[[0,\"#8e0152\"],[0.1,\"#c51b7d\"],[0.2,\"#de77ae\"],[0.3,\"#f1b6da\"],[0.4,\"#fde0ef\"],[0.5,\"#f7f7f7\"],[0.6,\"#e6f5d0\"],[0.7,\"#b8e186\"],[0.8,\"#7fbc41\"],[0.9,\"#4d9221\"],[1,\"#276419\"]],\"sequential\":[[0.0,\"#0d0887\"],[0.1111111111111111,\"#46039f\"],[0.2222222222222222,\"#7201a8\"],[0.3333333333333333,\"#9c179e\"],[0.4444444444444444,\"#bd3786\"],[0.5555555555555556,\"#d8576b\"],[0.6666666666666666,\"#ed7953\"],[0.7777777777777778,\"#fb9f3a\"],[0.8888888888888888,\"#fdca26\"],[1.0,\"#f0f921\"]],\"sequentialminus\":[[0.0,\"#0d0887\"],[0.1111111111111111,\"#46039f\"],[0.2222222222222222,\"#7201a8\"],[0.3333333333333333,\"#9c179e\"],[0.4444444444444444,\"#bd3786\"],[0.5555555555555556,\"#d8576b\"],[0.6666666666666666,\"#ed7953\"],[0.7777777777777778,\"#fb9f3a\"],[0.8888888888888888,\"#fdca26\"],[1.0,\"#f0f921\"]]},\"colorway\":[\"#636efa\",\"#EF553B\",\"#00cc96\",\"#ab63fa\",\"#FFA15A\",\"#19d3f3\",\"#FF6692\",\"#B6E880\",\"#FF97FF\",\"#FECB52\"],\"font\":{\"color\":\"#2a3f5f\"},\"geo\":{\"bgcolor\":\"white\",\"lakecolor\":\"white\",\"landcolor\":\"#E5ECF6\",\"showlakes\":true,\"showland\":true,\"subunitcolor\":\"white\"},\"hoverlabel\":{\"align\":\"left\"},\"hovermode\":\"closest\",\"mapbox\":{\"style\":\"light\"},\"paper_bgcolor\":\"white\",\"plot_bgcolor\":\"#E5ECF6\",\"polar\":{\"angularaxis\":{\"gridcolor\":\"white\",\"linecolor\":\"white\",\"ticks\":\"\"},\"bgcolor\":\"#E5ECF6\",\"radialaxis\":{\"gridcolor\":\"white\",\"linecolor\":\"white\",\"ticks\":\"\"}},\"scene\":{\"xaxis\":{\"backgroundcolor\":\"#E5ECF6\",\"gridcolor\":\"white\",\"gridwidth\":2,\"linecolor\":\"white\",\"showbackground\":true,\"ticks\":\"\",\"zerolinecolor\":\"white\"},\"yaxis\":{\"backgroundcolor\":\"#E5ECF6\",\"gridcolor\":\"white\",\"gridwidth\":2,\"linecolor\":\"white\",\"showbackground\":true,\"ticks\":\"\",\"zerolinecolor\":\"white\"},\"zaxis\":{\"backgroundcolor\":\"#E5ECF6\",\"gridcolor\":\"white\",\"gridwidth\":2,\"linecolor\":\"white\",\"showbackground\":true,\"ticks\":\"\",\"zerolinecolor\":\"white\"}},\"shapedefaults\":{\"line\":{\"color\":\"#2a3f5f\"}},\"ternary\":{\"aaxis\":{\"gridcolor\":\"white\",\"linecolor\":\"white\",\"ticks\":\"\"},\"baxis\":{\"gridcolor\":\"white\",\"linecolor\":\"white\",\"ticks\":\"\"},\"bgcolor\":\"#E5ECF6\",\"caxis\":{\"gridcolor\":\"white\",\"linecolor\":\"white\",\"ticks\":\"\"}},\"title\":{\"x\":0.05},\"xaxis\":{\"automargin\":true,\"gridcolor\":\"white\",\"linecolor\":\"white\",\"ticks\":\"\",\"title\":{\"standoff\":15},\"zerolinecolor\":\"white\",\"zerolinewidth\":2},\"yaxis\":{\"automargin\":true,\"gridcolor\":\"white\",\"linecolor\":\"white\",\"ticks\":\"\",\"title\":{\"standoff\":15},\"zerolinecolor\":\"white\",\"zerolinewidth\":2}}},\"title\":{\"font\":{\"color\":\"#4D5663\"}},\"xaxis\":{\"gridcolor\":\"#E1E5ED\",\"showgrid\":true,\"tickfont\":{\"color\":\"#4D5663\"},\"title\":{\"font\":{\"color\":\"#4D5663\"},\"text\":\"\"},\"zerolinecolor\":\"#E1E5ED\"},\"yaxis\":{\"gridcolor\":\"#E1E5ED\",\"showgrid\":true,\"tickfont\":{\"color\":\"#4D5663\"},\"title\":{\"font\":{\"color\":\"#4D5663\"},\"text\":\"\"},\"zerolinecolor\":\"#E1E5ED\"}},                        {\"showLink\": true, \"linkText\": \"Export to plot.ly\", \"plotlyServerURL\": \"https://plot.ly\", \"responsive\": true}                    ).then(function(){\n",
       "                            \n",
       "var gd = document.getElementById('5dd6ebfd-1f82-4a8e-a90b-83d8f9d4a694');\n",
       "var x = new MutationObserver(function (mutations, observer) {{\n",
       "        var display = window.getComputedStyle(gd).display;\n",
       "        if (!display || display === 'none') {{\n",
       "            console.log([gd, 'removed!']);\n",
       "            Plotly.purge(gd);\n",
       "            observer.disconnect();\n",
       "        }}\n",
       "}});\n",
       "\n",
       "// Listen for the removal of the full notebook cells\n",
       "var notebookContainer = gd.closest('#notebook-container');\n",
       "if (notebookContainer) {{\n",
       "    x.observe(notebookContainer, {childList: true});\n",
       "}}\n",
       "\n",
       "// Listen for the clearing of the current output cell\n",
       "var outputEl = gd.closest('.output');\n",
       "if (outputEl) {{\n",
       "    x.observe(outputEl, {childList: true});\n",
       "}}\n",
       "\n",
       "                        })                };                });            </script>        </div>"
      ]
     },
     "metadata": {},
     "output_type": "display_data"
    }
   ],
   "source": [
    "df.iplot(kind='hist')  #overlappping histogram"
   ]
  },
  {
   "cell_type": "code",
   "execution_count": 50,
   "id": "2aef1b76",
   "metadata": {},
   "outputs": [
    {
     "name": "stderr",
     "output_type": "stream",
     "text": [
      "C:\\Users\\D81\\Anaconda3\\lib\\site-packages\\cufflinks\\plotlytools.py:849: FutureWarning:\n",
      "\n",
      "The pandas.np module is deprecated and will be removed from pandas in a future version. Import numpy directly instead.\n",
      "\n",
      "C:\\Users\\D81\\Anaconda3\\lib\\site-packages\\cufflinks\\plotlytools.py:850: FutureWarning:\n",
      "\n",
      "The pandas.np module is deprecated and will be removed from pandas in a future version. Import numpy directly instead.\n",
      "\n"
     ]
    },
    {
     "data": {
      "application/vnd.plotly.v1+json": {
       "config": {
        "linkText": "Export to plot.ly",
        "plotlyServerURL": "https://plot.ly",
        "showLink": true
       },
       "data": [
        {
         "line": {
          "color": "rgba(255, 153, 51, 1.0)",
          "dash": "solid",
          "shape": "linear",
          "width": 1.3
         },
         "mode": "lines",
         "name": "A",
         "text": "",
         "type": "scatter",
         "x": [
          0,
          1,
          2,
          3,
          4,
          5,
          6,
          7,
          8,
          9,
          10,
          11,
          12,
          13,
          14,
          15,
          16,
          17,
          18,
          19,
          20,
          21,
          22,
          23,
          24,
          25,
          26,
          27,
          28,
          29,
          30,
          31,
          32,
          33,
          34,
          35,
          36,
          37,
          38,
          39,
          40,
          41,
          42,
          43,
          44,
          45,
          46,
          47,
          48,
          49,
          50,
          51,
          52,
          53,
          54,
          55,
          56,
          57,
          58,
          59,
          60,
          61,
          62,
          63,
          64,
          65,
          66,
          67,
          68,
          69,
          70,
          71,
          72,
          73,
          74,
          75,
          76,
          77,
          78,
          79,
          80,
          81,
          82,
          83,
          84,
          85,
          86,
          87,
          88,
          89,
          90,
          91,
          92,
          93,
          94,
          95,
          96,
          97,
          98,
          99
         ],
         "y": [
          0.7619660073950553,
          0.3831993421094785,
          0.5269321193818782,
          0.8275492317391815,
          0.8892593486573043,
          0.3193034931601627,
          0.28895444431277995,
          0.7404201733798286,
          0.12262001182879045,
          0.4493067356839209,
          0.03268762124032354,
          0.5934371670171862,
          0.00775924351526569,
          0.7455915765369152,
          0.4502326921792916,
          0.3916702955561916,
          0.9499649212210532,
          0.40318591556191474,
          0.40430371134501164,
          0.9295708927415494,
          0.26401447744374207,
          0.04511005253584999,
          0.19567228276849713,
          0.6461452322972179,
          0.4150268649397657,
          0.725922808467533,
          0.24440128975011677,
          0.23705121473054847,
          0.3908586565883515,
          0.06321951994661645,
          0.49750978787243083,
          0.21896559130674031,
          0.15366305526772783,
          0.006900916720903871,
          0.8125625292473938,
          0.4572756047229609,
          0.6709495356717864,
          0.04816046679203534,
          0.18762944263268255,
          0.7481366533880054,
          0.872440559716538,
          0.6990539539189577,
          0.4008588265264157,
          0.8876162116069556,
          0.7720236084810732,
          0.7162082122874913,
          0.3407175898186231,
          0.2895501156831318,
          0.5233988313773491,
          0.13188177705744175,
          0.495784431850116,
          0.03921293920164437,
          0.36309279113436466,
          0.19260620018151076,
          0.4825063131163069,
          0.18293023655992846,
          0.5081102519643054,
          0.40834269081324326,
          0.7858579803904728,
          0.11075045416252305,
          0.2285418382143266,
          0.9619504700480105,
          0.1365265519797081,
          0.8078347791029732,
          0.487743654722274,
          0.25177027627988124,
          0.3967257162703608,
          0.505524977282712,
          0.3661074008725529,
          0.418861514694419,
          0.17626473882139104,
          0.6919317185694058,
          0.5439240513207385,
          0.4481649951924652,
          0.9132768312770118,
          0.921791909753098,
          0.642844443031545,
          0.5041098343996006,
          0.8661579762231469,
          0.06146029125465091,
          0.15800663822843508,
          0.051203138710208984,
          0.8073206502672432,
          0.9910959951669714,
          0.876589487571141,
          0.852813647221526,
          0.16759692366974466,
          0.8265931069909461,
          0.5561296050596473,
          0.22508091373253858,
          0.6401703261599638,
          0.30919582237103205,
          0.5431169736376333,
          0.7910246102390857,
          0.9237791277470113,
          0.07302968408134924,
          0.15201917738506276,
          0.983133553271018,
          0.19306177479954023,
          0.9917275316090092
         ]
        },
        {
         "line": {
          "color": "rgba(55, 128, 191, 1.0)",
          "dash": "solid",
          "shape": "linear",
          "width": 1.3
         },
         "mode": "lines",
         "name": "B",
         "text": "",
         "type": "scatter",
         "x": [
          0,
          1,
          2,
          3,
          4,
          5,
          6,
          7,
          8,
          9,
          10,
          11,
          12,
          13,
          14,
          15,
          16,
          17,
          18,
          19,
          20,
          21,
          22,
          23,
          24,
          25,
          26,
          27,
          28,
          29,
          30,
          31,
          32,
          33,
          34,
          35,
          36,
          37,
          38,
          39,
          40,
          41,
          42,
          43,
          44,
          45,
          46,
          47,
          48,
          49,
          50,
          51,
          52,
          53,
          54,
          55,
          56,
          57,
          58,
          59,
          60,
          61,
          62,
          63,
          64,
          65,
          66,
          67,
          68,
          69,
          70,
          71,
          72,
          73,
          74,
          75,
          76,
          77,
          78,
          79,
          80,
          81,
          82,
          83,
          84,
          85,
          86,
          87,
          88,
          89,
          90,
          91,
          92,
          93,
          94,
          95,
          96,
          97,
          98,
          99
         ],
         "y": [
          0.7339598796376222,
          0.7501383104927066,
          0.13016208547293562,
          0.11200978376406934,
          0.22651980826246132,
          0.8264590269508255,
          0.22443867141770923,
          0.2352718033072454,
          0.0024846188504629163,
          0.5798802072866126,
          0.5738649740520214,
          0.4301924070105716,
          0.4876251960610537,
          0.2734464900525172,
          0.760568718474913,
          0.6260385346813047,
          0.029084943492812654,
          0.06253555693990653,
          0.6655768154121865,
          0.09049834922935474,
          0.1731333166262019,
          0.6743798741502727,
          0.6500480317357354,
          0.0783011719345924,
          0.5102317647824509,
          0.46150314370866274,
          0.9570694786916037,
          0.8980794966280198,
          0.985392952250985,
          0.8010104762612996,
          0.1359532149661019,
          0.6982104352811658,
          0.9496239355793838,
          0.6289856730494802,
          0.3343850596961273,
          0.4705462267632926,
          0.5358113248142444,
          0.54994988375767,
          0.10619750125105731,
          0.34053025900176015,
          0.512725288760018,
          0.4047347225539547,
          0.19781959875146227,
          0.8067271659399001,
          0.09196611713559333,
          0.3774904205271683,
          0.0674248309139931,
          0.2750998557215809,
          0.7272520586012536,
          0.6627921337777752,
          0.21547850679365865,
          0.46105159730223977,
          0.3948132978906208,
          0.42178085249769126,
          0.4081734031335238,
          0.09945735841702441,
          0.22771194746019074,
          0.8434444345959553,
          0.6946148523209147,
          0.9023596842312003,
          0.4638505188507209,
          0.6281799224310242,
          0.5805488757691596,
          0.0012414559796589675,
          0.8798845815250357,
          0.11438268742010627,
          0.809028744336986,
          0.13030019355695355,
          0.35080744290592747,
          0.8842954224667885,
          0.6691565542958794,
          0.3896463917450411,
          0.4366991083682191,
          0.552245182285504,
          0.3257393992187827,
          0.5905741655913366,
          0.016704330974247616,
          0.49588116502078383,
          0.26474578645560176,
          0.2751859402483783,
          0.7614822740631733,
          0.6645083201236293,
          0.6855306971352015,
          0.21544745676820143,
          0.07117996063176835,
          0.114639783637555,
          0.050123194144784944,
          0.2904254227759736,
          0.34776127684022573,
          0.7344999685663639,
          0.25288744823039233,
          0.5970658246487074,
          0.5006956562340436,
          0.6027237230222172,
          0.23026493515505964,
          0.4362682166721016,
          0.487018856912538,
          0.8615638279257543,
          0.32508203394432833,
          0.09546869675423375
         ]
        },
        {
         "connectgaps": false,
         "fill": "tozeroy",
         "line": {
          "color": "green",
          "dash": "solid",
          "shape": "linear",
          "width": 0.5
         },
         "mode": "lines",
         "name": "Spread",
         "showlegend": false,
         "type": "scatter",
         "x": [
          0,
          1,
          2,
          3,
          4,
          5,
          6,
          7,
          8,
          9,
          10,
          11,
          12,
          13,
          14,
          15,
          16,
          17,
          18,
          19,
          20,
          21,
          22,
          23,
          24,
          25,
          26,
          27,
          28,
          29,
          30,
          31,
          32,
          33,
          34,
          35,
          36,
          37,
          38,
          39,
          40,
          41,
          42,
          43,
          44,
          45,
          46,
          47,
          48,
          49,
          50,
          51,
          52,
          53,
          54,
          55,
          56,
          57,
          58,
          59,
          60,
          61,
          62,
          63,
          64,
          65,
          66,
          67,
          68,
          69,
          70,
          71,
          72,
          73,
          74,
          75,
          76,
          77,
          78,
          79,
          80,
          81,
          82,
          83,
          84,
          85,
          86,
          87,
          88,
          89,
          90,
          91,
          92,
          93,
          94,
          95,
          96,
          97,
          98,
          99
         ],
         "xaxis": "x2",
         "y": [
          0.028006127757433052,
          "",
          0.3967700339089426,
          0.7155394479751122,
          0.662739540394843,
          "",
          0.06451577289507071,
          0.5051483700725832,
          0.12013539297832754,
          "",
          "",
          0.1632447600066146,
          "",
          0.472145086484398,
          "",
          "",
          0.9208799777282406,
          0.3406503586220082,
          "",
          0.8390725435121946,
          0.09088116081754016,
          "",
          "",
          0.5678440603626255,
          "",
          0.26441966475887024,
          "",
          "",
          "",
          "",
          0.3615565729063289,
          "",
          "",
          "",
          0.4781774695512665,
          "",
          0.13513821085754196,
          "",
          0.08143194138162524,
          0.40760639438624524,
          0.35971527095652,
          0.29431923136500304,
          0.20303922777495342,
          0.08088904566705546,
          0.6800574913454799,
          0.338717791760323,
          0.27329275890463,
          0.014450259961550915,
          "",
          "",
          0.28030592505645735,
          "",
          "",
          "",
          0.07433290998278308,
          0.08347287814290405,
          0.2803983045041146,
          "",
          0.09124312806955814,
          "",
          "",
          0.3337705476169863,
          "",
          0.8065933231233142,
          "",
          0.13738758885977498,
          "",
          0.3752247837257584,
          0.015299957966625422,
          "",
          "",
          0.3022853268243647,
          0.10722494295251939,
          "",
          0.5875374320582291,
          0.3312177441617614,
          0.6261401120572974,
          0.008228669378816722,
          0.6014121897675452,
          "",
          "",
          "",
          0.12178995313204166,
          0.77564853839877,
          0.8054095269393726,
          0.738173863583971,
          0.11747372952495971,
          0.5361676842149725,
          0.20836832821942153,
          "",
          0.3872828779295715,
          "",
          0.04242131740358979,
          0.18830088721686844,
          0.6935141925919517,
          "",
          "",
          0.12156972534526378,
          "",
          0.8962588348547754
         ],
         "yaxis": "y2"
        },
        {
         "connectgaps": false,
         "fill": "tozeroy",
         "line": {
          "color": "red",
          "dash": "solid",
          "shape": "linear",
          "width": 0.5
         },
         "mode": "lines",
         "name": "Spread",
         "showlegend": false,
         "type": "scatter",
         "x": [
          0,
          1,
          2,
          3,
          4,
          5,
          6,
          7,
          8,
          9,
          10,
          11,
          12,
          13,
          14,
          15,
          16,
          17,
          18,
          19,
          20,
          21,
          22,
          23,
          24,
          25,
          26,
          27,
          28,
          29,
          30,
          31,
          32,
          33,
          34,
          35,
          36,
          37,
          38,
          39,
          40,
          41,
          42,
          43,
          44,
          45,
          46,
          47,
          48,
          49,
          50,
          51,
          52,
          53,
          54,
          55,
          56,
          57,
          58,
          59,
          60,
          61,
          62,
          63,
          64,
          65,
          66,
          67,
          68,
          69,
          70,
          71,
          72,
          73,
          74,
          75,
          76,
          77,
          78,
          79,
          80,
          81,
          82,
          83,
          84,
          85,
          86,
          87,
          88,
          89,
          90,
          91,
          92,
          93,
          94,
          95,
          96,
          97,
          98,
          99
         ],
         "xaxis": "x2",
         "y": [
          "",
          -0.36693896838322815,
          "",
          "",
          "",
          -0.5071555337906628,
          "",
          "",
          "",
          -0.13057347160269173,
          -0.5411773528116979,
          "",
          -0.479865952545788,
          "",
          -0.3103360262956214,
          -0.23436823912511306,
          "",
          "",
          -0.26127310406717486,
          "",
          "",
          -0.6292698216144227,
          -0.4543757489672383,
          "",
          -0.09520489984268521,
          "",
          -0.712668188941487,
          -0.6610282818974713,
          -0.5945342956626335,
          -0.7377909563146832,
          "",
          -0.47924484397442546,
          -0.795960880311656,
          -0.6220847563285763,
          "",
          -0.013270622040331692,
          "",
          -0.5017894169656346,
          "",
          "",
          "",
          "",
          "",
          "",
          "",
          "",
          "",
          "",
          -0.20385322722390453,
          -0.5309103567203335,
          "",
          -0.4218386581005954,
          -0.03172050675625615,
          -0.2291746523161805,
          "",
          "",
          "",
          -0.43510174378271205,
          "",
          -0.7916092300686772,
          -0.23530868063639432,
          "",
          -0.4440223237894515,
          "",
          -0.3921409268027617,
          "",
          -0.4123030280666252,
          "",
          "",
          -0.4654339077723695,
          -0.49289181547448835,
          "",
          "",
          -0.10408018709303879,
          "",
          "",
          "",
          "",
          "",
          -0.21372564899372737,
          -0.6034756358347382,
          -0.6133051814134203,
          "",
          "",
          "",
          "",
          "",
          "",
          "",
          -0.5094190548338253,
          "",
          -0.28787000227767534,
          "",
          "",
          "",
          -0.36323853259075234,
          -0.3349996795274752,
          "",
          -0.1320202591447881,
          ""
         ],
         "yaxis": "y2"
        }
       ],
       "layout": {
        "hovermode": "x",
        "legend": {
         "bgcolor": "#F5F6F9",
         "font": {
          "color": "#4D5663"
         }
        },
        "paper_bgcolor": "#F5F6F9",
        "plot_bgcolor": "#F5F6F9",
        "template": {
         "data": {
          "bar": [
           {
            "error_x": {
             "color": "#2a3f5f"
            },
            "error_y": {
             "color": "#2a3f5f"
            },
            "marker": {
             "line": {
              "color": "#E5ECF6",
              "width": 0.5
             },
             "pattern": {
              "fillmode": "overlay",
              "size": 10,
              "solidity": 0.2
             }
            },
            "type": "bar"
           }
          ],
          "barpolar": [
           {
            "marker": {
             "line": {
              "color": "#E5ECF6",
              "width": 0.5
             },
             "pattern": {
              "fillmode": "overlay",
              "size": 10,
              "solidity": 0.2
             }
            },
            "type": "barpolar"
           }
          ],
          "carpet": [
           {
            "aaxis": {
             "endlinecolor": "#2a3f5f",
             "gridcolor": "white",
             "linecolor": "white",
             "minorgridcolor": "white",
             "startlinecolor": "#2a3f5f"
            },
            "baxis": {
             "endlinecolor": "#2a3f5f",
             "gridcolor": "white",
             "linecolor": "white",
             "minorgridcolor": "white",
             "startlinecolor": "#2a3f5f"
            },
            "type": "carpet"
           }
          ],
          "choropleth": [
           {
            "colorbar": {
             "outlinewidth": 0,
             "ticks": ""
            },
            "type": "choropleth"
           }
          ],
          "contour": [
           {
            "colorbar": {
             "outlinewidth": 0,
             "ticks": ""
            },
            "colorscale": [
             [
              0,
              "#0d0887"
             ],
             [
              0.1111111111111111,
              "#46039f"
             ],
             [
              0.2222222222222222,
              "#7201a8"
             ],
             [
              0.3333333333333333,
              "#9c179e"
             ],
             [
              0.4444444444444444,
              "#bd3786"
             ],
             [
              0.5555555555555556,
              "#d8576b"
             ],
             [
              0.6666666666666666,
              "#ed7953"
             ],
             [
              0.7777777777777778,
              "#fb9f3a"
             ],
             [
              0.8888888888888888,
              "#fdca26"
             ],
             [
              1,
              "#f0f921"
             ]
            ],
            "type": "contour"
           }
          ],
          "contourcarpet": [
           {
            "colorbar": {
             "outlinewidth": 0,
             "ticks": ""
            },
            "type": "contourcarpet"
           }
          ],
          "heatmap": [
           {
            "colorbar": {
             "outlinewidth": 0,
             "ticks": ""
            },
            "colorscale": [
             [
              0,
              "#0d0887"
             ],
             [
              0.1111111111111111,
              "#46039f"
             ],
             [
              0.2222222222222222,
              "#7201a8"
             ],
             [
              0.3333333333333333,
              "#9c179e"
             ],
             [
              0.4444444444444444,
              "#bd3786"
             ],
             [
              0.5555555555555556,
              "#d8576b"
             ],
             [
              0.6666666666666666,
              "#ed7953"
             ],
             [
              0.7777777777777778,
              "#fb9f3a"
             ],
             [
              0.8888888888888888,
              "#fdca26"
             ],
             [
              1,
              "#f0f921"
             ]
            ],
            "type": "heatmap"
           }
          ],
          "heatmapgl": [
           {
            "colorbar": {
             "outlinewidth": 0,
             "ticks": ""
            },
            "colorscale": [
             [
              0,
              "#0d0887"
             ],
             [
              0.1111111111111111,
              "#46039f"
             ],
             [
              0.2222222222222222,
              "#7201a8"
             ],
             [
              0.3333333333333333,
              "#9c179e"
             ],
             [
              0.4444444444444444,
              "#bd3786"
             ],
             [
              0.5555555555555556,
              "#d8576b"
             ],
             [
              0.6666666666666666,
              "#ed7953"
             ],
             [
              0.7777777777777778,
              "#fb9f3a"
             ],
             [
              0.8888888888888888,
              "#fdca26"
             ],
             [
              1,
              "#f0f921"
             ]
            ],
            "type": "heatmapgl"
           }
          ],
          "histogram": [
           {
            "marker": {
             "pattern": {
              "fillmode": "overlay",
              "size": 10,
              "solidity": 0.2
             }
            },
            "type": "histogram"
           }
          ],
          "histogram2d": [
           {
            "colorbar": {
             "outlinewidth": 0,
             "ticks": ""
            },
            "colorscale": [
             [
              0,
              "#0d0887"
             ],
             [
              0.1111111111111111,
              "#46039f"
             ],
             [
              0.2222222222222222,
              "#7201a8"
             ],
             [
              0.3333333333333333,
              "#9c179e"
             ],
             [
              0.4444444444444444,
              "#bd3786"
             ],
             [
              0.5555555555555556,
              "#d8576b"
             ],
             [
              0.6666666666666666,
              "#ed7953"
             ],
             [
              0.7777777777777778,
              "#fb9f3a"
             ],
             [
              0.8888888888888888,
              "#fdca26"
             ],
             [
              1,
              "#f0f921"
             ]
            ],
            "type": "histogram2d"
           }
          ],
          "histogram2dcontour": [
           {
            "colorbar": {
             "outlinewidth": 0,
             "ticks": ""
            },
            "colorscale": [
             [
              0,
              "#0d0887"
             ],
             [
              0.1111111111111111,
              "#46039f"
             ],
             [
              0.2222222222222222,
              "#7201a8"
             ],
             [
              0.3333333333333333,
              "#9c179e"
             ],
             [
              0.4444444444444444,
              "#bd3786"
             ],
             [
              0.5555555555555556,
              "#d8576b"
             ],
             [
              0.6666666666666666,
              "#ed7953"
             ],
             [
              0.7777777777777778,
              "#fb9f3a"
             ],
             [
              0.8888888888888888,
              "#fdca26"
             ],
             [
              1,
              "#f0f921"
             ]
            ],
            "type": "histogram2dcontour"
           }
          ],
          "mesh3d": [
           {
            "colorbar": {
             "outlinewidth": 0,
             "ticks": ""
            },
            "type": "mesh3d"
           }
          ],
          "parcoords": [
           {
            "line": {
             "colorbar": {
              "outlinewidth": 0,
              "ticks": ""
             }
            },
            "type": "parcoords"
           }
          ],
          "pie": [
           {
            "automargin": true,
            "type": "pie"
           }
          ],
          "scatter": [
           {
            "marker": {
             "colorbar": {
              "outlinewidth": 0,
              "ticks": ""
             }
            },
            "type": "scatter"
           }
          ],
          "scatter3d": [
           {
            "line": {
             "colorbar": {
              "outlinewidth": 0,
              "ticks": ""
             }
            },
            "marker": {
             "colorbar": {
              "outlinewidth": 0,
              "ticks": ""
             }
            },
            "type": "scatter3d"
           }
          ],
          "scattercarpet": [
           {
            "marker": {
             "colorbar": {
              "outlinewidth": 0,
              "ticks": ""
             }
            },
            "type": "scattercarpet"
           }
          ],
          "scattergeo": [
           {
            "marker": {
             "colorbar": {
              "outlinewidth": 0,
              "ticks": ""
             }
            },
            "type": "scattergeo"
           }
          ],
          "scattergl": [
           {
            "marker": {
             "colorbar": {
              "outlinewidth": 0,
              "ticks": ""
             }
            },
            "type": "scattergl"
           }
          ],
          "scattermapbox": [
           {
            "marker": {
             "colorbar": {
              "outlinewidth": 0,
              "ticks": ""
             }
            },
            "type": "scattermapbox"
           }
          ],
          "scatterpolar": [
           {
            "marker": {
             "colorbar": {
              "outlinewidth": 0,
              "ticks": ""
             }
            },
            "type": "scatterpolar"
           }
          ],
          "scatterpolargl": [
           {
            "marker": {
             "colorbar": {
              "outlinewidth": 0,
              "ticks": ""
             }
            },
            "type": "scatterpolargl"
           }
          ],
          "scatterternary": [
           {
            "marker": {
             "colorbar": {
              "outlinewidth": 0,
              "ticks": ""
             }
            },
            "type": "scatterternary"
           }
          ],
          "surface": [
           {
            "colorbar": {
             "outlinewidth": 0,
             "ticks": ""
            },
            "colorscale": [
             [
              0,
              "#0d0887"
             ],
             [
              0.1111111111111111,
              "#46039f"
             ],
             [
              0.2222222222222222,
              "#7201a8"
             ],
             [
              0.3333333333333333,
              "#9c179e"
             ],
             [
              0.4444444444444444,
              "#bd3786"
             ],
             [
              0.5555555555555556,
              "#d8576b"
             ],
             [
              0.6666666666666666,
              "#ed7953"
             ],
             [
              0.7777777777777778,
              "#fb9f3a"
             ],
             [
              0.8888888888888888,
              "#fdca26"
             ],
             [
              1,
              "#f0f921"
             ]
            ],
            "type": "surface"
           }
          ],
          "table": [
           {
            "cells": {
             "fill": {
              "color": "#EBF0F8"
             },
             "line": {
              "color": "white"
             }
            },
            "header": {
             "fill": {
              "color": "#C8D4E3"
             },
             "line": {
              "color": "white"
             }
            },
            "type": "table"
           }
          ]
         },
         "layout": {
          "annotationdefaults": {
           "arrowcolor": "#2a3f5f",
           "arrowhead": 0,
           "arrowwidth": 1
          },
          "autotypenumbers": "strict",
          "coloraxis": {
           "colorbar": {
            "outlinewidth": 0,
            "ticks": ""
           }
          },
          "colorscale": {
           "diverging": [
            [
             0,
             "#8e0152"
            ],
            [
             0.1,
             "#c51b7d"
            ],
            [
             0.2,
             "#de77ae"
            ],
            [
             0.3,
             "#f1b6da"
            ],
            [
             0.4,
             "#fde0ef"
            ],
            [
             0.5,
             "#f7f7f7"
            ],
            [
             0.6,
             "#e6f5d0"
            ],
            [
             0.7,
             "#b8e186"
            ],
            [
             0.8,
             "#7fbc41"
            ],
            [
             0.9,
             "#4d9221"
            ],
            [
             1,
             "#276419"
            ]
           ],
           "sequential": [
            [
             0,
             "#0d0887"
            ],
            [
             0.1111111111111111,
             "#46039f"
            ],
            [
             0.2222222222222222,
             "#7201a8"
            ],
            [
             0.3333333333333333,
             "#9c179e"
            ],
            [
             0.4444444444444444,
             "#bd3786"
            ],
            [
             0.5555555555555556,
             "#d8576b"
            ],
            [
             0.6666666666666666,
             "#ed7953"
            ],
            [
             0.7777777777777778,
             "#fb9f3a"
            ],
            [
             0.8888888888888888,
             "#fdca26"
            ],
            [
             1,
             "#f0f921"
            ]
           ],
           "sequentialminus": [
            [
             0,
             "#0d0887"
            ],
            [
             0.1111111111111111,
             "#46039f"
            ],
            [
             0.2222222222222222,
             "#7201a8"
            ],
            [
             0.3333333333333333,
             "#9c179e"
            ],
            [
             0.4444444444444444,
             "#bd3786"
            ],
            [
             0.5555555555555556,
             "#d8576b"
            ],
            [
             0.6666666666666666,
             "#ed7953"
            ],
            [
             0.7777777777777778,
             "#fb9f3a"
            ],
            [
             0.8888888888888888,
             "#fdca26"
            ],
            [
             1,
             "#f0f921"
            ]
           ]
          },
          "colorway": [
           "#636efa",
           "#EF553B",
           "#00cc96",
           "#ab63fa",
           "#FFA15A",
           "#19d3f3",
           "#FF6692",
           "#B6E880",
           "#FF97FF",
           "#FECB52"
          ],
          "font": {
           "color": "#2a3f5f"
          },
          "geo": {
           "bgcolor": "white",
           "lakecolor": "white",
           "landcolor": "#E5ECF6",
           "showlakes": true,
           "showland": true,
           "subunitcolor": "white"
          },
          "hoverlabel": {
           "align": "left"
          },
          "hovermode": "closest",
          "mapbox": {
           "style": "light"
          },
          "paper_bgcolor": "white",
          "plot_bgcolor": "#E5ECF6",
          "polar": {
           "angularaxis": {
            "gridcolor": "white",
            "linecolor": "white",
            "ticks": ""
           },
           "bgcolor": "#E5ECF6",
           "radialaxis": {
            "gridcolor": "white",
            "linecolor": "white",
            "ticks": ""
           }
          },
          "scene": {
           "xaxis": {
            "backgroundcolor": "#E5ECF6",
            "gridcolor": "white",
            "gridwidth": 2,
            "linecolor": "white",
            "showbackground": true,
            "ticks": "",
            "zerolinecolor": "white"
           },
           "yaxis": {
            "backgroundcolor": "#E5ECF6",
            "gridcolor": "white",
            "gridwidth": 2,
            "linecolor": "white",
            "showbackground": true,
            "ticks": "",
            "zerolinecolor": "white"
           },
           "zaxis": {
            "backgroundcolor": "#E5ECF6",
            "gridcolor": "white",
            "gridwidth": 2,
            "linecolor": "white",
            "showbackground": true,
            "ticks": "",
            "zerolinecolor": "white"
           }
          },
          "shapedefaults": {
           "line": {
            "color": "#2a3f5f"
           }
          },
          "ternary": {
           "aaxis": {
            "gridcolor": "white",
            "linecolor": "white",
            "ticks": ""
           },
           "baxis": {
            "gridcolor": "white",
            "linecolor": "white",
            "ticks": ""
           },
           "bgcolor": "#E5ECF6",
           "caxis": {
            "gridcolor": "white",
            "linecolor": "white",
            "ticks": ""
           }
          },
          "title": {
           "x": 0.05
          },
          "xaxis": {
           "automargin": true,
           "gridcolor": "white",
           "linecolor": "white",
           "ticks": "",
           "title": {
            "standoff": 15
           },
           "zerolinecolor": "white",
           "zerolinewidth": 2
          },
          "yaxis": {
           "automargin": true,
           "gridcolor": "white",
           "linecolor": "white",
           "ticks": "",
           "title": {
            "standoff": 15
           },
           "zerolinecolor": "white",
           "zerolinewidth": 2
          }
         }
        },
        "title": {
         "font": {
          "color": "#4D5663"
         }
        },
        "xaxis": {
         "gridcolor": "#E1E5ED",
         "showgrid": true,
         "tickfont": {
          "color": "#4D5663"
         },
         "title": {
          "font": {
           "color": "#4D5663"
          },
          "text": ""
         },
         "zerolinecolor": "#E1E5ED"
        },
        "xaxis2": {
         "anchor": "y2",
         "gridcolor": "#E1E5ED",
         "showgrid": true,
         "showticklabels": false,
         "tickfont": {
          "color": "#4D5663"
         },
         "title": {
          "font": {
           "color": "#4D5663"
          },
          "text": ""
         },
         "zerolinecolor": "#E1E5ED"
        },
        "yaxis": {
         "domain": [
          0.3,
          1
         ],
         "gridcolor": "#E1E5ED",
         "showgrid": true,
         "tickfont": {
          "color": "#4D5663"
         },
         "title": {
          "font": {
           "color": "#4D5663"
          },
          "text": ""
         },
         "zerolinecolor": "#E1E5ED"
        },
        "yaxis2": {
         "domain": [
          0,
          0.25
         ],
         "gridcolor": "#E1E5ED",
         "showgrid": true,
         "tickfont": {
          "color": "#4D5663"
         },
         "title": {
          "font": {
           "color": "#4D5663"
          },
          "text": "Spread"
         },
         "zerolinecolor": "#E1E5ED"
        }
       }
      },
      "text/html": [
       "<div>                            <div id=\"5c502813-819e-4f55-b2e2-16063d3b930d\" class=\"plotly-graph-div\" style=\"height:525px; width:100%;\"></div>            <script type=\"text/javascript\">                require([\"plotly\"], function(Plotly) {                    window.PLOTLYENV=window.PLOTLYENV || {};\n",
       "                    window.PLOTLYENV.BASE_URL='https://plot.ly';                                    if (document.getElementById(\"5c502813-819e-4f55-b2e2-16063d3b930d\")) {                    Plotly.newPlot(                        \"5c502813-819e-4f55-b2e2-16063d3b930d\",                        [{\"line\":{\"color\":\"rgba(255, 153, 51, 1.0)\",\"dash\":\"solid\",\"shape\":\"linear\",\"width\":1.3},\"mode\":\"lines\",\"name\":\"A\",\"text\":\"\",\"x\":[0,1,2,3,4,5,6,7,8,9,10,11,12,13,14,15,16,17,18,19,20,21,22,23,24,25,26,27,28,29,30,31,32,33,34,35,36,37,38,39,40,41,42,43,44,45,46,47,48,49,50,51,52,53,54,55,56,57,58,59,60,61,62,63,64,65,66,67,68,69,70,71,72,73,74,75,76,77,78,79,80,81,82,83,84,85,86,87,88,89,90,91,92,93,94,95,96,97,98,99],\"y\":[0.7619660073950553,0.3831993421094785,0.5269321193818782,0.8275492317391815,0.8892593486573043,0.3193034931601627,0.28895444431277995,0.7404201733798286,0.12262001182879045,0.4493067356839209,0.03268762124032354,0.5934371670171862,0.00775924351526569,0.7455915765369152,0.4502326921792916,0.3916702955561916,0.9499649212210532,0.40318591556191474,0.40430371134501164,0.9295708927415494,0.26401447744374207,0.04511005253584999,0.19567228276849713,0.6461452322972179,0.4150268649397657,0.725922808467533,0.24440128975011677,0.23705121473054847,0.3908586565883515,0.06321951994661645,0.49750978787243083,0.21896559130674031,0.15366305526772783,0.006900916720903871,0.8125625292473938,0.4572756047229609,0.6709495356717864,0.04816046679203534,0.18762944263268255,0.7481366533880054,0.872440559716538,0.6990539539189577,0.4008588265264157,0.8876162116069556,0.7720236084810732,0.7162082122874913,0.3407175898186231,0.2895501156831318,0.5233988313773491,0.13188177705744175,0.495784431850116,0.03921293920164437,0.36309279113436466,0.19260620018151076,0.4825063131163069,0.18293023655992846,0.5081102519643054,0.40834269081324326,0.7858579803904728,0.11075045416252305,0.2285418382143266,0.9619504700480105,0.1365265519797081,0.8078347791029732,0.487743654722274,0.25177027627988124,0.3967257162703608,0.505524977282712,0.3661074008725529,0.418861514694419,0.17626473882139104,0.6919317185694058,0.5439240513207385,0.4481649951924652,0.9132768312770118,0.921791909753098,0.642844443031545,0.5041098343996006,0.8661579762231469,0.06146029125465091,0.15800663822843508,0.051203138710208984,0.8073206502672432,0.9910959951669714,0.876589487571141,0.852813647221526,0.16759692366974466,0.8265931069909461,0.5561296050596473,0.22508091373253858,0.6401703261599638,0.30919582237103205,0.5431169736376333,0.7910246102390857,0.9237791277470113,0.07302968408134924,0.15201917738506276,0.983133553271018,0.19306177479954023,0.9917275316090092],\"type\":\"scatter\"},{\"line\":{\"color\":\"rgba(55, 128, 191, 1.0)\",\"dash\":\"solid\",\"shape\":\"linear\",\"width\":1.3},\"mode\":\"lines\",\"name\":\"B\",\"text\":\"\",\"x\":[0,1,2,3,4,5,6,7,8,9,10,11,12,13,14,15,16,17,18,19,20,21,22,23,24,25,26,27,28,29,30,31,32,33,34,35,36,37,38,39,40,41,42,43,44,45,46,47,48,49,50,51,52,53,54,55,56,57,58,59,60,61,62,63,64,65,66,67,68,69,70,71,72,73,74,75,76,77,78,79,80,81,82,83,84,85,86,87,88,89,90,91,92,93,94,95,96,97,98,99],\"y\":[0.7339598796376222,0.7501383104927066,0.13016208547293562,0.11200978376406934,0.22651980826246132,0.8264590269508255,0.22443867141770923,0.2352718033072454,0.0024846188504629163,0.5798802072866126,0.5738649740520214,0.4301924070105716,0.4876251960610537,0.2734464900525172,0.760568718474913,0.6260385346813047,0.029084943492812654,0.06253555693990653,0.6655768154121865,0.09049834922935474,0.1731333166262019,0.6743798741502727,0.6500480317357354,0.0783011719345924,0.5102317647824509,0.46150314370866274,0.9570694786916037,0.8980794966280198,0.985392952250985,0.8010104762612996,0.1359532149661019,0.6982104352811658,0.9496239355793838,0.6289856730494802,0.3343850596961273,0.4705462267632926,0.5358113248142444,0.54994988375767,0.10619750125105731,0.34053025900176015,0.512725288760018,0.4047347225539547,0.19781959875146227,0.8067271659399001,0.09196611713559333,0.3774904205271683,0.0674248309139931,0.2750998557215809,0.7272520586012536,0.6627921337777752,0.21547850679365865,0.46105159730223977,0.3948132978906208,0.42178085249769126,0.4081734031335238,0.09945735841702441,0.22771194746019074,0.8434444345959553,0.6946148523209147,0.9023596842312003,0.4638505188507209,0.6281799224310242,0.5805488757691596,0.0012414559796589675,0.8798845815250357,0.11438268742010627,0.809028744336986,0.13030019355695355,0.35080744290592747,0.8842954224667885,0.6691565542958794,0.3896463917450411,0.4366991083682191,0.552245182285504,0.3257393992187827,0.5905741655913366,0.016704330974247616,0.49588116502078383,0.26474578645560176,0.2751859402483783,0.7614822740631733,0.6645083201236293,0.6855306971352015,0.21544745676820143,0.07117996063176835,0.114639783637555,0.050123194144784944,0.2904254227759736,0.34776127684022573,0.7344999685663639,0.25288744823039233,0.5970658246487074,0.5006956562340436,0.6027237230222172,0.23026493515505964,0.4362682166721016,0.487018856912538,0.8615638279257543,0.32508203394432833,0.09546869675423375],\"type\":\"scatter\"},{\"connectgaps\":false,\"fill\":\"tozeroy\",\"line\":{\"color\":\"green\",\"dash\":\"solid\",\"shape\":\"linear\",\"width\":0.5},\"mode\":\"lines\",\"name\":\"Spread\",\"showlegend\":false,\"x\":[0,1,2,3,4,5,6,7,8,9,10,11,12,13,14,15,16,17,18,19,20,21,22,23,24,25,26,27,28,29,30,31,32,33,34,35,36,37,38,39,40,41,42,43,44,45,46,47,48,49,50,51,52,53,54,55,56,57,58,59,60,61,62,63,64,65,66,67,68,69,70,71,72,73,74,75,76,77,78,79,80,81,82,83,84,85,86,87,88,89,90,91,92,93,94,95,96,97,98,99],\"xaxis\":\"x2\",\"y\":[0.028006127757433052,\"\",0.3967700339089426,0.7155394479751122,0.662739540394843,\"\",0.06451577289507071,0.5051483700725832,0.12013539297832754,\"\",\"\",0.1632447600066146,\"\",0.472145086484398,\"\",\"\",0.9208799777282406,0.3406503586220082,\"\",0.8390725435121946,0.09088116081754016,\"\",\"\",0.5678440603626255,\"\",0.26441966475887024,\"\",\"\",\"\",\"\",0.3615565729063289,\"\",\"\",\"\",0.4781774695512665,\"\",0.13513821085754196,\"\",0.08143194138162524,0.40760639438624524,0.35971527095652,0.29431923136500304,0.20303922777495342,0.08088904566705546,0.6800574913454799,0.338717791760323,0.27329275890463,0.014450259961550915,\"\",\"\",0.28030592505645735,\"\",\"\",\"\",0.07433290998278308,0.08347287814290405,0.2803983045041146,\"\",0.09124312806955814,\"\",\"\",0.3337705476169863,\"\",0.8065933231233142,\"\",0.13738758885977498,\"\",0.3752247837257584,0.015299957966625422,\"\",\"\",0.3022853268243647,0.10722494295251939,\"\",0.5875374320582291,0.3312177441617614,0.6261401120572974,0.008228669378816722,0.6014121897675452,\"\",\"\",\"\",0.12178995313204166,0.77564853839877,0.8054095269393726,0.738173863583971,0.11747372952495971,0.5361676842149725,0.20836832821942153,\"\",0.3872828779295715,\"\",0.04242131740358979,0.18830088721686844,0.6935141925919517,\"\",\"\",0.12156972534526378,\"\",0.8962588348547754],\"yaxis\":\"y2\",\"type\":\"scatter\"},{\"connectgaps\":false,\"fill\":\"tozeroy\",\"line\":{\"color\":\"red\",\"dash\":\"solid\",\"shape\":\"linear\",\"width\":0.5},\"mode\":\"lines\",\"name\":\"Spread\",\"showlegend\":false,\"x\":[0,1,2,3,4,5,6,7,8,9,10,11,12,13,14,15,16,17,18,19,20,21,22,23,24,25,26,27,28,29,30,31,32,33,34,35,36,37,38,39,40,41,42,43,44,45,46,47,48,49,50,51,52,53,54,55,56,57,58,59,60,61,62,63,64,65,66,67,68,69,70,71,72,73,74,75,76,77,78,79,80,81,82,83,84,85,86,87,88,89,90,91,92,93,94,95,96,97,98,99],\"xaxis\":\"x2\",\"y\":[\"\",-0.36693896838322815,\"\",\"\",\"\",-0.5071555337906628,\"\",\"\",\"\",-0.13057347160269173,-0.5411773528116979,\"\",-0.479865952545788,\"\",-0.3103360262956214,-0.23436823912511306,\"\",\"\",-0.26127310406717486,\"\",\"\",-0.6292698216144227,-0.4543757489672383,\"\",-0.09520489984268521,\"\",-0.712668188941487,-0.6610282818974713,-0.5945342956626335,-0.7377909563146832,\"\",-0.47924484397442546,-0.795960880311656,-0.6220847563285763,\"\",-0.013270622040331692,\"\",-0.5017894169656346,\"\",\"\",\"\",\"\",\"\",\"\",\"\",\"\",\"\",\"\",-0.20385322722390453,-0.5309103567203335,\"\",-0.4218386581005954,-0.03172050675625615,-0.2291746523161805,\"\",\"\",\"\",-0.43510174378271205,\"\",-0.7916092300686772,-0.23530868063639432,\"\",-0.4440223237894515,\"\",-0.3921409268027617,\"\",-0.4123030280666252,\"\",\"\",-0.4654339077723695,-0.49289181547448835,\"\",\"\",-0.10408018709303879,\"\",\"\",\"\",\"\",\"\",-0.21372564899372737,-0.6034756358347382,-0.6133051814134203,\"\",\"\",\"\",\"\",\"\",\"\",\"\",-0.5094190548338253,\"\",-0.28787000227767534,\"\",\"\",\"\",-0.36323853259075234,-0.3349996795274752,\"\",-0.1320202591447881,\"\"],\"yaxis\":\"y2\",\"type\":\"scatter\"}],                        {\"hovermode\":\"x\",\"legend\":{\"bgcolor\":\"#F5F6F9\",\"font\":{\"color\":\"#4D5663\"}},\"paper_bgcolor\":\"#F5F6F9\",\"plot_bgcolor\":\"#F5F6F9\",\"template\":{\"data\":{\"barpolar\":[{\"marker\":{\"line\":{\"color\":\"#E5ECF6\",\"width\":0.5},\"pattern\":{\"fillmode\":\"overlay\",\"size\":10,\"solidity\":0.2}},\"type\":\"barpolar\"}],\"bar\":[{\"error_x\":{\"color\":\"#2a3f5f\"},\"error_y\":{\"color\":\"#2a3f5f\"},\"marker\":{\"line\":{\"color\":\"#E5ECF6\",\"width\":0.5},\"pattern\":{\"fillmode\":\"overlay\",\"size\":10,\"solidity\":0.2}},\"type\":\"bar\"}],\"carpet\":[{\"aaxis\":{\"endlinecolor\":\"#2a3f5f\",\"gridcolor\":\"white\",\"linecolor\":\"white\",\"minorgridcolor\":\"white\",\"startlinecolor\":\"#2a3f5f\"},\"baxis\":{\"endlinecolor\":\"#2a3f5f\",\"gridcolor\":\"white\",\"linecolor\":\"white\",\"minorgridcolor\":\"white\",\"startlinecolor\":\"#2a3f5f\"},\"type\":\"carpet\"}],\"choropleth\":[{\"colorbar\":{\"outlinewidth\":0,\"ticks\":\"\"},\"type\":\"choropleth\"}],\"contourcarpet\":[{\"colorbar\":{\"outlinewidth\":0,\"ticks\":\"\"},\"type\":\"contourcarpet\"}],\"contour\":[{\"colorbar\":{\"outlinewidth\":0,\"ticks\":\"\"},\"colorscale\":[[0.0,\"#0d0887\"],[0.1111111111111111,\"#46039f\"],[0.2222222222222222,\"#7201a8\"],[0.3333333333333333,\"#9c179e\"],[0.4444444444444444,\"#bd3786\"],[0.5555555555555556,\"#d8576b\"],[0.6666666666666666,\"#ed7953\"],[0.7777777777777778,\"#fb9f3a\"],[0.8888888888888888,\"#fdca26\"],[1.0,\"#f0f921\"]],\"type\":\"contour\"}],\"heatmapgl\":[{\"colorbar\":{\"outlinewidth\":0,\"ticks\":\"\"},\"colorscale\":[[0.0,\"#0d0887\"],[0.1111111111111111,\"#46039f\"],[0.2222222222222222,\"#7201a8\"],[0.3333333333333333,\"#9c179e\"],[0.4444444444444444,\"#bd3786\"],[0.5555555555555556,\"#d8576b\"],[0.6666666666666666,\"#ed7953\"],[0.7777777777777778,\"#fb9f3a\"],[0.8888888888888888,\"#fdca26\"],[1.0,\"#f0f921\"]],\"type\":\"heatmapgl\"}],\"heatmap\":[{\"colorbar\":{\"outlinewidth\":0,\"ticks\":\"\"},\"colorscale\":[[0.0,\"#0d0887\"],[0.1111111111111111,\"#46039f\"],[0.2222222222222222,\"#7201a8\"],[0.3333333333333333,\"#9c179e\"],[0.4444444444444444,\"#bd3786\"],[0.5555555555555556,\"#d8576b\"],[0.6666666666666666,\"#ed7953\"],[0.7777777777777778,\"#fb9f3a\"],[0.8888888888888888,\"#fdca26\"],[1.0,\"#f0f921\"]],\"type\":\"heatmap\"}],\"histogram2dcontour\":[{\"colorbar\":{\"outlinewidth\":0,\"ticks\":\"\"},\"colorscale\":[[0.0,\"#0d0887\"],[0.1111111111111111,\"#46039f\"],[0.2222222222222222,\"#7201a8\"],[0.3333333333333333,\"#9c179e\"],[0.4444444444444444,\"#bd3786\"],[0.5555555555555556,\"#d8576b\"],[0.6666666666666666,\"#ed7953\"],[0.7777777777777778,\"#fb9f3a\"],[0.8888888888888888,\"#fdca26\"],[1.0,\"#f0f921\"]],\"type\":\"histogram2dcontour\"}],\"histogram2d\":[{\"colorbar\":{\"outlinewidth\":0,\"ticks\":\"\"},\"colorscale\":[[0.0,\"#0d0887\"],[0.1111111111111111,\"#46039f\"],[0.2222222222222222,\"#7201a8\"],[0.3333333333333333,\"#9c179e\"],[0.4444444444444444,\"#bd3786\"],[0.5555555555555556,\"#d8576b\"],[0.6666666666666666,\"#ed7953\"],[0.7777777777777778,\"#fb9f3a\"],[0.8888888888888888,\"#fdca26\"],[1.0,\"#f0f921\"]],\"type\":\"histogram2d\"}],\"histogram\":[{\"marker\":{\"pattern\":{\"fillmode\":\"overlay\",\"size\":10,\"solidity\":0.2}},\"type\":\"histogram\"}],\"mesh3d\":[{\"colorbar\":{\"outlinewidth\":0,\"ticks\":\"\"},\"type\":\"mesh3d\"}],\"parcoords\":[{\"line\":{\"colorbar\":{\"outlinewidth\":0,\"ticks\":\"\"}},\"type\":\"parcoords\"}],\"pie\":[{\"automargin\":true,\"type\":\"pie\"}],\"scatter3d\":[{\"line\":{\"colorbar\":{\"outlinewidth\":0,\"ticks\":\"\"}},\"marker\":{\"colorbar\":{\"outlinewidth\":0,\"ticks\":\"\"}},\"type\":\"scatter3d\"}],\"scattercarpet\":[{\"marker\":{\"colorbar\":{\"outlinewidth\":0,\"ticks\":\"\"}},\"type\":\"scattercarpet\"}],\"scattergeo\":[{\"marker\":{\"colorbar\":{\"outlinewidth\":0,\"ticks\":\"\"}},\"type\":\"scattergeo\"}],\"scattergl\":[{\"marker\":{\"colorbar\":{\"outlinewidth\":0,\"ticks\":\"\"}},\"type\":\"scattergl\"}],\"scattermapbox\":[{\"marker\":{\"colorbar\":{\"outlinewidth\":0,\"ticks\":\"\"}},\"type\":\"scattermapbox\"}],\"scatterpolargl\":[{\"marker\":{\"colorbar\":{\"outlinewidth\":0,\"ticks\":\"\"}},\"type\":\"scatterpolargl\"}],\"scatterpolar\":[{\"marker\":{\"colorbar\":{\"outlinewidth\":0,\"ticks\":\"\"}},\"type\":\"scatterpolar\"}],\"scatter\":[{\"marker\":{\"colorbar\":{\"outlinewidth\":0,\"ticks\":\"\"}},\"type\":\"scatter\"}],\"scatterternary\":[{\"marker\":{\"colorbar\":{\"outlinewidth\":0,\"ticks\":\"\"}},\"type\":\"scatterternary\"}],\"surface\":[{\"colorbar\":{\"outlinewidth\":0,\"ticks\":\"\"},\"colorscale\":[[0.0,\"#0d0887\"],[0.1111111111111111,\"#46039f\"],[0.2222222222222222,\"#7201a8\"],[0.3333333333333333,\"#9c179e\"],[0.4444444444444444,\"#bd3786\"],[0.5555555555555556,\"#d8576b\"],[0.6666666666666666,\"#ed7953\"],[0.7777777777777778,\"#fb9f3a\"],[0.8888888888888888,\"#fdca26\"],[1.0,\"#f0f921\"]],\"type\":\"surface\"}],\"table\":[{\"cells\":{\"fill\":{\"color\":\"#EBF0F8\"},\"line\":{\"color\":\"white\"}},\"header\":{\"fill\":{\"color\":\"#C8D4E3\"},\"line\":{\"color\":\"white\"}},\"type\":\"table\"}]},\"layout\":{\"annotationdefaults\":{\"arrowcolor\":\"#2a3f5f\",\"arrowhead\":0,\"arrowwidth\":1},\"autotypenumbers\":\"strict\",\"coloraxis\":{\"colorbar\":{\"outlinewidth\":0,\"ticks\":\"\"}},\"colorscale\":{\"diverging\":[[0,\"#8e0152\"],[0.1,\"#c51b7d\"],[0.2,\"#de77ae\"],[0.3,\"#f1b6da\"],[0.4,\"#fde0ef\"],[0.5,\"#f7f7f7\"],[0.6,\"#e6f5d0\"],[0.7,\"#b8e186\"],[0.8,\"#7fbc41\"],[0.9,\"#4d9221\"],[1,\"#276419\"]],\"sequential\":[[0.0,\"#0d0887\"],[0.1111111111111111,\"#46039f\"],[0.2222222222222222,\"#7201a8\"],[0.3333333333333333,\"#9c179e\"],[0.4444444444444444,\"#bd3786\"],[0.5555555555555556,\"#d8576b\"],[0.6666666666666666,\"#ed7953\"],[0.7777777777777778,\"#fb9f3a\"],[0.8888888888888888,\"#fdca26\"],[1.0,\"#f0f921\"]],\"sequentialminus\":[[0.0,\"#0d0887\"],[0.1111111111111111,\"#46039f\"],[0.2222222222222222,\"#7201a8\"],[0.3333333333333333,\"#9c179e\"],[0.4444444444444444,\"#bd3786\"],[0.5555555555555556,\"#d8576b\"],[0.6666666666666666,\"#ed7953\"],[0.7777777777777778,\"#fb9f3a\"],[0.8888888888888888,\"#fdca26\"],[1.0,\"#f0f921\"]]},\"colorway\":[\"#636efa\",\"#EF553B\",\"#00cc96\",\"#ab63fa\",\"#FFA15A\",\"#19d3f3\",\"#FF6692\",\"#B6E880\",\"#FF97FF\",\"#FECB52\"],\"font\":{\"color\":\"#2a3f5f\"},\"geo\":{\"bgcolor\":\"white\",\"lakecolor\":\"white\",\"landcolor\":\"#E5ECF6\",\"showlakes\":true,\"showland\":true,\"subunitcolor\":\"white\"},\"hoverlabel\":{\"align\":\"left\"},\"hovermode\":\"closest\",\"mapbox\":{\"style\":\"light\"},\"paper_bgcolor\":\"white\",\"plot_bgcolor\":\"#E5ECF6\",\"polar\":{\"angularaxis\":{\"gridcolor\":\"white\",\"linecolor\":\"white\",\"ticks\":\"\"},\"bgcolor\":\"#E5ECF6\",\"radialaxis\":{\"gridcolor\":\"white\",\"linecolor\":\"white\",\"ticks\":\"\"}},\"scene\":{\"xaxis\":{\"backgroundcolor\":\"#E5ECF6\",\"gridcolor\":\"white\",\"gridwidth\":2,\"linecolor\":\"white\",\"showbackground\":true,\"ticks\":\"\",\"zerolinecolor\":\"white\"},\"yaxis\":{\"backgroundcolor\":\"#E5ECF6\",\"gridcolor\":\"white\",\"gridwidth\":2,\"linecolor\":\"white\",\"showbackground\":true,\"ticks\":\"\",\"zerolinecolor\":\"white\"},\"zaxis\":{\"backgroundcolor\":\"#E5ECF6\",\"gridcolor\":\"white\",\"gridwidth\":2,\"linecolor\":\"white\",\"showbackground\":true,\"ticks\":\"\",\"zerolinecolor\":\"white\"}},\"shapedefaults\":{\"line\":{\"color\":\"#2a3f5f\"}},\"ternary\":{\"aaxis\":{\"gridcolor\":\"white\",\"linecolor\":\"white\",\"ticks\":\"\"},\"baxis\":{\"gridcolor\":\"white\",\"linecolor\":\"white\",\"ticks\":\"\"},\"bgcolor\":\"#E5ECF6\",\"caxis\":{\"gridcolor\":\"white\",\"linecolor\":\"white\",\"ticks\":\"\"}},\"title\":{\"x\":0.05},\"xaxis\":{\"automargin\":true,\"gridcolor\":\"white\",\"linecolor\":\"white\",\"ticks\":\"\",\"title\":{\"standoff\":15},\"zerolinecolor\":\"white\",\"zerolinewidth\":2},\"yaxis\":{\"automargin\":true,\"gridcolor\":\"white\",\"linecolor\":\"white\",\"ticks\":\"\",\"title\":{\"standoff\":15},\"zerolinecolor\":\"white\",\"zerolinewidth\":2}}},\"title\":{\"font\":{\"color\":\"#4D5663\"}},\"xaxis\":{\"gridcolor\":\"#E1E5ED\",\"showgrid\":true,\"tickfont\":{\"color\":\"#4D5663\"},\"title\":{\"font\":{\"color\":\"#4D5663\"},\"text\":\"\"},\"zerolinecolor\":\"#E1E5ED\"},\"yaxis\":{\"domain\":[0.3,1],\"gridcolor\":\"#E1E5ED\",\"showgrid\":true,\"tickfont\":{\"color\":\"#4D5663\"},\"title\":{\"font\":{\"color\":\"#4D5663\"},\"text\":\"\"},\"zerolinecolor\":\"#E1E5ED\"},\"yaxis2\":{\"domain\":[0,0.25],\"gridcolor\":\"#E1E5ED\",\"showgrid\":true,\"tickfont\":{\"color\":\"#4D5663\"},\"title\":{\"font\":{\"color\":\"#4D5663\"},\"text\":\"Spread\"},\"zerolinecolor\":\"#E1E5ED\"},\"xaxis2\":{\"anchor\":\"y2\",\"gridcolor\":\"#E1E5ED\",\"showgrid\":true,\"showticklabels\":false,\"tickfont\":{\"color\":\"#4D5663\"},\"title\":{\"font\":{\"color\":\"#4D5663\"},\"text\":\"\"},\"zerolinecolor\":\"#E1E5ED\"}},                        {\"showLink\": true, \"linkText\": \"Export to plot.ly\", \"plotlyServerURL\": \"https://plot.ly\", \"responsive\": true}                    ).then(function(){\n",
       "                            \n",
       "var gd = document.getElementById('5c502813-819e-4f55-b2e2-16063d3b930d');\n",
       "var x = new MutationObserver(function (mutations, observer) {{\n",
       "        var display = window.getComputedStyle(gd).display;\n",
       "        if (!display || display === 'none') {{\n",
       "            console.log([gd, 'removed!']);\n",
       "            Plotly.purge(gd);\n",
       "            observer.disconnect();\n",
       "        }}\n",
       "}});\n",
       "\n",
       "// Listen for the removal of the full notebook cells\n",
       "var notebookContainer = gd.closest('#notebook-container');\n",
       "if (notebookContainer) {{\n",
       "    x.observe(notebookContainer, {childList: true});\n",
       "}}\n",
       "\n",
       "// Listen for the clearing of the current output cell\n",
       "var outputEl = gd.closest('.output');\n",
       "if (outputEl) {{\n",
       "    x.observe(outputEl, {childList: true});\n",
       "}}\n",
       "\n",
       "                        })                };                });            </script>        </div>"
      ]
     },
     "metadata": {},
     "output_type": "display_data"
    }
   ],
   "source": [
    "df[['A','B']].iplot(kind='spread')"
   ]
  },
  {
   "cell_type": "code",
   "execution_count": 52,
   "id": "92c13cdc",
   "metadata": {},
   "outputs": [
    {
     "data": {
      "application/vnd.plotly.v1+json": {
       "config": {
        "linkText": "Export to plot.ly",
        "plotlyServerURL": "https://plot.ly",
        "showLink": true
       },
       "data": [
        {
         "marker": {
          "color": [
           "rgb(255, 153, 51)",
           "rgb(55, 128, 191)",
           "rgb(50, 171, 96)",
           "rgb(128, 0, 128)",
           "rgb(219, 64, 82)",
           "rgb(0, 128, 128)",
           "rgb(255, 255, 51)",
           "rgb(128, 128, 0)",
           "rgb(251, 128, 114)",
           "rgb(128, 177, 211)"
          ],
          "line": {
           "width": 1.3
          },
          "size": [
           61,
           56,
           110,
           62,
           21,
           76,
           19,
           34,
           73,
           80,
           89,
           13,
           66,
           49,
           47,
           67,
           87,
           111,
           22,
           106,
           23,
           82,
           72,
           111,
           81,
           88,
           47,
           81,
           13,
           65,
           73,
           15,
           108,
           80,
           85,
           12,
           25,
           92,
           112,
           86,
           100,
           68,
           100,
           50,
           89,
           55,
           106,
           64,
           85,
           103,
           31,
           62,
           80,
           86,
           96,
           16,
           102,
           81,
           85,
           30,
           66,
           107,
           90,
           71,
           32,
           72,
           77,
           15,
           26,
           20,
           93,
           86,
           105,
           90,
           60,
           61,
           105,
           100,
           101,
           81,
           49,
           20,
           72,
           93,
           47,
           64,
           66,
           12,
           48,
           18,
           65,
           83,
           66,
           42,
           81,
           49,
           66,
           86,
           61,
           15
          ],
          "symbol": "circle"
         },
         "mode": "markers",
         "text": "",
         "type": "scatter",
         "x": [
          0.7619660073950553,
          0.3831993421094785,
          0.5269321193818782,
          0.8275492317391815,
          0.8892593486573043,
          0.3193034931601627,
          0.28895444431277995,
          0.7404201733798286,
          0.12262001182879045,
          0.4493067356839209,
          0.03268762124032354,
          0.5934371670171862,
          0.00775924351526569,
          0.7455915765369152,
          0.4502326921792916,
          0.3916702955561916,
          0.9499649212210532,
          0.40318591556191474,
          0.40430371134501164,
          0.9295708927415494,
          0.26401447744374207,
          0.04511005253584999,
          0.19567228276849713,
          0.6461452322972179,
          0.4150268649397657,
          0.725922808467533,
          0.24440128975011677,
          0.23705121473054847,
          0.3908586565883515,
          0.06321951994661645,
          0.49750978787243083,
          0.21896559130674031,
          0.15366305526772783,
          0.006900916720903871,
          0.8125625292473938,
          0.4572756047229609,
          0.6709495356717864,
          0.04816046679203534,
          0.18762944263268255,
          0.7481366533880054,
          0.872440559716538,
          0.6990539539189577,
          0.4008588265264157,
          0.8876162116069556,
          0.7720236084810732,
          0.7162082122874913,
          0.3407175898186231,
          0.2895501156831318,
          0.5233988313773491,
          0.13188177705744175,
          0.495784431850116,
          0.03921293920164437,
          0.36309279113436466,
          0.19260620018151076,
          0.4825063131163069,
          0.18293023655992846,
          0.5081102519643054,
          0.40834269081324326,
          0.7858579803904728,
          0.11075045416252305,
          0.2285418382143266,
          0.9619504700480105,
          0.1365265519797081,
          0.8078347791029732,
          0.487743654722274,
          0.25177027627988124,
          0.3967257162703608,
          0.505524977282712,
          0.3661074008725529,
          0.418861514694419,
          0.17626473882139104,
          0.6919317185694058,
          0.5439240513207385,
          0.4481649951924652,
          0.9132768312770118,
          0.921791909753098,
          0.642844443031545,
          0.5041098343996006,
          0.8661579762231469,
          0.06146029125465091,
          0.15800663822843508,
          0.051203138710208984,
          0.8073206502672432,
          0.9910959951669714,
          0.876589487571141,
          0.852813647221526,
          0.16759692366974466,
          0.8265931069909461,
          0.5561296050596473,
          0.22508091373253858,
          0.6401703261599638,
          0.30919582237103205,
          0.5431169736376333,
          0.7910246102390857,
          0.9237791277470113,
          0.07302968408134924,
          0.15201917738506276,
          0.983133553271018,
          0.19306177479954023,
          0.9917275316090092
         ],
         "y": [
          0.7339598796376222,
          0.7501383104927066,
          0.13016208547293562,
          0.11200978376406934,
          0.22651980826246132,
          0.8264590269508255,
          0.22443867141770923,
          0.2352718033072454,
          0.0024846188504629163,
          0.5798802072866126,
          0.5738649740520214,
          0.4301924070105716,
          0.4876251960610537,
          0.2734464900525172,
          0.760568718474913,
          0.6260385346813047,
          0.029084943492812654,
          0.06253555693990653,
          0.6655768154121865,
          0.09049834922935474,
          0.1731333166262019,
          0.6743798741502727,
          0.6500480317357354,
          0.0783011719345924,
          0.5102317647824509,
          0.46150314370866274,
          0.9570694786916037,
          0.8980794966280198,
          0.985392952250985,
          0.8010104762612996,
          0.1359532149661019,
          0.6982104352811658,
          0.9496239355793838,
          0.6289856730494802,
          0.3343850596961273,
          0.4705462267632926,
          0.5358113248142444,
          0.54994988375767,
          0.10619750125105731,
          0.34053025900176015,
          0.512725288760018,
          0.4047347225539547,
          0.19781959875146227,
          0.8067271659399001,
          0.09196611713559333,
          0.3774904205271683,
          0.0674248309139931,
          0.2750998557215809,
          0.7272520586012536,
          0.6627921337777752,
          0.21547850679365865,
          0.46105159730223977,
          0.3948132978906208,
          0.42178085249769126,
          0.4081734031335238,
          0.09945735841702441,
          0.22771194746019074,
          0.8434444345959553,
          0.6946148523209147,
          0.9023596842312003,
          0.4638505188507209,
          0.6281799224310242,
          0.5805488757691596,
          0.0012414559796589675,
          0.8798845815250357,
          0.11438268742010627,
          0.809028744336986,
          0.13030019355695355,
          0.35080744290592747,
          0.8842954224667885,
          0.6691565542958794,
          0.3896463917450411,
          0.4366991083682191,
          0.552245182285504,
          0.3257393992187827,
          0.5905741655913366,
          0.016704330974247616,
          0.49588116502078383,
          0.26474578645560176,
          0.2751859402483783,
          0.7614822740631733,
          0.6645083201236293,
          0.6855306971352015,
          0.21544745676820143,
          0.07117996063176835,
          0.114639783637555,
          0.050123194144784944,
          0.2904254227759736,
          0.34776127684022573,
          0.7344999685663639,
          0.25288744823039233,
          0.5970658246487074,
          0.5006956562340436,
          0.6027237230222172,
          0.23026493515505964,
          0.4362682166721016,
          0.487018856912538,
          0.8615638279257543,
          0.32508203394432833,
          0.09546869675423375
         ]
        }
       ],
       "layout": {
        "legend": {
         "bgcolor": "#F5F6F9",
         "font": {
          "color": "#4D5663"
         }
        },
        "paper_bgcolor": "#F5F6F9",
        "plot_bgcolor": "#F5F6F9",
        "template": {
         "data": {
          "bar": [
           {
            "error_x": {
             "color": "#2a3f5f"
            },
            "error_y": {
             "color": "#2a3f5f"
            },
            "marker": {
             "line": {
              "color": "#E5ECF6",
              "width": 0.5
             },
             "pattern": {
              "fillmode": "overlay",
              "size": 10,
              "solidity": 0.2
             }
            },
            "type": "bar"
           }
          ],
          "barpolar": [
           {
            "marker": {
             "line": {
              "color": "#E5ECF6",
              "width": 0.5
             },
             "pattern": {
              "fillmode": "overlay",
              "size": 10,
              "solidity": 0.2
             }
            },
            "type": "barpolar"
           }
          ],
          "carpet": [
           {
            "aaxis": {
             "endlinecolor": "#2a3f5f",
             "gridcolor": "white",
             "linecolor": "white",
             "minorgridcolor": "white",
             "startlinecolor": "#2a3f5f"
            },
            "baxis": {
             "endlinecolor": "#2a3f5f",
             "gridcolor": "white",
             "linecolor": "white",
             "minorgridcolor": "white",
             "startlinecolor": "#2a3f5f"
            },
            "type": "carpet"
           }
          ],
          "choropleth": [
           {
            "colorbar": {
             "outlinewidth": 0,
             "ticks": ""
            },
            "type": "choropleth"
           }
          ],
          "contour": [
           {
            "colorbar": {
             "outlinewidth": 0,
             "ticks": ""
            },
            "colorscale": [
             [
              0,
              "#0d0887"
             ],
             [
              0.1111111111111111,
              "#46039f"
             ],
             [
              0.2222222222222222,
              "#7201a8"
             ],
             [
              0.3333333333333333,
              "#9c179e"
             ],
             [
              0.4444444444444444,
              "#bd3786"
             ],
             [
              0.5555555555555556,
              "#d8576b"
             ],
             [
              0.6666666666666666,
              "#ed7953"
             ],
             [
              0.7777777777777778,
              "#fb9f3a"
             ],
             [
              0.8888888888888888,
              "#fdca26"
             ],
             [
              1,
              "#f0f921"
             ]
            ],
            "type": "contour"
           }
          ],
          "contourcarpet": [
           {
            "colorbar": {
             "outlinewidth": 0,
             "ticks": ""
            },
            "type": "contourcarpet"
           }
          ],
          "heatmap": [
           {
            "colorbar": {
             "outlinewidth": 0,
             "ticks": ""
            },
            "colorscale": [
             [
              0,
              "#0d0887"
             ],
             [
              0.1111111111111111,
              "#46039f"
             ],
             [
              0.2222222222222222,
              "#7201a8"
             ],
             [
              0.3333333333333333,
              "#9c179e"
             ],
             [
              0.4444444444444444,
              "#bd3786"
             ],
             [
              0.5555555555555556,
              "#d8576b"
             ],
             [
              0.6666666666666666,
              "#ed7953"
             ],
             [
              0.7777777777777778,
              "#fb9f3a"
             ],
             [
              0.8888888888888888,
              "#fdca26"
             ],
             [
              1,
              "#f0f921"
             ]
            ],
            "type": "heatmap"
           }
          ],
          "heatmapgl": [
           {
            "colorbar": {
             "outlinewidth": 0,
             "ticks": ""
            },
            "colorscale": [
             [
              0,
              "#0d0887"
             ],
             [
              0.1111111111111111,
              "#46039f"
             ],
             [
              0.2222222222222222,
              "#7201a8"
             ],
             [
              0.3333333333333333,
              "#9c179e"
             ],
             [
              0.4444444444444444,
              "#bd3786"
             ],
             [
              0.5555555555555556,
              "#d8576b"
             ],
             [
              0.6666666666666666,
              "#ed7953"
             ],
             [
              0.7777777777777778,
              "#fb9f3a"
             ],
             [
              0.8888888888888888,
              "#fdca26"
             ],
             [
              1,
              "#f0f921"
             ]
            ],
            "type": "heatmapgl"
           }
          ],
          "histogram": [
           {
            "marker": {
             "pattern": {
              "fillmode": "overlay",
              "size": 10,
              "solidity": 0.2
             }
            },
            "type": "histogram"
           }
          ],
          "histogram2d": [
           {
            "colorbar": {
             "outlinewidth": 0,
             "ticks": ""
            },
            "colorscale": [
             [
              0,
              "#0d0887"
             ],
             [
              0.1111111111111111,
              "#46039f"
             ],
             [
              0.2222222222222222,
              "#7201a8"
             ],
             [
              0.3333333333333333,
              "#9c179e"
             ],
             [
              0.4444444444444444,
              "#bd3786"
             ],
             [
              0.5555555555555556,
              "#d8576b"
             ],
             [
              0.6666666666666666,
              "#ed7953"
             ],
             [
              0.7777777777777778,
              "#fb9f3a"
             ],
             [
              0.8888888888888888,
              "#fdca26"
             ],
             [
              1,
              "#f0f921"
             ]
            ],
            "type": "histogram2d"
           }
          ],
          "histogram2dcontour": [
           {
            "colorbar": {
             "outlinewidth": 0,
             "ticks": ""
            },
            "colorscale": [
             [
              0,
              "#0d0887"
             ],
             [
              0.1111111111111111,
              "#46039f"
             ],
             [
              0.2222222222222222,
              "#7201a8"
             ],
             [
              0.3333333333333333,
              "#9c179e"
             ],
             [
              0.4444444444444444,
              "#bd3786"
             ],
             [
              0.5555555555555556,
              "#d8576b"
             ],
             [
              0.6666666666666666,
              "#ed7953"
             ],
             [
              0.7777777777777778,
              "#fb9f3a"
             ],
             [
              0.8888888888888888,
              "#fdca26"
             ],
             [
              1,
              "#f0f921"
             ]
            ],
            "type": "histogram2dcontour"
           }
          ],
          "mesh3d": [
           {
            "colorbar": {
             "outlinewidth": 0,
             "ticks": ""
            },
            "type": "mesh3d"
           }
          ],
          "parcoords": [
           {
            "line": {
             "colorbar": {
              "outlinewidth": 0,
              "ticks": ""
             }
            },
            "type": "parcoords"
           }
          ],
          "pie": [
           {
            "automargin": true,
            "type": "pie"
           }
          ],
          "scatter": [
           {
            "marker": {
             "colorbar": {
              "outlinewidth": 0,
              "ticks": ""
             }
            },
            "type": "scatter"
           }
          ],
          "scatter3d": [
           {
            "line": {
             "colorbar": {
              "outlinewidth": 0,
              "ticks": ""
             }
            },
            "marker": {
             "colorbar": {
              "outlinewidth": 0,
              "ticks": ""
             }
            },
            "type": "scatter3d"
           }
          ],
          "scattercarpet": [
           {
            "marker": {
             "colorbar": {
              "outlinewidth": 0,
              "ticks": ""
             }
            },
            "type": "scattercarpet"
           }
          ],
          "scattergeo": [
           {
            "marker": {
             "colorbar": {
              "outlinewidth": 0,
              "ticks": ""
             }
            },
            "type": "scattergeo"
           }
          ],
          "scattergl": [
           {
            "marker": {
             "colorbar": {
              "outlinewidth": 0,
              "ticks": ""
             }
            },
            "type": "scattergl"
           }
          ],
          "scattermapbox": [
           {
            "marker": {
             "colorbar": {
              "outlinewidth": 0,
              "ticks": ""
             }
            },
            "type": "scattermapbox"
           }
          ],
          "scatterpolar": [
           {
            "marker": {
             "colorbar": {
              "outlinewidth": 0,
              "ticks": ""
             }
            },
            "type": "scatterpolar"
           }
          ],
          "scatterpolargl": [
           {
            "marker": {
             "colorbar": {
              "outlinewidth": 0,
              "ticks": ""
             }
            },
            "type": "scatterpolargl"
           }
          ],
          "scatterternary": [
           {
            "marker": {
             "colorbar": {
              "outlinewidth": 0,
              "ticks": ""
             }
            },
            "type": "scatterternary"
           }
          ],
          "surface": [
           {
            "colorbar": {
             "outlinewidth": 0,
             "ticks": ""
            },
            "colorscale": [
             [
              0,
              "#0d0887"
             ],
             [
              0.1111111111111111,
              "#46039f"
             ],
             [
              0.2222222222222222,
              "#7201a8"
             ],
             [
              0.3333333333333333,
              "#9c179e"
             ],
             [
              0.4444444444444444,
              "#bd3786"
             ],
             [
              0.5555555555555556,
              "#d8576b"
             ],
             [
              0.6666666666666666,
              "#ed7953"
             ],
             [
              0.7777777777777778,
              "#fb9f3a"
             ],
             [
              0.8888888888888888,
              "#fdca26"
             ],
             [
              1,
              "#f0f921"
             ]
            ],
            "type": "surface"
           }
          ],
          "table": [
           {
            "cells": {
             "fill": {
              "color": "#EBF0F8"
             },
             "line": {
              "color": "white"
             }
            },
            "header": {
             "fill": {
              "color": "#C8D4E3"
             },
             "line": {
              "color": "white"
             }
            },
            "type": "table"
           }
          ]
         },
         "layout": {
          "annotationdefaults": {
           "arrowcolor": "#2a3f5f",
           "arrowhead": 0,
           "arrowwidth": 1
          },
          "autotypenumbers": "strict",
          "coloraxis": {
           "colorbar": {
            "outlinewidth": 0,
            "ticks": ""
           }
          },
          "colorscale": {
           "diverging": [
            [
             0,
             "#8e0152"
            ],
            [
             0.1,
             "#c51b7d"
            ],
            [
             0.2,
             "#de77ae"
            ],
            [
             0.3,
             "#f1b6da"
            ],
            [
             0.4,
             "#fde0ef"
            ],
            [
             0.5,
             "#f7f7f7"
            ],
            [
             0.6,
             "#e6f5d0"
            ],
            [
             0.7,
             "#b8e186"
            ],
            [
             0.8,
             "#7fbc41"
            ],
            [
             0.9,
             "#4d9221"
            ],
            [
             1,
             "#276419"
            ]
           ],
           "sequential": [
            [
             0,
             "#0d0887"
            ],
            [
             0.1111111111111111,
             "#46039f"
            ],
            [
             0.2222222222222222,
             "#7201a8"
            ],
            [
             0.3333333333333333,
             "#9c179e"
            ],
            [
             0.4444444444444444,
             "#bd3786"
            ],
            [
             0.5555555555555556,
             "#d8576b"
            ],
            [
             0.6666666666666666,
             "#ed7953"
            ],
            [
             0.7777777777777778,
             "#fb9f3a"
            ],
            [
             0.8888888888888888,
             "#fdca26"
            ],
            [
             1,
             "#f0f921"
            ]
           ],
           "sequentialminus": [
            [
             0,
             "#0d0887"
            ],
            [
             0.1111111111111111,
             "#46039f"
            ],
            [
             0.2222222222222222,
             "#7201a8"
            ],
            [
             0.3333333333333333,
             "#9c179e"
            ],
            [
             0.4444444444444444,
             "#bd3786"
            ],
            [
             0.5555555555555556,
             "#d8576b"
            ],
            [
             0.6666666666666666,
             "#ed7953"
            ],
            [
             0.7777777777777778,
             "#fb9f3a"
            ],
            [
             0.8888888888888888,
             "#fdca26"
            ],
            [
             1,
             "#f0f921"
            ]
           ]
          },
          "colorway": [
           "#636efa",
           "#EF553B",
           "#00cc96",
           "#ab63fa",
           "#FFA15A",
           "#19d3f3",
           "#FF6692",
           "#B6E880",
           "#FF97FF",
           "#FECB52"
          ],
          "font": {
           "color": "#2a3f5f"
          },
          "geo": {
           "bgcolor": "white",
           "lakecolor": "white",
           "landcolor": "#E5ECF6",
           "showlakes": true,
           "showland": true,
           "subunitcolor": "white"
          },
          "hoverlabel": {
           "align": "left"
          },
          "hovermode": "closest",
          "mapbox": {
           "style": "light"
          },
          "paper_bgcolor": "white",
          "plot_bgcolor": "#E5ECF6",
          "polar": {
           "angularaxis": {
            "gridcolor": "white",
            "linecolor": "white",
            "ticks": ""
           },
           "bgcolor": "#E5ECF6",
           "radialaxis": {
            "gridcolor": "white",
            "linecolor": "white",
            "ticks": ""
           }
          },
          "scene": {
           "xaxis": {
            "backgroundcolor": "#E5ECF6",
            "gridcolor": "white",
            "gridwidth": 2,
            "linecolor": "white",
            "showbackground": true,
            "ticks": "",
            "zerolinecolor": "white"
           },
           "yaxis": {
            "backgroundcolor": "#E5ECF6",
            "gridcolor": "white",
            "gridwidth": 2,
            "linecolor": "white",
            "showbackground": true,
            "ticks": "",
            "zerolinecolor": "white"
           },
           "zaxis": {
            "backgroundcolor": "#E5ECF6",
            "gridcolor": "white",
            "gridwidth": 2,
            "linecolor": "white",
            "showbackground": true,
            "ticks": "",
            "zerolinecolor": "white"
           }
          },
          "shapedefaults": {
           "line": {
            "color": "#2a3f5f"
           }
          },
          "ternary": {
           "aaxis": {
            "gridcolor": "white",
            "linecolor": "white",
            "ticks": ""
           },
           "baxis": {
            "gridcolor": "white",
            "linecolor": "white",
            "ticks": ""
           },
           "bgcolor": "#E5ECF6",
           "caxis": {
            "gridcolor": "white",
            "linecolor": "white",
            "ticks": ""
           }
          },
          "title": {
           "x": 0.05
          },
          "xaxis": {
           "automargin": true,
           "gridcolor": "white",
           "linecolor": "white",
           "ticks": "",
           "title": {
            "standoff": 15
           },
           "zerolinecolor": "white",
           "zerolinewidth": 2
          },
          "yaxis": {
           "automargin": true,
           "gridcolor": "white",
           "linecolor": "white",
           "ticks": "",
           "title": {
            "standoff": 15
           },
           "zerolinecolor": "white",
           "zerolinewidth": 2
          }
         }
        },
        "title": {
         "font": {
          "color": "#4D5663"
         }
        },
        "xaxis": {
         "gridcolor": "#E1E5ED",
         "showgrid": true,
         "tickfont": {
          "color": "#4D5663"
         },
         "title": {
          "font": {
           "color": "#4D5663"
          },
          "text": ""
         },
         "zerolinecolor": "#E1E5ED"
        },
        "yaxis": {
         "gridcolor": "#E1E5ED",
         "showgrid": true,
         "tickfont": {
          "color": "#4D5663"
         },
         "title": {
          "font": {
           "color": "#4D5663"
          },
          "text": ""
         },
         "zerolinecolor": "#E1E5ED"
        }
       }
      },
      "text/html": [
       "<div>                            <div id=\"af1dee78-043d-4996-8b1e-04842e8f1516\" class=\"plotly-graph-div\" style=\"height:525px; width:100%;\"></div>            <script type=\"text/javascript\">                require([\"plotly\"], function(Plotly) {                    window.PLOTLYENV=window.PLOTLYENV || {};\n",
       "                    window.PLOTLYENV.BASE_URL='https://plot.ly';                                    if (document.getElementById(\"af1dee78-043d-4996-8b1e-04842e8f1516\")) {                    Plotly.newPlot(                        \"af1dee78-043d-4996-8b1e-04842e8f1516\",                        [{\"marker\":{\"color\":[\"rgb(255, 153, 51)\",\"rgb(55, 128, 191)\",\"rgb(50, 171, 96)\",\"rgb(128, 0, 128)\",\"rgb(219, 64, 82)\",\"rgb(0, 128, 128)\",\"rgb(255, 255, 51)\",\"rgb(128, 128, 0)\",\"rgb(251, 128, 114)\",\"rgb(128, 177, 211)\"],\"line\":{\"width\":1.3},\"size\":[61,56,110,62,21,76,19,34,73,80,89,13,66,49,47,67,87,111,22,106,23,82,72,111,81,88,47,81,13,65,73,15,108,80,85,12,25,92,112,86,100,68,100,50,89,55,106,64,85,103,31,62,80,86,96,16,102,81,85,30,66,107,90,71,32,72,77,15,26,20,93,86,105,90,60,61,105,100,101,81,49,20,72,93,47,64,66,12,48,18,65,83,66,42,81,49,66,86,61,15],\"symbol\":\"circle\"},\"mode\":\"markers\",\"text\":\"\",\"x\":[0.7619660073950553,0.3831993421094785,0.5269321193818782,0.8275492317391815,0.8892593486573043,0.3193034931601627,0.28895444431277995,0.7404201733798286,0.12262001182879045,0.4493067356839209,0.03268762124032354,0.5934371670171862,0.00775924351526569,0.7455915765369152,0.4502326921792916,0.3916702955561916,0.9499649212210532,0.40318591556191474,0.40430371134501164,0.9295708927415494,0.26401447744374207,0.04511005253584999,0.19567228276849713,0.6461452322972179,0.4150268649397657,0.725922808467533,0.24440128975011677,0.23705121473054847,0.3908586565883515,0.06321951994661645,0.49750978787243083,0.21896559130674031,0.15366305526772783,0.006900916720903871,0.8125625292473938,0.4572756047229609,0.6709495356717864,0.04816046679203534,0.18762944263268255,0.7481366533880054,0.872440559716538,0.6990539539189577,0.4008588265264157,0.8876162116069556,0.7720236084810732,0.7162082122874913,0.3407175898186231,0.2895501156831318,0.5233988313773491,0.13188177705744175,0.495784431850116,0.03921293920164437,0.36309279113436466,0.19260620018151076,0.4825063131163069,0.18293023655992846,0.5081102519643054,0.40834269081324326,0.7858579803904728,0.11075045416252305,0.2285418382143266,0.9619504700480105,0.1365265519797081,0.8078347791029732,0.487743654722274,0.25177027627988124,0.3967257162703608,0.505524977282712,0.3661074008725529,0.418861514694419,0.17626473882139104,0.6919317185694058,0.5439240513207385,0.4481649951924652,0.9132768312770118,0.921791909753098,0.642844443031545,0.5041098343996006,0.8661579762231469,0.06146029125465091,0.15800663822843508,0.051203138710208984,0.8073206502672432,0.9910959951669714,0.876589487571141,0.852813647221526,0.16759692366974466,0.8265931069909461,0.5561296050596473,0.22508091373253858,0.6401703261599638,0.30919582237103205,0.5431169736376333,0.7910246102390857,0.9237791277470113,0.07302968408134924,0.15201917738506276,0.983133553271018,0.19306177479954023,0.9917275316090092],\"y\":[0.7339598796376222,0.7501383104927066,0.13016208547293562,0.11200978376406934,0.22651980826246132,0.8264590269508255,0.22443867141770923,0.2352718033072454,0.0024846188504629163,0.5798802072866126,0.5738649740520214,0.4301924070105716,0.4876251960610537,0.2734464900525172,0.760568718474913,0.6260385346813047,0.029084943492812654,0.06253555693990653,0.6655768154121865,0.09049834922935474,0.1731333166262019,0.6743798741502727,0.6500480317357354,0.0783011719345924,0.5102317647824509,0.46150314370866274,0.9570694786916037,0.8980794966280198,0.985392952250985,0.8010104762612996,0.1359532149661019,0.6982104352811658,0.9496239355793838,0.6289856730494802,0.3343850596961273,0.4705462267632926,0.5358113248142444,0.54994988375767,0.10619750125105731,0.34053025900176015,0.512725288760018,0.4047347225539547,0.19781959875146227,0.8067271659399001,0.09196611713559333,0.3774904205271683,0.0674248309139931,0.2750998557215809,0.7272520586012536,0.6627921337777752,0.21547850679365865,0.46105159730223977,0.3948132978906208,0.42178085249769126,0.4081734031335238,0.09945735841702441,0.22771194746019074,0.8434444345959553,0.6946148523209147,0.9023596842312003,0.4638505188507209,0.6281799224310242,0.5805488757691596,0.0012414559796589675,0.8798845815250357,0.11438268742010627,0.809028744336986,0.13030019355695355,0.35080744290592747,0.8842954224667885,0.6691565542958794,0.3896463917450411,0.4366991083682191,0.552245182285504,0.3257393992187827,0.5905741655913366,0.016704330974247616,0.49588116502078383,0.26474578645560176,0.2751859402483783,0.7614822740631733,0.6645083201236293,0.6855306971352015,0.21544745676820143,0.07117996063176835,0.114639783637555,0.050123194144784944,0.2904254227759736,0.34776127684022573,0.7344999685663639,0.25288744823039233,0.5970658246487074,0.5006956562340436,0.6027237230222172,0.23026493515505964,0.4362682166721016,0.487018856912538,0.8615638279257543,0.32508203394432833,0.09546869675423375],\"type\":\"scatter\"}],                        {\"legend\":{\"bgcolor\":\"#F5F6F9\",\"font\":{\"color\":\"#4D5663\"}},\"paper_bgcolor\":\"#F5F6F9\",\"plot_bgcolor\":\"#F5F6F9\",\"template\":{\"data\":{\"barpolar\":[{\"marker\":{\"line\":{\"color\":\"#E5ECF6\",\"width\":0.5},\"pattern\":{\"fillmode\":\"overlay\",\"size\":10,\"solidity\":0.2}},\"type\":\"barpolar\"}],\"bar\":[{\"error_x\":{\"color\":\"#2a3f5f\"},\"error_y\":{\"color\":\"#2a3f5f\"},\"marker\":{\"line\":{\"color\":\"#E5ECF6\",\"width\":0.5},\"pattern\":{\"fillmode\":\"overlay\",\"size\":10,\"solidity\":0.2}},\"type\":\"bar\"}],\"carpet\":[{\"aaxis\":{\"endlinecolor\":\"#2a3f5f\",\"gridcolor\":\"white\",\"linecolor\":\"white\",\"minorgridcolor\":\"white\",\"startlinecolor\":\"#2a3f5f\"},\"baxis\":{\"endlinecolor\":\"#2a3f5f\",\"gridcolor\":\"white\",\"linecolor\":\"white\",\"minorgridcolor\":\"white\",\"startlinecolor\":\"#2a3f5f\"},\"type\":\"carpet\"}],\"choropleth\":[{\"colorbar\":{\"outlinewidth\":0,\"ticks\":\"\"},\"type\":\"choropleth\"}],\"contourcarpet\":[{\"colorbar\":{\"outlinewidth\":0,\"ticks\":\"\"},\"type\":\"contourcarpet\"}],\"contour\":[{\"colorbar\":{\"outlinewidth\":0,\"ticks\":\"\"},\"colorscale\":[[0.0,\"#0d0887\"],[0.1111111111111111,\"#46039f\"],[0.2222222222222222,\"#7201a8\"],[0.3333333333333333,\"#9c179e\"],[0.4444444444444444,\"#bd3786\"],[0.5555555555555556,\"#d8576b\"],[0.6666666666666666,\"#ed7953\"],[0.7777777777777778,\"#fb9f3a\"],[0.8888888888888888,\"#fdca26\"],[1.0,\"#f0f921\"]],\"type\":\"contour\"}],\"heatmapgl\":[{\"colorbar\":{\"outlinewidth\":0,\"ticks\":\"\"},\"colorscale\":[[0.0,\"#0d0887\"],[0.1111111111111111,\"#46039f\"],[0.2222222222222222,\"#7201a8\"],[0.3333333333333333,\"#9c179e\"],[0.4444444444444444,\"#bd3786\"],[0.5555555555555556,\"#d8576b\"],[0.6666666666666666,\"#ed7953\"],[0.7777777777777778,\"#fb9f3a\"],[0.8888888888888888,\"#fdca26\"],[1.0,\"#f0f921\"]],\"type\":\"heatmapgl\"}],\"heatmap\":[{\"colorbar\":{\"outlinewidth\":0,\"ticks\":\"\"},\"colorscale\":[[0.0,\"#0d0887\"],[0.1111111111111111,\"#46039f\"],[0.2222222222222222,\"#7201a8\"],[0.3333333333333333,\"#9c179e\"],[0.4444444444444444,\"#bd3786\"],[0.5555555555555556,\"#d8576b\"],[0.6666666666666666,\"#ed7953\"],[0.7777777777777778,\"#fb9f3a\"],[0.8888888888888888,\"#fdca26\"],[1.0,\"#f0f921\"]],\"type\":\"heatmap\"}],\"histogram2dcontour\":[{\"colorbar\":{\"outlinewidth\":0,\"ticks\":\"\"},\"colorscale\":[[0.0,\"#0d0887\"],[0.1111111111111111,\"#46039f\"],[0.2222222222222222,\"#7201a8\"],[0.3333333333333333,\"#9c179e\"],[0.4444444444444444,\"#bd3786\"],[0.5555555555555556,\"#d8576b\"],[0.6666666666666666,\"#ed7953\"],[0.7777777777777778,\"#fb9f3a\"],[0.8888888888888888,\"#fdca26\"],[1.0,\"#f0f921\"]],\"type\":\"histogram2dcontour\"}],\"histogram2d\":[{\"colorbar\":{\"outlinewidth\":0,\"ticks\":\"\"},\"colorscale\":[[0.0,\"#0d0887\"],[0.1111111111111111,\"#46039f\"],[0.2222222222222222,\"#7201a8\"],[0.3333333333333333,\"#9c179e\"],[0.4444444444444444,\"#bd3786\"],[0.5555555555555556,\"#d8576b\"],[0.6666666666666666,\"#ed7953\"],[0.7777777777777778,\"#fb9f3a\"],[0.8888888888888888,\"#fdca26\"],[1.0,\"#f0f921\"]],\"type\":\"histogram2d\"}],\"histogram\":[{\"marker\":{\"pattern\":{\"fillmode\":\"overlay\",\"size\":10,\"solidity\":0.2}},\"type\":\"histogram\"}],\"mesh3d\":[{\"colorbar\":{\"outlinewidth\":0,\"ticks\":\"\"},\"type\":\"mesh3d\"}],\"parcoords\":[{\"line\":{\"colorbar\":{\"outlinewidth\":0,\"ticks\":\"\"}},\"type\":\"parcoords\"}],\"pie\":[{\"automargin\":true,\"type\":\"pie\"}],\"scatter3d\":[{\"line\":{\"colorbar\":{\"outlinewidth\":0,\"ticks\":\"\"}},\"marker\":{\"colorbar\":{\"outlinewidth\":0,\"ticks\":\"\"}},\"type\":\"scatter3d\"}],\"scattercarpet\":[{\"marker\":{\"colorbar\":{\"outlinewidth\":0,\"ticks\":\"\"}},\"type\":\"scattercarpet\"}],\"scattergeo\":[{\"marker\":{\"colorbar\":{\"outlinewidth\":0,\"ticks\":\"\"}},\"type\":\"scattergeo\"}],\"scattergl\":[{\"marker\":{\"colorbar\":{\"outlinewidth\":0,\"ticks\":\"\"}},\"type\":\"scattergl\"}],\"scattermapbox\":[{\"marker\":{\"colorbar\":{\"outlinewidth\":0,\"ticks\":\"\"}},\"type\":\"scattermapbox\"}],\"scatterpolargl\":[{\"marker\":{\"colorbar\":{\"outlinewidth\":0,\"ticks\":\"\"}},\"type\":\"scatterpolargl\"}],\"scatterpolar\":[{\"marker\":{\"colorbar\":{\"outlinewidth\":0,\"ticks\":\"\"}},\"type\":\"scatterpolar\"}],\"scatter\":[{\"marker\":{\"colorbar\":{\"outlinewidth\":0,\"ticks\":\"\"}},\"type\":\"scatter\"}],\"scatterternary\":[{\"marker\":{\"colorbar\":{\"outlinewidth\":0,\"ticks\":\"\"}},\"type\":\"scatterternary\"}],\"surface\":[{\"colorbar\":{\"outlinewidth\":0,\"ticks\":\"\"},\"colorscale\":[[0.0,\"#0d0887\"],[0.1111111111111111,\"#46039f\"],[0.2222222222222222,\"#7201a8\"],[0.3333333333333333,\"#9c179e\"],[0.4444444444444444,\"#bd3786\"],[0.5555555555555556,\"#d8576b\"],[0.6666666666666666,\"#ed7953\"],[0.7777777777777778,\"#fb9f3a\"],[0.8888888888888888,\"#fdca26\"],[1.0,\"#f0f921\"]],\"type\":\"surface\"}],\"table\":[{\"cells\":{\"fill\":{\"color\":\"#EBF0F8\"},\"line\":{\"color\":\"white\"}},\"header\":{\"fill\":{\"color\":\"#C8D4E3\"},\"line\":{\"color\":\"white\"}},\"type\":\"table\"}]},\"layout\":{\"annotationdefaults\":{\"arrowcolor\":\"#2a3f5f\",\"arrowhead\":0,\"arrowwidth\":1},\"autotypenumbers\":\"strict\",\"coloraxis\":{\"colorbar\":{\"outlinewidth\":0,\"ticks\":\"\"}},\"colorscale\":{\"diverging\":[[0,\"#8e0152\"],[0.1,\"#c51b7d\"],[0.2,\"#de77ae\"],[0.3,\"#f1b6da\"],[0.4,\"#fde0ef\"],[0.5,\"#f7f7f7\"],[0.6,\"#e6f5d0\"],[0.7,\"#b8e186\"],[0.8,\"#7fbc41\"],[0.9,\"#4d9221\"],[1,\"#276419\"]],\"sequential\":[[0.0,\"#0d0887\"],[0.1111111111111111,\"#46039f\"],[0.2222222222222222,\"#7201a8\"],[0.3333333333333333,\"#9c179e\"],[0.4444444444444444,\"#bd3786\"],[0.5555555555555556,\"#d8576b\"],[0.6666666666666666,\"#ed7953\"],[0.7777777777777778,\"#fb9f3a\"],[0.8888888888888888,\"#fdca26\"],[1.0,\"#f0f921\"]],\"sequentialminus\":[[0.0,\"#0d0887\"],[0.1111111111111111,\"#46039f\"],[0.2222222222222222,\"#7201a8\"],[0.3333333333333333,\"#9c179e\"],[0.4444444444444444,\"#bd3786\"],[0.5555555555555556,\"#d8576b\"],[0.6666666666666666,\"#ed7953\"],[0.7777777777777778,\"#fb9f3a\"],[0.8888888888888888,\"#fdca26\"],[1.0,\"#f0f921\"]]},\"colorway\":[\"#636efa\",\"#EF553B\",\"#00cc96\",\"#ab63fa\",\"#FFA15A\",\"#19d3f3\",\"#FF6692\",\"#B6E880\",\"#FF97FF\",\"#FECB52\"],\"font\":{\"color\":\"#2a3f5f\"},\"geo\":{\"bgcolor\":\"white\",\"lakecolor\":\"white\",\"landcolor\":\"#E5ECF6\",\"showlakes\":true,\"showland\":true,\"subunitcolor\":\"white\"},\"hoverlabel\":{\"align\":\"left\"},\"hovermode\":\"closest\",\"mapbox\":{\"style\":\"light\"},\"paper_bgcolor\":\"white\",\"plot_bgcolor\":\"#E5ECF6\",\"polar\":{\"angularaxis\":{\"gridcolor\":\"white\",\"linecolor\":\"white\",\"ticks\":\"\"},\"bgcolor\":\"#E5ECF6\",\"radialaxis\":{\"gridcolor\":\"white\",\"linecolor\":\"white\",\"ticks\":\"\"}},\"scene\":{\"xaxis\":{\"backgroundcolor\":\"#E5ECF6\",\"gridcolor\":\"white\",\"gridwidth\":2,\"linecolor\":\"white\",\"showbackground\":true,\"ticks\":\"\",\"zerolinecolor\":\"white\"},\"yaxis\":{\"backgroundcolor\":\"#E5ECF6\",\"gridcolor\":\"white\",\"gridwidth\":2,\"linecolor\":\"white\",\"showbackground\":true,\"ticks\":\"\",\"zerolinecolor\":\"white\"},\"zaxis\":{\"backgroundcolor\":\"#E5ECF6\",\"gridcolor\":\"white\",\"gridwidth\":2,\"linecolor\":\"white\",\"showbackground\":true,\"ticks\":\"\",\"zerolinecolor\":\"white\"}},\"shapedefaults\":{\"line\":{\"color\":\"#2a3f5f\"}},\"ternary\":{\"aaxis\":{\"gridcolor\":\"white\",\"linecolor\":\"white\",\"ticks\":\"\"},\"baxis\":{\"gridcolor\":\"white\",\"linecolor\":\"white\",\"ticks\":\"\"},\"bgcolor\":\"#E5ECF6\",\"caxis\":{\"gridcolor\":\"white\",\"linecolor\":\"white\",\"ticks\":\"\"}},\"title\":{\"x\":0.05},\"xaxis\":{\"automargin\":true,\"gridcolor\":\"white\",\"linecolor\":\"white\",\"ticks\":\"\",\"title\":{\"standoff\":15},\"zerolinecolor\":\"white\",\"zerolinewidth\":2},\"yaxis\":{\"automargin\":true,\"gridcolor\":\"white\",\"linecolor\":\"white\",\"ticks\":\"\",\"title\":{\"standoff\":15},\"zerolinecolor\":\"white\",\"zerolinewidth\":2}}},\"title\":{\"font\":{\"color\":\"#4D5663\"}},\"xaxis\":{\"gridcolor\":\"#E1E5ED\",\"showgrid\":true,\"tickfont\":{\"color\":\"#4D5663\"},\"title\":{\"font\":{\"color\":\"#4D5663\"},\"text\":\"\"},\"zerolinecolor\":\"#E1E5ED\"},\"yaxis\":{\"gridcolor\":\"#E1E5ED\",\"showgrid\":true,\"tickfont\":{\"color\":\"#4D5663\"},\"title\":{\"font\":{\"color\":\"#4D5663\"},\"text\":\"\"},\"zerolinecolor\":\"#E1E5ED\"}},                        {\"showLink\": true, \"linkText\": \"Export to plot.ly\", \"plotlyServerURL\": \"https://plot.ly\", \"responsive\": true}                    ).then(function(){\n",
       "                            \n",
       "var gd = document.getElementById('af1dee78-043d-4996-8b1e-04842e8f1516');\n",
       "var x = new MutationObserver(function (mutations, observer) {{\n",
       "        var display = window.getComputedStyle(gd).display;\n",
       "        if (!display || display === 'none') {{\n",
       "            console.log([gd, 'removed!']);\n",
       "            Plotly.purge(gd);\n",
       "            observer.disconnect();\n",
       "        }}\n",
       "}});\n",
       "\n",
       "// Listen for the removal of the full notebook cells\n",
       "var notebookContainer = gd.closest('#notebook-container');\n",
       "if (notebookContainer) {{\n",
       "    x.observe(notebookContainer, {childList: true});\n",
       "}}\n",
       "\n",
       "// Listen for the clearing of the current output cell\n",
       "var outputEl = gd.closest('.output');\n",
       "if (outputEl) {{\n",
       "    x.observe(outputEl, {childList: true});\n",
       "}}\n",
       "\n",
       "                        })                };                });            </script>        </div>"
      ]
     },
     "metadata": {},
     "output_type": "display_data"
    }
   ],
   "source": [
    "df.iplot(kind='bubble',x='A',y='B',size='C')"
   ]
  },
  {
   "cell_type": "code",
   "execution_count": 53,
   "id": "9c758c17",
   "metadata": {},
   "outputs": [
    {
     "data": {
      "application/vnd.plotly.v1+json": {
       "config": {
        "linkText": "Export to plot.ly",
        "plotlyServerURL": "https://plot.ly",
        "showLink": true
       },
       "data": [
        {
         "histfunc": "count",
         "histnorm": "",
         "marker": {
          "color": "rgba(255, 153, 51, 1.0)",
          "line": {
           "color": "#4D5663",
           "width": 1.3
          }
         },
         "name": "A",
         "nbinsx": 10,
         "opacity": 0.8,
         "orientation": "v",
         "type": "histogram",
         "x": [
          0.7619660073950553,
          0.3831993421094785,
          0.5269321193818782,
          0.8275492317391815,
          0.8892593486573043,
          0.3193034931601627,
          0.28895444431277995,
          0.7404201733798286,
          0.12262001182879045,
          0.4493067356839209,
          0.03268762124032354,
          0.5934371670171862,
          0.00775924351526569,
          0.7455915765369152,
          0.4502326921792916,
          0.3916702955561916,
          0.9499649212210532,
          0.40318591556191474,
          0.40430371134501164,
          0.9295708927415494,
          0.26401447744374207,
          0.04511005253584999,
          0.19567228276849713,
          0.6461452322972179,
          0.4150268649397657,
          0.725922808467533,
          0.24440128975011677,
          0.23705121473054847,
          0.3908586565883515,
          0.06321951994661645,
          0.49750978787243083,
          0.21896559130674031,
          0.15366305526772783,
          0.006900916720903871,
          0.8125625292473938,
          0.4572756047229609,
          0.6709495356717864,
          0.04816046679203534,
          0.18762944263268255,
          0.7481366533880054,
          0.872440559716538,
          0.6990539539189577,
          0.4008588265264157,
          0.8876162116069556,
          0.7720236084810732,
          0.7162082122874913,
          0.3407175898186231,
          0.2895501156831318,
          0.5233988313773491,
          0.13188177705744175,
          0.495784431850116,
          0.03921293920164437,
          0.36309279113436466,
          0.19260620018151076,
          0.4825063131163069,
          0.18293023655992846,
          0.5081102519643054,
          0.40834269081324326,
          0.7858579803904728,
          0.11075045416252305,
          0.2285418382143266,
          0.9619504700480105,
          0.1365265519797081,
          0.8078347791029732,
          0.487743654722274,
          0.25177027627988124,
          0.3967257162703608,
          0.505524977282712,
          0.3661074008725529,
          0.418861514694419,
          0.17626473882139104,
          0.6919317185694058,
          0.5439240513207385,
          0.4481649951924652,
          0.9132768312770118,
          0.921791909753098,
          0.642844443031545,
          0.5041098343996006,
          0.8661579762231469,
          0.06146029125465091,
          0.15800663822843508,
          0.051203138710208984,
          0.8073206502672432,
          0.9910959951669714,
          0.876589487571141,
          0.852813647221526,
          0.16759692366974466,
          0.8265931069909461,
          0.5561296050596473,
          0.22508091373253858,
          0.6401703261599638,
          0.30919582237103205,
          0.5431169736376333,
          0.7910246102390857,
          0.9237791277470113,
          0.07302968408134924,
          0.15201917738506276,
          0.983133553271018,
          0.19306177479954023,
          0.9917275316090092
         ],
         "xaxis": "x",
         "yaxis": "y"
        },
        {
         "line": {
          "color": "rgba(128, 128, 128, 1.0)",
          "dash": "solid",
          "shape": "linear",
          "width": 1.3
         },
         "marker": {
          "size": 2,
          "symbol": "circle"
         },
         "mode": "markers",
         "name": "A",
         "text": "",
         "type": "scatter",
         "x": [
          0.7339598796376222,
          0.7501383104927066,
          0.13016208547293562,
          0.11200978376406934,
          0.22651980826246132,
          0.8264590269508255,
          0.22443867141770923,
          0.2352718033072454,
          0.0024846188504629163,
          0.5798802072866126,
          0.5738649740520214,
          0.4301924070105716,
          0.4876251960610537,
          0.2734464900525172,
          0.760568718474913,
          0.6260385346813047,
          0.029084943492812654,
          0.06253555693990653,
          0.6655768154121865,
          0.09049834922935474,
          0.1731333166262019,
          0.6743798741502727,
          0.6500480317357354,
          0.0783011719345924,
          0.5102317647824509,
          0.46150314370866274,
          0.9570694786916037,
          0.8980794966280198,
          0.985392952250985,
          0.8010104762612996,
          0.1359532149661019,
          0.6982104352811658,
          0.9496239355793838,
          0.6289856730494802,
          0.3343850596961273,
          0.4705462267632926,
          0.5358113248142444,
          0.54994988375767,
          0.10619750125105731,
          0.34053025900176015,
          0.512725288760018,
          0.4047347225539547,
          0.19781959875146227,
          0.8067271659399001,
          0.09196611713559333,
          0.3774904205271683,
          0.0674248309139931,
          0.2750998557215809,
          0.7272520586012536,
          0.6627921337777752,
          0.21547850679365865,
          0.46105159730223977,
          0.3948132978906208,
          0.42178085249769126,
          0.4081734031335238,
          0.09945735841702441,
          0.22771194746019074,
          0.8434444345959553,
          0.6946148523209147,
          0.9023596842312003,
          0.4638505188507209,
          0.6281799224310242,
          0.5805488757691596,
          0.0012414559796589675,
          0.8798845815250357,
          0.11438268742010627,
          0.809028744336986,
          0.13030019355695355,
          0.35080744290592747,
          0.8842954224667885,
          0.6691565542958794,
          0.3896463917450411,
          0.4366991083682191,
          0.552245182285504,
          0.3257393992187827,
          0.5905741655913366,
          0.016704330974247616,
          0.49588116502078383,
          0.26474578645560176,
          0.2751859402483783,
          0.7614822740631733,
          0.6645083201236293,
          0.6855306971352015,
          0.21544745676820143,
          0.07117996063176835,
          0.114639783637555,
          0.050123194144784944,
          0.2904254227759736,
          0.34776127684022573,
          0.7344999685663639,
          0.25288744823039233,
          0.5970658246487074,
          0.5006956562340436,
          0.6027237230222172,
          0.23026493515505964,
          0.4362682166721016,
          0.487018856912538,
          0.8615638279257543,
          0.32508203394432833,
          0.09546869675423375
         ],
         "xaxis": "x2",
         "y": [
          0.7619660073950553,
          0.3831993421094785,
          0.5269321193818782,
          0.8275492317391815,
          0.8892593486573043,
          0.3193034931601627,
          0.28895444431277995,
          0.7404201733798286,
          0.12262001182879045,
          0.4493067356839209,
          0.03268762124032354,
          0.5934371670171862,
          0.00775924351526569,
          0.7455915765369152,
          0.4502326921792916,
          0.3916702955561916,
          0.9499649212210532,
          0.40318591556191474,
          0.40430371134501164,
          0.9295708927415494,
          0.26401447744374207,
          0.04511005253584999,
          0.19567228276849713,
          0.6461452322972179,
          0.4150268649397657,
          0.725922808467533,
          0.24440128975011677,
          0.23705121473054847,
          0.3908586565883515,
          0.06321951994661645,
          0.49750978787243083,
          0.21896559130674031,
          0.15366305526772783,
          0.006900916720903871,
          0.8125625292473938,
          0.4572756047229609,
          0.6709495356717864,
          0.04816046679203534,
          0.18762944263268255,
          0.7481366533880054,
          0.872440559716538,
          0.6990539539189577,
          0.4008588265264157,
          0.8876162116069556,
          0.7720236084810732,
          0.7162082122874913,
          0.3407175898186231,
          0.2895501156831318,
          0.5233988313773491,
          0.13188177705744175,
          0.495784431850116,
          0.03921293920164437,
          0.36309279113436466,
          0.19260620018151076,
          0.4825063131163069,
          0.18293023655992846,
          0.5081102519643054,
          0.40834269081324326,
          0.7858579803904728,
          0.11075045416252305,
          0.2285418382143266,
          0.9619504700480105,
          0.1365265519797081,
          0.8078347791029732,
          0.487743654722274,
          0.25177027627988124,
          0.3967257162703608,
          0.505524977282712,
          0.3661074008725529,
          0.418861514694419,
          0.17626473882139104,
          0.6919317185694058,
          0.5439240513207385,
          0.4481649951924652,
          0.9132768312770118,
          0.921791909753098,
          0.642844443031545,
          0.5041098343996006,
          0.8661579762231469,
          0.06146029125465091,
          0.15800663822843508,
          0.051203138710208984,
          0.8073206502672432,
          0.9910959951669714,
          0.876589487571141,
          0.852813647221526,
          0.16759692366974466,
          0.8265931069909461,
          0.5561296050596473,
          0.22508091373253858,
          0.6401703261599638,
          0.30919582237103205,
          0.5431169736376333,
          0.7910246102390857,
          0.9237791277470113,
          0.07302968408134924,
          0.15201917738506276,
          0.983133553271018,
          0.19306177479954023,
          0.9917275316090092
         ],
         "yaxis": "y2"
        },
        {
         "line": {
          "color": "rgba(128, 128, 128, 1.0)",
          "dash": "solid",
          "shape": "linear",
          "width": 1.3
         },
         "marker": {
          "size": 2,
          "symbol": "circle"
         },
         "mode": "markers",
         "name": "A",
         "text": "",
         "type": "scatter",
         "x": [
          0.48994178486763973,
          0.4392627309753028,
          0.9686290112192875,
          0.5048735866512276,
          0.1017291045298857,
          0.6318974257647305,
          0.08496157650071412,
          0.22747296407613338,
          0.6050595067412333,
          0.6788167886261672,
          0.7637196511883925,
          0.029536245436085906,
          0.5347771455820954,
          0.3761139604663193,
          0.35382619394351067,
          0.5522377987990843,
          0.7420617544122445,
          0.971097323898076,
          0.10992201194963669,
          0.92651698010797,
          0.12210694612390482,
          0.6948757457918311,
          0.5933637061680342,
          0.9723433760599861,
          0.6814523441849866,
          0.7537582885564225,
          0.35123020954937445,
          0.6885201158974867,
          0.028102920710133428,
          0.5255256451848452,
          0.611513915485729,
          0.04602526700654985,
          0.9460218483554266,
          0.6711550466617024,
          0.7235169153895089,
          0.012270753310094862,
          0.14490125323506786,
          0.7952467004090731,
          0.97900056160059,
          0.7314219319755022,
          0.8688858396326965,
          0.5584103745187854,
          0.8700940763841912,
          0.3804146053601756,
          0.7586474418626046,
          0.4336084956926466,
          0.9224550999239891,
          0.5151931763732133,
          0.7234713176195481,
          0.894495458699626,
          0.19908743183141808,
          0.5004700866647201,
          0.6710095911595803,
          0.7343374816685606,
          0.8318664516913109,
          0.053972947362364576,
          0.8826636961003679,
          0.6887250471610893,
          0.7253385521274806,
          0.1936409680930874,
          0.5411851199071863,
          0.9328699421039989,
          0.7675849478996553,
          0.5844852219933127,
          0.20937597662357466,
          0.600206594677098,
          0.6482292216178916,
          0.04459166963388661,
          0.15261877613839925,
          0.09290614080224391,
          0.8022302038519756,
          0.7342114346211318,
          0.9191233709602152,
          0.7675767614267679,
          0.47660015716340287,
          0.494936205550916,
          0.9121380671584027,
          0.8705220078440615,
          0.8785082253048494,
          0.6868630373868092,
          0.3790372735459786,
          0.09873907615087552,
          0.5951013781132024,
          0.7962133030802363,
          0.3561890303738343,
          0.5178452584857594,
          0.539500433477665,
          0.012082464832550821,
          0.3687719924765247,
          0.07122201760596714,
          0.5300975248213184,
          0.7046093414506819,
          0.5423280449311959,
          0.30889406555916843,
          0.6868465170394179,
          0.37798764713121924,
          0.542875266638495,
          0.7330716083799603,
          0.48827268008044755,
          0.04858502557079991
         ],
         "xaxis": "x3",
         "y": [
          0.7619660073950553,
          0.3831993421094785,
          0.5269321193818782,
          0.8275492317391815,
          0.8892593486573043,
          0.3193034931601627,
          0.28895444431277995,
          0.7404201733798286,
          0.12262001182879045,
          0.4493067356839209,
          0.03268762124032354,
          0.5934371670171862,
          0.00775924351526569,
          0.7455915765369152,
          0.4502326921792916,
          0.3916702955561916,
          0.9499649212210532,
          0.40318591556191474,
          0.40430371134501164,
          0.9295708927415494,
          0.26401447744374207,
          0.04511005253584999,
          0.19567228276849713,
          0.6461452322972179,
          0.4150268649397657,
          0.725922808467533,
          0.24440128975011677,
          0.23705121473054847,
          0.3908586565883515,
          0.06321951994661645,
          0.49750978787243083,
          0.21896559130674031,
          0.15366305526772783,
          0.006900916720903871,
          0.8125625292473938,
          0.4572756047229609,
          0.6709495356717864,
          0.04816046679203534,
          0.18762944263268255,
          0.7481366533880054,
          0.872440559716538,
          0.6990539539189577,
          0.4008588265264157,
          0.8876162116069556,
          0.7720236084810732,
          0.7162082122874913,
          0.3407175898186231,
          0.2895501156831318,
          0.5233988313773491,
          0.13188177705744175,
          0.495784431850116,
          0.03921293920164437,
          0.36309279113436466,
          0.19260620018151076,
          0.4825063131163069,
          0.18293023655992846,
          0.5081102519643054,
          0.40834269081324326,
          0.7858579803904728,
          0.11075045416252305,
          0.2285418382143266,
          0.9619504700480105,
          0.1365265519797081,
          0.8078347791029732,
          0.487743654722274,
          0.25177027627988124,
          0.3967257162703608,
          0.505524977282712,
          0.3661074008725529,
          0.418861514694419,
          0.17626473882139104,
          0.6919317185694058,
          0.5439240513207385,
          0.4481649951924652,
          0.9132768312770118,
          0.921791909753098,
          0.642844443031545,
          0.5041098343996006,
          0.8661579762231469,
          0.06146029125465091,
          0.15800663822843508,
          0.051203138710208984,
          0.8073206502672432,
          0.9910959951669714,
          0.876589487571141,
          0.852813647221526,
          0.16759692366974466,
          0.8265931069909461,
          0.5561296050596473,
          0.22508091373253858,
          0.6401703261599638,
          0.30919582237103205,
          0.5431169736376333,
          0.7910246102390857,
          0.9237791277470113,
          0.07302968408134924,
          0.15201917738506276,
          0.983133553271018,
          0.19306177479954023,
          0.9917275316090092
         ],
         "yaxis": "y3"
        },
        {
         "line": {
          "color": "rgba(128, 128, 128, 1.0)",
          "dash": "solid",
          "shape": "linear",
          "width": 1.3
         },
         "marker": {
          "size": 2,
          "symbol": "circle"
         },
         "mode": "markers",
         "name": "A",
         "text": "",
         "type": "scatter",
         "x": [
          0.8987576252586102,
          0.797330843062111,
          0.8485281028996704,
          0.1914572130001988,
          0.4700639826911347,
          0.4128448382530481,
          0.04723112194010781,
          0.5208689706044635,
          0.6943142463118016,
          0.3415631885250485,
          0.9400510982689896,
          0.820931171044754,
          0.4357377238848412,
          0.6121151708213703,
          0.46951103442410125,
          0.9806144922153679,
          0.5267754958529278,
          0.7891144536725998,
          0.24101122496678706,
          0.7924699295349183,
          0.5804521775615598,
          0.9070895427876049,
          0.68916203570464,
          0.5987235244597106,
          0.35312084931643617,
          0.028321011269562546,
          0.7525711258052912,
          0.5095635317563492,
          0.04397419626567067,
          0.32546219463798554,
          0.3331879938230772,
          0.9841521192289913,
          0.5583464342959563,
          0.19279780398966107,
          0.8819424677298963,
          0.019332976704915406,
          0.4950597119939998,
          0.22486504236773108,
          0.7529129438891541,
          0.23201323816632236,
          0.9053744902103413,
          0.542795511023813,
          0.5075355287403258,
          0.3866287400518348,
          0.8741053558523413,
          0.9953746203999989,
          0.6709886831365968,
          0.8478361423637356,
          0.21727760692326115,
          0.7834503160054718,
          0.5225741911144963,
          0.30785808002060844,
          0.8626121387907464,
          0.021878587472828226,
          0.3132571615277814,
          0.269819703915101,
          0.047388947590950026,
          0.3783792139521778,
          0.6686715562815971,
          0.9340195896813317,
          0.24505316377281527,
          0.609341035884486,
          0.028512158125664766,
          0.5219175887400826,
          0.2789385116867189,
          0.5640668254847896,
          0.03848604584262927,
          0.4471931557922294,
          0.7157733382789738,
          0.3488660370994199,
          0.5178238120474549,
          0.5660049109441244,
          0.6759687616692475,
          0.3440802895222872,
          0.19633304738425505,
          0.068427853103733,
          0.961558562423373,
          0.19847993488194093,
          0.2069189471745908,
          0.8132554715264844,
          0.8888914058334912,
          0.676830901973747,
          0.9067289015561729,
          0.4623345767488364,
          0.3746023117702302,
          0.46009272979736426,
          0.007237548420919282,
          0.517787117725699,
          0.03732628959923279,
          0.5761660217671997,
          0.7579811277873082,
          0.3872441509651735,
          0.5010283266044836,
          0.15185669982217342,
          0.043185938195618445,
          0.869124913839304,
          0.34644360847665445,
          0.007513324253049514,
          0.08127399613059183,
          0.9993716910228512
         ],
         "xaxis": "x4",
         "y": [
          0.7619660073950553,
          0.3831993421094785,
          0.5269321193818782,
          0.8275492317391815,
          0.8892593486573043,
          0.3193034931601627,
          0.28895444431277995,
          0.7404201733798286,
          0.12262001182879045,
          0.4493067356839209,
          0.03268762124032354,
          0.5934371670171862,
          0.00775924351526569,
          0.7455915765369152,
          0.4502326921792916,
          0.3916702955561916,
          0.9499649212210532,
          0.40318591556191474,
          0.40430371134501164,
          0.9295708927415494,
          0.26401447744374207,
          0.04511005253584999,
          0.19567228276849713,
          0.6461452322972179,
          0.4150268649397657,
          0.725922808467533,
          0.24440128975011677,
          0.23705121473054847,
          0.3908586565883515,
          0.06321951994661645,
          0.49750978787243083,
          0.21896559130674031,
          0.15366305526772783,
          0.006900916720903871,
          0.8125625292473938,
          0.4572756047229609,
          0.6709495356717864,
          0.04816046679203534,
          0.18762944263268255,
          0.7481366533880054,
          0.872440559716538,
          0.6990539539189577,
          0.4008588265264157,
          0.8876162116069556,
          0.7720236084810732,
          0.7162082122874913,
          0.3407175898186231,
          0.2895501156831318,
          0.5233988313773491,
          0.13188177705744175,
          0.495784431850116,
          0.03921293920164437,
          0.36309279113436466,
          0.19260620018151076,
          0.4825063131163069,
          0.18293023655992846,
          0.5081102519643054,
          0.40834269081324326,
          0.7858579803904728,
          0.11075045416252305,
          0.2285418382143266,
          0.9619504700480105,
          0.1365265519797081,
          0.8078347791029732,
          0.487743654722274,
          0.25177027627988124,
          0.3967257162703608,
          0.505524977282712,
          0.3661074008725529,
          0.418861514694419,
          0.17626473882139104,
          0.6919317185694058,
          0.5439240513207385,
          0.4481649951924652,
          0.9132768312770118,
          0.921791909753098,
          0.642844443031545,
          0.5041098343996006,
          0.8661579762231469,
          0.06146029125465091,
          0.15800663822843508,
          0.051203138710208984,
          0.8073206502672432,
          0.9910959951669714,
          0.876589487571141,
          0.852813647221526,
          0.16759692366974466,
          0.8265931069909461,
          0.5561296050596473,
          0.22508091373253858,
          0.6401703261599638,
          0.30919582237103205,
          0.5431169736376333,
          0.7910246102390857,
          0.9237791277470113,
          0.07302968408134924,
          0.15201917738506276,
          0.983133553271018,
          0.19306177479954023,
          0.9917275316090092
         ],
         "yaxis": "y4"
        },
        {
         "line": {
          "color": "rgba(128, 128, 128, 1.0)",
          "dash": "solid",
          "shape": "linear",
          "width": 1.3
         },
         "marker": {
          "size": 2,
          "symbol": "circle"
         },
         "mode": "markers",
         "name": "B",
         "text": "",
         "type": "scatter",
         "x": [
          0.7619660073950553,
          0.3831993421094785,
          0.5269321193818782,
          0.8275492317391815,
          0.8892593486573043,
          0.3193034931601627,
          0.28895444431277995,
          0.7404201733798286,
          0.12262001182879045,
          0.4493067356839209,
          0.03268762124032354,
          0.5934371670171862,
          0.00775924351526569,
          0.7455915765369152,
          0.4502326921792916,
          0.3916702955561916,
          0.9499649212210532,
          0.40318591556191474,
          0.40430371134501164,
          0.9295708927415494,
          0.26401447744374207,
          0.04511005253584999,
          0.19567228276849713,
          0.6461452322972179,
          0.4150268649397657,
          0.725922808467533,
          0.24440128975011677,
          0.23705121473054847,
          0.3908586565883515,
          0.06321951994661645,
          0.49750978787243083,
          0.21896559130674031,
          0.15366305526772783,
          0.006900916720903871,
          0.8125625292473938,
          0.4572756047229609,
          0.6709495356717864,
          0.04816046679203534,
          0.18762944263268255,
          0.7481366533880054,
          0.872440559716538,
          0.6990539539189577,
          0.4008588265264157,
          0.8876162116069556,
          0.7720236084810732,
          0.7162082122874913,
          0.3407175898186231,
          0.2895501156831318,
          0.5233988313773491,
          0.13188177705744175,
          0.495784431850116,
          0.03921293920164437,
          0.36309279113436466,
          0.19260620018151076,
          0.4825063131163069,
          0.18293023655992846,
          0.5081102519643054,
          0.40834269081324326,
          0.7858579803904728,
          0.11075045416252305,
          0.2285418382143266,
          0.9619504700480105,
          0.1365265519797081,
          0.8078347791029732,
          0.487743654722274,
          0.25177027627988124,
          0.3967257162703608,
          0.505524977282712,
          0.3661074008725529,
          0.418861514694419,
          0.17626473882139104,
          0.6919317185694058,
          0.5439240513207385,
          0.4481649951924652,
          0.9132768312770118,
          0.921791909753098,
          0.642844443031545,
          0.5041098343996006,
          0.8661579762231469,
          0.06146029125465091,
          0.15800663822843508,
          0.051203138710208984,
          0.8073206502672432,
          0.9910959951669714,
          0.876589487571141,
          0.852813647221526,
          0.16759692366974466,
          0.8265931069909461,
          0.5561296050596473,
          0.22508091373253858,
          0.6401703261599638,
          0.30919582237103205,
          0.5431169736376333,
          0.7910246102390857,
          0.9237791277470113,
          0.07302968408134924,
          0.15201917738506276,
          0.983133553271018,
          0.19306177479954023,
          0.9917275316090092
         ],
         "xaxis": "x5",
         "y": [
          0.7339598796376222,
          0.7501383104927066,
          0.13016208547293562,
          0.11200978376406934,
          0.22651980826246132,
          0.8264590269508255,
          0.22443867141770923,
          0.2352718033072454,
          0.0024846188504629163,
          0.5798802072866126,
          0.5738649740520214,
          0.4301924070105716,
          0.4876251960610537,
          0.2734464900525172,
          0.760568718474913,
          0.6260385346813047,
          0.029084943492812654,
          0.06253555693990653,
          0.6655768154121865,
          0.09049834922935474,
          0.1731333166262019,
          0.6743798741502727,
          0.6500480317357354,
          0.0783011719345924,
          0.5102317647824509,
          0.46150314370866274,
          0.9570694786916037,
          0.8980794966280198,
          0.985392952250985,
          0.8010104762612996,
          0.1359532149661019,
          0.6982104352811658,
          0.9496239355793838,
          0.6289856730494802,
          0.3343850596961273,
          0.4705462267632926,
          0.5358113248142444,
          0.54994988375767,
          0.10619750125105731,
          0.34053025900176015,
          0.512725288760018,
          0.4047347225539547,
          0.19781959875146227,
          0.8067271659399001,
          0.09196611713559333,
          0.3774904205271683,
          0.0674248309139931,
          0.2750998557215809,
          0.7272520586012536,
          0.6627921337777752,
          0.21547850679365865,
          0.46105159730223977,
          0.3948132978906208,
          0.42178085249769126,
          0.4081734031335238,
          0.09945735841702441,
          0.22771194746019074,
          0.8434444345959553,
          0.6946148523209147,
          0.9023596842312003,
          0.4638505188507209,
          0.6281799224310242,
          0.5805488757691596,
          0.0012414559796589675,
          0.8798845815250357,
          0.11438268742010627,
          0.809028744336986,
          0.13030019355695355,
          0.35080744290592747,
          0.8842954224667885,
          0.6691565542958794,
          0.3896463917450411,
          0.4366991083682191,
          0.552245182285504,
          0.3257393992187827,
          0.5905741655913366,
          0.016704330974247616,
          0.49588116502078383,
          0.26474578645560176,
          0.2751859402483783,
          0.7614822740631733,
          0.6645083201236293,
          0.6855306971352015,
          0.21544745676820143,
          0.07117996063176835,
          0.114639783637555,
          0.050123194144784944,
          0.2904254227759736,
          0.34776127684022573,
          0.7344999685663639,
          0.25288744823039233,
          0.5970658246487074,
          0.5006956562340436,
          0.6027237230222172,
          0.23026493515505964,
          0.4362682166721016,
          0.487018856912538,
          0.8615638279257543,
          0.32508203394432833,
          0.09546869675423375
         ],
         "yaxis": "y5"
        },
        {
         "histfunc": "count",
         "histnorm": "",
         "marker": {
          "color": "rgba(55, 128, 191, 1.0)",
          "line": {
           "color": "#4D5663",
           "width": 1.3
          }
         },
         "name": "B",
         "nbinsx": 10,
         "opacity": 0.8,
         "orientation": "v",
         "type": "histogram",
         "x": [
          0.7339598796376222,
          0.7501383104927066,
          0.13016208547293562,
          0.11200978376406934,
          0.22651980826246132,
          0.8264590269508255,
          0.22443867141770923,
          0.2352718033072454,
          0.0024846188504629163,
          0.5798802072866126,
          0.5738649740520214,
          0.4301924070105716,
          0.4876251960610537,
          0.2734464900525172,
          0.760568718474913,
          0.6260385346813047,
          0.029084943492812654,
          0.06253555693990653,
          0.6655768154121865,
          0.09049834922935474,
          0.1731333166262019,
          0.6743798741502727,
          0.6500480317357354,
          0.0783011719345924,
          0.5102317647824509,
          0.46150314370866274,
          0.9570694786916037,
          0.8980794966280198,
          0.985392952250985,
          0.8010104762612996,
          0.1359532149661019,
          0.6982104352811658,
          0.9496239355793838,
          0.6289856730494802,
          0.3343850596961273,
          0.4705462267632926,
          0.5358113248142444,
          0.54994988375767,
          0.10619750125105731,
          0.34053025900176015,
          0.512725288760018,
          0.4047347225539547,
          0.19781959875146227,
          0.8067271659399001,
          0.09196611713559333,
          0.3774904205271683,
          0.0674248309139931,
          0.2750998557215809,
          0.7272520586012536,
          0.6627921337777752,
          0.21547850679365865,
          0.46105159730223977,
          0.3948132978906208,
          0.42178085249769126,
          0.4081734031335238,
          0.09945735841702441,
          0.22771194746019074,
          0.8434444345959553,
          0.6946148523209147,
          0.9023596842312003,
          0.4638505188507209,
          0.6281799224310242,
          0.5805488757691596,
          0.0012414559796589675,
          0.8798845815250357,
          0.11438268742010627,
          0.809028744336986,
          0.13030019355695355,
          0.35080744290592747,
          0.8842954224667885,
          0.6691565542958794,
          0.3896463917450411,
          0.4366991083682191,
          0.552245182285504,
          0.3257393992187827,
          0.5905741655913366,
          0.016704330974247616,
          0.49588116502078383,
          0.26474578645560176,
          0.2751859402483783,
          0.7614822740631733,
          0.6645083201236293,
          0.6855306971352015,
          0.21544745676820143,
          0.07117996063176835,
          0.114639783637555,
          0.050123194144784944,
          0.2904254227759736,
          0.34776127684022573,
          0.7344999685663639,
          0.25288744823039233,
          0.5970658246487074,
          0.5006956562340436,
          0.6027237230222172,
          0.23026493515505964,
          0.4362682166721016,
          0.487018856912538,
          0.8615638279257543,
          0.32508203394432833,
          0.09546869675423375
         ],
         "xaxis": "x6",
         "yaxis": "y6"
        },
        {
         "line": {
          "color": "rgba(128, 128, 128, 1.0)",
          "dash": "solid",
          "shape": "linear",
          "width": 1.3
         },
         "marker": {
          "size": 2,
          "symbol": "circle"
         },
         "mode": "markers",
         "name": "B",
         "text": "",
         "type": "scatter",
         "x": [
          0.48994178486763973,
          0.4392627309753028,
          0.9686290112192875,
          0.5048735866512276,
          0.1017291045298857,
          0.6318974257647305,
          0.08496157650071412,
          0.22747296407613338,
          0.6050595067412333,
          0.6788167886261672,
          0.7637196511883925,
          0.029536245436085906,
          0.5347771455820954,
          0.3761139604663193,
          0.35382619394351067,
          0.5522377987990843,
          0.7420617544122445,
          0.971097323898076,
          0.10992201194963669,
          0.92651698010797,
          0.12210694612390482,
          0.6948757457918311,
          0.5933637061680342,
          0.9723433760599861,
          0.6814523441849866,
          0.7537582885564225,
          0.35123020954937445,
          0.6885201158974867,
          0.028102920710133428,
          0.5255256451848452,
          0.611513915485729,
          0.04602526700654985,
          0.9460218483554266,
          0.6711550466617024,
          0.7235169153895089,
          0.012270753310094862,
          0.14490125323506786,
          0.7952467004090731,
          0.97900056160059,
          0.7314219319755022,
          0.8688858396326965,
          0.5584103745187854,
          0.8700940763841912,
          0.3804146053601756,
          0.7586474418626046,
          0.4336084956926466,
          0.9224550999239891,
          0.5151931763732133,
          0.7234713176195481,
          0.894495458699626,
          0.19908743183141808,
          0.5004700866647201,
          0.6710095911595803,
          0.7343374816685606,
          0.8318664516913109,
          0.053972947362364576,
          0.8826636961003679,
          0.6887250471610893,
          0.7253385521274806,
          0.1936409680930874,
          0.5411851199071863,
          0.9328699421039989,
          0.7675849478996553,
          0.5844852219933127,
          0.20937597662357466,
          0.600206594677098,
          0.6482292216178916,
          0.04459166963388661,
          0.15261877613839925,
          0.09290614080224391,
          0.8022302038519756,
          0.7342114346211318,
          0.9191233709602152,
          0.7675767614267679,
          0.47660015716340287,
          0.494936205550916,
          0.9121380671584027,
          0.8705220078440615,
          0.8785082253048494,
          0.6868630373868092,
          0.3790372735459786,
          0.09873907615087552,
          0.5951013781132024,
          0.7962133030802363,
          0.3561890303738343,
          0.5178452584857594,
          0.539500433477665,
          0.012082464832550821,
          0.3687719924765247,
          0.07122201760596714,
          0.5300975248213184,
          0.7046093414506819,
          0.5423280449311959,
          0.30889406555916843,
          0.6868465170394179,
          0.37798764713121924,
          0.542875266638495,
          0.7330716083799603,
          0.48827268008044755,
          0.04858502557079991
         ],
         "xaxis": "x7",
         "y": [
          0.7339598796376222,
          0.7501383104927066,
          0.13016208547293562,
          0.11200978376406934,
          0.22651980826246132,
          0.8264590269508255,
          0.22443867141770923,
          0.2352718033072454,
          0.0024846188504629163,
          0.5798802072866126,
          0.5738649740520214,
          0.4301924070105716,
          0.4876251960610537,
          0.2734464900525172,
          0.760568718474913,
          0.6260385346813047,
          0.029084943492812654,
          0.06253555693990653,
          0.6655768154121865,
          0.09049834922935474,
          0.1731333166262019,
          0.6743798741502727,
          0.6500480317357354,
          0.0783011719345924,
          0.5102317647824509,
          0.46150314370866274,
          0.9570694786916037,
          0.8980794966280198,
          0.985392952250985,
          0.8010104762612996,
          0.1359532149661019,
          0.6982104352811658,
          0.9496239355793838,
          0.6289856730494802,
          0.3343850596961273,
          0.4705462267632926,
          0.5358113248142444,
          0.54994988375767,
          0.10619750125105731,
          0.34053025900176015,
          0.512725288760018,
          0.4047347225539547,
          0.19781959875146227,
          0.8067271659399001,
          0.09196611713559333,
          0.3774904205271683,
          0.0674248309139931,
          0.2750998557215809,
          0.7272520586012536,
          0.6627921337777752,
          0.21547850679365865,
          0.46105159730223977,
          0.3948132978906208,
          0.42178085249769126,
          0.4081734031335238,
          0.09945735841702441,
          0.22771194746019074,
          0.8434444345959553,
          0.6946148523209147,
          0.9023596842312003,
          0.4638505188507209,
          0.6281799224310242,
          0.5805488757691596,
          0.0012414559796589675,
          0.8798845815250357,
          0.11438268742010627,
          0.809028744336986,
          0.13030019355695355,
          0.35080744290592747,
          0.8842954224667885,
          0.6691565542958794,
          0.3896463917450411,
          0.4366991083682191,
          0.552245182285504,
          0.3257393992187827,
          0.5905741655913366,
          0.016704330974247616,
          0.49588116502078383,
          0.26474578645560176,
          0.2751859402483783,
          0.7614822740631733,
          0.6645083201236293,
          0.6855306971352015,
          0.21544745676820143,
          0.07117996063176835,
          0.114639783637555,
          0.050123194144784944,
          0.2904254227759736,
          0.34776127684022573,
          0.7344999685663639,
          0.25288744823039233,
          0.5970658246487074,
          0.5006956562340436,
          0.6027237230222172,
          0.23026493515505964,
          0.4362682166721016,
          0.487018856912538,
          0.8615638279257543,
          0.32508203394432833,
          0.09546869675423375
         ],
         "yaxis": "y7"
        },
        {
         "line": {
          "color": "rgba(128, 128, 128, 1.0)",
          "dash": "solid",
          "shape": "linear",
          "width": 1.3
         },
         "marker": {
          "size": 2,
          "symbol": "circle"
         },
         "mode": "markers",
         "name": "B",
         "text": "",
         "type": "scatter",
         "x": [
          0.8987576252586102,
          0.797330843062111,
          0.8485281028996704,
          0.1914572130001988,
          0.4700639826911347,
          0.4128448382530481,
          0.04723112194010781,
          0.5208689706044635,
          0.6943142463118016,
          0.3415631885250485,
          0.9400510982689896,
          0.820931171044754,
          0.4357377238848412,
          0.6121151708213703,
          0.46951103442410125,
          0.9806144922153679,
          0.5267754958529278,
          0.7891144536725998,
          0.24101122496678706,
          0.7924699295349183,
          0.5804521775615598,
          0.9070895427876049,
          0.68916203570464,
          0.5987235244597106,
          0.35312084931643617,
          0.028321011269562546,
          0.7525711258052912,
          0.5095635317563492,
          0.04397419626567067,
          0.32546219463798554,
          0.3331879938230772,
          0.9841521192289913,
          0.5583464342959563,
          0.19279780398966107,
          0.8819424677298963,
          0.019332976704915406,
          0.4950597119939998,
          0.22486504236773108,
          0.7529129438891541,
          0.23201323816632236,
          0.9053744902103413,
          0.542795511023813,
          0.5075355287403258,
          0.3866287400518348,
          0.8741053558523413,
          0.9953746203999989,
          0.6709886831365968,
          0.8478361423637356,
          0.21727760692326115,
          0.7834503160054718,
          0.5225741911144963,
          0.30785808002060844,
          0.8626121387907464,
          0.021878587472828226,
          0.3132571615277814,
          0.269819703915101,
          0.047388947590950026,
          0.3783792139521778,
          0.6686715562815971,
          0.9340195896813317,
          0.24505316377281527,
          0.609341035884486,
          0.028512158125664766,
          0.5219175887400826,
          0.2789385116867189,
          0.5640668254847896,
          0.03848604584262927,
          0.4471931557922294,
          0.7157733382789738,
          0.3488660370994199,
          0.5178238120474549,
          0.5660049109441244,
          0.6759687616692475,
          0.3440802895222872,
          0.19633304738425505,
          0.068427853103733,
          0.961558562423373,
          0.19847993488194093,
          0.2069189471745908,
          0.8132554715264844,
          0.8888914058334912,
          0.676830901973747,
          0.9067289015561729,
          0.4623345767488364,
          0.3746023117702302,
          0.46009272979736426,
          0.007237548420919282,
          0.517787117725699,
          0.03732628959923279,
          0.5761660217671997,
          0.7579811277873082,
          0.3872441509651735,
          0.5010283266044836,
          0.15185669982217342,
          0.043185938195618445,
          0.869124913839304,
          0.34644360847665445,
          0.007513324253049514,
          0.08127399613059183,
          0.9993716910228512
         ],
         "xaxis": "x8",
         "y": [
          0.7339598796376222,
          0.7501383104927066,
          0.13016208547293562,
          0.11200978376406934,
          0.22651980826246132,
          0.8264590269508255,
          0.22443867141770923,
          0.2352718033072454,
          0.0024846188504629163,
          0.5798802072866126,
          0.5738649740520214,
          0.4301924070105716,
          0.4876251960610537,
          0.2734464900525172,
          0.760568718474913,
          0.6260385346813047,
          0.029084943492812654,
          0.06253555693990653,
          0.6655768154121865,
          0.09049834922935474,
          0.1731333166262019,
          0.6743798741502727,
          0.6500480317357354,
          0.0783011719345924,
          0.5102317647824509,
          0.46150314370866274,
          0.9570694786916037,
          0.8980794966280198,
          0.985392952250985,
          0.8010104762612996,
          0.1359532149661019,
          0.6982104352811658,
          0.9496239355793838,
          0.6289856730494802,
          0.3343850596961273,
          0.4705462267632926,
          0.5358113248142444,
          0.54994988375767,
          0.10619750125105731,
          0.34053025900176015,
          0.512725288760018,
          0.4047347225539547,
          0.19781959875146227,
          0.8067271659399001,
          0.09196611713559333,
          0.3774904205271683,
          0.0674248309139931,
          0.2750998557215809,
          0.7272520586012536,
          0.6627921337777752,
          0.21547850679365865,
          0.46105159730223977,
          0.3948132978906208,
          0.42178085249769126,
          0.4081734031335238,
          0.09945735841702441,
          0.22771194746019074,
          0.8434444345959553,
          0.6946148523209147,
          0.9023596842312003,
          0.4638505188507209,
          0.6281799224310242,
          0.5805488757691596,
          0.0012414559796589675,
          0.8798845815250357,
          0.11438268742010627,
          0.809028744336986,
          0.13030019355695355,
          0.35080744290592747,
          0.8842954224667885,
          0.6691565542958794,
          0.3896463917450411,
          0.4366991083682191,
          0.552245182285504,
          0.3257393992187827,
          0.5905741655913366,
          0.016704330974247616,
          0.49588116502078383,
          0.26474578645560176,
          0.2751859402483783,
          0.7614822740631733,
          0.6645083201236293,
          0.6855306971352015,
          0.21544745676820143,
          0.07117996063176835,
          0.114639783637555,
          0.050123194144784944,
          0.2904254227759736,
          0.34776127684022573,
          0.7344999685663639,
          0.25288744823039233,
          0.5970658246487074,
          0.5006956562340436,
          0.6027237230222172,
          0.23026493515505964,
          0.4362682166721016,
          0.487018856912538,
          0.8615638279257543,
          0.32508203394432833,
          0.09546869675423375
         ],
         "yaxis": "y8"
        },
        {
         "line": {
          "color": "rgba(128, 128, 128, 1.0)",
          "dash": "solid",
          "shape": "linear",
          "width": 1.3
         },
         "marker": {
          "size": 2,
          "symbol": "circle"
         },
         "mode": "markers",
         "name": "C",
         "text": "",
         "type": "scatter",
         "x": [
          0.7619660073950553,
          0.3831993421094785,
          0.5269321193818782,
          0.8275492317391815,
          0.8892593486573043,
          0.3193034931601627,
          0.28895444431277995,
          0.7404201733798286,
          0.12262001182879045,
          0.4493067356839209,
          0.03268762124032354,
          0.5934371670171862,
          0.00775924351526569,
          0.7455915765369152,
          0.4502326921792916,
          0.3916702955561916,
          0.9499649212210532,
          0.40318591556191474,
          0.40430371134501164,
          0.9295708927415494,
          0.26401447744374207,
          0.04511005253584999,
          0.19567228276849713,
          0.6461452322972179,
          0.4150268649397657,
          0.725922808467533,
          0.24440128975011677,
          0.23705121473054847,
          0.3908586565883515,
          0.06321951994661645,
          0.49750978787243083,
          0.21896559130674031,
          0.15366305526772783,
          0.006900916720903871,
          0.8125625292473938,
          0.4572756047229609,
          0.6709495356717864,
          0.04816046679203534,
          0.18762944263268255,
          0.7481366533880054,
          0.872440559716538,
          0.6990539539189577,
          0.4008588265264157,
          0.8876162116069556,
          0.7720236084810732,
          0.7162082122874913,
          0.3407175898186231,
          0.2895501156831318,
          0.5233988313773491,
          0.13188177705744175,
          0.495784431850116,
          0.03921293920164437,
          0.36309279113436466,
          0.19260620018151076,
          0.4825063131163069,
          0.18293023655992846,
          0.5081102519643054,
          0.40834269081324326,
          0.7858579803904728,
          0.11075045416252305,
          0.2285418382143266,
          0.9619504700480105,
          0.1365265519797081,
          0.8078347791029732,
          0.487743654722274,
          0.25177027627988124,
          0.3967257162703608,
          0.505524977282712,
          0.3661074008725529,
          0.418861514694419,
          0.17626473882139104,
          0.6919317185694058,
          0.5439240513207385,
          0.4481649951924652,
          0.9132768312770118,
          0.921791909753098,
          0.642844443031545,
          0.5041098343996006,
          0.8661579762231469,
          0.06146029125465091,
          0.15800663822843508,
          0.051203138710208984,
          0.8073206502672432,
          0.9910959951669714,
          0.876589487571141,
          0.852813647221526,
          0.16759692366974466,
          0.8265931069909461,
          0.5561296050596473,
          0.22508091373253858,
          0.6401703261599638,
          0.30919582237103205,
          0.5431169736376333,
          0.7910246102390857,
          0.9237791277470113,
          0.07302968408134924,
          0.15201917738506276,
          0.983133553271018,
          0.19306177479954023,
          0.9917275316090092
         ],
         "xaxis": "x9",
         "y": [
          0.48994178486763973,
          0.4392627309753028,
          0.9686290112192875,
          0.5048735866512276,
          0.1017291045298857,
          0.6318974257647305,
          0.08496157650071412,
          0.22747296407613338,
          0.6050595067412333,
          0.6788167886261672,
          0.7637196511883925,
          0.029536245436085906,
          0.5347771455820954,
          0.3761139604663193,
          0.35382619394351067,
          0.5522377987990843,
          0.7420617544122445,
          0.971097323898076,
          0.10992201194963669,
          0.92651698010797,
          0.12210694612390482,
          0.6948757457918311,
          0.5933637061680342,
          0.9723433760599861,
          0.6814523441849866,
          0.7537582885564225,
          0.35123020954937445,
          0.6885201158974867,
          0.028102920710133428,
          0.5255256451848452,
          0.611513915485729,
          0.04602526700654985,
          0.9460218483554266,
          0.6711550466617024,
          0.7235169153895089,
          0.012270753310094862,
          0.14490125323506786,
          0.7952467004090731,
          0.97900056160059,
          0.7314219319755022,
          0.8688858396326965,
          0.5584103745187854,
          0.8700940763841912,
          0.3804146053601756,
          0.7586474418626046,
          0.4336084956926466,
          0.9224550999239891,
          0.5151931763732133,
          0.7234713176195481,
          0.894495458699626,
          0.19908743183141808,
          0.5004700866647201,
          0.6710095911595803,
          0.7343374816685606,
          0.8318664516913109,
          0.053972947362364576,
          0.8826636961003679,
          0.6887250471610893,
          0.7253385521274806,
          0.1936409680930874,
          0.5411851199071863,
          0.9328699421039989,
          0.7675849478996553,
          0.5844852219933127,
          0.20937597662357466,
          0.600206594677098,
          0.6482292216178916,
          0.04459166963388661,
          0.15261877613839925,
          0.09290614080224391,
          0.8022302038519756,
          0.7342114346211318,
          0.9191233709602152,
          0.7675767614267679,
          0.47660015716340287,
          0.494936205550916,
          0.9121380671584027,
          0.8705220078440615,
          0.8785082253048494,
          0.6868630373868092,
          0.3790372735459786,
          0.09873907615087552,
          0.5951013781132024,
          0.7962133030802363,
          0.3561890303738343,
          0.5178452584857594,
          0.539500433477665,
          0.012082464832550821,
          0.3687719924765247,
          0.07122201760596714,
          0.5300975248213184,
          0.7046093414506819,
          0.5423280449311959,
          0.30889406555916843,
          0.6868465170394179,
          0.37798764713121924,
          0.542875266638495,
          0.7330716083799603,
          0.48827268008044755,
          0.04858502557079991
         ],
         "yaxis": "y9"
        },
        {
         "line": {
          "color": "rgba(128, 128, 128, 1.0)",
          "dash": "solid",
          "shape": "linear",
          "width": 1.3
         },
         "marker": {
          "size": 2,
          "symbol": "circle"
         },
         "mode": "markers",
         "name": "C",
         "text": "",
         "type": "scatter",
         "x": [
          0.7339598796376222,
          0.7501383104927066,
          0.13016208547293562,
          0.11200978376406934,
          0.22651980826246132,
          0.8264590269508255,
          0.22443867141770923,
          0.2352718033072454,
          0.0024846188504629163,
          0.5798802072866126,
          0.5738649740520214,
          0.4301924070105716,
          0.4876251960610537,
          0.2734464900525172,
          0.760568718474913,
          0.6260385346813047,
          0.029084943492812654,
          0.06253555693990653,
          0.6655768154121865,
          0.09049834922935474,
          0.1731333166262019,
          0.6743798741502727,
          0.6500480317357354,
          0.0783011719345924,
          0.5102317647824509,
          0.46150314370866274,
          0.9570694786916037,
          0.8980794966280198,
          0.985392952250985,
          0.8010104762612996,
          0.1359532149661019,
          0.6982104352811658,
          0.9496239355793838,
          0.6289856730494802,
          0.3343850596961273,
          0.4705462267632926,
          0.5358113248142444,
          0.54994988375767,
          0.10619750125105731,
          0.34053025900176015,
          0.512725288760018,
          0.4047347225539547,
          0.19781959875146227,
          0.8067271659399001,
          0.09196611713559333,
          0.3774904205271683,
          0.0674248309139931,
          0.2750998557215809,
          0.7272520586012536,
          0.6627921337777752,
          0.21547850679365865,
          0.46105159730223977,
          0.3948132978906208,
          0.42178085249769126,
          0.4081734031335238,
          0.09945735841702441,
          0.22771194746019074,
          0.8434444345959553,
          0.6946148523209147,
          0.9023596842312003,
          0.4638505188507209,
          0.6281799224310242,
          0.5805488757691596,
          0.0012414559796589675,
          0.8798845815250357,
          0.11438268742010627,
          0.809028744336986,
          0.13030019355695355,
          0.35080744290592747,
          0.8842954224667885,
          0.6691565542958794,
          0.3896463917450411,
          0.4366991083682191,
          0.552245182285504,
          0.3257393992187827,
          0.5905741655913366,
          0.016704330974247616,
          0.49588116502078383,
          0.26474578645560176,
          0.2751859402483783,
          0.7614822740631733,
          0.6645083201236293,
          0.6855306971352015,
          0.21544745676820143,
          0.07117996063176835,
          0.114639783637555,
          0.050123194144784944,
          0.2904254227759736,
          0.34776127684022573,
          0.7344999685663639,
          0.25288744823039233,
          0.5970658246487074,
          0.5006956562340436,
          0.6027237230222172,
          0.23026493515505964,
          0.4362682166721016,
          0.487018856912538,
          0.8615638279257543,
          0.32508203394432833,
          0.09546869675423375
         ],
         "xaxis": "x10",
         "y": [
          0.48994178486763973,
          0.4392627309753028,
          0.9686290112192875,
          0.5048735866512276,
          0.1017291045298857,
          0.6318974257647305,
          0.08496157650071412,
          0.22747296407613338,
          0.6050595067412333,
          0.6788167886261672,
          0.7637196511883925,
          0.029536245436085906,
          0.5347771455820954,
          0.3761139604663193,
          0.35382619394351067,
          0.5522377987990843,
          0.7420617544122445,
          0.971097323898076,
          0.10992201194963669,
          0.92651698010797,
          0.12210694612390482,
          0.6948757457918311,
          0.5933637061680342,
          0.9723433760599861,
          0.6814523441849866,
          0.7537582885564225,
          0.35123020954937445,
          0.6885201158974867,
          0.028102920710133428,
          0.5255256451848452,
          0.611513915485729,
          0.04602526700654985,
          0.9460218483554266,
          0.6711550466617024,
          0.7235169153895089,
          0.012270753310094862,
          0.14490125323506786,
          0.7952467004090731,
          0.97900056160059,
          0.7314219319755022,
          0.8688858396326965,
          0.5584103745187854,
          0.8700940763841912,
          0.3804146053601756,
          0.7586474418626046,
          0.4336084956926466,
          0.9224550999239891,
          0.5151931763732133,
          0.7234713176195481,
          0.894495458699626,
          0.19908743183141808,
          0.5004700866647201,
          0.6710095911595803,
          0.7343374816685606,
          0.8318664516913109,
          0.053972947362364576,
          0.8826636961003679,
          0.6887250471610893,
          0.7253385521274806,
          0.1936409680930874,
          0.5411851199071863,
          0.9328699421039989,
          0.7675849478996553,
          0.5844852219933127,
          0.20937597662357466,
          0.600206594677098,
          0.6482292216178916,
          0.04459166963388661,
          0.15261877613839925,
          0.09290614080224391,
          0.8022302038519756,
          0.7342114346211318,
          0.9191233709602152,
          0.7675767614267679,
          0.47660015716340287,
          0.494936205550916,
          0.9121380671584027,
          0.8705220078440615,
          0.8785082253048494,
          0.6868630373868092,
          0.3790372735459786,
          0.09873907615087552,
          0.5951013781132024,
          0.7962133030802363,
          0.3561890303738343,
          0.5178452584857594,
          0.539500433477665,
          0.012082464832550821,
          0.3687719924765247,
          0.07122201760596714,
          0.5300975248213184,
          0.7046093414506819,
          0.5423280449311959,
          0.30889406555916843,
          0.6868465170394179,
          0.37798764713121924,
          0.542875266638495,
          0.7330716083799603,
          0.48827268008044755,
          0.04858502557079991
         ],
         "yaxis": "y10"
        },
        {
         "histfunc": "count",
         "histnorm": "",
         "marker": {
          "color": "rgba(50, 171, 96, 1.0)",
          "line": {
           "color": "#4D5663",
           "width": 1.3
          }
         },
         "name": "C",
         "nbinsx": 10,
         "opacity": 0.8,
         "orientation": "v",
         "type": "histogram",
         "x": [
          0.48994178486763973,
          0.4392627309753028,
          0.9686290112192875,
          0.5048735866512276,
          0.1017291045298857,
          0.6318974257647305,
          0.08496157650071412,
          0.22747296407613338,
          0.6050595067412333,
          0.6788167886261672,
          0.7637196511883925,
          0.029536245436085906,
          0.5347771455820954,
          0.3761139604663193,
          0.35382619394351067,
          0.5522377987990843,
          0.7420617544122445,
          0.971097323898076,
          0.10992201194963669,
          0.92651698010797,
          0.12210694612390482,
          0.6948757457918311,
          0.5933637061680342,
          0.9723433760599861,
          0.6814523441849866,
          0.7537582885564225,
          0.35123020954937445,
          0.6885201158974867,
          0.028102920710133428,
          0.5255256451848452,
          0.611513915485729,
          0.04602526700654985,
          0.9460218483554266,
          0.6711550466617024,
          0.7235169153895089,
          0.012270753310094862,
          0.14490125323506786,
          0.7952467004090731,
          0.97900056160059,
          0.7314219319755022,
          0.8688858396326965,
          0.5584103745187854,
          0.8700940763841912,
          0.3804146053601756,
          0.7586474418626046,
          0.4336084956926466,
          0.9224550999239891,
          0.5151931763732133,
          0.7234713176195481,
          0.894495458699626,
          0.19908743183141808,
          0.5004700866647201,
          0.6710095911595803,
          0.7343374816685606,
          0.8318664516913109,
          0.053972947362364576,
          0.8826636961003679,
          0.6887250471610893,
          0.7253385521274806,
          0.1936409680930874,
          0.5411851199071863,
          0.9328699421039989,
          0.7675849478996553,
          0.5844852219933127,
          0.20937597662357466,
          0.600206594677098,
          0.6482292216178916,
          0.04459166963388661,
          0.15261877613839925,
          0.09290614080224391,
          0.8022302038519756,
          0.7342114346211318,
          0.9191233709602152,
          0.7675767614267679,
          0.47660015716340287,
          0.494936205550916,
          0.9121380671584027,
          0.8705220078440615,
          0.8785082253048494,
          0.6868630373868092,
          0.3790372735459786,
          0.09873907615087552,
          0.5951013781132024,
          0.7962133030802363,
          0.3561890303738343,
          0.5178452584857594,
          0.539500433477665,
          0.012082464832550821,
          0.3687719924765247,
          0.07122201760596714,
          0.5300975248213184,
          0.7046093414506819,
          0.5423280449311959,
          0.30889406555916843,
          0.6868465170394179,
          0.37798764713121924,
          0.542875266638495,
          0.7330716083799603,
          0.48827268008044755,
          0.04858502557079991
         ],
         "xaxis": "x11",
         "yaxis": "y11"
        },
        {
         "line": {
          "color": "rgba(128, 128, 128, 1.0)",
          "dash": "solid",
          "shape": "linear",
          "width": 1.3
         },
         "marker": {
          "size": 2,
          "symbol": "circle"
         },
         "mode": "markers",
         "name": "C",
         "text": "",
         "type": "scatter",
         "x": [
          0.8987576252586102,
          0.797330843062111,
          0.8485281028996704,
          0.1914572130001988,
          0.4700639826911347,
          0.4128448382530481,
          0.04723112194010781,
          0.5208689706044635,
          0.6943142463118016,
          0.3415631885250485,
          0.9400510982689896,
          0.820931171044754,
          0.4357377238848412,
          0.6121151708213703,
          0.46951103442410125,
          0.9806144922153679,
          0.5267754958529278,
          0.7891144536725998,
          0.24101122496678706,
          0.7924699295349183,
          0.5804521775615598,
          0.9070895427876049,
          0.68916203570464,
          0.5987235244597106,
          0.35312084931643617,
          0.028321011269562546,
          0.7525711258052912,
          0.5095635317563492,
          0.04397419626567067,
          0.32546219463798554,
          0.3331879938230772,
          0.9841521192289913,
          0.5583464342959563,
          0.19279780398966107,
          0.8819424677298963,
          0.019332976704915406,
          0.4950597119939998,
          0.22486504236773108,
          0.7529129438891541,
          0.23201323816632236,
          0.9053744902103413,
          0.542795511023813,
          0.5075355287403258,
          0.3866287400518348,
          0.8741053558523413,
          0.9953746203999989,
          0.6709886831365968,
          0.8478361423637356,
          0.21727760692326115,
          0.7834503160054718,
          0.5225741911144963,
          0.30785808002060844,
          0.8626121387907464,
          0.021878587472828226,
          0.3132571615277814,
          0.269819703915101,
          0.047388947590950026,
          0.3783792139521778,
          0.6686715562815971,
          0.9340195896813317,
          0.24505316377281527,
          0.609341035884486,
          0.028512158125664766,
          0.5219175887400826,
          0.2789385116867189,
          0.5640668254847896,
          0.03848604584262927,
          0.4471931557922294,
          0.7157733382789738,
          0.3488660370994199,
          0.5178238120474549,
          0.5660049109441244,
          0.6759687616692475,
          0.3440802895222872,
          0.19633304738425505,
          0.068427853103733,
          0.961558562423373,
          0.19847993488194093,
          0.2069189471745908,
          0.8132554715264844,
          0.8888914058334912,
          0.676830901973747,
          0.9067289015561729,
          0.4623345767488364,
          0.3746023117702302,
          0.46009272979736426,
          0.007237548420919282,
          0.517787117725699,
          0.03732628959923279,
          0.5761660217671997,
          0.7579811277873082,
          0.3872441509651735,
          0.5010283266044836,
          0.15185669982217342,
          0.043185938195618445,
          0.869124913839304,
          0.34644360847665445,
          0.007513324253049514,
          0.08127399613059183,
          0.9993716910228512
         ],
         "xaxis": "x12",
         "y": [
          0.48994178486763973,
          0.4392627309753028,
          0.9686290112192875,
          0.5048735866512276,
          0.1017291045298857,
          0.6318974257647305,
          0.08496157650071412,
          0.22747296407613338,
          0.6050595067412333,
          0.6788167886261672,
          0.7637196511883925,
          0.029536245436085906,
          0.5347771455820954,
          0.3761139604663193,
          0.35382619394351067,
          0.5522377987990843,
          0.7420617544122445,
          0.971097323898076,
          0.10992201194963669,
          0.92651698010797,
          0.12210694612390482,
          0.6948757457918311,
          0.5933637061680342,
          0.9723433760599861,
          0.6814523441849866,
          0.7537582885564225,
          0.35123020954937445,
          0.6885201158974867,
          0.028102920710133428,
          0.5255256451848452,
          0.611513915485729,
          0.04602526700654985,
          0.9460218483554266,
          0.6711550466617024,
          0.7235169153895089,
          0.012270753310094862,
          0.14490125323506786,
          0.7952467004090731,
          0.97900056160059,
          0.7314219319755022,
          0.8688858396326965,
          0.5584103745187854,
          0.8700940763841912,
          0.3804146053601756,
          0.7586474418626046,
          0.4336084956926466,
          0.9224550999239891,
          0.5151931763732133,
          0.7234713176195481,
          0.894495458699626,
          0.19908743183141808,
          0.5004700866647201,
          0.6710095911595803,
          0.7343374816685606,
          0.8318664516913109,
          0.053972947362364576,
          0.8826636961003679,
          0.6887250471610893,
          0.7253385521274806,
          0.1936409680930874,
          0.5411851199071863,
          0.9328699421039989,
          0.7675849478996553,
          0.5844852219933127,
          0.20937597662357466,
          0.600206594677098,
          0.6482292216178916,
          0.04459166963388661,
          0.15261877613839925,
          0.09290614080224391,
          0.8022302038519756,
          0.7342114346211318,
          0.9191233709602152,
          0.7675767614267679,
          0.47660015716340287,
          0.494936205550916,
          0.9121380671584027,
          0.8705220078440615,
          0.8785082253048494,
          0.6868630373868092,
          0.3790372735459786,
          0.09873907615087552,
          0.5951013781132024,
          0.7962133030802363,
          0.3561890303738343,
          0.5178452584857594,
          0.539500433477665,
          0.012082464832550821,
          0.3687719924765247,
          0.07122201760596714,
          0.5300975248213184,
          0.7046093414506819,
          0.5423280449311959,
          0.30889406555916843,
          0.6868465170394179,
          0.37798764713121924,
          0.542875266638495,
          0.7330716083799603,
          0.48827268008044755,
          0.04858502557079991
         ],
         "yaxis": "y12"
        },
        {
         "line": {
          "color": "rgba(128, 128, 128, 1.0)",
          "dash": "solid",
          "shape": "linear",
          "width": 1.3
         },
         "marker": {
          "size": 2,
          "symbol": "circle"
         },
         "mode": "markers",
         "name": "D",
         "text": "",
         "type": "scatter",
         "x": [
          0.7619660073950553,
          0.3831993421094785,
          0.5269321193818782,
          0.8275492317391815,
          0.8892593486573043,
          0.3193034931601627,
          0.28895444431277995,
          0.7404201733798286,
          0.12262001182879045,
          0.4493067356839209,
          0.03268762124032354,
          0.5934371670171862,
          0.00775924351526569,
          0.7455915765369152,
          0.4502326921792916,
          0.3916702955561916,
          0.9499649212210532,
          0.40318591556191474,
          0.40430371134501164,
          0.9295708927415494,
          0.26401447744374207,
          0.04511005253584999,
          0.19567228276849713,
          0.6461452322972179,
          0.4150268649397657,
          0.725922808467533,
          0.24440128975011677,
          0.23705121473054847,
          0.3908586565883515,
          0.06321951994661645,
          0.49750978787243083,
          0.21896559130674031,
          0.15366305526772783,
          0.006900916720903871,
          0.8125625292473938,
          0.4572756047229609,
          0.6709495356717864,
          0.04816046679203534,
          0.18762944263268255,
          0.7481366533880054,
          0.872440559716538,
          0.6990539539189577,
          0.4008588265264157,
          0.8876162116069556,
          0.7720236084810732,
          0.7162082122874913,
          0.3407175898186231,
          0.2895501156831318,
          0.5233988313773491,
          0.13188177705744175,
          0.495784431850116,
          0.03921293920164437,
          0.36309279113436466,
          0.19260620018151076,
          0.4825063131163069,
          0.18293023655992846,
          0.5081102519643054,
          0.40834269081324326,
          0.7858579803904728,
          0.11075045416252305,
          0.2285418382143266,
          0.9619504700480105,
          0.1365265519797081,
          0.8078347791029732,
          0.487743654722274,
          0.25177027627988124,
          0.3967257162703608,
          0.505524977282712,
          0.3661074008725529,
          0.418861514694419,
          0.17626473882139104,
          0.6919317185694058,
          0.5439240513207385,
          0.4481649951924652,
          0.9132768312770118,
          0.921791909753098,
          0.642844443031545,
          0.5041098343996006,
          0.8661579762231469,
          0.06146029125465091,
          0.15800663822843508,
          0.051203138710208984,
          0.8073206502672432,
          0.9910959951669714,
          0.876589487571141,
          0.852813647221526,
          0.16759692366974466,
          0.8265931069909461,
          0.5561296050596473,
          0.22508091373253858,
          0.6401703261599638,
          0.30919582237103205,
          0.5431169736376333,
          0.7910246102390857,
          0.9237791277470113,
          0.07302968408134924,
          0.15201917738506276,
          0.983133553271018,
          0.19306177479954023,
          0.9917275316090092
         ],
         "xaxis": "x13",
         "y": [
          0.8987576252586102,
          0.797330843062111,
          0.8485281028996704,
          0.1914572130001988,
          0.4700639826911347,
          0.4128448382530481,
          0.04723112194010781,
          0.5208689706044635,
          0.6943142463118016,
          0.3415631885250485,
          0.9400510982689896,
          0.820931171044754,
          0.4357377238848412,
          0.6121151708213703,
          0.46951103442410125,
          0.9806144922153679,
          0.5267754958529278,
          0.7891144536725998,
          0.24101122496678706,
          0.7924699295349183,
          0.5804521775615598,
          0.9070895427876049,
          0.68916203570464,
          0.5987235244597106,
          0.35312084931643617,
          0.028321011269562546,
          0.7525711258052912,
          0.5095635317563492,
          0.04397419626567067,
          0.32546219463798554,
          0.3331879938230772,
          0.9841521192289913,
          0.5583464342959563,
          0.19279780398966107,
          0.8819424677298963,
          0.019332976704915406,
          0.4950597119939998,
          0.22486504236773108,
          0.7529129438891541,
          0.23201323816632236,
          0.9053744902103413,
          0.542795511023813,
          0.5075355287403258,
          0.3866287400518348,
          0.8741053558523413,
          0.9953746203999989,
          0.6709886831365968,
          0.8478361423637356,
          0.21727760692326115,
          0.7834503160054718,
          0.5225741911144963,
          0.30785808002060844,
          0.8626121387907464,
          0.021878587472828226,
          0.3132571615277814,
          0.269819703915101,
          0.047388947590950026,
          0.3783792139521778,
          0.6686715562815971,
          0.9340195896813317,
          0.24505316377281527,
          0.609341035884486,
          0.028512158125664766,
          0.5219175887400826,
          0.2789385116867189,
          0.5640668254847896,
          0.03848604584262927,
          0.4471931557922294,
          0.7157733382789738,
          0.3488660370994199,
          0.5178238120474549,
          0.5660049109441244,
          0.6759687616692475,
          0.3440802895222872,
          0.19633304738425505,
          0.068427853103733,
          0.961558562423373,
          0.19847993488194093,
          0.2069189471745908,
          0.8132554715264844,
          0.8888914058334912,
          0.676830901973747,
          0.9067289015561729,
          0.4623345767488364,
          0.3746023117702302,
          0.46009272979736426,
          0.007237548420919282,
          0.517787117725699,
          0.03732628959923279,
          0.5761660217671997,
          0.7579811277873082,
          0.3872441509651735,
          0.5010283266044836,
          0.15185669982217342,
          0.043185938195618445,
          0.869124913839304,
          0.34644360847665445,
          0.007513324253049514,
          0.08127399613059183,
          0.9993716910228512
         ],
         "yaxis": "y13"
        },
        {
         "line": {
          "color": "rgba(128, 128, 128, 1.0)",
          "dash": "solid",
          "shape": "linear",
          "width": 1.3
         },
         "marker": {
          "size": 2,
          "symbol": "circle"
         },
         "mode": "markers",
         "name": "D",
         "text": "",
         "type": "scatter",
         "x": [
          0.7339598796376222,
          0.7501383104927066,
          0.13016208547293562,
          0.11200978376406934,
          0.22651980826246132,
          0.8264590269508255,
          0.22443867141770923,
          0.2352718033072454,
          0.0024846188504629163,
          0.5798802072866126,
          0.5738649740520214,
          0.4301924070105716,
          0.4876251960610537,
          0.2734464900525172,
          0.760568718474913,
          0.6260385346813047,
          0.029084943492812654,
          0.06253555693990653,
          0.6655768154121865,
          0.09049834922935474,
          0.1731333166262019,
          0.6743798741502727,
          0.6500480317357354,
          0.0783011719345924,
          0.5102317647824509,
          0.46150314370866274,
          0.9570694786916037,
          0.8980794966280198,
          0.985392952250985,
          0.8010104762612996,
          0.1359532149661019,
          0.6982104352811658,
          0.9496239355793838,
          0.6289856730494802,
          0.3343850596961273,
          0.4705462267632926,
          0.5358113248142444,
          0.54994988375767,
          0.10619750125105731,
          0.34053025900176015,
          0.512725288760018,
          0.4047347225539547,
          0.19781959875146227,
          0.8067271659399001,
          0.09196611713559333,
          0.3774904205271683,
          0.0674248309139931,
          0.2750998557215809,
          0.7272520586012536,
          0.6627921337777752,
          0.21547850679365865,
          0.46105159730223977,
          0.3948132978906208,
          0.42178085249769126,
          0.4081734031335238,
          0.09945735841702441,
          0.22771194746019074,
          0.8434444345959553,
          0.6946148523209147,
          0.9023596842312003,
          0.4638505188507209,
          0.6281799224310242,
          0.5805488757691596,
          0.0012414559796589675,
          0.8798845815250357,
          0.11438268742010627,
          0.809028744336986,
          0.13030019355695355,
          0.35080744290592747,
          0.8842954224667885,
          0.6691565542958794,
          0.3896463917450411,
          0.4366991083682191,
          0.552245182285504,
          0.3257393992187827,
          0.5905741655913366,
          0.016704330974247616,
          0.49588116502078383,
          0.26474578645560176,
          0.2751859402483783,
          0.7614822740631733,
          0.6645083201236293,
          0.6855306971352015,
          0.21544745676820143,
          0.07117996063176835,
          0.114639783637555,
          0.050123194144784944,
          0.2904254227759736,
          0.34776127684022573,
          0.7344999685663639,
          0.25288744823039233,
          0.5970658246487074,
          0.5006956562340436,
          0.6027237230222172,
          0.23026493515505964,
          0.4362682166721016,
          0.487018856912538,
          0.8615638279257543,
          0.32508203394432833,
          0.09546869675423375
         ],
         "xaxis": "x14",
         "y": [
          0.8987576252586102,
          0.797330843062111,
          0.8485281028996704,
          0.1914572130001988,
          0.4700639826911347,
          0.4128448382530481,
          0.04723112194010781,
          0.5208689706044635,
          0.6943142463118016,
          0.3415631885250485,
          0.9400510982689896,
          0.820931171044754,
          0.4357377238848412,
          0.6121151708213703,
          0.46951103442410125,
          0.9806144922153679,
          0.5267754958529278,
          0.7891144536725998,
          0.24101122496678706,
          0.7924699295349183,
          0.5804521775615598,
          0.9070895427876049,
          0.68916203570464,
          0.5987235244597106,
          0.35312084931643617,
          0.028321011269562546,
          0.7525711258052912,
          0.5095635317563492,
          0.04397419626567067,
          0.32546219463798554,
          0.3331879938230772,
          0.9841521192289913,
          0.5583464342959563,
          0.19279780398966107,
          0.8819424677298963,
          0.019332976704915406,
          0.4950597119939998,
          0.22486504236773108,
          0.7529129438891541,
          0.23201323816632236,
          0.9053744902103413,
          0.542795511023813,
          0.5075355287403258,
          0.3866287400518348,
          0.8741053558523413,
          0.9953746203999989,
          0.6709886831365968,
          0.8478361423637356,
          0.21727760692326115,
          0.7834503160054718,
          0.5225741911144963,
          0.30785808002060844,
          0.8626121387907464,
          0.021878587472828226,
          0.3132571615277814,
          0.269819703915101,
          0.047388947590950026,
          0.3783792139521778,
          0.6686715562815971,
          0.9340195896813317,
          0.24505316377281527,
          0.609341035884486,
          0.028512158125664766,
          0.5219175887400826,
          0.2789385116867189,
          0.5640668254847896,
          0.03848604584262927,
          0.4471931557922294,
          0.7157733382789738,
          0.3488660370994199,
          0.5178238120474549,
          0.5660049109441244,
          0.6759687616692475,
          0.3440802895222872,
          0.19633304738425505,
          0.068427853103733,
          0.961558562423373,
          0.19847993488194093,
          0.2069189471745908,
          0.8132554715264844,
          0.8888914058334912,
          0.676830901973747,
          0.9067289015561729,
          0.4623345767488364,
          0.3746023117702302,
          0.46009272979736426,
          0.007237548420919282,
          0.517787117725699,
          0.03732628959923279,
          0.5761660217671997,
          0.7579811277873082,
          0.3872441509651735,
          0.5010283266044836,
          0.15185669982217342,
          0.043185938195618445,
          0.869124913839304,
          0.34644360847665445,
          0.007513324253049514,
          0.08127399613059183,
          0.9993716910228512
         ],
         "yaxis": "y14"
        },
        {
         "line": {
          "color": "rgba(128, 128, 128, 1.0)",
          "dash": "solid",
          "shape": "linear",
          "width": 1.3
         },
         "marker": {
          "size": 2,
          "symbol": "circle"
         },
         "mode": "markers",
         "name": "D",
         "text": "",
         "type": "scatter",
         "x": [
          0.48994178486763973,
          0.4392627309753028,
          0.9686290112192875,
          0.5048735866512276,
          0.1017291045298857,
          0.6318974257647305,
          0.08496157650071412,
          0.22747296407613338,
          0.6050595067412333,
          0.6788167886261672,
          0.7637196511883925,
          0.029536245436085906,
          0.5347771455820954,
          0.3761139604663193,
          0.35382619394351067,
          0.5522377987990843,
          0.7420617544122445,
          0.971097323898076,
          0.10992201194963669,
          0.92651698010797,
          0.12210694612390482,
          0.6948757457918311,
          0.5933637061680342,
          0.9723433760599861,
          0.6814523441849866,
          0.7537582885564225,
          0.35123020954937445,
          0.6885201158974867,
          0.028102920710133428,
          0.5255256451848452,
          0.611513915485729,
          0.04602526700654985,
          0.9460218483554266,
          0.6711550466617024,
          0.7235169153895089,
          0.012270753310094862,
          0.14490125323506786,
          0.7952467004090731,
          0.97900056160059,
          0.7314219319755022,
          0.8688858396326965,
          0.5584103745187854,
          0.8700940763841912,
          0.3804146053601756,
          0.7586474418626046,
          0.4336084956926466,
          0.9224550999239891,
          0.5151931763732133,
          0.7234713176195481,
          0.894495458699626,
          0.19908743183141808,
          0.5004700866647201,
          0.6710095911595803,
          0.7343374816685606,
          0.8318664516913109,
          0.053972947362364576,
          0.8826636961003679,
          0.6887250471610893,
          0.7253385521274806,
          0.1936409680930874,
          0.5411851199071863,
          0.9328699421039989,
          0.7675849478996553,
          0.5844852219933127,
          0.20937597662357466,
          0.600206594677098,
          0.6482292216178916,
          0.04459166963388661,
          0.15261877613839925,
          0.09290614080224391,
          0.8022302038519756,
          0.7342114346211318,
          0.9191233709602152,
          0.7675767614267679,
          0.47660015716340287,
          0.494936205550916,
          0.9121380671584027,
          0.8705220078440615,
          0.8785082253048494,
          0.6868630373868092,
          0.3790372735459786,
          0.09873907615087552,
          0.5951013781132024,
          0.7962133030802363,
          0.3561890303738343,
          0.5178452584857594,
          0.539500433477665,
          0.012082464832550821,
          0.3687719924765247,
          0.07122201760596714,
          0.5300975248213184,
          0.7046093414506819,
          0.5423280449311959,
          0.30889406555916843,
          0.6868465170394179,
          0.37798764713121924,
          0.542875266638495,
          0.7330716083799603,
          0.48827268008044755,
          0.04858502557079991
         ],
         "xaxis": "x15",
         "y": [
          0.8987576252586102,
          0.797330843062111,
          0.8485281028996704,
          0.1914572130001988,
          0.4700639826911347,
          0.4128448382530481,
          0.04723112194010781,
          0.5208689706044635,
          0.6943142463118016,
          0.3415631885250485,
          0.9400510982689896,
          0.820931171044754,
          0.4357377238848412,
          0.6121151708213703,
          0.46951103442410125,
          0.9806144922153679,
          0.5267754958529278,
          0.7891144536725998,
          0.24101122496678706,
          0.7924699295349183,
          0.5804521775615598,
          0.9070895427876049,
          0.68916203570464,
          0.5987235244597106,
          0.35312084931643617,
          0.028321011269562546,
          0.7525711258052912,
          0.5095635317563492,
          0.04397419626567067,
          0.32546219463798554,
          0.3331879938230772,
          0.9841521192289913,
          0.5583464342959563,
          0.19279780398966107,
          0.8819424677298963,
          0.019332976704915406,
          0.4950597119939998,
          0.22486504236773108,
          0.7529129438891541,
          0.23201323816632236,
          0.9053744902103413,
          0.542795511023813,
          0.5075355287403258,
          0.3866287400518348,
          0.8741053558523413,
          0.9953746203999989,
          0.6709886831365968,
          0.8478361423637356,
          0.21727760692326115,
          0.7834503160054718,
          0.5225741911144963,
          0.30785808002060844,
          0.8626121387907464,
          0.021878587472828226,
          0.3132571615277814,
          0.269819703915101,
          0.047388947590950026,
          0.3783792139521778,
          0.6686715562815971,
          0.9340195896813317,
          0.24505316377281527,
          0.609341035884486,
          0.028512158125664766,
          0.5219175887400826,
          0.2789385116867189,
          0.5640668254847896,
          0.03848604584262927,
          0.4471931557922294,
          0.7157733382789738,
          0.3488660370994199,
          0.5178238120474549,
          0.5660049109441244,
          0.6759687616692475,
          0.3440802895222872,
          0.19633304738425505,
          0.068427853103733,
          0.961558562423373,
          0.19847993488194093,
          0.2069189471745908,
          0.8132554715264844,
          0.8888914058334912,
          0.676830901973747,
          0.9067289015561729,
          0.4623345767488364,
          0.3746023117702302,
          0.46009272979736426,
          0.007237548420919282,
          0.517787117725699,
          0.03732628959923279,
          0.5761660217671997,
          0.7579811277873082,
          0.3872441509651735,
          0.5010283266044836,
          0.15185669982217342,
          0.043185938195618445,
          0.869124913839304,
          0.34644360847665445,
          0.007513324253049514,
          0.08127399613059183,
          0.9993716910228512
         ],
         "yaxis": "y15"
        },
        {
         "histfunc": "count",
         "histnorm": "",
         "marker": {
          "color": "rgba(128, 0, 128, 1.0)",
          "line": {
           "color": "#4D5663",
           "width": 1.3
          }
         },
         "name": "D",
         "nbinsx": 10,
         "opacity": 0.8,
         "orientation": "v",
         "type": "histogram",
         "x": [
          0.8987576252586102,
          0.797330843062111,
          0.8485281028996704,
          0.1914572130001988,
          0.4700639826911347,
          0.4128448382530481,
          0.04723112194010781,
          0.5208689706044635,
          0.6943142463118016,
          0.3415631885250485,
          0.9400510982689896,
          0.820931171044754,
          0.4357377238848412,
          0.6121151708213703,
          0.46951103442410125,
          0.9806144922153679,
          0.5267754958529278,
          0.7891144536725998,
          0.24101122496678706,
          0.7924699295349183,
          0.5804521775615598,
          0.9070895427876049,
          0.68916203570464,
          0.5987235244597106,
          0.35312084931643617,
          0.028321011269562546,
          0.7525711258052912,
          0.5095635317563492,
          0.04397419626567067,
          0.32546219463798554,
          0.3331879938230772,
          0.9841521192289913,
          0.5583464342959563,
          0.19279780398966107,
          0.8819424677298963,
          0.019332976704915406,
          0.4950597119939998,
          0.22486504236773108,
          0.7529129438891541,
          0.23201323816632236,
          0.9053744902103413,
          0.542795511023813,
          0.5075355287403258,
          0.3866287400518348,
          0.8741053558523413,
          0.9953746203999989,
          0.6709886831365968,
          0.8478361423637356,
          0.21727760692326115,
          0.7834503160054718,
          0.5225741911144963,
          0.30785808002060844,
          0.8626121387907464,
          0.021878587472828226,
          0.3132571615277814,
          0.269819703915101,
          0.047388947590950026,
          0.3783792139521778,
          0.6686715562815971,
          0.9340195896813317,
          0.24505316377281527,
          0.609341035884486,
          0.028512158125664766,
          0.5219175887400826,
          0.2789385116867189,
          0.5640668254847896,
          0.03848604584262927,
          0.4471931557922294,
          0.7157733382789738,
          0.3488660370994199,
          0.5178238120474549,
          0.5660049109441244,
          0.6759687616692475,
          0.3440802895222872,
          0.19633304738425505,
          0.068427853103733,
          0.961558562423373,
          0.19847993488194093,
          0.2069189471745908,
          0.8132554715264844,
          0.8888914058334912,
          0.676830901973747,
          0.9067289015561729,
          0.4623345767488364,
          0.3746023117702302,
          0.46009272979736426,
          0.007237548420919282,
          0.517787117725699,
          0.03732628959923279,
          0.5761660217671997,
          0.7579811277873082,
          0.3872441509651735,
          0.5010283266044836,
          0.15185669982217342,
          0.043185938195618445,
          0.869124913839304,
          0.34644360847665445,
          0.007513324253049514,
          0.08127399613059183,
          0.9993716910228512
         ],
         "xaxis": "x16",
         "yaxis": "y16"
        }
       ],
       "layout": {
        "bargap": 0.02,
        "legend": {
         "bgcolor": "#F5F6F9",
         "font": {
          "color": "#4D5663"
         }
        },
        "paper_bgcolor": "#F5F6F9",
        "plot_bgcolor": "#F5F6F9",
        "showlegend": false,
        "template": {
         "data": {
          "bar": [
           {
            "error_x": {
             "color": "#2a3f5f"
            },
            "error_y": {
             "color": "#2a3f5f"
            },
            "marker": {
             "line": {
              "color": "#E5ECF6",
              "width": 0.5
             },
             "pattern": {
              "fillmode": "overlay",
              "size": 10,
              "solidity": 0.2
             }
            },
            "type": "bar"
           }
          ],
          "barpolar": [
           {
            "marker": {
             "line": {
              "color": "#E5ECF6",
              "width": 0.5
             },
             "pattern": {
              "fillmode": "overlay",
              "size": 10,
              "solidity": 0.2
             }
            },
            "type": "barpolar"
           }
          ],
          "carpet": [
           {
            "aaxis": {
             "endlinecolor": "#2a3f5f",
             "gridcolor": "white",
             "linecolor": "white",
             "minorgridcolor": "white",
             "startlinecolor": "#2a3f5f"
            },
            "baxis": {
             "endlinecolor": "#2a3f5f",
             "gridcolor": "white",
             "linecolor": "white",
             "minorgridcolor": "white",
             "startlinecolor": "#2a3f5f"
            },
            "type": "carpet"
           }
          ],
          "choropleth": [
           {
            "colorbar": {
             "outlinewidth": 0,
             "ticks": ""
            },
            "type": "choropleth"
           }
          ],
          "contour": [
           {
            "colorbar": {
             "outlinewidth": 0,
             "ticks": ""
            },
            "colorscale": [
             [
              0,
              "#0d0887"
             ],
             [
              0.1111111111111111,
              "#46039f"
             ],
             [
              0.2222222222222222,
              "#7201a8"
             ],
             [
              0.3333333333333333,
              "#9c179e"
             ],
             [
              0.4444444444444444,
              "#bd3786"
             ],
             [
              0.5555555555555556,
              "#d8576b"
             ],
             [
              0.6666666666666666,
              "#ed7953"
             ],
             [
              0.7777777777777778,
              "#fb9f3a"
             ],
             [
              0.8888888888888888,
              "#fdca26"
             ],
             [
              1,
              "#f0f921"
             ]
            ],
            "type": "contour"
           }
          ],
          "contourcarpet": [
           {
            "colorbar": {
             "outlinewidth": 0,
             "ticks": ""
            },
            "type": "contourcarpet"
           }
          ],
          "heatmap": [
           {
            "colorbar": {
             "outlinewidth": 0,
             "ticks": ""
            },
            "colorscale": [
             [
              0,
              "#0d0887"
             ],
             [
              0.1111111111111111,
              "#46039f"
             ],
             [
              0.2222222222222222,
              "#7201a8"
             ],
             [
              0.3333333333333333,
              "#9c179e"
             ],
             [
              0.4444444444444444,
              "#bd3786"
             ],
             [
              0.5555555555555556,
              "#d8576b"
             ],
             [
              0.6666666666666666,
              "#ed7953"
             ],
             [
              0.7777777777777778,
              "#fb9f3a"
             ],
             [
              0.8888888888888888,
              "#fdca26"
             ],
             [
              1,
              "#f0f921"
             ]
            ],
            "type": "heatmap"
           }
          ],
          "heatmapgl": [
           {
            "colorbar": {
             "outlinewidth": 0,
             "ticks": ""
            },
            "colorscale": [
             [
              0,
              "#0d0887"
             ],
             [
              0.1111111111111111,
              "#46039f"
             ],
             [
              0.2222222222222222,
              "#7201a8"
             ],
             [
              0.3333333333333333,
              "#9c179e"
             ],
             [
              0.4444444444444444,
              "#bd3786"
             ],
             [
              0.5555555555555556,
              "#d8576b"
             ],
             [
              0.6666666666666666,
              "#ed7953"
             ],
             [
              0.7777777777777778,
              "#fb9f3a"
             ],
             [
              0.8888888888888888,
              "#fdca26"
             ],
             [
              1,
              "#f0f921"
             ]
            ],
            "type": "heatmapgl"
           }
          ],
          "histogram": [
           {
            "marker": {
             "pattern": {
              "fillmode": "overlay",
              "size": 10,
              "solidity": 0.2
             }
            },
            "type": "histogram"
           }
          ],
          "histogram2d": [
           {
            "colorbar": {
             "outlinewidth": 0,
             "ticks": ""
            },
            "colorscale": [
             [
              0,
              "#0d0887"
             ],
             [
              0.1111111111111111,
              "#46039f"
             ],
             [
              0.2222222222222222,
              "#7201a8"
             ],
             [
              0.3333333333333333,
              "#9c179e"
             ],
             [
              0.4444444444444444,
              "#bd3786"
             ],
             [
              0.5555555555555556,
              "#d8576b"
             ],
             [
              0.6666666666666666,
              "#ed7953"
             ],
             [
              0.7777777777777778,
              "#fb9f3a"
             ],
             [
              0.8888888888888888,
              "#fdca26"
             ],
             [
              1,
              "#f0f921"
             ]
            ],
            "type": "histogram2d"
           }
          ],
          "histogram2dcontour": [
           {
            "colorbar": {
             "outlinewidth": 0,
             "ticks": ""
            },
            "colorscale": [
             [
              0,
              "#0d0887"
             ],
             [
              0.1111111111111111,
              "#46039f"
             ],
             [
              0.2222222222222222,
              "#7201a8"
             ],
             [
              0.3333333333333333,
              "#9c179e"
             ],
             [
              0.4444444444444444,
              "#bd3786"
             ],
             [
              0.5555555555555556,
              "#d8576b"
             ],
             [
              0.6666666666666666,
              "#ed7953"
             ],
             [
              0.7777777777777778,
              "#fb9f3a"
             ],
             [
              0.8888888888888888,
              "#fdca26"
             ],
             [
              1,
              "#f0f921"
             ]
            ],
            "type": "histogram2dcontour"
           }
          ],
          "mesh3d": [
           {
            "colorbar": {
             "outlinewidth": 0,
             "ticks": ""
            },
            "type": "mesh3d"
           }
          ],
          "parcoords": [
           {
            "line": {
             "colorbar": {
              "outlinewidth": 0,
              "ticks": ""
             }
            },
            "type": "parcoords"
           }
          ],
          "pie": [
           {
            "automargin": true,
            "type": "pie"
           }
          ],
          "scatter": [
           {
            "marker": {
             "colorbar": {
              "outlinewidth": 0,
              "ticks": ""
             }
            },
            "type": "scatter"
           }
          ],
          "scatter3d": [
           {
            "line": {
             "colorbar": {
              "outlinewidth": 0,
              "ticks": ""
             }
            },
            "marker": {
             "colorbar": {
              "outlinewidth": 0,
              "ticks": ""
             }
            },
            "type": "scatter3d"
           }
          ],
          "scattercarpet": [
           {
            "marker": {
             "colorbar": {
              "outlinewidth": 0,
              "ticks": ""
             }
            },
            "type": "scattercarpet"
           }
          ],
          "scattergeo": [
           {
            "marker": {
             "colorbar": {
              "outlinewidth": 0,
              "ticks": ""
             }
            },
            "type": "scattergeo"
           }
          ],
          "scattergl": [
           {
            "marker": {
             "colorbar": {
              "outlinewidth": 0,
              "ticks": ""
             }
            },
            "type": "scattergl"
           }
          ],
          "scattermapbox": [
           {
            "marker": {
             "colorbar": {
              "outlinewidth": 0,
              "ticks": ""
             }
            },
            "type": "scattermapbox"
           }
          ],
          "scatterpolar": [
           {
            "marker": {
             "colorbar": {
              "outlinewidth": 0,
              "ticks": ""
             }
            },
            "type": "scatterpolar"
           }
          ],
          "scatterpolargl": [
           {
            "marker": {
             "colorbar": {
              "outlinewidth": 0,
              "ticks": ""
             }
            },
            "type": "scatterpolargl"
           }
          ],
          "scatterternary": [
           {
            "marker": {
             "colorbar": {
              "outlinewidth": 0,
              "ticks": ""
             }
            },
            "type": "scatterternary"
           }
          ],
          "surface": [
           {
            "colorbar": {
             "outlinewidth": 0,
             "ticks": ""
            },
            "colorscale": [
             [
              0,
              "#0d0887"
             ],
             [
              0.1111111111111111,
              "#46039f"
             ],
             [
              0.2222222222222222,
              "#7201a8"
             ],
             [
              0.3333333333333333,
              "#9c179e"
             ],
             [
              0.4444444444444444,
              "#bd3786"
             ],
             [
              0.5555555555555556,
              "#d8576b"
             ],
             [
              0.6666666666666666,
              "#ed7953"
             ],
             [
              0.7777777777777778,
              "#fb9f3a"
             ],
             [
              0.8888888888888888,
              "#fdca26"
             ],
             [
              1,
              "#f0f921"
             ]
            ],
            "type": "surface"
           }
          ],
          "table": [
           {
            "cells": {
             "fill": {
              "color": "#EBF0F8"
             },
             "line": {
              "color": "white"
             }
            },
            "header": {
             "fill": {
              "color": "#C8D4E3"
             },
             "line": {
              "color": "white"
             }
            },
            "type": "table"
           }
          ]
         },
         "layout": {
          "annotationdefaults": {
           "arrowcolor": "#2a3f5f",
           "arrowhead": 0,
           "arrowwidth": 1
          },
          "autotypenumbers": "strict",
          "coloraxis": {
           "colorbar": {
            "outlinewidth": 0,
            "ticks": ""
           }
          },
          "colorscale": {
           "diverging": [
            [
             0,
             "#8e0152"
            ],
            [
             0.1,
             "#c51b7d"
            ],
            [
             0.2,
             "#de77ae"
            ],
            [
             0.3,
             "#f1b6da"
            ],
            [
             0.4,
             "#fde0ef"
            ],
            [
             0.5,
             "#f7f7f7"
            ],
            [
             0.6,
             "#e6f5d0"
            ],
            [
             0.7,
             "#b8e186"
            ],
            [
             0.8,
             "#7fbc41"
            ],
            [
             0.9,
             "#4d9221"
            ],
            [
             1,
             "#276419"
            ]
           ],
           "sequential": [
            [
             0,
             "#0d0887"
            ],
            [
             0.1111111111111111,
             "#46039f"
            ],
            [
             0.2222222222222222,
             "#7201a8"
            ],
            [
             0.3333333333333333,
             "#9c179e"
            ],
            [
             0.4444444444444444,
             "#bd3786"
            ],
            [
             0.5555555555555556,
             "#d8576b"
            ],
            [
             0.6666666666666666,
             "#ed7953"
            ],
            [
             0.7777777777777778,
             "#fb9f3a"
            ],
            [
             0.8888888888888888,
             "#fdca26"
            ],
            [
             1,
             "#f0f921"
            ]
           ],
           "sequentialminus": [
            [
             0,
             "#0d0887"
            ],
            [
             0.1111111111111111,
             "#46039f"
            ],
            [
             0.2222222222222222,
             "#7201a8"
            ],
            [
             0.3333333333333333,
             "#9c179e"
            ],
            [
             0.4444444444444444,
             "#bd3786"
            ],
            [
             0.5555555555555556,
             "#d8576b"
            ],
            [
             0.6666666666666666,
             "#ed7953"
            ],
            [
             0.7777777777777778,
             "#fb9f3a"
            ],
            [
             0.8888888888888888,
             "#fdca26"
            ],
            [
             1,
             "#f0f921"
            ]
           ]
          },
          "colorway": [
           "#636efa",
           "#EF553B",
           "#00cc96",
           "#ab63fa",
           "#FFA15A",
           "#19d3f3",
           "#FF6692",
           "#B6E880",
           "#FF97FF",
           "#FECB52"
          ],
          "font": {
           "color": "#2a3f5f"
          },
          "geo": {
           "bgcolor": "white",
           "lakecolor": "white",
           "landcolor": "#E5ECF6",
           "showlakes": true,
           "showland": true,
           "subunitcolor": "white"
          },
          "hoverlabel": {
           "align": "left"
          },
          "hovermode": "closest",
          "mapbox": {
           "style": "light"
          },
          "paper_bgcolor": "white",
          "plot_bgcolor": "#E5ECF6",
          "polar": {
           "angularaxis": {
            "gridcolor": "white",
            "linecolor": "white",
            "ticks": ""
           },
           "bgcolor": "#E5ECF6",
           "radialaxis": {
            "gridcolor": "white",
            "linecolor": "white",
            "ticks": ""
           }
          },
          "scene": {
           "xaxis": {
            "backgroundcolor": "#E5ECF6",
            "gridcolor": "white",
            "gridwidth": 2,
            "linecolor": "white",
            "showbackground": true,
            "ticks": "",
            "zerolinecolor": "white"
           },
           "yaxis": {
            "backgroundcolor": "#E5ECF6",
            "gridcolor": "white",
            "gridwidth": 2,
            "linecolor": "white",
            "showbackground": true,
            "ticks": "",
            "zerolinecolor": "white"
           },
           "zaxis": {
            "backgroundcolor": "#E5ECF6",
            "gridcolor": "white",
            "gridwidth": 2,
            "linecolor": "white",
            "showbackground": true,
            "ticks": "",
            "zerolinecolor": "white"
           }
          },
          "shapedefaults": {
           "line": {
            "color": "#2a3f5f"
           }
          },
          "ternary": {
           "aaxis": {
            "gridcolor": "white",
            "linecolor": "white",
            "ticks": ""
           },
           "baxis": {
            "gridcolor": "white",
            "linecolor": "white",
            "ticks": ""
           },
           "bgcolor": "#E5ECF6",
           "caxis": {
            "gridcolor": "white",
            "linecolor": "white",
            "ticks": ""
           }
          },
          "title": {
           "x": 0.05
          },
          "xaxis": {
           "automargin": true,
           "gridcolor": "white",
           "linecolor": "white",
           "ticks": "",
           "title": {
            "standoff": 15
           },
           "zerolinecolor": "white",
           "zerolinewidth": 2
          },
          "yaxis": {
           "automargin": true,
           "gridcolor": "white",
           "linecolor": "white",
           "ticks": "",
           "title": {
            "standoff": 15
           },
           "zerolinecolor": "white",
           "zerolinewidth": 2
          }
         }
        },
        "title": {
         "font": {
          "color": "#4D5663"
         }
        },
        "xaxis": {
         "anchor": "y",
         "domain": [
          0,
          0.2125
         ],
         "gridcolor": "#E1E5ED",
         "showgrid": false,
         "tickfont": {
          "color": "#4D5663"
         },
         "title": {
          "font": {
           "color": "#4D5663"
          },
          "text": ""
         },
         "zerolinecolor": "#E1E5ED"
        },
        "xaxis10": {
         "anchor": "y10",
         "domain": [
          0.2625,
          0.475
         ],
         "gridcolor": "#E1E5ED",
         "showgrid": false,
         "tickfont": {
          "color": "#4D5663"
         },
         "title": {
          "font": {
           "color": "#4D5663"
          },
          "text": ""
         },
         "zerolinecolor": "#E1E5ED"
        },
        "xaxis11": {
         "anchor": "y11",
         "domain": [
          0.525,
          0.7375
         ],
         "gridcolor": "#E1E5ED",
         "showgrid": false,
         "tickfont": {
          "color": "#4D5663"
         },
         "title": {
          "font": {
           "color": "#4D5663"
          },
          "text": ""
         },
         "zerolinecolor": "#E1E5ED"
        },
        "xaxis12": {
         "anchor": "y12",
         "domain": [
          0.7875,
          1
         ],
         "gridcolor": "#E1E5ED",
         "showgrid": false,
         "tickfont": {
          "color": "#4D5663"
         },
         "title": {
          "font": {
           "color": "#4D5663"
          },
          "text": ""
         },
         "zerolinecolor": "#E1E5ED"
        },
        "xaxis13": {
         "anchor": "y13",
         "domain": [
          0,
          0.2125
         ],
         "gridcolor": "#E1E5ED",
         "showgrid": false,
         "tickfont": {
          "color": "#4D5663"
         },
         "title": {
          "font": {
           "color": "#4D5663"
          },
          "text": ""
         },
         "zerolinecolor": "#E1E5ED"
        },
        "xaxis14": {
         "anchor": "y14",
         "domain": [
          0.2625,
          0.475
         ],
         "gridcolor": "#E1E5ED",
         "showgrid": false,
         "tickfont": {
          "color": "#4D5663"
         },
         "title": {
          "font": {
           "color": "#4D5663"
          },
          "text": ""
         },
         "zerolinecolor": "#E1E5ED"
        },
        "xaxis15": {
         "anchor": "y15",
         "domain": [
          0.525,
          0.7375
         ],
         "gridcolor": "#E1E5ED",
         "showgrid": false,
         "tickfont": {
          "color": "#4D5663"
         },
         "title": {
          "font": {
           "color": "#4D5663"
          },
          "text": ""
         },
         "zerolinecolor": "#E1E5ED"
        },
        "xaxis16": {
         "anchor": "y16",
         "domain": [
          0.7875,
          1
         ],
         "gridcolor": "#E1E5ED",
         "showgrid": false,
         "tickfont": {
          "color": "#4D5663"
         },
         "title": {
          "font": {
           "color": "#4D5663"
          },
          "text": ""
         },
         "zerolinecolor": "#E1E5ED"
        },
        "xaxis2": {
         "anchor": "y2",
         "domain": [
          0.2625,
          0.475
         ],
         "gridcolor": "#E1E5ED",
         "showgrid": false,
         "tickfont": {
          "color": "#4D5663"
         },
         "title": {
          "font": {
           "color": "#4D5663"
          },
          "text": ""
         },
         "zerolinecolor": "#E1E5ED"
        },
        "xaxis3": {
         "anchor": "y3",
         "domain": [
          0.525,
          0.7375
         ],
         "gridcolor": "#E1E5ED",
         "showgrid": false,
         "tickfont": {
          "color": "#4D5663"
         },
         "title": {
          "font": {
           "color": "#4D5663"
          },
          "text": ""
         },
         "zerolinecolor": "#E1E5ED"
        },
        "xaxis4": {
         "anchor": "y4",
         "domain": [
          0.7875,
          1
         ],
         "gridcolor": "#E1E5ED",
         "showgrid": false,
         "tickfont": {
          "color": "#4D5663"
         },
         "title": {
          "font": {
           "color": "#4D5663"
          },
          "text": ""
         },
         "zerolinecolor": "#E1E5ED"
        },
        "xaxis5": {
         "anchor": "y5",
         "domain": [
          0,
          0.2125
         ],
         "gridcolor": "#E1E5ED",
         "showgrid": false,
         "tickfont": {
          "color": "#4D5663"
         },
         "title": {
          "font": {
           "color": "#4D5663"
          },
          "text": ""
         },
         "zerolinecolor": "#E1E5ED"
        },
        "xaxis6": {
         "anchor": "y6",
         "domain": [
          0.2625,
          0.475
         ],
         "gridcolor": "#E1E5ED",
         "showgrid": false,
         "tickfont": {
          "color": "#4D5663"
         },
         "title": {
          "font": {
           "color": "#4D5663"
          },
          "text": ""
         },
         "zerolinecolor": "#E1E5ED"
        },
        "xaxis7": {
         "anchor": "y7",
         "domain": [
          0.525,
          0.7375
         ],
         "gridcolor": "#E1E5ED",
         "showgrid": false,
         "tickfont": {
          "color": "#4D5663"
         },
         "title": {
          "font": {
           "color": "#4D5663"
          },
          "text": ""
         },
         "zerolinecolor": "#E1E5ED"
        },
        "xaxis8": {
         "anchor": "y8",
         "domain": [
          0.7875,
          1
         ],
         "gridcolor": "#E1E5ED",
         "showgrid": false,
         "tickfont": {
          "color": "#4D5663"
         },
         "title": {
          "font": {
           "color": "#4D5663"
          },
          "text": ""
         },
         "zerolinecolor": "#E1E5ED"
        },
        "xaxis9": {
         "anchor": "y9",
         "domain": [
          0,
          0.2125
         ],
         "gridcolor": "#E1E5ED",
         "showgrid": false,
         "tickfont": {
          "color": "#4D5663"
         },
         "title": {
          "font": {
           "color": "#4D5663"
          },
          "text": ""
         },
         "zerolinecolor": "#E1E5ED"
        },
        "yaxis": {
         "anchor": "x",
         "domain": [
          0.8025,
          1
         ],
         "gridcolor": "#E1E5ED",
         "showgrid": false,
         "tickfont": {
          "color": "#4D5663"
         },
         "title": {
          "font": {
           "color": "#4D5663"
          },
          "text": ""
         },
         "zerolinecolor": "#E1E5ED"
        },
        "yaxis10": {
         "anchor": "x10",
         "domain": [
          0.2675,
          0.465
         ],
         "gridcolor": "#E1E5ED",
         "showgrid": false,
         "tickfont": {
          "color": "#4D5663"
         },
         "title": {
          "font": {
           "color": "#4D5663"
          },
          "text": ""
         },
         "zerolinecolor": "#E1E5ED"
        },
        "yaxis11": {
         "anchor": "x11",
         "domain": [
          0.2675,
          0.465
         ],
         "gridcolor": "#E1E5ED",
         "showgrid": false,
         "tickfont": {
          "color": "#4D5663"
         },
         "title": {
          "font": {
           "color": "#4D5663"
          },
          "text": ""
         },
         "zerolinecolor": "#E1E5ED"
        },
        "yaxis12": {
         "anchor": "x12",
         "domain": [
          0.2675,
          0.465
         ],
         "gridcolor": "#E1E5ED",
         "showgrid": false,
         "tickfont": {
          "color": "#4D5663"
         },
         "title": {
          "font": {
           "color": "#4D5663"
          },
          "text": ""
         },
         "zerolinecolor": "#E1E5ED"
        },
        "yaxis13": {
         "anchor": "x13",
         "domain": [
          0,
          0.1975
         ],
         "gridcolor": "#E1E5ED",
         "showgrid": false,
         "tickfont": {
          "color": "#4D5663"
         },
         "title": {
          "font": {
           "color": "#4D5663"
          },
          "text": ""
         },
         "zerolinecolor": "#E1E5ED"
        },
        "yaxis14": {
         "anchor": "x14",
         "domain": [
          0,
          0.1975
         ],
         "gridcolor": "#E1E5ED",
         "showgrid": false,
         "tickfont": {
          "color": "#4D5663"
         },
         "title": {
          "font": {
           "color": "#4D5663"
          },
          "text": ""
         },
         "zerolinecolor": "#E1E5ED"
        },
        "yaxis15": {
         "anchor": "x15",
         "domain": [
          0,
          0.1975
         ],
         "gridcolor": "#E1E5ED",
         "showgrid": false,
         "tickfont": {
          "color": "#4D5663"
         },
         "title": {
          "font": {
           "color": "#4D5663"
          },
          "text": ""
         },
         "zerolinecolor": "#E1E5ED"
        },
        "yaxis16": {
         "anchor": "x16",
         "domain": [
          0,
          0.1975
         ],
         "gridcolor": "#E1E5ED",
         "showgrid": false,
         "tickfont": {
          "color": "#4D5663"
         },
         "title": {
          "font": {
           "color": "#4D5663"
          },
          "text": ""
         },
         "zerolinecolor": "#E1E5ED"
        },
        "yaxis2": {
         "anchor": "x2",
         "domain": [
          0.8025,
          1
         ],
         "gridcolor": "#E1E5ED",
         "showgrid": false,
         "tickfont": {
          "color": "#4D5663"
         },
         "title": {
          "font": {
           "color": "#4D5663"
          },
          "text": ""
         },
         "zerolinecolor": "#E1E5ED"
        },
        "yaxis3": {
         "anchor": "x3",
         "domain": [
          0.8025,
          1
         ],
         "gridcolor": "#E1E5ED",
         "showgrid": false,
         "tickfont": {
          "color": "#4D5663"
         },
         "title": {
          "font": {
           "color": "#4D5663"
          },
          "text": ""
         },
         "zerolinecolor": "#E1E5ED"
        },
        "yaxis4": {
         "anchor": "x4",
         "domain": [
          0.8025,
          1
         ],
         "gridcolor": "#E1E5ED",
         "showgrid": false,
         "tickfont": {
          "color": "#4D5663"
         },
         "title": {
          "font": {
           "color": "#4D5663"
          },
          "text": ""
         },
         "zerolinecolor": "#E1E5ED"
        },
        "yaxis5": {
         "anchor": "x5",
         "domain": [
          0.535,
          0.7325
         ],
         "gridcolor": "#E1E5ED",
         "showgrid": false,
         "tickfont": {
          "color": "#4D5663"
         },
         "title": {
          "font": {
           "color": "#4D5663"
          },
          "text": ""
         },
         "zerolinecolor": "#E1E5ED"
        },
        "yaxis6": {
         "anchor": "x6",
         "domain": [
          0.535,
          0.7325
         ],
         "gridcolor": "#E1E5ED",
         "showgrid": false,
         "tickfont": {
          "color": "#4D5663"
         },
         "title": {
          "font": {
           "color": "#4D5663"
          },
          "text": ""
         },
         "zerolinecolor": "#E1E5ED"
        },
        "yaxis7": {
         "anchor": "x7",
         "domain": [
          0.535,
          0.7325
         ],
         "gridcolor": "#E1E5ED",
         "showgrid": false,
         "tickfont": {
          "color": "#4D5663"
         },
         "title": {
          "font": {
           "color": "#4D5663"
          },
          "text": ""
         },
         "zerolinecolor": "#E1E5ED"
        },
        "yaxis8": {
         "anchor": "x8",
         "domain": [
          0.535,
          0.7325
         ],
         "gridcolor": "#E1E5ED",
         "showgrid": false,
         "tickfont": {
          "color": "#4D5663"
         },
         "title": {
          "font": {
           "color": "#4D5663"
          },
          "text": ""
         },
         "zerolinecolor": "#E1E5ED"
        },
        "yaxis9": {
         "anchor": "x9",
         "domain": [
          0.2675,
          0.465
         ],
         "gridcolor": "#E1E5ED",
         "showgrid": false,
         "tickfont": {
          "color": "#4D5663"
         },
         "title": {
          "font": {
           "color": "#4D5663"
          },
          "text": ""
         },
         "zerolinecolor": "#E1E5ED"
        }
       }
      },
      "text/html": [
       "<div>                            <div id=\"7ac24fd5-aa11-4a41-9d8d-257a2fc711a3\" class=\"plotly-graph-div\" style=\"height:525px; width:100%;\"></div>            <script type=\"text/javascript\">                require([\"plotly\"], function(Plotly) {                    window.PLOTLYENV=window.PLOTLYENV || {};\n",
       "                    window.PLOTLYENV.BASE_URL='https://plot.ly';                                    if (document.getElementById(\"7ac24fd5-aa11-4a41-9d8d-257a2fc711a3\")) {                    Plotly.newPlot(                        \"7ac24fd5-aa11-4a41-9d8d-257a2fc711a3\",                        [{\"histfunc\":\"count\",\"histnorm\":\"\",\"marker\":{\"color\":\"rgba(255, 153, 51, 1.0)\",\"line\":{\"color\":\"#4D5663\",\"width\":1.3}},\"name\":\"A\",\"nbinsx\":10,\"opacity\":0.8,\"orientation\":\"v\",\"x\":[0.7619660073950553,0.3831993421094785,0.5269321193818782,0.8275492317391815,0.8892593486573043,0.3193034931601627,0.28895444431277995,0.7404201733798286,0.12262001182879045,0.4493067356839209,0.03268762124032354,0.5934371670171862,0.00775924351526569,0.7455915765369152,0.4502326921792916,0.3916702955561916,0.9499649212210532,0.40318591556191474,0.40430371134501164,0.9295708927415494,0.26401447744374207,0.04511005253584999,0.19567228276849713,0.6461452322972179,0.4150268649397657,0.725922808467533,0.24440128975011677,0.23705121473054847,0.3908586565883515,0.06321951994661645,0.49750978787243083,0.21896559130674031,0.15366305526772783,0.006900916720903871,0.8125625292473938,0.4572756047229609,0.6709495356717864,0.04816046679203534,0.18762944263268255,0.7481366533880054,0.872440559716538,0.6990539539189577,0.4008588265264157,0.8876162116069556,0.7720236084810732,0.7162082122874913,0.3407175898186231,0.2895501156831318,0.5233988313773491,0.13188177705744175,0.495784431850116,0.03921293920164437,0.36309279113436466,0.19260620018151076,0.4825063131163069,0.18293023655992846,0.5081102519643054,0.40834269081324326,0.7858579803904728,0.11075045416252305,0.2285418382143266,0.9619504700480105,0.1365265519797081,0.8078347791029732,0.487743654722274,0.25177027627988124,0.3967257162703608,0.505524977282712,0.3661074008725529,0.418861514694419,0.17626473882139104,0.6919317185694058,0.5439240513207385,0.4481649951924652,0.9132768312770118,0.921791909753098,0.642844443031545,0.5041098343996006,0.8661579762231469,0.06146029125465091,0.15800663822843508,0.051203138710208984,0.8073206502672432,0.9910959951669714,0.876589487571141,0.852813647221526,0.16759692366974466,0.8265931069909461,0.5561296050596473,0.22508091373253858,0.6401703261599638,0.30919582237103205,0.5431169736376333,0.7910246102390857,0.9237791277470113,0.07302968408134924,0.15201917738506276,0.983133553271018,0.19306177479954023,0.9917275316090092],\"xaxis\":\"x\",\"yaxis\":\"y\",\"type\":\"histogram\"},{\"line\":{\"color\":\"rgba(128, 128, 128, 1.0)\",\"dash\":\"solid\",\"shape\":\"linear\",\"width\":1.3},\"marker\":{\"size\":2,\"symbol\":\"circle\"},\"mode\":\"markers\",\"name\":\"A\",\"text\":\"\",\"x\":[0.7339598796376222,0.7501383104927066,0.13016208547293562,0.11200978376406934,0.22651980826246132,0.8264590269508255,0.22443867141770923,0.2352718033072454,0.0024846188504629163,0.5798802072866126,0.5738649740520214,0.4301924070105716,0.4876251960610537,0.2734464900525172,0.760568718474913,0.6260385346813047,0.029084943492812654,0.06253555693990653,0.6655768154121865,0.09049834922935474,0.1731333166262019,0.6743798741502727,0.6500480317357354,0.0783011719345924,0.5102317647824509,0.46150314370866274,0.9570694786916037,0.8980794966280198,0.985392952250985,0.8010104762612996,0.1359532149661019,0.6982104352811658,0.9496239355793838,0.6289856730494802,0.3343850596961273,0.4705462267632926,0.5358113248142444,0.54994988375767,0.10619750125105731,0.34053025900176015,0.512725288760018,0.4047347225539547,0.19781959875146227,0.8067271659399001,0.09196611713559333,0.3774904205271683,0.0674248309139931,0.2750998557215809,0.7272520586012536,0.6627921337777752,0.21547850679365865,0.46105159730223977,0.3948132978906208,0.42178085249769126,0.4081734031335238,0.09945735841702441,0.22771194746019074,0.8434444345959553,0.6946148523209147,0.9023596842312003,0.4638505188507209,0.6281799224310242,0.5805488757691596,0.0012414559796589675,0.8798845815250357,0.11438268742010627,0.809028744336986,0.13030019355695355,0.35080744290592747,0.8842954224667885,0.6691565542958794,0.3896463917450411,0.4366991083682191,0.552245182285504,0.3257393992187827,0.5905741655913366,0.016704330974247616,0.49588116502078383,0.26474578645560176,0.2751859402483783,0.7614822740631733,0.6645083201236293,0.6855306971352015,0.21544745676820143,0.07117996063176835,0.114639783637555,0.050123194144784944,0.2904254227759736,0.34776127684022573,0.7344999685663639,0.25288744823039233,0.5970658246487074,0.5006956562340436,0.6027237230222172,0.23026493515505964,0.4362682166721016,0.487018856912538,0.8615638279257543,0.32508203394432833,0.09546869675423375],\"xaxis\":\"x2\",\"y\":[0.7619660073950553,0.3831993421094785,0.5269321193818782,0.8275492317391815,0.8892593486573043,0.3193034931601627,0.28895444431277995,0.7404201733798286,0.12262001182879045,0.4493067356839209,0.03268762124032354,0.5934371670171862,0.00775924351526569,0.7455915765369152,0.4502326921792916,0.3916702955561916,0.9499649212210532,0.40318591556191474,0.40430371134501164,0.9295708927415494,0.26401447744374207,0.04511005253584999,0.19567228276849713,0.6461452322972179,0.4150268649397657,0.725922808467533,0.24440128975011677,0.23705121473054847,0.3908586565883515,0.06321951994661645,0.49750978787243083,0.21896559130674031,0.15366305526772783,0.006900916720903871,0.8125625292473938,0.4572756047229609,0.6709495356717864,0.04816046679203534,0.18762944263268255,0.7481366533880054,0.872440559716538,0.6990539539189577,0.4008588265264157,0.8876162116069556,0.7720236084810732,0.7162082122874913,0.3407175898186231,0.2895501156831318,0.5233988313773491,0.13188177705744175,0.495784431850116,0.03921293920164437,0.36309279113436466,0.19260620018151076,0.4825063131163069,0.18293023655992846,0.5081102519643054,0.40834269081324326,0.7858579803904728,0.11075045416252305,0.2285418382143266,0.9619504700480105,0.1365265519797081,0.8078347791029732,0.487743654722274,0.25177027627988124,0.3967257162703608,0.505524977282712,0.3661074008725529,0.418861514694419,0.17626473882139104,0.6919317185694058,0.5439240513207385,0.4481649951924652,0.9132768312770118,0.921791909753098,0.642844443031545,0.5041098343996006,0.8661579762231469,0.06146029125465091,0.15800663822843508,0.051203138710208984,0.8073206502672432,0.9910959951669714,0.876589487571141,0.852813647221526,0.16759692366974466,0.8265931069909461,0.5561296050596473,0.22508091373253858,0.6401703261599638,0.30919582237103205,0.5431169736376333,0.7910246102390857,0.9237791277470113,0.07302968408134924,0.15201917738506276,0.983133553271018,0.19306177479954023,0.9917275316090092],\"yaxis\":\"y2\",\"type\":\"scatter\"},{\"line\":{\"color\":\"rgba(128, 128, 128, 1.0)\",\"dash\":\"solid\",\"shape\":\"linear\",\"width\":1.3},\"marker\":{\"size\":2,\"symbol\":\"circle\"},\"mode\":\"markers\",\"name\":\"A\",\"text\":\"\",\"x\":[0.48994178486763973,0.4392627309753028,0.9686290112192875,0.5048735866512276,0.1017291045298857,0.6318974257647305,0.08496157650071412,0.22747296407613338,0.6050595067412333,0.6788167886261672,0.7637196511883925,0.029536245436085906,0.5347771455820954,0.3761139604663193,0.35382619394351067,0.5522377987990843,0.7420617544122445,0.971097323898076,0.10992201194963669,0.92651698010797,0.12210694612390482,0.6948757457918311,0.5933637061680342,0.9723433760599861,0.6814523441849866,0.7537582885564225,0.35123020954937445,0.6885201158974867,0.028102920710133428,0.5255256451848452,0.611513915485729,0.04602526700654985,0.9460218483554266,0.6711550466617024,0.7235169153895089,0.012270753310094862,0.14490125323506786,0.7952467004090731,0.97900056160059,0.7314219319755022,0.8688858396326965,0.5584103745187854,0.8700940763841912,0.3804146053601756,0.7586474418626046,0.4336084956926466,0.9224550999239891,0.5151931763732133,0.7234713176195481,0.894495458699626,0.19908743183141808,0.5004700866647201,0.6710095911595803,0.7343374816685606,0.8318664516913109,0.053972947362364576,0.8826636961003679,0.6887250471610893,0.7253385521274806,0.1936409680930874,0.5411851199071863,0.9328699421039989,0.7675849478996553,0.5844852219933127,0.20937597662357466,0.600206594677098,0.6482292216178916,0.04459166963388661,0.15261877613839925,0.09290614080224391,0.8022302038519756,0.7342114346211318,0.9191233709602152,0.7675767614267679,0.47660015716340287,0.494936205550916,0.9121380671584027,0.8705220078440615,0.8785082253048494,0.6868630373868092,0.3790372735459786,0.09873907615087552,0.5951013781132024,0.7962133030802363,0.3561890303738343,0.5178452584857594,0.539500433477665,0.012082464832550821,0.3687719924765247,0.07122201760596714,0.5300975248213184,0.7046093414506819,0.5423280449311959,0.30889406555916843,0.6868465170394179,0.37798764713121924,0.542875266638495,0.7330716083799603,0.48827268008044755,0.04858502557079991],\"xaxis\":\"x3\",\"y\":[0.7619660073950553,0.3831993421094785,0.5269321193818782,0.8275492317391815,0.8892593486573043,0.3193034931601627,0.28895444431277995,0.7404201733798286,0.12262001182879045,0.4493067356839209,0.03268762124032354,0.5934371670171862,0.00775924351526569,0.7455915765369152,0.4502326921792916,0.3916702955561916,0.9499649212210532,0.40318591556191474,0.40430371134501164,0.9295708927415494,0.26401447744374207,0.04511005253584999,0.19567228276849713,0.6461452322972179,0.4150268649397657,0.725922808467533,0.24440128975011677,0.23705121473054847,0.3908586565883515,0.06321951994661645,0.49750978787243083,0.21896559130674031,0.15366305526772783,0.006900916720903871,0.8125625292473938,0.4572756047229609,0.6709495356717864,0.04816046679203534,0.18762944263268255,0.7481366533880054,0.872440559716538,0.6990539539189577,0.4008588265264157,0.8876162116069556,0.7720236084810732,0.7162082122874913,0.3407175898186231,0.2895501156831318,0.5233988313773491,0.13188177705744175,0.495784431850116,0.03921293920164437,0.36309279113436466,0.19260620018151076,0.4825063131163069,0.18293023655992846,0.5081102519643054,0.40834269081324326,0.7858579803904728,0.11075045416252305,0.2285418382143266,0.9619504700480105,0.1365265519797081,0.8078347791029732,0.487743654722274,0.25177027627988124,0.3967257162703608,0.505524977282712,0.3661074008725529,0.418861514694419,0.17626473882139104,0.6919317185694058,0.5439240513207385,0.4481649951924652,0.9132768312770118,0.921791909753098,0.642844443031545,0.5041098343996006,0.8661579762231469,0.06146029125465091,0.15800663822843508,0.051203138710208984,0.8073206502672432,0.9910959951669714,0.876589487571141,0.852813647221526,0.16759692366974466,0.8265931069909461,0.5561296050596473,0.22508091373253858,0.6401703261599638,0.30919582237103205,0.5431169736376333,0.7910246102390857,0.9237791277470113,0.07302968408134924,0.15201917738506276,0.983133553271018,0.19306177479954023,0.9917275316090092],\"yaxis\":\"y3\",\"type\":\"scatter\"},{\"line\":{\"color\":\"rgba(128, 128, 128, 1.0)\",\"dash\":\"solid\",\"shape\":\"linear\",\"width\":1.3},\"marker\":{\"size\":2,\"symbol\":\"circle\"},\"mode\":\"markers\",\"name\":\"A\",\"text\":\"\",\"x\":[0.8987576252586102,0.797330843062111,0.8485281028996704,0.1914572130001988,0.4700639826911347,0.4128448382530481,0.04723112194010781,0.5208689706044635,0.6943142463118016,0.3415631885250485,0.9400510982689896,0.820931171044754,0.4357377238848412,0.6121151708213703,0.46951103442410125,0.9806144922153679,0.5267754958529278,0.7891144536725998,0.24101122496678706,0.7924699295349183,0.5804521775615598,0.9070895427876049,0.68916203570464,0.5987235244597106,0.35312084931643617,0.028321011269562546,0.7525711258052912,0.5095635317563492,0.04397419626567067,0.32546219463798554,0.3331879938230772,0.9841521192289913,0.5583464342959563,0.19279780398966107,0.8819424677298963,0.019332976704915406,0.4950597119939998,0.22486504236773108,0.7529129438891541,0.23201323816632236,0.9053744902103413,0.542795511023813,0.5075355287403258,0.3866287400518348,0.8741053558523413,0.9953746203999989,0.6709886831365968,0.8478361423637356,0.21727760692326115,0.7834503160054718,0.5225741911144963,0.30785808002060844,0.8626121387907464,0.021878587472828226,0.3132571615277814,0.269819703915101,0.047388947590950026,0.3783792139521778,0.6686715562815971,0.9340195896813317,0.24505316377281527,0.609341035884486,0.028512158125664766,0.5219175887400826,0.2789385116867189,0.5640668254847896,0.03848604584262927,0.4471931557922294,0.7157733382789738,0.3488660370994199,0.5178238120474549,0.5660049109441244,0.6759687616692475,0.3440802895222872,0.19633304738425505,0.068427853103733,0.961558562423373,0.19847993488194093,0.2069189471745908,0.8132554715264844,0.8888914058334912,0.676830901973747,0.9067289015561729,0.4623345767488364,0.3746023117702302,0.46009272979736426,0.007237548420919282,0.517787117725699,0.03732628959923279,0.5761660217671997,0.7579811277873082,0.3872441509651735,0.5010283266044836,0.15185669982217342,0.043185938195618445,0.869124913839304,0.34644360847665445,0.007513324253049514,0.08127399613059183,0.9993716910228512],\"xaxis\":\"x4\",\"y\":[0.7619660073950553,0.3831993421094785,0.5269321193818782,0.8275492317391815,0.8892593486573043,0.3193034931601627,0.28895444431277995,0.7404201733798286,0.12262001182879045,0.4493067356839209,0.03268762124032354,0.5934371670171862,0.00775924351526569,0.7455915765369152,0.4502326921792916,0.3916702955561916,0.9499649212210532,0.40318591556191474,0.40430371134501164,0.9295708927415494,0.26401447744374207,0.04511005253584999,0.19567228276849713,0.6461452322972179,0.4150268649397657,0.725922808467533,0.24440128975011677,0.23705121473054847,0.3908586565883515,0.06321951994661645,0.49750978787243083,0.21896559130674031,0.15366305526772783,0.006900916720903871,0.8125625292473938,0.4572756047229609,0.6709495356717864,0.04816046679203534,0.18762944263268255,0.7481366533880054,0.872440559716538,0.6990539539189577,0.4008588265264157,0.8876162116069556,0.7720236084810732,0.7162082122874913,0.3407175898186231,0.2895501156831318,0.5233988313773491,0.13188177705744175,0.495784431850116,0.03921293920164437,0.36309279113436466,0.19260620018151076,0.4825063131163069,0.18293023655992846,0.5081102519643054,0.40834269081324326,0.7858579803904728,0.11075045416252305,0.2285418382143266,0.9619504700480105,0.1365265519797081,0.8078347791029732,0.487743654722274,0.25177027627988124,0.3967257162703608,0.505524977282712,0.3661074008725529,0.418861514694419,0.17626473882139104,0.6919317185694058,0.5439240513207385,0.4481649951924652,0.9132768312770118,0.921791909753098,0.642844443031545,0.5041098343996006,0.8661579762231469,0.06146029125465091,0.15800663822843508,0.051203138710208984,0.8073206502672432,0.9910959951669714,0.876589487571141,0.852813647221526,0.16759692366974466,0.8265931069909461,0.5561296050596473,0.22508091373253858,0.6401703261599638,0.30919582237103205,0.5431169736376333,0.7910246102390857,0.9237791277470113,0.07302968408134924,0.15201917738506276,0.983133553271018,0.19306177479954023,0.9917275316090092],\"yaxis\":\"y4\",\"type\":\"scatter\"},{\"line\":{\"color\":\"rgba(128, 128, 128, 1.0)\",\"dash\":\"solid\",\"shape\":\"linear\",\"width\":1.3},\"marker\":{\"size\":2,\"symbol\":\"circle\"},\"mode\":\"markers\",\"name\":\"B\",\"text\":\"\",\"x\":[0.7619660073950553,0.3831993421094785,0.5269321193818782,0.8275492317391815,0.8892593486573043,0.3193034931601627,0.28895444431277995,0.7404201733798286,0.12262001182879045,0.4493067356839209,0.03268762124032354,0.5934371670171862,0.00775924351526569,0.7455915765369152,0.4502326921792916,0.3916702955561916,0.9499649212210532,0.40318591556191474,0.40430371134501164,0.9295708927415494,0.26401447744374207,0.04511005253584999,0.19567228276849713,0.6461452322972179,0.4150268649397657,0.725922808467533,0.24440128975011677,0.23705121473054847,0.3908586565883515,0.06321951994661645,0.49750978787243083,0.21896559130674031,0.15366305526772783,0.006900916720903871,0.8125625292473938,0.4572756047229609,0.6709495356717864,0.04816046679203534,0.18762944263268255,0.7481366533880054,0.872440559716538,0.6990539539189577,0.4008588265264157,0.8876162116069556,0.7720236084810732,0.7162082122874913,0.3407175898186231,0.2895501156831318,0.5233988313773491,0.13188177705744175,0.495784431850116,0.03921293920164437,0.36309279113436466,0.19260620018151076,0.4825063131163069,0.18293023655992846,0.5081102519643054,0.40834269081324326,0.7858579803904728,0.11075045416252305,0.2285418382143266,0.9619504700480105,0.1365265519797081,0.8078347791029732,0.487743654722274,0.25177027627988124,0.3967257162703608,0.505524977282712,0.3661074008725529,0.418861514694419,0.17626473882139104,0.6919317185694058,0.5439240513207385,0.4481649951924652,0.9132768312770118,0.921791909753098,0.642844443031545,0.5041098343996006,0.8661579762231469,0.06146029125465091,0.15800663822843508,0.051203138710208984,0.8073206502672432,0.9910959951669714,0.876589487571141,0.852813647221526,0.16759692366974466,0.8265931069909461,0.5561296050596473,0.22508091373253858,0.6401703261599638,0.30919582237103205,0.5431169736376333,0.7910246102390857,0.9237791277470113,0.07302968408134924,0.15201917738506276,0.983133553271018,0.19306177479954023,0.9917275316090092],\"xaxis\":\"x5\",\"y\":[0.7339598796376222,0.7501383104927066,0.13016208547293562,0.11200978376406934,0.22651980826246132,0.8264590269508255,0.22443867141770923,0.2352718033072454,0.0024846188504629163,0.5798802072866126,0.5738649740520214,0.4301924070105716,0.4876251960610537,0.2734464900525172,0.760568718474913,0.6260385346813047,0.029084943492812654,0.06253555693990653,0.6655768154121865,0.09049834922935474,0.1731333166262019,0.6743798741502727,0.6500480317357354,0.0783011719345924,0.5102317647824509,0.46150314370866274,0.9570694786916037,0.8980794966280198,0.985392952250985,0.8010104762612996,0.1359532149661019,0.6982104352811658,0.9496239355793838,0.6289856730494802,0.3343850596961273,0.4705462267632926,0.5358113248142444,0.54994988375767,0.10619750125105731,0.34053025900176015,0.512725288760018,0.4047347225539547,0.19781959875146227,0.8067271659399001,0.09196611713559333,0.3774904205271683,0.0674248309139931,0.2750998557215809,0.7272520586012536,0.6627921337777752,0.21547850679365865,0.46105159730223977,0.3948132978906208,0.42178085249769126,0.4081734031335238,0.09945735841702441,0.22771194746019074,0.8434444345959553,0.6946148523209147,0.9023596842312003,0.4638505188507209,0.6281799224310242,0.5805488757691596,0.0012414559796589675,0.8798845815250357,0.11438268742010627,0.809028744336986,0.13030019355695355,0.35080744290592747,0.8842954224667885,0.6691565542958794,0.3896463917450411,0.4366991083682191,0.552245182285504,0.3257393992187827,0.5905741655913366,0.016704330974247616,0.49588116502078383,0.26474578645560176,0.2751859402483783,0.7614822740631733,0.6645083201236293,0.6855306971352015,0.21544745676820143,0.07117996063176835,0.114639783637555,0.050123194144784944,0.2904254227759736,0.34776127684022573,0.7344999685663639,0.25288744823039233,0.5970658246487074,0.5006956562340436,0.6027237230222172,0.23026493515505964,0.4362682166721016,0.487018856912538,0.8615638279257543,0.32508203394432833,0.09546869675423375],\"yaxis\":\"y5\",\"type\":\"scatter\"},{\"histfunc\":\"count\",\"histnorm\":\"\",\"marker\":{\"color\":\"rgba(55, 128, 191, 1.0)\",\"line\":{\"color\":\"#4D5663\",\"width\":1.3}},\"name\":\"B\",\"nbinsx\":10,\"opacity\":0.8,\"orientation\":\"v\",\"x\":[0.7339598796376222,0.7501383104927066,0.13016208547293562,0.11200978376406934,0.22651980826246132,0.8264590269508255,0.22443867141770923,0.2352718033072454,0.0024846188504629163,0.5798802072866126,0.5738649740520214,0.4301924070105716,0.4876251960610537,0.2734464900525172,0.760568718474913,0.6260385346813047,0.029084943492812654,0.06253555693990653,0.6655768154121865,0.09049834922935474,0.1731333166262019,0.6743798741502727,0.6500480317357354,0.0783011719345924,0.5102317647824509,0.46150314370866274,0.9570694786916037,0.8980794966280198,0.985392952250985,0.8010104762612996,0.1359532149661019,0.6982104352811658,0.9496239355793838,0.6289856730494802,0.3343850596961273,0.4705462267632926,0.5358113248142444,0.54994988375767,0.10619750125105731,0.34053025900176015,0.512725288760018,0.4047347225539547,0.19781959875146227,0.8067271659399001,0.09196611713559333,0.3774904205271683,0.0674248309139931,0.2750998557215809,0.7272520586012536,0.6627921337777752,0.21547850679365865,0.46105159730223977,0.3948132978906208,0.42178085249769126,0.4081734031335238,0.09945735841702441,0.22771194746019074,0.8434444345959553,0.6946148523209147,0.9023596842312003,0.4638505188507209,0.6281799224310242,0.5805488757691596,0.0012414559796589675,0.8798845815250357,0.11438268742010627,0.809028744336986,0.13030019355695355,0.35080744290592747,0.8842954224667885,0.6691565542958794,0.3896463917450411,0.4366991083682191,0.552245182285504,0.3257393992187827,0.5905741655913366,0.016704330974247616,0.49588116502078383,0.26474578645560176,0.2751859402483783,0.7614822740631733,0.6645083201236293,0.6855306971352015,0.21544745676820143,0.07117996063176835,0.114639783637555,0.050123194144784944,0.2904254227759736,0.34776127684022573,0.7344999685663639,0.25288744823039233,0.5970658246487074,0.5006956562340436,0.6027237230222172,0.23026493515505964,0.4362682166721016,0.487018856912538,0.8615638279257543,0.32508203394432833,0.09546869675423375],\"xaxis\":\"x6\",\"yaxis\":\"y6\",\"type\":\"histogram\"},{\"line\":{\"color\":\"rgba(128, 128, 128, 1.0)\",\"dash\":\"solid\",\"shape\":\"linear\",\"width\":1.3},\"marker\":{\"size\":2,\"symbol\":\"circle\"},\"mode\":\"markers\",\"name\":\"B\",\"text\":\"\",\"x\":[0.48994178486763973,0.4392627309753028,0.9686290112192875,0.5048735866512276,0.1017291045298857,0.6318974257647305,0.08496157650071412,0.22747296407613338,0.6050595067412333,0.6788167886261672,0.7637196511883925,0.029536245436085906,0.5347771455820954,0.3761139604663193,0.35382619394351067,0.5522377987990843,0.7420617544122445,0.971097323898076,0.10992201194963669,0.92651698010797,0.12210694612390482,0.6948757457918311,0.5933637061680342,0.9723433760599861,0.6814523441849866,0.7537582885564225,0.35123020954937445,0.6885201158974867,0.028102920710133428,0.5255256451848452,0.611513915485729,0.04602526700654985,0.9460218483554266,0.6711550466617024,0.7235169153895089,0.012270753310094862,0.14490125323506786,0.7952467004090731,0.97900056160059,0.7314219319755022,0.8688858396326965,0.5584103745187854,0.8700940763841912,0.3804146053601756,0.7586474418626046,0.4336084956926466,0.9224550999239891,0.5151931763732133,0.7234713176195481,0.894495458699626,0.19908743183141808,0.5004700866647201,0.6710095911595803,0.7343374816685606,0.8318664516913109,0.053972947362364576,0.8826636961003679,0.6887250471610893,0.7253385521274806,0.1936409680930874,0.5411851199071863,0.9328699421039989,0.7675849478996553,0.5844852219933127,0.20937597662357466,0.600206594677098,0.6482292216178916,0.04459166963388661,0.15261877613839925,0.09290614080224391,0.8022302038519756,0.7342114346211318,0.9191233709602152,0.7675767614267679,0.47660015716340287,0.494936205550916,0.9121380671584027,0.8705220078440615,0.8785082253048494,0.6868630373868092,0.3790372735459786,0.09873907615087552,0.5951013781132024,0.7962133030802363,0.3561890303738343,0.5178452584857594,0.539500433477665,0.012082464832550821,0.3687719924765247,0.07122201760596714,0.5300975248213184,0.7046093414506819,0.5423280449311959,0.30889406555916843,0.6868465170394179,0.37798764713121924,0.542875266638495,0.7330716083799603,0.48827268008044755,0.04858502557079991],\"xaxis\":\"x7\",\"y\":[0.7339598796376222,0.7501383104927066,0.13016208547293562,0.11200978376406934,0.22651980826246132,0.8264590269508255,0.22443867141770923,0.2352718033072454,0.0024846188504629163,0.5798802072866126,0.5738649740520214,0.4301924070105716,0.4876251960610537,0.2734464900525172,0.760568718474913,0.6260385346813047,0.029084943492812654,0.06253555693990653,0.6655768154121865,0.09049834922935474,0.1731333166262019,0.6743798741502727,0.6500480317357354,0.0783011719345924,0.5102317647824509,0.46150314370866274,0.9570694786916037,0.8980794966280198,0.985392952250985,0.8010104762612996,0.1359532149661019,0.6982104352811658,0.9496239355793838,0.6289856730494802,0.3343850596961273,0.4705462267632926,0.5358113248142444,0.54994988375767,0.10619750125105731,0.34053025900176015,0.512725288760018,0.4047347225539547,0.19781959875146227,0.8067271659399001,0.09196611713559333,0.3774904205271683,0.0674248309139931,0.2750998557215809,0.7272520586012536,0.6627921337777752,0.21547850679365865,0.46105159730223977,0.3948132978906208,0.42178085249769126,0.4081734031335238,0.09945735841702441,0.22771194746019074,0.8434444345959553,0.6946148523209147,0.9023596842312003,0.4638505188507209,0.6281799224310242,0.5805488757691596,0.0012414559796589675,0.8798845815250357,0.11438268742010627,0.809028744336986,0.13030019355695355,0.35080744290592747,0.8842954224667885,0.6691565542958794,0.3896463917450411,0.4366991083682191,0.552245182285504,0.3257393992187827,0.5905741655913366,0.016704330974247616,0.49588116502078383,0.26474578645560176,0.2751859402483783,0.7614822740631733,0.6645083201236293,0.6855306971352015,0.21544745676820143,0.07117996063176835,0.114639783637555,0.050123194144784944,0.2904254227759736,0.34776127684022573,0.7344999685663639,0.25288744823039233,0.5970658246487074,0.5006956562340436,0.6027237230222172,0.23026493515505964,0.4362682166721016,0.487018856912538,0.8615638279257543,0.32508203394432833,0.09546869675423375],\"yaxis\":\"y7\",\"type\":\"scatter\"},{\"line\":{\"color\":\"rgba(128, 128, 128, 1.0)\",\"dash\":\"solid\",\"shape\":\"linear\",\"width\":1.3},\"marker\":{\"size\":2,\"symbol\":\"circle\"},\"mode\":\"markers\",\"name\":\"B\",\"text\":\"\",\"x\":[0.8987576252586102,0.797330843062111,0.8485281028996704,0.1914572130001988,0.4700639826911347,0.4128448382530481,0.04723112194010781,0.5208689706044635,0.6943142463118016,0.3415631885250485,0.9400510982689896,0.820931171044754,0.4357377238848412,0.6121151708213703,0.46951103442410125,0.9806144922153679,0.5267754958529278,0.7891144536725998,0.24101122496678706,0.7924699295349183,0.5804521775615598,0.9070895427876049,0.68916203570464,0.5987235244597106,0.35312084931643617,0.028321011269562546,0.7525711258052912,0.5095635317563492,0.04397419626567067,0.32546219463798554,0.3331879938230772,0.9841521192289913,0.5583464342959563,0.19279780398966107,0.8819424677298963,0.019332976704915406,0.4950597119939998,0.22486504236773108,0.7529129438891541,0.23201323816632236,0.9053744902103413,0.542795511023813,0.5075355287403258,0.3866287400518348,0.8741053558523413,0.9953746203999989,0.6709886831365968,0.8478361423637356,0.21727760692326115,0.7834503160054718,0.5225741911144963,0.30785808002060844,0.8626121387907464,0.021878587472828226,0.3132571615277814,0.269819703915101,0.047388947590950026,0.3783792139521778,0.6686715562815971,0.9340195896813317,0.24505316377281527,0.609341035884486,0.028512158125664766,0.5219175887400826,0.2789385116867189,0.5640668254847896,0.03848604584262927,0.4471931557922294,0.7157733382789738,0.3488660370994199,0.5178238120474549,0.5660049109441244,0.6759687616692475,0.3440802895222872,0.19633304738425505,0.068427853103733,0.961558562423373,0.19847993488194093,0.2069189471745908,0.8132554715264844,0.8888914058334912,0.676830901973747,0.9067289015561729,0.4623345767488364,0.3746023117702302,0.46009272979736426,0.007237548420919282,0.517787117725699,0.03732628959923279,0.5761660217671997,0.7579811277873082,0.3872441509651735,0.5010283266044836,0.15185669982217342,0.043185938195618445,0.869124913839304,0.34644360847665445,0.007513324253049514,0.08127399613059183,0.9993716910228512],\"xaxis\":\"x8\",\"y\":[0.7339598796376222,0.7501383104927066,0.13016208547293562,0.11200978376406934,0.22651980826246132,0.8264590269508255,0.22443867141770923,0.2352718033072454,0.0024846188504629163,0.5798802072866126,0.5738649740520214,0.4301924070105716,0.4876251960610537,0.2734464900525172,0.760568718474913,0.6260385346813047,0.029084943492812654,0.06253555693990653,0.6655768154121865,0.09049834922935474,0.1731333166262019,0.6743798741502727,0.6500480317357354,0.0783011719345924,0.5102317647824509,0.46150314370866274,0.9570694786916037,0.8980794966280198,0.985392952250985,0.8010104762612996,0.1359532149661019,0.6982104352811658,0.9496239355793838,0.6289856730494802,0.3343850596961273,0.4705462267632926,0.5358113248142444,0.54994988375767,0.10619750125105731,0.34053025900176015,0.512725288760018,0.4047347225539547,0.19781959875146227,0.8067271659399001,0.09196611713559333,0.3774904205271683,0.0674248309139931,0.2750998557215809,0.7272520586012536,0.6627921337777752,0.21547850679365865,0.46105159730223977,0.3948132978906208,0.42178085249769126,0.4081734031335238,0.09945735841702441,0.22771194746019074,0.8434444345959553,0.6946148523209147,0.9023596842312003,0.4638505188507209,0.6281799224310242,0.5805488757691596,0.0012414559796589675,0.8798845815250357,0.11438268742010627,0.809028744336986,0.13030019355695355,0.35080744290592747,0.8842954224667885,0.6691565542958794,0.3896463917450411,0.4366991083682191,0.552245182285504,0.3257393992187827,0.5905741655913366,0.016704330974247616,0.49588116502078383,0.26474578645560176,0.2751859402483783,0.7614822740631733,0.6645083201236293,0.6855306971352015,0.21544745676820143,0.07117996063176835,0.114639783637555,0.050123194144784944,0.2904254227759736,0.34776127684022573,0.7344999685663639,0.25288744823039233,0.5970658246487074,0.5006956562340436,0.6027237230222172,0.23026493515505964,0.4362682166721016,0.487018856912538,0.8615638279257543,0.32508203394432833,0.09546869675423375],\"yaxis\":\"y8\",\"type\":\"scatter\"},{\"line\":{\"color\":\"rgba(128, 128, 128, 1.0)\",\"dash\":\"solid\",\"shape\":\"linear\",\"width\":1.3},\"marker\":{\"size\":2,\"symbol\":\"circle\"},\"mode\":\"markers\",\"name\":\"C\",\"text\":\"\",\"x\":[0.7619660073950553,0.3831993421094785,0.5269321193818782,0.8275492317391815,0.8892593486573043,0.3193034931601627,0.28895444431277995,0.7404201733798286,0.12262001182879045,0.4493067356839209,0.03268762124032354,0.5934371670171862,0.00775924351526569,0.7455915765369152,0.4502326921792916,0.3916702955561916,0.9499649212210532,0.40318591556191474,0.40430371134501164,0.9295708927415494,0.26401447744374207,0.04511005253584999,0.19567228276849713,0.6461452322972179,0.4150268649397657,0.725922808467533,0.24440128975011677,0.23705121473054847,0.3908586565883515,0.06321951994661645,0.49750978787243083,0.21896559130674031,0.15366305526772783,0.006900916720903871,0.8125625292473938,0.4572756047229609,0.6709495356717864,0.04816046679203534,0.18762944263268255,0.7481366533880054,0.872440559716538,0.6990539539189577,0.4008588265264157,0.8876162116069556,0.7720236084810732,0.7162082122874913,0.3407175898186231,0.2895501156831318,0.5233988313773491,0.13188177705744175,0.495784431850116,0.03921293920164437,0.36309279113436466,0.19260620018151076,0.4825063131163069,0.18293023655992846,0.5081102519643054,0.40834269081324326,0.7858579803904728,0.11075045416252305,0.2285418382143266,0.9619504700480105,0.1365265519797081,0.8078347791029732,0.487743654722274,0.25177027627988124,0.3967257162703608,0.505524977282712,0.3661074008725529,0.418861514694419,0.17626473882139104,0.6919317185694058,0.5439240513207385,0.4481649951924652,0.9132768312770118,0.921791909753098,0.642844443031545,0.5041098343996006,0.8661579762231469,0.06146029125465091,0.15800663822843508,0.051203138710208984,0.8073206502672432,0.9910959951669714,0.876589487571141,0.852813647221526,0.16759692366974466,0.8265931069909461,0.5561296050596473,0.22508091373253858,0.6401703261599638,0.30919582237103205,0.5431169736376333,0.7910246102390857,0.9237791277470113,0.07302968408134924,0.15201917738506276,0.983133553271018,0.19306177479954023,0.9917275316090092],\"xaxis\":\"x9\",\"y\":[0.48994178486763973,0.4392627309753028,0.9686290112192875,0.5048735866512276,0.1017291045298857,0.6318974257647305,0.08496157650071412,0.22747296407613338,0.6050595067412333,0.6788167886261672,0.7637196511883925,0.029536245436085906,0.5347771455820954,0.3761139604663193,0.35382619394351067,0.5522377987990843,0.7420617544122445,0.971097323898076,0.10992201194963669,0.92651698010797,0.12210694612390482,0.6948757457918311,0.5933637061680342,0.9723433760599861,0.6814523441849866,0.7537582885564225,0.35123020954937445,0.6885201158974867,0.028102920710133428,0.5255256451848452,0.611513915485729,0.04602526700654985,0.9460218483554266,0.6711550466617024,0.7235169153895089,0.012270753310094862,0.14490125323506786,0.7952467004090731,0.97900056160059,0.7314219319755022,0.8688858396326965,0.5584103745187854,0.8700940763841912,0.3804146053601756,0.7586474418626046,0.4336084956926466,0.9224550999239891,0.5151931763732133,0.7234713176195481,0.894495458699626,0.19908743183141808,0.5004700866647201,0.6710095911595803,0.7343374816685606,0.8318664516913109,0.053972947362364576,0.8826636961003679,0.6887250471610893,0.7253385521274806,0.1936409680930874,0.5411851199071863,0.9328699421039989,0.7675849478996553,0.5844852219933127,0.20937597662357466,0.600206594677098,0.6482292216178916,0.04459166963388661,0.15261877613839925,0.09290614080224391,0.8022302038519756,0.7342114346211318,0.9191233709602152,0.7675767614267679,0.47660015716340287,0.494936205550916,0.9121380671584027,0.8705220078440615,0.8785082253048494,0.6868630373868092,0.3790372735459786,0.09873907615087552,0.5951013781132024,0.7962133030802363,0.3561890303738343,0.5178452584857594,0.539500433477665,0.012082464832550821,0.3687719924765247,0.07122201760596714,0.5300975248213184,0.7046093414506819,0.5423280449311959,0.30889406555916843,0.6868465170394179,0.37798764713121924,0.542875266638495,0.7330716083799603,0.48827268008044755,0.04858502557079991],\"yaxis\":\"y9\",\"type\":\"scatter\"},{\"line\":{\"color\":\"rgba(128, 128, 128, 1.0)\",\"dash\":\"solid\",\"shape\":\"linear\",\"width\":1.3},\"marker\":{\"size\":2,\"symbol\":\"circle\"},\"mode\":\"markers\",\"name\":\"C\",\"text\":\"\",\"x\":[0.7339598796376222,0.7501383104927066,0.13016208547293562,0.11200978376406934,0.22651980826246132,0.8264590269508255,0.22443867141770923,0.2352718033072454,0.0024846188504629163,0.5798802072866126,0.5738649740520214,0.4301924070105716,0.4876251960610537,0.2734464900525172,0.760568718474913,0.6260385346813047,0.029084943492812654,0.06253555693990653,0.6655768154121865,0.09049834922935474,0.1731333166262019,0.6743798741502727,0.6500480317357354,0.0783011719345924,0.5102317647824509,0.46150314370866274,0.9570694786916037,0.8980794966280198,0.985392952250985,0.8010104762612996,0.1359532149661019,0.6982104352811658,0.9496239355793838,0.6289856730494802,0.3343850596961273,0.4705462267632926,0.5358113248142444,0.54994988375767,0.10619750125105731,0.34053025900176015,0.512725288760018,0.4047347225539547,0.19781959875146227,0.8067271659399001,0.09196611713559333,0.3774904205271683,0.0674248309139931,0.2750998557215809,0.7272520586012536,0.6627921337777752,0.21547850679365865,0.46105159730223977,0.3948132978906208,0.42178085249769126,0.4081734031335238,0.09945735841702441,0.22771194746019074,0.8434444345959553,0.6946148523209147,0.9023596842312003,0.4638505188507209,0.6281799224310242,0.5805488757691596,0.0012414559796589675,0.8798845815250357,0.11438268742010627,0.809028744336986,0.13030019355695355,0.35080744290592747,0.8842954224667885,0.6691565542958794,0.3896463917450411,0.4366991083682191,0.552245182285504,0.3257393992187827,0.5905741655913366,0.016704330974247616,0.49588116502078383,0.26474578645560176,0.2751859402483783,0.7614822740631733,0.6645083201236293,0.6855306971352015,0.21544745676820143,0.07117996063176835,0.114639783637555,0.050123194144784944,0.2904254227759736,0.34776127684022573,0.7344999685663639,0.25288744823039233,0.5970658246487074,0.5006956562340436,0.6027237230222172,0.23026493515505964,0.4362682166721016,0.487018856912538,0.8615638279257543,0.32508203394432833,0.09546869675423375],\"xaxis\":\"x10\",\"y\":[0.48994178486763973,0.4392627309753028,0.9686290112192875,0.5048735866512276,0.1017291045298857,0.6318974257647305,0.08496157650071412,0.22747296407613338,0.6050595067412333,0.6788167886261672,0.7637196511883925,0.029536245436085906,0.5347771455820954,0.3761139604663193,0.35382619394351067,0.5522377987990843,0.7420617544122445,0.971097323898076,0.10992201194963669,0.92651698010797,0.12210694612390482,0.6948757457918311,0.5933637061680342,0.9723433760599861,0.6814523441849866,0.7537582885564225,0.35123020954937445,0.6885201158974867,0.028102920710133428,0.5255256451848452,0.611513915485729,0.04602526700654985,0.9460218483554266,0.6711550466617024,0.7235169153895089,0.012270753310094862,0.14490125323506786,0.7952467004090731,0.97900056160059,0.7314219319755022,0.8688858396326965,0.5584103745187854,0.8700940763841912,0.3804146053601756,0.7586474418626046,0.4336084956926466,0.9224550999239891,0.5151931763732133,0.7234713176195481,0.894495458699626,0.19908743183141808,0.5004700866647201,0.6710095911595803,0.7343374816685606,0.8318664516913109,0.053972947362364576,0.8826636961003679,0.6887250471610893,0.7253385521274806,0.1936409680930874,0.5411851199071863,0.9328699421039989,0.7675849478996553,0.5844852219933127,0.20937597662357466,0.600206594677098,0.6482292216178916,0.04459166963388661,0.15261877613839925,0.09290614080224391,0.8022302038519756,0.7342114346211318,0.9191233709602152,0.7675767614267679,0.47660015716340287,0.494936205550916,0.9121380671584027,0.8705220078440615,0.8785082253048494,0.6868630373868092,0.3790372735459786,0.09873907615087552,0.5951013781132024,0.7962133030802363,0.3561890303738343,0.5178452584857594,0.539500433477665,0.012082464832550821,0.3687719924765247,0.07122201760596714,0.5300975248213184,0.7046093414506819,0.5423280449311959,0.30889406555916843,0.6868465170394179,0.37798764713121924,0.542875266638495,0.7330716083799603,0.48827268008044755,0.04858502557079991],\"yaxis\":\"y10\",\"type\":\"scatter\"},{\"histfunc\":\"count\",\"histnorm\":\"\",\"marker\":{\"color\":\"rgba(50, 171, 96, 1.0)\",\"line\":{\"color\":\"#4D5663\",\"width\":1.3}},\"name\":\"C\",\"nbinsx\":10,\"opacity\":0.8,\"orientation\":\"v\",\"x\":[0.48994178486763973,0.4392627309753028,0.9686290112192875,0.5048735866512276,0.1017291045298857,0.6318974257647305,0.08496157650071412,0.22747296407613338,0.6050595067412333,0.6788167886261672,0.7637196511883925,0.029536245436085906,0.5347771455820954,0.3761139604663193,0.35382619394351067,0.5522377987990843,0.7420617544122445,0.971097323898076,0.10992201194963669,0.92651698010797,0.12210694612390482,0.6948757457918311,0.5933637061680342,0.9723433760599861,0.6814523441849866,0.7537582885564225,0.35123020954937445,0.6885201158974867,0.028102920710133428,0.5255256451848452,0.611513915485729,0.04602526700654985,0.9460218483554266,0.6711550466617024,0.7235169153895089,0.012270753310094862,0.14490125323506786,0.7952467004090731,0.97900056160059,0.7314219319755022,0.8688858396326965,0.5584103745187854,0.8700940763841912,0.3804146053601756,0.7586474418626046,0.4336084956926466,0.9224550999239891,0.5151931763732133,0.7234713176195481,0.894495458699626,0.19908743183141808,0.5004700866647201,0.6710095911595803,0.7343374816685606,0.8318664516913109,0.053972947362364576,0.8826636961003679,0.6887250471610893,0.7253385521274806,0.1936409680930874,0.5411851199071863,0.9328699421039989,0.7675849478996553,0.5844852219933127,0.20937597662357466,0.600206594677098,0.6482292216178916,0.04459166963388661,0.15261877613839925,0.09290614080224391,0.8022302038519756,0.7342114346211318,0.9191233709602152,0.7675767614267679,0.47660015716340287,0.494936205550916,0.9121380671584027,0.8705220078440615,0.8785082253048494,0.6868630373868092,0.3790372735459786,0.09873907615087552,0.5951013781132024,0.7962133030802363,0.3561890303738343,0.5178452584857594,0.539500433477665,0.012082464832550821,0.3687719924765247,0.07122201760596714,0.5300975248213184,0.7046093414506819,0.5423280449311959,0.30889406555916843,0.6868465170394179,0.37798764713121924,0.542875266638495,0.7330716083799603,0.48827268008044755,0.04858502557079991],\"xaxis\":\"x11\",\"yaxis\":\"y11\",\"type\":\"histogram\"},{\"line\":{\"color\":\"rgba(128, 128, 128, 1.0)\",\"dash\":\"solid\",\"shape\":\"linear\",\"width\":1.3},\"marker\":{\"size\":2,\"symbol\":\"circle\"},\"mode\":\"markers\",\"name\":\"C\",\"text\":\"\",\"x\":[0.8987576252586102,0.797330843062111,0.8485281028996704,0.1914572130001988,0.4700639826911347,0.4128448382530481,0.04723112194010781,0.5208689706044635,0.6943142463118016,0.3415631885250485,0.9400510982689896,0.820931171044754,0.4357377238848412,0.6121151708213703,0.46951103442410125,0.9806144922153679,0.5267754958529278,0.7891144536725998,0.24101122496678706,0.7924699295349183,0.5804521775615598,0.9070895427876049,0.68916203570464,0.5987235244597106,0.35312084931643617,0.028321011269562546,0.7525711258052912,0.5095635317563492,0.04397419626567067,0.32546219463798554,0.3331879938230772,0.9841521192289913,0.5583464342959563,0.19279780398966107,0.8819424677298963,0.019332976704915406,0.4950597119939998,0.22486504236773108,0.7529129438891541,0.23201323816632236,0.9053744902103413,0.542795511023813,0.5075355287403258,0.3866287400518348,0.8741053558523413,0.9953746203999989,0.6709886831365968,0.8478361423637356,0.21727760692326115,0.7834503160054718,0.5225741911144963,0.30785808002060844,0.8626121387907464,0.021878587472828226,0.3132571615277814,0.269819703915101,0.047388947590950026,0.3783792139521778,0.6686715562815971,0.9340195896813317,0.24505316377281527,0.609341035884486,0.028512158125664766,0.5219175887400826,0.2789385116867189,0.5640668254847896,0.03848604584262927,0.4471931557922294,0.7157733382789738,0.3488660370994199,0.5178238120474549,0.5660049109441244,0.6759687616692475,0.3440802895222872,0.19633304738425505,0.068427853103733,0.961558562423373,0.19847993488194093,0.2069189471745908,0.8132554715264844,0.8888914058334912,0.676830901973747,0.9067289015561729,0.4623345767488364,0.3746023117702302,0.46009272979736426,0.007237548420919282,0.517787117725699,0.03732628959923279,0.5761660217671997,0.7579811277873082,0.3872441509651735,0.5010283266044836,0.15185669982217342,0.043185938195618445,0.869124913839304,0.34644360847665445,0.007513324253049514,0.08127399613059183,0.9993716910228512],\"xaxis\":\"x12\",\"y\":[0.48994178486763973,0.4392627309753028,0.9686290112192875,0.5048735866512276,0.1017291045298857,0.6318974257647305,0.08496157650071412,0.22747296407613338,0.6050595067412333,0.6788167886261672,0.7637196511883925,0.029536245436085906,0.5347771455820954,0.3761139604663193,0.35382619394351067,0.5522377987990843,0.7420617544122445,0.971097323898076,0.10992201194963669,0.92651698010797,0.12210694612390482,0.6948757457918311,0.5933637061680342,0.9723433760599861,0.6814523441849866,0.7537582885564225,0.35123020954937445,0.6885201158974867,0.028102920710133428,0.5255256451848452,0.611513915485729,0.04602526700654985,0.9460218483554266,0.6711550466617024,0.7235169153895089,0.012270753310094862,0.14490125323506786,0.7952467004090731,0.97900056160059,0.7314219319755022,0.8688858396326965,0.5584103745187854,0.8700940763841912,0.3804146053601756,0.7586474418626046,0.4336084956926466,0.9224550999239891,0.5151931763732133,0.7234713176195481,0.894495458699626,0.19908743183141808,0.5004700866647201,0.6710095911595803,0.7343374816685606,0.8318664516913109,0.053972947362364576,0.8826636961003679,0.6887250471610893,0.7253385521274806,0.1936409680930874,0.5411851199071863,0.9328699421039989,0.7675849478996553,0.5844852219933127,0.20937597662357466,0.600206594677098,0.6482292216178916,0.04459166963388661,0.15261877613839925,0.09290614080224391,0.8022302038519756,0.7342114346211318,0.9191233709602152,0.7675767614267679,0.47660015716340287,0.494936205550916,0.9121380671584027,0.8705220078440615,0.8785082253048494,0.6868630373868092,0.3790372735459786,0.09873907615087552,0.5951013781132024,0.7962133030802363,0.3561890303738343,0.5178452584857594,0.539500433477665,0.012082464832550821,0.3687719924765247,0.07122201760596714,0.5300975248213184,0.7046093414506819,0.5423280449311959,0.30889406555916843,0.6868465170394179,0.37798764713121924,0.542875266638495,0.7330716083799603,0.48827268008044755,0.04858502557079991],\"yaxis\":\"y12\",\"type\":\"scatter\"},{\"line\":{\"color\":\"rgba(128, 128, 128, 1.0)\",\"dash\":\"solid\",\"shape\":\"linear\",\"width\":1.3},\"marker\":{\"size\":2,\"symbol\":\"circle\"},\"mode\":\"markers\",\"name\":\"D\",\"text\":\"\",\"x\":[0.7619660073950553,0.3831993421094785,0.5269321193818782,0.8275492317391815,0.8892593486573043,0.3193034931601627,0.28895444431277995,0.7404201733798286,0.12262001182879045,0.4493067356839209,0.03268762124032354,0.5934371670171862,0.00775924351526569,0.7455915765369152,0.4502326921792916,0.3916702955561916,0.9499649212210532,0.40318591556191474,0.40430371134501164,0.9295708927415494,0.26401447744374207,0.04511005253584999,0.19567228276849713,0.6461452322972179,0.4150268649397657,0.725922808467533,0.24440128975011677,0.23705121473054847,0.3908586565883515,0.06321951994661645,0.49750978787243083,0.21896559130674031,0.15366305526772783,0.006900916720903871,0.8125625292473938,0.4572756047229609,0.6709495356717864,0.04816046679203534,0.18762944263268255,0.7481366533880054,0.872440559716538,0.6990539539189577,0.4008588265264157,0.8876162116069556,0.7720236084810732,0.7162082122874913,0.3407175898186231,0.2895501156831318,0.5233988313773491,0.13188177705744175,0.495784431850116,0.03921293920164437,0.36309279113436466,0.19260620018151076,0.4825063131163069,0.18293023655992846,0.5081102519643054,0.40834269081324326,0.7858579803904728,0.11075045416252305,0.2285418382143266,0.9619504700480105,0.1365265519797081,0.8078347791029732,0.487743654722274,0.25177027627988124,0.3967257162703608,0.505524977282712,0.3661074008725529,0.418861514694419,0.17626473882139104,0.6919317185694058,0.5439240513207385,0.4481649951924652,0.9132768312770118,0.921791909753098,0.642844443031545,0.5041098343996006,0.8661579762231469,0.06146029125465091,0.15800663822843508,0.051203138710208984,0.8073206502672432,0.9910959951669714,0.876589487571141,0.852813647221526,0.16759692366974466,0.8265931069909461,0.5561296050596473,0.22508091373253858,0.6401703261599638,0.30919582237103205,0.5431169736376333,0.7910246102390857,0.9237791277470113,0.07302968408134924,0.15201917738506276,0.983133553271018,0.19306177479954023,0.9917275316090092],\"xaxis\":\"x13\",\"y\":[0.8987576252586102,0.797330843062111,0.8485281028996704,0.1914572130001988,0.4700639826911347,0.4128448382530481,0.04723112194010781,0.5208689706044635,0.6943142463118016,0.3415631885250485,0.9400510982689896,0.820931171044754,0.4357377238848412,0.6121151708213703,0.46951103442410125,0.9806144922153679,0.5267754958529278,0.7891144536725998,0.24101122496678706,0.7924699295349183,0.5804521775615598,0.9070895427876049,0.68916203570464,0.5987235244597106,0.35312084931643617,0.028321011269562546,0.7525711258052912,0.5095635317563492,0.04397419626567067,0.32546219463798554,0.3331879938230772,0.9841521192289913,0.5583464342959563,0.19279780398966107,0.8819424677298963,0.019332976704915406,0.4950597119939998,0.22486504236773108,0.7529129438891541,0.23201323816632236,0.9053744902103413,0.542795511023813,0.5075355287403258,0.3866287400518348,0.8741053558523413,0.9953746203999989,0.6709886831365968,0.8478361423637356,0.21727760692326115,0.7834503160054718,0.5225741911144963,0.30785808002060844,0.8626121387907464,0.021878587472828226,0.3132571615277814,0.269819703915101,0.047388947590950026,0.3783792139521778,0.6686715562815971,0.9340195896813317,0.24505316377281527,0.609341035884486,0.028512158125664766,0.5219175887400826,0.2789385116867189,0.5640668254847896,0.03848604584262927,0.4471931557922294,0.7157733382789738,0.3488660370994199,0.5178238120474549,0.5660049109441244,0.6759687616692475,0.3440802895222872,0.19633304738425505,0.068427853103733,0.961558562423373,0.19847993488194093,0.2069189471745908,0.8132554715264844,0.8888914058334912,0.676830901973747,0.9067289015561729,0.4623345767488364,0.3746023117702302,0.46009272979736426,0.007237548420919282,0.517787117725699,0.03732628959923279,0.5761660217671997,0.7579811277873082,0.3872441509651735,0.5010283266044836,0.15185669982217342,0.043185938195618445,0.869124913839304,0.34644360847665445,0.007513324253049514,0.08127399613059183,0.9993716910228512],\"yaxis\":\"y13\",\"type\":\"scatter\"},{\"line\":{\"color\":\"rgba(128, 128, 128, 1.0)\",\"dash\":\"solid\",\"shape\":\"linear\",\"width\":1.3},\"marker\":{\"size\":2,\"symbol\":\"circle\"},\"mode\":\"markers\",\"name\":\"D\",\"text\":\"\",\"x\":[0.7339598796376222,0.7501383104927066,0.13016208547293562,0.11200978376406934,0.22651980826246132,0.8264590269508255,0.22443867141770923,0.2352718033072454,0.0024846188504629163,0.5798802072866126,0.5738649740520214,0.4301924070105716,0.4876251960610537,0.2734464900525172,0.760568718474913,0.6260385346813047,0.029084943492812654,0.06253555693990653,0.6655768154121865,0.09049834922935474,0.1731333166262019,0.6743798741502727,0.6500480317357354,0.0783011719345924,0.5102317647824509,0.46150314370866274,0.9570694786916037,0.8980794966280198,0.985392952250985,0.8010104762612996,0.1359532149661019,0.6982104352811658,0.9496239355793838,0.6289856730494802,0.3343850596961273,0.4705462267632926,0.5358113248142444,0.54994988375767,0.10619750125105731,0.34053025900176015,0.512725288760018,0.4047347225539547,0.19781959875146227,0.8067271659399001,0.09196611713559333,0.3774904205271683,0.0674248309139931,0.2750998557215809,0.7272520586012536,0.6627921337777752,0.21547850679365865,0.46105159730223977,0.3948132978906208,0.42178085249769126,0.4081734031335238,0.09945735841702441,0.22771194746019074,0.8434444345959553,0.6946148523209147,0.9023596842312003,0.4638505188507209,0.6281799224310242,0.5805488757691596,0.0012414559796589675,0.8798845815250357,0.11438268742010627,0.809028744336986,0.13030019355695355,0.35080744290592747,0.8842954224667885,0.6691565542958794,0.3896463917450411,0.4366991083682191,0.552245182285504,0.3257393992187827,0.5905741655913366,0.016704330974247616,0.49588116502078383,0.26474578645560176,0.2751859402483783,0.7614822740631733,0.6645083201236293,0.6855306971352015,0.21544745676820143,0.07117996063176835,0.114639783637555,0.050123194144784944,0.2904254227759736,0.34776127684022573,0.7344999685663639,0.25288744823039233,0.5970658246487074,0.5006956562340436,0.6027237230222172,0.23026493515505964,0.4362682166721016,0.487018856912538,0.8615638279257543,0.32508203394432833,0.09546869675423375],\"xaxis\":\"x14\",\"y\":[0.8987576252586102,0.797330843062111,0.8485281028996704,0.1914572130001988,0.4700639826911347,0.4128448382530481,0.04723112194010781,0.5208689706044635,0.6943142463118016,0.3415631885250485,0.9400510982689896,0.820931171044754,0.4357377238848412,0.6121151708213703,0.46951103442410125,0.9806144922153679,0.5267754958529278,0.7891144536725998,0.24101122496678706,0.7924699295349183,0.5804521775615598,0.9070895427876049,0.68916203570464,0.5987235244597106,0.35312084931643617,0.028321011269562546,0.7525711258052912,0.5095635317563492,0.04397419626567067,0.32546219463798554,0.3331879938230772,0.9841521192289913,0.5583464342959563,0.19279780398966107,0.8819424677298963,0.019332976704915406,0.4950597119939998,0.22486504236773108,0.7529129438891541,0.23201323816632236,0.9053744902103413,0.542795511023813,0.5075355287403258,0.3866287400518348,0.8741053558523413,0.9953746203999989,0.6709886831365968,0.8478361423637356,0.21727760692326115,0.7834503160054718,0.5225741911144963,0.30785808002060844,0.8626121387907464,0.021878587472828226,0.3132571615277814,0.269819703915101,0.047388947590950026,0.3783792139521778,0.6686715562815971,0.9340195896813317,0.24505316377281527,0.609341035884486,0.028512158125664766,0.5219175887400826,0.2789385116867189,0.5640668254847896,0.03848604584262927,0.4471931557922294,0.7157733382789738,0.3488660370994199,0.5178238120474549,0.5660049109441244,0.6759687616692475,0.3440802895222872,0.19633304738425505,0.068427853103733,0.961558562423373,0.19847993488194093,0.2069189471745908,0.8132554715264844,0.8888914058334912,0.676830901973747,0.9067289015561729,0.4623345767488364,0.3746023117702302,0.46009272979736426,0.007237548420919282,0.517787117725699,0.03732628959923279,0.5761660217671997,0.7579811277873082,0.3872441509651735,0.5010283266044836,0.15185669982217342,0.043185938195618445,0.869124913839304,0.34644360847665445,0.007513324253049514,0.08127399613059183,0.9993716910228512],\"yaxis\":\"y14\",\"type\":\"scatter\"},{\"line\":{\"color\":\"rgba(128, 128, 128, 1.0)\",\"dash\":\"solid\",\"shape\":\"linear\",\"width\":1.3},\"marker\":{\"size\":2,\"symbol\":\"circle\"},\"mode\":\"markers\",\"name\":\"D\",\"text\":\"\",\"x\":[0.48994178486763973,0.4392627309753028,0.9686290112192875,0.5048735866512276,0.1017291045298857,0.6318974257647305,0.08496157650071412,0.22747296407613338,0.6050595067412333,0.6788167886261672,0.7637196511883925,0.029536245436085906,0.5347771455820954,0.3761139604663193,0.35382619394351067,0.5522377987990843,0.7420617544122445,0.971097323898076,0.10992201194963669,0.92651698010797,0.12210694612390482,0.6948757457918311,0.5933637061680342,0.9723433760599861,0.6814523441849866,0.7537582885564225,0.35123020954937445,0.6885201158974867,0.028102920710133428,0.5255256451848452,0.611513915485729,0.04602526700654985,0.9460218483554266,0.6711550466617024,0.7235169153895089,0.012270753310094862,0.14490125323506786,0.7952467004090731,0.97900056160059,0.7314219319755022,0.8688858396326965,0.5584103745187854,0.8700940763841912,0.3804146053601756,0.7586474418626046,0.4336084956926466,0.9224550999239891,0.5151931763732133,0.7234713176195481,0.894495458699626,0.19908743183141808,0.5004700866647201,0.6710095911595803,0.7343374816685606,0.8318664516913109,0.053972947362364576,0.8826636961003679,0.6887250471610893,0.7253385521274806,0.1936409680930874,0.5411851199071863,0.9328699421039989,0.7675849478996553,0.5844852219933127,0.20937597662357466,0.600206594677098,0.6482292216178916,0.04459166963388661,0.15261877613839925,0.09290614080224391,0.8022302038519756,0.7342114346211318,0.9191233709602152,0.7675767614267679,0.47660015716340287,0.494936205550916,0.9121380671584027,0.8705220078440615,0.8785082253048494,0.6868630373868092,0.3790372735459786,0.09873907615087552,0.5951013781132024,0.7962133030802363,0.3561890303738343,0.5178452584857594,0.539500433477665,0.012082464832550821,0.3687719924765247,0.07122201760596714,0.5300975248213184,0.7046093414506819,0.5423280449311959,0.30889406555916843,0.6868465170394179,0.37798764713121924,0.542875266638495,0.7330716083799603,0.48827268008044755,0.04858502557079991],\"xaxis\":\"x15\",\"y\":[0.8987576252586102,0.797330843062111,0.8485281028996704,0.1914572130001988,0.4700639826911347,0.4128448382530481,0.04723112194010781,0.5208689706044635,0.6943142463118016,0.3415631885250485,0.9400510982689896,0.820931171044754,0.4357377238848412,0.6121151708213703,0.46951103442410125,0.9806144922153679,0.5267754958529278,0.7891144536725998,0.24101122496678706,0.7924699295349183,0.5804521775615598,0.9070895427876049,0.68916203570464,0.5987235244597106,0.35312084931643617,0.028321011269562546,0.7525711258052912,0.5095635317563492,0.04397419626567067,0.32546219463798554,0.3331879938230772,0.9841521192289913,0.5583464342959563,0.19279780398966107,0.8819424677298963,0.019332976704915406,0.4950597119939998,0.22486504236773108,0.7529129438891541,0.23201323816632236,0.9053744902103413,0.542795511023813,0.5075355287403258,0.3866287400518348,0.8741053558523413,0.9953746203999989,0.6709886831365968,0.8478361423637356,0.21727760692326115,0.7834503160054718,0.5225741911144963,0.30785808002060844,0.8626121387907464,0.021878587472828226,0.3132571615277814,0.269819703915101,0.047388947590950026,0.3783792139521778,0.6686715562815971,0.9340195896813317,0.24505316377281527,0.609341035884486,0.028512158125664766,0.5219175887400826,0.2789385116867189,0.5640668254847896,0.03848604584262927,0.4471931557922294,0.7157733382789738,0.3488660370994199,0.5178238120474549,0.5660049109441244,0.6759687616692475,0.3440802895222872,0.19633304738425505,0.068427853103733,0.961558562423373,0.19847993488194093,0.2069189471745908,0.8132554715264844,0.8888914058334912,0.676830901973747,0.9067289015561729,0.4623345767488364,0.3746023117702302,0.46009272979736426,0.007237548420919282,0.517787117725699,0.03732628959923279,0.5761660217671997,0.7579811277873082,0.3872441509651735,0.5010283266044836,0.15185669982217342,0.043185938195618445,0.869124913839304,0.34644360847665445,0.007513324253049514,0.08127399613059183,0.9993716910228512],\"yaxis\":\"y15\",\"type\":\"scatter\"},{\"histfunc\":\"count\",\"histnorm\":\"\",\"marker\":{\"color\":\"rgba(128, 0, 128, 1.0)\",\"line\":{\"color\":\"#4D5663\",\"width\":1.3}},\"name\":\"D\",\"nbinsx\":10,\"opacity\":0.8,\"orientation\":\"v\",\"x\":[0.8987576252586102,0.797330843062111,0.8485281028996704,0.1914572130001988,0.4700639826911347,0.4128448382530481,0.04723112194010781,0.5208689706044635,0.6943142463118016,0.3415631885250485,0.9400510982689896,0.820931171044754,0.4357377238848412,0.6121151708213703,0.46951103442410125,0.9806144922153679,0.5267754958529278,0.7891144536725998,0.24101122496678706,0.7924699295349183,0.5804521775615598,0.9070895427876049,0.68916203570464,0.5987235244597106,0.35312084931643617,0.028321011269562546,0.7525711258052912,0.5095635317563492,0.04397419626567067,0.32546219463798554,0.3331879938230772,0.9841521192289913,0.5583464342959563,0.19279780398966107,0.8819424677298963,0.019332976704915406,0.4950597119939998,0.22486504236773108,0.7529129438891541,0.23201323816632236,0.9053744902103413,0.542795511023813,0.5075355287403258,0.3866287400518348,0.8741053558523413,0.9953746203999989,0.6709886831365968,0.8478361423637356,0.21727760692326115,0.7834503160054718,0.5225741911144963,0.30785808002060844,0.8626121387907464,0.021878587472828226,0.3132571615277814,0.269819703915101,0.047388947590950026,0.3783792139521778,0.6686715562815971,0.9340195896813317,0.24505316377281527,0.609341035884486,0.028512158125664766,0.5219175887400826,0.2789385116867189,0.5640668254847896,0.03848604584262927,0.4471931557922294,0.7157733382789738,0.3488660370994199,0.5178238120474549,0.5660049109441244,0.6759687616692475,0.3440802895222872,0.19633304738425505,0.068427853103733,0.961558562423373,0.19847993488194093,0.2069189471745908,0.8132554715264844,0.8888914058334912,0.676830901973747,0.9067289015561729,0.4623345767488364,0.3746023117702302,0.46009272979736426,0.007237548420919282,0.517787117725699,0.03732628959923279,0.5761660217671997,0.7579811277873082,0.3872441509651735,0.5010283266044836,0.15185669982217342,0.043185938195618445,0.869124913839304,0.34644360847665445,0.007513324253049514,0.08127399613059183,0.9993716910228512],\"xaxis\":\"x16\",\"yaxis\":\"y16\",\"type\":\"histogram\"}],                        {\"bargap\":0.02,\"legend\":{\"bgcolor\":\"#F5F6F9\",\"font\":{\"color\":\"#4D5663\"}},\"paper_bgcolor\":\"#F5F6F9\",\"plot_bgcolor\":\"#F5F6F9\",\"showlegend\":false,\"template\":{\"data\":{\"barpolar\":[{\"marker\":{\"line\":{\"color\":\"#E5ECF6\",\"width\":0.5},\"pattern\":{\"fillmode\":\"overlay\",\"size\":10,\"solidity\":0.2}},\"type\":\"barpolar\"}],\"bar\":[{\"error_x\":{\"color\":\"#2a3f5f\"},\"error_y\":{\"color\":\"#2a3f5f\"},\"marker\":{\"line\":{\"color\":\"#E5ECF6\",\"width\":0.5},\"pattern\":{\"fillmode\":\"overlay\",\"size\":10,\"solidity\":0.2}},\"type\":\"bar\"}],\"carpet\":[{\"aaxis\":{\"endlinecolor\":\"#2a3f5f\",\"gridcolor\":\"white\",\"linecolor\":\"white\",\"minorgridcolor\":\"white\",\"startlinecolor\":\"#2a3f5f\"},\"baxis\":{\"endlinecolor\":\"#2a3f5f\",\"gridcolor\":\"white\",\"linecolor\":\"white\",\"minorgridcolor\":\"white\",\"startlinecolor\":\"#2a3f5f\"},\"type\":\"carpet\"}],\"choropleth\":[{\"colorbar\":{\"outlinewidth\":0,\"ticks\":\"\"},\"type\":\"choropleth\"}],\"contourcarpet\":[{\"colorbar\":{\"outlinewidth\":0,\"ticks\":\"\"},\"type\":\"contourcarpet\"}],\"contour\":[{\"colorbar\":{\"outlinewidth\":0,\"ticks\":\"\"},\"colorscale\":[[0.0,\"#0d0887\"],[0.1111111111111111,\"#46039f\"],[0.2222222222222222,\"#7201a8\"],[0.3333333333333333,\"#9c179e\"],[0.4444444444444444,\"#bd3786\"],[0.5555555555555556,\"#d8576b\"],[0.6666666666666666,\"#ed7953\"],[0.7777777777777778,\"#fb9f3a\"],[0.8888888888888888,\"#fdca26\"],[1.0,\"#f0f921\"]],\"type\":\"contour\"}],\"heatmapgl\":[{\"colorbar\":{\"outlinewidth\":0,\"ticks\":\"\"},\"colorscale\":[[0.0,\"#0d0887\"],[0.1111111111111111,\"#46039f\"],[0.2222222222222222,\"#7201a8\"],[0.3333333333333333,\"#9c179e\"],[0.4444444444444444,\"#bd3786\"],[0.5555555555555556,\"#d8576b\"],[0.6666666666666666,\"#ed7953\"],[0.7777777777777778,\"#fb9f3a\"],[0.8888888888888888,\"#fdca26\"],[1.0,\"#f0f921\"]],\"type\":\"heatmapgl\"}],\"heatmap\":[{\"colorbar\":{\"outlinewidth\":0,\"ticks\":\"\"},\"colorscale\":[[0.0,\"#0d0887\"],[0.1111111111111111,\"#46039f\"],[0.2222222222222222,\"#7201a8\"],[0.3333333333333333,\"#9c179e\"],[0.4444444444444444,\"#bd3786\"],[0.5555555555555556,\"#d8576b\"],[0.6666666666666666,\"#ed7953\"],[0.7777777777777778,\"#fb9f3a\"],[0.8888888888888888,\"#fdca26\"],[1.0,\"#f0f921\"]],\"type\":\"heatmap\"}],\"histogram2dcontour\":[{\"colorbar\":{\"outlinewidth\":0,\"ticks\":\"\"},\"colorscale\":[[0.0,\"#0d0887\"],[0.1111111111111111,\"#46039f\"],[0.2222222222222222,\"#7201a8\"],[0.3333333333333333,\"#9c179e\"],[0.4444444444444444,\"#bd3786\"],[0.5555555555555556,\"#d8576b\"],[0.6666666666666666,\"#ed7953\"],[0.7777777777777778,\"#fb9f3a\"],[0.8888888888888888,\"#fdca26\"],[1.0,\"#f0f921\"]],\"type\":\"histogram2dcontour\"}],\"histogram2d\":[{\"colorbar\":{\"outlinewidth\":0,\"ticks\":\"\"},\"colorscale\":[[0.0,\"#0d0887\"],[0.1111111111111111,\"#46039f\"],[0.2222222222222222,\"#7201a8\"],[0.3333333333333333,\"#9c179e\"],[0.4444444444444444,\"#bd3786\"],[0.5555555555555556,\"#d8576b\"],[0.6666666666666666,\"#ed7953\"],[0.7777777777777778,\"#fb9f3a\"],[0.8888888888888888,\"#fdca26\"],[1.0,\"#f0f921\"]],\"type\":\"histogram2d\"}],\"histogram\":[{\"marker\":{\"pattern\":{\"fillmode\":\"overlay\",\"size\":10,\"solidity\":0.2}},\"type\":\"histogram\"}],\"mesh3d\":[{\"colorbar\":{\"outlinewidth\":0,\"ticks\":\"\"},\"type\":\"mesh3d\"}],\"parcoords\":[{\"line\":{\"colorbar\":{\"outlinewidth\":0,\"ticks\":\"\"}},\"type\":\"parcoords\"}],\"pie\":[{\"automargin\":true,\"type\":\"pie\"}],\"scatter3d\":[{\"line\":{\"colorbar\":{\"outlinewidth\":0,\"ticks\":\"\"}},\"marker\":{\"colorbar\":{\"outlinewidth\":0,\"ticks\":\"\"}},\"type\":\"scatter3d\"}],\"scattercarpet\":[{\"marker\":{\"colorbar\":{\"outlinewidth\":0,\"ticks\":\"\"}},\"type\":\"scattercarpet\"}],\"scattergeo\":[{\"marker\":{\"colorbar\":{\"outlinewidth\":0,\"ticks\":\"\"}},\"type\":\"scattergeo\"}],\"scattergl\":[{\"marker\":{\"colorbar\":{\"outlinewidth\":0,\"ticks\":\"\"}},\"type\":\"scattergl\"}],\"scattermapbox\":[{\"marker\":{\"colorbar\":{\"outlinewidth\":0,\"ticks\":\"\"}},\"type\":\"scattermapbox\"}],\"scatterpolargl\":[{\"marker\":{\"colorbar\":{\"outlinewidth\":0,\"ticks\":\"\"}},\"type\":\"scatterpolargl\"}],\"scatterpolar\":[{\"marker\":{\"colorbar\":{\"outlinewidth\":0,\"ticks\":\"\"}},\"type\":\"scatterpolar\"}],\"scatter\":[{\"marker\":{\"colorbar\":{\"outlinewidth\":0,\"ticks\":\"\"}},\"type\":\"scatter\"}],\"scatterternary\":[{\"marker\":{\"colorbar\":{\"outlinewidth\":0,\"ticks\":\"\"}},\"type\":\"scatterternary\"}],\"surface\":[{\"colorbar\":{\"outlinewidth\":0,\"ticks\":\"\"},\"colorscale\":[[0.0,\"#0d0887\"],[0.1111111111111111,\"#46039f\"],[0.2222222222222222,\"#7201a8\"],[0.3333333333333333,\"#9c179e\"],[0.4444444444444444,\"#bd3786\"],[0.5555555555555556,\"#d8576b\"],[0.6666666666666666,\"#ed7953\"],[0.7777777777777778,\"#fb9f3a\"],[0.8888888888888888,\"#fdca26\"],[1.0,\"#f0f921\"]],\"type\":\"surface\"}],\"table\":[{\"cells\":{\"fill\":{\"color\":\"#EBF0F8\"},\"line\":{\"color\":\"white\"}},\"header\":{\"fill\":{\"color\":\"#C8D4E3\"},\"line\":{\"color\":\"white\"}},\"type\":\"table\"}]},\"layout\":{\"annotationdefaults\":{\"arrowcolor\":\"#2a3f5f\",\"arrowhead\":0,\"arrowwidth\":1},\"autotypenumbers\":\"strict\",\"coloraxis\":{\"colorbar\":{\"outlinewidth\":0,\"ticks\":\"\"}},\"colorscale\":{\"diverging\":[[0,\"#8e0152\"],[0.1,\"#c51b7d\"],[0.2,\"#de77ae\"],[0.3,\"#f1b6da\"],[0.4,\"#fde0ef\"],[0.5,\"#f7f7f7\"],[0.6,\"#e6f5d0\"],[0.7,\"#b8e186\"],[0.8,\"#7fbc41\"],[0.9,\"#4d9221\"],[1,\"#276419\"]],\"sequential\":[[0.0,\"#0d0887\"],[0.1111111111111111,\"#46039f\"],[0.2222222222222222,\"#7201a8\"],[0.3333333333333333,\"#9c179e\"],[0.4444444444444444,\"#bd3786\"],[0.5555555555555556,\"#d8576b\"],[0.6666666666666666,\"#ed7953\"],[0.7777777777777778,\"#fb9f3a\"],[0.8888888888888888,\"#fdca26\"],[1.0,\"#f0f921\"]],\"sequentialminus\":[[0.0,\"#0d0887\"],[0.1111111111111111,\"#46039f\"],[0.2222222222222222,\"#7201a8\"],[0.3333333333333333,\"#9c179e\"],[0.4444444444444444,\"#bd3786\"],[0.5555555555555556,\"#d8576b\"],[0.6666666666666666,\"#ed7953\"],[0.7777777777777778,\"#fb9f3a\"],[0.8888888888888888,\"#fdca26\"],[1.0,\"#f0f921\"]]},\"colorway\":[\"#636efa\",\"#EF553B\",\"#00cc96\",\"#ab63fa\",\"#FFA15A\",\"#19d3f3\",\"#FF6692\",\"#B6E880\",\"#FF97FF\",\"#FECB52\"],\"font\":{\"color\":\"#2a3f5f\"},\"geo\":{\"bgcolor\":\"white\",\"lakecolor\":\"white\",\"landcolor\":\"#E5ECF6\",\"showlakes\":true,\"showland\":true,\"subunitcolor\":\"white\"},\"hoverlabel\":{\"align\":\"left\"},\"hovermode\":\"closest\",\"mapbox\":{\"style\":\"light\"},\"paper_bgcolor\":\"white\",\"plot_bgcolor\":\"#E5ECF6\",\"polar\":{\"angularaxis\":{\"gridcolor\":\"white\",\"linecolor\":\"white\",\"ticks\":\"\"},\"bgcolor\":\"#E5ECF6\",\"radialaxis\":{\"gridcolor\":\"white\",\"linecolor\":\"white\",\"ticks\":\"\"}},\"scene\":{\"xaxis\":{\"backgroundcolor\":\"#E5ECF6\",\"gridcolor\":\"white\",\"gridwidth\":2,\"linecolor\":\"white\",\"showbackground\":true,\"ticks\":\"\",\"zerolinecolor\":\"white\"},\"yaxis\":{\"backgroundcolor\":\"#E5ECF6\",\"gridcolor\":\"white\",\"gridwidth\":2,\"linecolor\":\"white\",\"showbackground\":true,\"ticks\":\"\",\"zerolinecolor\":\"white\"},\"zaxis\":{\"backgroundcolor\":\"#E5ECF6\",\"gridcolor\":\"white\",\"gridwidth\":2,\"linecolor\":\"white\",\"showbackground\":true,\"ticks\":\"\",\"zerolinecolor\":\"white\"}},\"shapedefaults\":{\"line\":{\"color\":\"#2a3f5f\"}},\"ternary\":{\"aaxis\":{\"gridcolor\":\"white\",\"linecolor\":\"white\",\"ticks\":\"\"},\"baxis\":{\"gridcolor\":\"white\",\"linecolor\":\"white\",\"ticks\":\"\"},\"bgcolor\":\"#E5ECF6\",\"caxis\":{\"gridcolor\":\"white\",\"linecolor\":\"white\",\"ticks\":\"\"}},\"title\":{\"x\":0.05},\"xaxis\":{\"automargin\":true,\"gridcolor\":\"white\",\"linecolor\":\"white\",\"ticks\":\"\",\"title\":{\"standoff\":15},\"zerolinecolor\":\"white\",\"zerolinewidth\":2},\"yaxis\":{\"automargin\":true,\"gridcolor\":\"white\",\"linecolor\":\"white\",\"ticks\":\"\",\"title\":{\"standoff\":15},\"zerolinecolor\":\"white\",\"zerolinewidth\":2}}},\"title\":{\"font\":{\"color\":\"#4D5663\"}},\"xaxis\":{\"anchor\":\"y\",\"domain\":[0.0,0.2125],\"gridcolor\":\"#E1E5ED\",\"showgrid\":false,\"tickfont\":{\"color\":\"#4D5663\"},\"title\":{\"font\":{\"color\":\"#4D5663\"},\"text\":\"\"},\"zerolinecolor\":\"#E1E5ED\"},\"yaxis\":{\"anchor\":\"x\",\"domain\":[0.8025,1.0],\"gridcolor\":\"#E1E5ED\",\"showgrid\":false,\"tickfont\":{\"color\":\"#4D5663\"},\"title\":{\"font\":{\"color\":\"#4D5663\"},\"text\":\"\"},\"zerolinecolor\":\"#E1E5ED\"},\"xaxis2\":{\"anchor\":\"y2\",\"domain\":[0.2625,0.475],\"gridcolor\":\"#E1E5ED\",\"showgrid\":false,\"tickfont\":{\"color\":\"#4D5663\"},\"title\":{\"font\":{\"color\":\"#4D5663\"},\"text\":\"\"},\"zerolinecolor\":\"#E1E5ED\"},\"yaxis2\":{\"anchor\":\"x2\",\"domain\":[0.8025,1.0],\"gridcolor\":\"#E1E5ED\",\"showgrid\":false,\"tickfont\":{\"color\":\"#4D5663\"},\"title\":{\"font\":{\"color\":\"#4D5663\"},\"text\":\"\"},\"zerolinecolor\":\"#E1E5ED\"},\"xaxis3\":{\"anchor\":\"y3\",\"domain\":[0.525,0.7375],\"gridcolor\":\"#E1E5ED\",\"showgrid\":false,\"tickfont\":{\"color\":\"#4D5663\"},\"title\":{\"font\":{\"color\":\"#4D5663\"},\"text\":\"\"},\"zerolinecolor\":\"#E1E5ED\"},\"yaxis3\":{\"anchor\":\"x3\",\"domain\":[0.8025,1.0],\"gridcolor\":\"#E1E5ED\",\"showgrid\":false,\"tickfont\":{\"color\":\"#4D5663\"},\"title\":{\"font\":{\"color\":\"#4D5663\"},\"text\":\"\"},\"zerolinecolor\":\"#E1E5ED\"},\"xaxis4\":{\"anchor\":\"y4\",\"domain\":[0.7875,1.0],\"gridcolor\":\"#E1E5ED\",\"showgrid\":false,\"tickfont\":{\"color\":\"#4D5663\"},\"title\":{\"font\":{\"color\":\"#4D5663\"},\"text\":\"\"},\"zerolinecolor\":\"#E1E5ED\"},\"yaxis4\":{\"anchor\":\"x4\",\"domain\":[0.8025,1.0],\"gridcolor\":\"#E1E5ED\",\"showgrid\":false,\"tickfont\":{\"color\":\"#4D5663\"},\"title\":{\"font\":{\"color\":\"#4D5663\"},\"text\":\"\"},\"zerolinecolor\":\"#E1E5ED\"},\"xaxis5\":{\"anchor\":\"y5\",\"domain\":[0.0,0.2125],\"gridcolor\":\"#E1E5ED\",\"showgrid\":false,\"tickfont\":{\"color\":\"#4D5663\"},\"title\":{\"font\":{\"color\":\"#4D5663\"},\"text\":\"\"},\"zerolinecolor\":\"#E1E5ED\"},\"yaxis5\":{\"anchor\":\"x5\",\"domain\":[0.535,0.7325],\"gridcolor\":\"#E1E5ED\",\"showgrid\":false,\"tickfont\":{\"color\":\"#4D5663\"},\"title\":{\"font\":{\"color\":\"#4D5663\"},\"text\":\"\"},\"zerolinecolor\":\"#E1E5ED\"},\"xaxis6\":{\"anchor\":\"y6\",\"domain\":[0.2625,0.475],\"gridcolor\":\"#E1E5ED\",\"showgrid\":false,\"tickfont\":{\"color\":\"#4D5663\"},\"title\":{\"font\":{\"color\":\"#4D5663\"},\"text\":\"\"},\"zerolinecolor\":\"#E1E5ED\"},\"yaxis6\":{\"anchor\":\"x6\",\"domain\":[0.535,0.7325],\"gridcolor\":\"#E1E5ED\",\"showgrid\":false,\"tickfont\":{\"color\":\"#4D5663\"},\"title\":{\"font\":{\"color\":\"#4D5663\"},\"text\":\"\"},\"zerolinecolor\":\"#E1E5ED\"},\"xaxis7\":{\"anchor\":\"y7\",\"domain\":[0.525,0.7375],\"gridcolor\":\"#E1E5ED\",\"showgrid\":false,\"tickfont\":{\"color\":\"#4D5663\"},\"title\":{\"font\":{\"color\":\"#4D5663\"},\"text\":\"\"},\"zerolinecolor\":\"#E1E5ED\"},\"yaxis7\":{\"anchor\":\"x7\",\"domain\":[0.535,0.7325],\"gridcolor\":\"#E1E5ED\",\"showgrid\":false,\"tickfont\":{\"color\":\"#4D5663\"},\"title\":{\"font\":{\"color\":\"#4D5663\"},\"text\":\"\"},\"zerolinecolor\":\"#E1E5ED\"},\"xaxis8\":{\"anchor\":\"y8\",\"domain\":[0.7875,1.0],\"gridcolor\":\"#E1E5ED\",\"showgrid\":false,\"tickfont\":{\"color\":\"#4D5663\"},\"title\":{\"font\":{\"color\":\"#4D5663\"},\"text\":\"\"},\"zerolinecolor\":\"#E1E5ED\"},\"yaxis8\":{\"anchor\":\"x8\",\"domain\":[0.535,0.7325],\"gridcolor\":\"#E1E5ED\",\"showgrid\":false,\"tickfont\":{\"color\":\"#4D5663\"},\"title\":{\"font\":{\"color\":\"#4D5663\"},\"text\":\"\"},\"zerolinecolor\":\"#E1E5ED\"},\"xaxis9\":{\"anchor\":\"y9\",\"domain\":[0.0,0.2125],\"gridcolor\":\"#E1E5ED\",\"showgrid\":false,\"tickfont\":{\"color\":\"#4D5663\"},\"title\":{\"font\":{\"color\":\"#4D5663\"},\"text\":\"\"},\"zerolinecolor\":\"#E1E5ED\"},\"yaxis9\":{\"anchor\":\"x9\",\"domain\":[0.2675,0.465],\"gridcolor\":\"#E1E5ED\",\"showgrid\":false,\"tickfont\":{\"color\":\"#4D5663\"},\"title\":{\"font\":{\"color\":\"#4D5663\"},\"text\":\"\"},\"zerolinecolor\":\"#E1E5ED\"},\"xaxis10\":{\"anchor\":\"y10\",\"domain\":[0.2625,0.475],\"gridcolor\":\"#E1E5ED\",\"showgrid\":false,\"tickfont\":{\"color\":\"#4D5663\"},\"title\":{\"font\":{\"color\":\"#4D5663\"},\"text\":\"\"},\"zerolinecolor\":\"#E1E5ED\"},\"yaxis10\":{\"anchor\":\"x10\",\"domain\":[0.2675,0.465],\"gridcolor\":\"#E1E5ED\",\"showgrid\":false,\"tickfont\":{\"color\":\"#4D5663\"},\"title\":{\"font\":{\"color\":\"#4D5663\"},\"text\":\"\"},\"zerolinecolor\":\"#E1E5ED\"},\"xaxis11\":{\"anchor\":\"y11\",\"domain\":[0.525,0.7375],\"gridcolor\":\"#E1E5ED\",\"showgrid\":false,\"tickfont\":{\"color\":\"#4D5663\"},\"title\":{\"font\":{\"color\":\"#4D5663\"},\"text\":\"\"},\"zerolinecolor\":\"#E1E5ED\"},\"yaxis11\":{\"anchor\":\"x11\",\"domain\":[0.2675,0.465],\"gridcolor\":\"#E1E5ED\",\"showgrid\":false,\"tickfont\":{\"color\":\"#4D5663\"},\"title\":{\"font\":{\"color\":\"#4D5663\"},\"text\":\"\"},\"zerolinecolor\":\"#E1E5ED\"},\"xaxis12\":{\"anchor\":\"y12\",\"domain\":[0.7875,1.0],\"gridcolor\":\"#E1E5ED\",\"showgrid\":false,\"tickfont\":{\"color\":\"#4D5663\"},\"title\":{\"font\":{\"color\":\"#4D5663\"},\"text\":\"\"},\"zerolinecolor\":\"#E1E5ED\"},\"yaxis12\":{\"anchor\":\"x12\",\"domain\":[0.2675,0.465],\"gridcolor\":\"#E1E5ED\",\"showgrid\":false,\"tickfont\":{\"color\":\"#4D5663\"},\"title\":{\"font\":{\"color\":\"#4D5663\"},\"text\":\"\"},\"zerolinecolor\":\"#E1E5ED\"},\"xaxis13\":{\"anchor\":\"y13\",\"domain\":[0.0,0.2125],\"gridcolor\":\"#E1E5ED\",\"showgrid\":false,\"tickfont\":{\"color\":\"#4D5663\"},\"title\":{\"font\":{\"color\":\"#4D5663\"},\"text\":\"\"},\"zerolinecolor\":\"#E1E5ED\"},\"yaxis13\":{\"anchor\":\"x13\",\"domain\":[0.0,0.1975],\"gridcolor\":\"#E1E5ED\",\"showgrid\":false,\"tickfont\":{\"color\":\"#4D5663\"},\"title\":{\"font\":{\"color\":\"#4D5663\"},\"text\":\"\"},\"zerolinecolor\":\"#E1E5ED\"},\"xaxis14\":{\"anchor\":\"y14\",\"domain\":[0.2625,0.475],\"gridcolor\":\"#E1E5ED\",\"showgrid\":false,\"tickfont\":{\"color\":\"#4D5663\"},\"title\":{\"font\":{\"color\":\"#4D5663\"},\"text\":\"\"},\"zerolinecolor\":\"#E1E5ED\"},\"yaxis14\":{\"anchor\":\"x14\",\"domain\":[0.0,0.1975],\"gridcolor\":\"#E1E5ED\",\"showgrid\":false,\"tickfont\":{\"color\":\"#4D5663\"},\"title\":{\"font\":{\"color\":\"#4D5663\"},\"text\":\"\"},\"zerolinecolor\":\"#E1E5ED\"},\"xaxis15\":{\"anchor\":\"y15\",\"domain\":[0.525,0.7375],\"gridcolor\":\"#E1E5ED\",\"showgrid\":false,\"tickfont\":{\"color\":\"#4D5663\"},\"title\":{\"font\":{\"color\":\"#4D5663\"},\"text\":\"\"},\"zerolinecolor\":\"#E1E5ED\"},\"yaxis15\":{\"anchor\":\"x15\",\"domain\":[0.0,0.1975],\"gridcolor\":\"#E1E5ED\",\"showgrid\":false,\"tickfont\":{\"color\":\"#4D5663\"},\"title\":{\"font\":{\"color\":\"#4D5663\"},\"text\":\"\"},\"zerolinecolor\":\"#E1E5ED\"},\"xaxis16\":{\"anchor\":\"y16\",\"domain\":[0.7875,1.0],\"gridcolor\":\"#E1E5ED\",\"showgrid\":false,\"tickfont\":{\"color\":\"#4D5663\"},\"title\":{\"font\":{\"color\":\"#4D5663\"},\"text\":\"\"},\"zerolinecolor\":\"#E1E5ED\"},\"yaxis16\":{\"anchor\":\"x16\",\"domain\":[0.0,0.1975],\"gridcolor\":\"#E1E5ED\",\"showgrid\":false,\"tickfont\":{\"color\":\"#4D5663\"},\"title\":{\"font\":{\"color\":\"#4D5663\"},\"text\":\"\"},\"zerolinecolor\":\"#E1E5ED\"}},                        {\"showLink\": true, \"linkText\": \"Export to plot.ly\", \"plotlyServerURL\": \"https://plot.ly\", \"responsive\": true}                    ).then(function(){\n",
       "                            \n",
       "var gd = document.getElementById('7ac24fd5-aa11-4a41-9d8d-257a2fc711a3');\n",
       "var x = new MutationObserver(function (mutations, observer) {{\n",
       "        var display = window.getComputedStyle(gd).display;\n",
       "        if (!display || display === 'none') {{\n",
       "            console.log([gd, 'removed!']);\n",
       "            Plotly.purge(gd);\n",
       "            observer.disconnect();\n",
       "        }}\n",
       "}});\n",
       "\n",
       "// Listen for the removal of the full notebook cells\n",
       "var notebookContainer = gd.closest('#notebook-container');\n",
       "if (notebookContainer) {{\n",
       "    x.observe(notebookContainer, {childList: true});\n",
       "}}\n",
       "\n",
       "// Listen for the clearing of the current output cell\n",
       "var outputEl = gd.closest('.output');\n",
       "if (outputEl) {{\n",
       "    x.observe(outputEl, {childList: true});\n",
       "}}\n",
       "\n",
       "                        })                };                });            </script>        </div>"
      ]
     },
     "metadata": {},
     "output_type": "display_data"
    }
   ],
   "source": [
    "df.scatter_matrix()"
   ]
  },
  {
   "cell_type": "code",
   "execution_count": 54,
   "id": "ae5bfd88",
   "metadata": {},
   "outputs": [],
   "source": [
    "dc={'a':[1,2,3],'b':[4,5,6]}"
   ]
  },
  {
   "cell_type": "code",
   "execution_count": 55,
   "id": "0403a0e0",
   "metadata": {},
   "outputs": [
    {
     "data": {
      "text/plain": [
       "{'a': [1, 2, 3], 'b': [4, 5, 6]}"
      ]
     },
     "execution_count": 55,
     "metadata": {},
     "output_type": "execute_result"
    }
   ],
   "source": [
    "dc"
   ]
  },
  {
   "cell_type": "code",
   "execution_count": 57,
   "id": "0c41d9fb",
   "metadata": {},
   "outputs": [
    {
     "ename": "SyntaxError",
     "evalue": "invalid syntax (4193949945.py, line 1)",
     "output_type": "error",
     "traceback": [
      "\u001b[1;36m  Input \u001b[1;32mIn [57]\u001b[1;36m\u001b[0m\n\u001b[1;33m    as=list[[dc]\u001b[0m\n\u001b[1;37m    ^\u001b[0m\n\u001b[1;31mSyntaxError\u001b[0m\u001b[1;31m:\u001b[0m invalid syntax\n"
     ]
    }
   ],
   "source": [
    "as=list[[dc]"
   ]
  },
  {
   "cell_type": "code",
   "execution_count": 59,
   "id": "a2201f0b",
   "metadata": {},
   "outputs": [],
   "source": [
    "q=[dc]"
   ]
  },
  {
   "cell_type": "code",
   "execution_count": null,
   "id": "4623ddde",
   "metadata": {},
   "outputs": [],
   "source": []
  },
  {
   "cell_type": "code",
   "execution_count": 60,
   "id": "20d97c88",
   "metadata": {},
   "outputs": [
    {
     "data": {
      "text/plain": [
       "[{'a': [1, 2, 3], 'b': [4, 5, 6]}]"
      ]
     },
     "execution_count": 60,
     "metadata": {},
     "output_type": "execute_result"
    }
   ],
   "source": [
    "q"
   ]
  },
  {
   "cell_type": "code",
   "execution_count": 61,
   "id": "ba60aabc",
   "metadata": {},
   "outputs": [
    {
     "data": {
      "text/plain": [
       "{'a': [1, 2, 3], 'b': [4, 5, 6]}"
      ]
     },
     "execution_count": 61,
     "metadata": {},
     "output_type": "execute_result"
    }
   ],
   "source": [
    "q[0]"
   ]
  },
  {
   "cell_type": "code",
   "execution_count": 62,
   "id": "90f83c89",
   "metadata": {},
   "outputs": [
    {
     "ename": "ImportError",
     "evalue": "\nThe plotly.plotly module is deprecated,\nplease install the chart-studio package and use the\nchart_studio.plotly module instead. \n",
     "output_type": "error",
     "traceback": [
      "\u001b[1;31m---------------------------------------------------------------------------\u001b[0m",
      "\u001b[1;31mImportError\u001b[0m                               Traceback (most recent call last)",
      "Input \u001b[1;32mIn [62]\u001b[0m, in \u001b[0;36m<cell line: 1>\u001b[1;34m()\u001b[0m\n\u001b[1;32m----> 1\u001b[0m \u001b[38;5;28;01mimport\u001b[39;00m \u001b[38;5;21;01mplotly\u001b[39;00m\u001b[38;5;21;01m.\u001b[39;00m\u001b[38;5;21;01mplotly\u001b[39;00m \u001b[38;5;28;01mas\u001b[39;00m \u001b[38;5;21;01mpy\u001b[39;00m\n",
      "File \u001b[1;32m~\\Anaconda3\\lib\\site-packages\\plotly\\plotly\\__init__.py:4\u001b[0m, in \u001b[0;36m<module>\u001b[1;34m\u001b[0m\n\u001b[0;32m      1\u001b[0m \u001b[38;5;28;01mfrom\u001b[39;00m \u001b[38;5;21;01m__future__\u001b[39;00m \u001b[38;5;28;01mimport\u001b[39;00m absolute_import\n\u001b[0;32m      2\u001b[0m \u001b[38;5;28;01mfrom\u001b[39;00m \u001b[38;5;21;01m_plotly_future_\u001b[39;00m \u001b[38;5;28;01mimport\u001b[39;00m _chart_studio_error\n\u001b[1;32m----> 4\u001b[0m \u001b[43m_chart_studio_error\u001b[49m\u001b[43m(\u001b[49m\u001b[38;5;124;43m\"\u001b[39;49m\u001b[38;5;124;43mplotly\u001b[39;49m\u001b[38;5;124;43m\"\u001b[39;49m\u001b[43m)\u001b[49m\n",
      "File \u001b[1;32m~\\Anaconda3\\lib\\site-packages\\_plotly_future_\\__init__.py:43\u001b[0m, in \u001b[0;36m_chart_studio_error\u001b[1;34m(submodule)\u001b[0m\n\u001b[0;32m     42\u001b[0m \u001b[38;5;28;01mdef\u001b[39;00m \u001b[38;5;21m_chart_studio_error\u001b[39m(submodule):\n\u001b[1;32m---> 43\u001b[0m     \u001b[38;5;28;01mraise\u001b[39;00m \u001b[38;5;167;01mImportError\u001b[39;00m(\n\u001b[0;32m     44\u001b[0m         \u001b[38;5;124;03m\"\"\"\u001b[39;00m\n\u001b[0;32m     45\u001b[0m \u001b[38;5;124;03mThe plotly.{submodule} module is deprecated,\u001b[39;00m\n\u001b[0;32m     46\u001b[0m \u001b[38;5;124;03mplease install the chart-studio package and use the\u001b[39;00m\n\u001b[0;32m     47\u001b[0m \u001b[38;5;124;03mchart_studio.{submodule} module instead. \u001b[39;00m\n\u001b[0;32m     48\u001b[0m \u001b[38;5;124;03m\"\"\"\u001b[39;00m\u001b[38;5;241m.\u001b[39mformat(\n\u001b[0;32m     49\u001b[0m             submodule\u001b[38;5;241m=\u001b[39msubmodule\n\u001b[0;32m     50\u001b[0m         )\n\u001b[0;32m     51\u001b[0m     )\n",
      "\u001b[1;31mImportError\u001b[0m: \nThe plotly.plotly module is deprecated,\nplease install the chart-studio package and use the\nchart_studio.plotly module instead. \n"
     ]
    }
   ],
   "source": [
    "import plotly.plotly as py"
   ]
  },
  {
   "cell_type": "code",
   "execution_count": 63,
   "id": "4dc29e11",
   "metadata": {},
   "outputs": [],
   "source": [
    "a=[[1,2,3]]"
   ]
  },
  {
   "cell_type": "code",
   "execution_count": 64,
   "id": "02e4f204",
   "metadata": {},
   "outputs": [
    {
     "name": "stdout",
     "output_type": "stream",
     "text": [
      "1 3\n"
     ]
    }
   ],
   "source": [
    "print(len(a),len(a[0]))"
   ]
  },
  {
   "cell_type": "code",
   "execution_count": 65,
   "id": "deb2ed4d",
   "metadata": {},
   "outputs": [
    {
     "data": {
      "text/plain": [
       "[[1, 2, 3]]"
      ]
     },
     "execution_count": 65,
     "metadata": {},
     "output_type": "execute_result"
    }
   ],
   "source": [
    "a"
   ]
  },
  {
   "cell_type": "code",
   "execution_count": null,
   "id": "95eed3fc",
   "metadata": {},
   "outputs": [],
   "source": []
  }
 ],
 "metadata": {
  "kernelspec": {
   "display_name": "Python 3 (ipykernel)",
   "language": "python",
   "name": "python3"
  },
  "language_info": {
   "codemirror_mode": {
    "name": "ipython",
    "version": 3
   },
   "file_extension": ".py",
   "mimetype": "text/x-python",
   "name": "python",
   "nbconvert_exporter": "python",
   "pygments_lexer": "ipython3",
   "version": "3.9.12"
  }
 },
 "nbformat": 4,
 "nbformat_minor": 5
}
